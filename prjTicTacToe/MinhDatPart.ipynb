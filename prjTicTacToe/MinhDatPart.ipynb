{
 "cells": [
  {
   "cell_type": "code",
   "execution_count": null,
   "metadata": {},
   "outputs": [],
   "source": [
    "class Drawer:\n",
    "    def __init__(self, player1, player2, coordinate):\n",
    "        self.player1 = player1\n",
    "        self.player2 = player2\n",
    "        self.coordinate = coordinate\n",
    "\n",
    "    def printPannel(self, coordinate):\n",
    "        # print the pannel contains the coordinate of player1 and player2\n",
    "        print(\"***** TIC TAC TOE *****\")\n",
    "        print(\"Player1: \",self.player1, \"\\t\\t: X\")\n",
    "        print(\"Player2: \",self.player2, \"\\t\\t: O\")\n",
    "        print(\"\\n\")\n",
    "\n",
    "        player1_list = []\n",
    "        palyer2_list = []\n",
    "\n",
    "        # sort the input coordinate dictionary by key\n",
    "        sortedCoordinate = {11:\" \", 21:\" \", 31:\" \",\n",
    "                            12:\" \", 22:\" \", 32:\" \",\n",
    "                            13:\" \", 23:\" \", 33:\" \"}\n",
    "        for key in coordinate.keys():\n",
    "            sortedCoordinate[key] = coordinate[key]\n",
    "\n",
    "        player1Count = 0\n",
    "        player2Count = 0\n",
    "        for key, name in sortedCoordinate.items():\n",
    "            if name != \" \":\n",
    "                if name == self.player1:\n",
    "                    sortedCoordinate[key] = \"X\"\n",
    "                    player1Count += 1\n",
    "                if name == self.player2:\n",
    "                    sortedCoordinate[key] = \"O\"\n",
    "                    player2Count += 1\n",
    "        \n",
    "        # print the chess table\n",
    "        print(\"     1     2     3(x)\")\n",
    "        print(\"    _____ _____ _____\")\n",
    "        print(\"   |     |     |     |\")\n",
    "        print(\" 1 | \", sortedCoordinate[11], \" | \", sortedCoordinate[21], \" | \", sortedCoordinate[31], \" |\")\n",
    "        print(\"   |_____|_____|_____|\")\n",
    "        print(\"   |     |     |     |\")\n",
    "        print(\" 2 | \", sortedCoordinate[12], \" | \", sortedCoordinate[22], \" | \", sortedCoordinate[32], \" |\")\n",
    "        print(\"   |_____|_____|_____|\")\n",
    "        print(\"   |     |     |     |\")\n",
    "        print(\" 3 | \", sortedCoordinate[13], \" | \", sortedCoordinate[23], \" | \", sortedCoordinate[33], \" |\")\n",
    "        print(\"(y)|_____|_____|_____|\")\n",
    "\n",
    "        print(\"\\n\")\n",
    "        if player1Count == player2Count:\n",
    "            print(self.player1, \"to select next position (xy): \")\n",
    "        else:\n",
    "            print(self.player2, \"to select next position (xy): \")"
   ]
  }
 ],
 "metadata": {
  "kernelspec": {
   "display_name": "Python 3.10.6 64-bit",
   "language": "python",
   "name": "python3"
  },
  "language_info": {
   "name": "python",
   "version": "3.10.6"
  },
  "orig_nbformat": 4,
  "vscode": {
   "interpreter": {
    "hash": "916dbcbb3f70747c44a77c7bcd40155683ae19c65e1c03b4aa3499c5328201f1"
   }
  }
 },
 "nbformat": 4,
 "nbformat_minor": 2
}
