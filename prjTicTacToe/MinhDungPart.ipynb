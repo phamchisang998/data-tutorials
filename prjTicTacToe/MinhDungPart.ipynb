{
 "cells": [
  {
   "cell_type": "markdown",
   "metadata": {},
   "source": [
    "Create class for Users: Name, cordinate"
   ]
  },
  {
   "cell_type": "code",
   "execution_count": 33,
   "metadata": {},
   "outputs": [
    {
     "name": "stdout",
     "output_type": "stream",
     "text": [
      "[11, 33, 22] [13]\n",
      "True False\n",
      "Player1 win\n"
     ]
    }
   ],
   "source": [
    "from functools import *\n",
    "class Chess:\n",
    "    def __init__(self,Player1,Player2,cordinate= {}):\n",
    "        self.Player1 = Player1\n",
    "        self.Player2 = Player2\n",
    "        self.cordinate = cordinate\n",
    "    def get_cordinate(self,name,dict):\n",
    "        Res = [k for(k,v) in dict.items() if v == name]\n",
    "        return Res\n",
    "    def CheckPlayer_Win(self,cordinate, val = [],memo = {}):\n",
    "        val.sort()\n",
    "        if len(val) == 3:\n",
    "            if tuple(val) in memo:\n",
    "                return memo[tuple(val)]\n",
    "            val1 = [e%10 for e in val]\n",
    "            val2 = [e//10 for e in val]\n",
    "            val2.sort()\n",
    "            val1.sort()\n",
    "            if val1.count(val1[0]) == len(val1) and val2 == [1,2,3]:\n",
    "                return True\n",
    "            if val2.count(val2[0]) == len(val2) and val1== [1,2,3]:\n",
    "                return True\n",
    "            if 22 in val:\n",
    "                a = (val[-1]/10)+10*(val[-1]%10)\n",
    "                if a == val[0] or (val[-1]-val[0]) == 22:\n",
    "                    return True\n",
    "        output = False\n",
    "        for i in cordinate:\n",
    "            val1 =[e for e in val]\n",
    "            val1.append(i)\n",
    "            cordinate1 = [e for e in cordinate]\n",
    "            cordinate1.remove(i)\n",
    "            output = output or self.CheckPlayer_Win(cordinate1, val1, memo)\n",
    "        memo[tuple(val)] = output\n",
    "        return memo[tuple(val)]\n",
    "    def Checking_Win(self):\n",
    "        if len(self.cordinate) == 9:\n",
    "            return \"Win - Win\"\n",
    "        cordinate1 = self.get_cordinate(self.Player1,self.cordinate)\n",
    "        cordinate2 = self.get_cordinate(self.Player2,self.cordinate)\n",
    "        Win1 = self.CheckPlayer_Win(cordinate1)\n",
    "        Win2 = self.CheckPlayer_Win(cordinate2)\n",
    "        if Win1 == True:\n",
    "            return \"Player1 win\"\n",
    "        if Win2 == True:\n",
    "            return \"Player1 win\"\n",
    "\n",
    "            \n",
    "Chess1 = Chess(\"MinhDung\",\"Dat\",{11:\"MinhDung\",13:\"Dat\",33:\"MinhDung\",22:\"MinhDung\"})\n",
    "Res =Chess1.Checking_Win()\n",
    "print(Res)"
   ]
  },
  {
   "cell_type": "code",
   "execution_count": 20,
   "metadata": {},
   "outputs": [
    {
     "name": "stdout",
     "output_type": "stream",
     "text": [
      "{(11, 13, 22, 33): False}\n",
      "{(11, 13, 22, 33): False, (11, 13, 22): False}\n",
      "{(11, 13, 22, 33): False, (11, 13, 22): False, (11, 22): True}\n",
      "{(11, 13, 22, 33): False, (11, 13, 22): False, (11, 22): True, (11,): True}\n",
      "{(11, 13, 22, 33): False, (11, 13, 22): False, (11, 22): True, (11,): True, (): True}\n"
     ]
    },
    {
     "data": {
      "text/plain": [
       "True"
      ]
     },
     "execution_count": 20,
     "metadata": {},
     "output_type": "execute_result"
    }
   ],
   "source": [
    "from functools import *\n",
    "    \n",
    "def get_cordinate(name,dict):\n",
    "    Res = [k for(k,v) in dict.items() if v == name]\n",
    "    return Res\n",
    "\n",
    "def CheckPlayer_Win(cordinate, val = [],memo = {}):\n",
    "    val.sort()\n",
    "    if len(val) == 3:\n",
    "        if tuple(val) in memo:\n",
    "            return memo[tuple(val)]\n",
    "        val1 = [e%10 for e in val]\n",
    "        val2 = [e//10 for e in val]\n",
    "        val2.sort()\n",
    "        val1.sort()\n",
    "        if val1.count(val1[0]) == len(val1) and val2 == [1,2,3]:\n",
    "            return True\n",
    "        if val2.count(val2[0]) == len(val2) and val1== [1,2,3]:\n",
    "            return True\n",
    "        if 22 in val:\n",
    "            a = (val[-1]/10)+10*(val[-1]%10)\n",
    "            if a == val[0] or (val[-1]-val[0]) == 22:\n",
    "                return True\n",
    "    output = False\n",
    "    for i in cordinate:\n",
    "        val1 =[e for e in val]\n",
    "        val1.append(i)\n",
    "        cordinate1 = [e for e in cordinate]\n",
    "        cordinate1.remove(i)\n",
    "        output = output or Checking_Win(cordinate1, val1, memo)\n",
    "    memo[tuple(val)] = output\n",
    "    print(memo)\n",
    "    return memo[tuple(val)]\n",
    "        \n",
    "Checking_Win([11,22,13,33])\n",
    "        "
   ]
  },
  {
   "cell_type": "code",
   "execution_count": 68,
   "metadata": {},
   "outputs": [
    {
     "name": "stdout",
     "output_type": "stream",
     "text": [
      "Hi\n"
     ]
    }
   ],
   "source": [
    "from functools import *\n",
    "c = [2,3,1]\n",
    "def compare(arr):\n",
    "    arr.sort()\n",
    "    if arr == [1,2,3]:\n",
    "        print(\"Hi\")\n",
    "    else:\n",
    "        print(\"No\")\n",
    "compare(c)"
   ]
  },
  {
   "cell_type": "code",
   "execution_count": 16,
   "metadata": {},
   "outputs": [
    {
     "name": "stdout",
     "output_type": "stream",
     "text": [
      "[11, 12, 13] {(11, 12, 13): True}\n"
     ]
    }
   ],
   "source": [
    "val =[11,12,13]\n",
    "val1 = [e%10 for e in val]\n",
    "len(val1)\n",
    "dict1 = {}\n",
    "dict1[tuple(val)] = True\n",
    "print(val,dict1)"
   ]
  }
 ],
 "metadata": {
  "kernelspec": {
   "display_name": "Python 3.10.6 64-bit",
   "language": "python",
   "name": "python3"
  },
  "language_info": {
   "codemirror_mode": {
    "name": "ipython",
    "version": 3
   },
   "file_extension": ".py",
   "mimetype": "text/x-python",
   "name": "python",
   "nbconvert_exporter": "python",
   "pygments_lexer": "ipython3",
   "version": "3.10.6"
  },
  "orig_nbformat": 4,
  "vscode": {
   "interpreter": {
    "hash": "52634da84371cba311ea128a5ea7cdc41ff074b781779e754b270ff9f8153cee"
   }
  }
 },
 "nbformat": 4,
 "nbformat_minor": 2
}
