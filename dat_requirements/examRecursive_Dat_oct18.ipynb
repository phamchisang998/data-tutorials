{
 "cells": [
  {
   "cell_type": "code",
   "execution_count": 26,
   "metadata": {},
   "outputs": [
    {
     "data": {
      "text/plain": [
       "False"
      ]
     },
     "execution_count": 26,
     "metadata": {},
     "output_type": "execute_result"
    }
   ],
   "source": [
    "def constructString(s, ar):\n",
    "    if s == '' and ('' not in ar):\n",
    "        return False\n",
    "    elif s == '' and ('' in ar):\n",
    "        return True\n",
    "    \n",
    "    output = False\n",
    "    for item in ar:\n",
    "        ar_sub = ar[::]\n",
    "        ar_sub.remove(item)\n",
    "        s_sub = s[:len(item)]\n",
    "        if item == s[:len(item)]:\n",
    "            output = output or constructString(s[len(item):], ar_sub)\n",
    "\n",
    "    return output\n",
    "\n",
    "constructString('abcdef', ['ab','abc','ef','cde','f'])\n",
    "        \n",
    "        "
   ]
  },
  {
   "cell_type": "code",
   "execution_count": 9,
   "metadata": {},
   "outputs": [
    {
     "data": {
      "text/plain": [
       "True"
      ]
     },
     "execution_count": 9,
     "metadata": {},
     "output_type": "execute_result"
    }
   ],
   "source": [
    "def constructString(s, ar):\n",
    "    if len(s) == 0:\n",
    "        return True\n",
    "    \n",
    "    output = False\n",
    "    for item in ar:\n",
    "        if item == s[:len(item)]:\n",
    "            output = output or constructString(s[len(item):], ar)\n",
    "    return output\n",
    "\n",
    "constructString('abcdef', ['ab','abc','ef','def'])"
   ]
  },
  {
   "cell_type": "code",
   "execution_count": 10,
   "metadata": {},
   "outputs": [
    {
     "data": {
      "text/plain": [
       "True"
      ]
     },
     "execution_count": 10,
     "metadata": {},
     "output_type": "execute_result"
    }
   ],
   "source": [
    "def constructString(s, ar):\n",
    "    if len(s) == 0:\n",
    "        return True\n",
    "    \n",
    "    output = False\n",
    "    for item in ar:\n",
    "        val = False\n",
    "        if item == s[:len(item)]:\n",
    "            val = constructString(s[len(item):], ar) # can be optimized like the code above ^\n",
    "        output = output or val\n",
    "    return output\n",
    "\n",
    "constructString('abcdef', ['ab','abc','ef','def'])"
   ]
  },
  {
   "cell_type": "code",
   "execution_count": 12,
   "metadata": {},
   "outputs": [
    {
     "data": {
      "text/plain": [
       "True"
      ]
     },
     "execution_count": 12,
     "metadata": {},
     "output_type": "execute_result"
    }
   ],
   "source": [
    "# Add memo\n",
    "def constructString(s, ar, memo = {}):\n",
    "    if len(s) == 0:\n",
    "        return True\n",
    "    \n",
    "    if s in memo:\n",
    "        return memo[s]\n",
    "\n",
    "    output = False\n",
    "    for item in ar:\n",
    "        if item == s[:len(item)]:\n",
    "            output = output or constructString(s[len(item):], ar, memo)\n",
    "    memo[s] = output # memo chi chua s, khong chua item\n",
    "    return memo[s]\n",
    "\n",
    "constructString('abcdef', ['ab','abc','ef','def'])"
   ]
  },
  {
   "cell_type": "code",
   "execution_count": null,
   "metadata": {},
   "outputs": [],
   "source": [
    "def subListEqualK(a, k):\n",
    "    if k == 0:\n",
    "        return True\n",
    "    if k < 0:\n",
    "        return False\n",
    "    if len(a) == 0 and k > 0:\n",
    "        return False\n",
    "    \n",
    "    output = False\n",
    "    for q in a:\n",
    "        a_sub = a[::] \n",
    "        a_sub.remove(q)\n",
    "        k_sub = k - q\n",
    "        output = output or subListEqualK(a_sub, k_sub)\n",
    "    return output\n",
    "\n",
    "subListEqualK([1,1,2,6,7,2], 8)"
   ]
  },
  {
   "cell_type": "code",
   "execution_count": 9,
   "metadata": {},
   "outputs": [
    {
     "name": "stdout",
     "output_type": "stream",
     "text": [
      "2\n",
      "ab\n",
      "cdef\n"
     ]
    }
   ],
   "source": [
    "# draft\n",
    "s = 'abcdef'\n",
    "item = 'ab'\n",
    "print(len(item))\n",
    "print(s[:len(item)])\n",
    "s1 = s[:len(item)]\n",
    "print(s[len(item):])"
   ]
  },
  {
   "cell_type": "code",
   "execution_count": 24,
   "metadata": {},
   "outputs": [
    {
     "data": {
      "text/plain": [
       "True"
      ]
     },
     "execution_count": 24,
     "metadata": {},
     "output_type": "execute_result"
    }
   ],
   "source": [
    "# draft\n",
    "ar = ['ab','abc','ef','cde','f']\n",
    "# print(ar)\n",
    "\n",
    "# ar1 = ar[::]\n",
    "# ar1.remove('ab')\n",
    "# print(ar1)\n",
    "'' not in ar"
   ]
  },
  {
   "cell_type": "markdown",
   "metadata": {},
   "source": [
    "New lesson on Oct 22\n",
    "- range\n",
    "- yield\n",
    "- generator\n",
    "- decorator"
   ]
  },
  {
   "cell_type": "code",
   "execution_count": 14,
   "metadata": {},
   "outputs": [
    {
     "name": "stdout",
     "output_type": "stream",
     "text": [
      "range(0, 5)\n"
     ]
    }
   ],
   "source": [
    "a = [1,2,3,4,5]\n",
    "print(range(len(a)))"
   ]
  },
  {
   "cell_type": "code",
   "execution_count": 18,
   "metadata": {},
   "outputs": [
    {
     "name": "stdout",
     "output_type": "stream",
     "text": [
      "0\n",
      "1\n",
      "2\n",
      "3\n",
      "4\n",
      "5\n",
      "6\n",
      "7\n",
      "8\n",
      "9\n",
      "<generator object custom_gener at 0x7f6f152935a0>\n"
     ]
    }
   ],
   "source": [
    "# generator\n",
    "def custom_gener(n):\n",
    "    for i in range(n):\n",
    "        yield i # yield giong return nhung van o trong ham for, khong nhay ra khoi for\n",
    "        # print('a' + str(i))\n",
    "\n",
    "for item in custom_gener(10):\n",
    "    print(item)\n",
    "\n",
    "print(custom_gener(10))"
   ]
  },
  {
   "cell_type": "code",
   "execution_count": null,
   "metadata": {},
   "outputs": [],
   "source": [
    "# fibonacci generator\n",
    "# in ra gener cua day fibonacci tu 0 den phan tu fibo n\n",
    "def fibo_gener(n):\n",
    "    if n <= 1:\n",
    "        return "
   ]
  },
  {
   "cell_type": "code",
   "execution_count": 22,
   "metadata": {},
   "outputs": [
    {
     "name": "stdout",
     "output_type": "stream",
     "text": [
      "aaaaaaaaaaaaaaaaaaaaaaaaaaaaaaaaaaaaaaaaaaaaaaaaaaa\n",
      "2.0037949085235596\n"
     ]
    },
    {
     "data": {
      "text/plain": [
       "True"
      ]
     },
     "execution_count": 22,
     "metadata": {},
     "output_type": "execute_result"
    }
   ],
   "source": [
    "# tinh thoi gian thuc hien 1 function bat ki\n",
    "import time\n",
    "\n",
    "def sum():\n",
    "    time.sleep(2)\n",
    "    print('aaaaaaaaaaaaaaaaaaaaaaaaaaaaaaaaaaaaaaaaaaaaaaaaaaa')\n",
    "    return True\n",
    "\n",
    "def timeOfFunc():\n",
    "    start = time.time()\n",
    "    output = func()\n",
    "    end = time.time() - start\n",
    "    print(end)\n",
    "    return output\n",
    "\n",
    "timeOfFunc(sum)\n",
    "\n"
   ]
  },
  {
   "cell_type": "code",
   "execution_count": 23,
   "metadata": {},
   "outputs": [
    {
     "name": "stdout",
     "output_type": "stream",
     "text": [
      "Sum is:10\n"
     ]
    },
    {
     "data": {
      "text/plain": [
       "True"
      ]
     },
     "execution_count": 23,
     "metadata": {},
     "output_type": "execute_result"
    }
   ],
   "source": [
    "import time\n",
    "\n",
    "def sum(*arg):\n",
    "    result = 0\n",
    "    for i in arg:\n",
    "        result += i\n",
    "    print('Sum is:' + str(result))\n",
    "    return True\n",
    "\n",
    "# def timeOfFunc(func):\n",
    "#     start = time.time()\n",
    "#     output = func()\n",
    "#     end = time.time() - start\n",
    "#     print(end)\n",
    "#     return output\n",
    "\n",
    "sum(1,2,3,4)\n"
   ]
  },
  {
   "cell_type": "code",
   "execution_count": 26,
   "metadata": {},
   "outputs": [
    {
     "name": "stdout",
     "output_type": "stream",
     "text": [
      "dict_items([('Sang', 21), ('Dat', 25), ('Dung', 21)])\n",
      "Name: Sang - Age: 21\n",
      "Name: Dat - Age: 25\n",
      "Name: Dung - Age: 21\n"
     ]
    }
   ],
   "source": [
    "def studentInfo(**student):\n",
    "    print(student.items())\n",
    "    for (key, val) in student.items():\n",
    "        print(\"Name: \" + str(key) + \" - Age: \" + str(val))\n",
    "\n",
    "studentInfo(Sang = 21, Dat = 25, Dung = 21)\n",
    "\n",
    "\n",
    "        "
   ]
  },
  {
   "cell_type": "code",
   "execution_count": 38,
   "metadata": {},
   "outputs": [
    {
     "name": "stdout",
     "output_type": "stream",
     "text": [
      "Func result: \n",
      "Sum is:  6\n"
     ]
    }
   ],
   "source": [
    "def outside1(func):\n",
    "    def wrapper(*args, **kwargs):\n",
    "        print('Func result: ')\n",
    "        return func(*args, **kwargs)\n",
    "    return wrapper\n",
    "\n",
    "@outside1\n",
    "def sum1(*args):\n",
    "    result = 0\n",
    "    for i in args:\n",
    "        result += i\n",
    "    print('Sum is: ', result)\n",
    "    # return True\n",
    "sum1(1,2,3)\n"
   ]
  }
 ],
 "metadata": {
  "kernelspec": {
   "display_name": "Python 3.10.6 64-bit",
   "language": "python",
   "name": "python3"
  },
  "language_info": {
   "codemirror_mode": {
    "name": "ipython",
    "version": 3
   },
   "file_extension": ".py",
   "mimetype": "text/x-python",
   "name": "python",
   "nbconvert_exporter": "python",
   "pygments_lexer": "ipython3",
   "version": "3.10.6"
  },
  "orig_nbformat": 4,
  "vscode": {
   "interpreter": {
    "hash": "916dbcbb3f70747c44a77c7bcd40155683ae19c65e1c03b4aa3499c5328201f1"
   }
  }
 },
 "nbformat": 4,
 "nbformat_minor": 2
}
