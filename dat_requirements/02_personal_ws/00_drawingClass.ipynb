{
 "cells": [
  {
   "cell_type": "code",
   "execution_count": 26,
   "metadata": {},
   "outputs": [
    {
     "name": "stdout",
     "output_type": "stream",
     "text": [
      "dict:  {11: 'Dung', 13: 'Dat', 33: 'Dung', 22: 'Dung', 21: 'Dat', 12: 'Dat'} \n",
      "-----------------------------------------------------------------------------\n",
      "\n",
      "\n",
      "***** TIC TAC TOE *****\n",
      "Player1:  Dat \t\t: X\n",
      "Player2:  Dung \t\t: O\n",
      "\n",
      "\n",
      "     1     2     3(x)\n",
      "    _____ _____ _____\n",
      "   |     |     |     |\n",
      " 1 |  O  |  X  |     |\n",
      "   |_____|_____|_____|\n",
      "   |     |     |     |\n",
      " 2 |  X  |  O  |     |\n",
      "   |_____|_____|_____|\n",
      "   |     |     |     |\n",
      " 3 |  X  |     |  O  |\n",
      "(y)|_____|_____|_____|\n",
      "\n",
      "\n",
      "Dat to select next position (xy): \n"
     ]
    }
   ],
   "source": [
    "class Drawer:\n",
    "    def __init__(self, player1, player2, coordinate):\n",
    "        self.player1 = player1\n",
    "        self.player2 = player2\n",
    "        self.coordinate = coordinate\n",
    "\n",
    "    def printPannel(self, coordinate):\n",
    "        # print the pannel contains the coordinate of player1 and player2\n",
    "        print(\"***** TIC TAC TOE *****\")\n",
    "        print(\"Player1: \",self.player1, \"\\t\\t: X\")\n",
    "        print(\"Player2: \",self.player2, \"\\t\\t: O\")\n",
    "        print(\"\\n\")\n",
    "\n",
    "        player1_list = []\n",
    "        palyer2_list = []\n",
    "\n",
    "        # sort the input coordinate dictionary by key\n",
    "        sortedCoordinate = {11:\" \", 21:\" \", 31:\" \",\n",
    "                            12:\" \", 22:\" \", 32:\" \",\n",
    "                            13:\" \", 23:\" \", 33:\" \"}\n",
    "        for key in coordinate.keys():\n",
    "            sortedCoordinate[key] = coordinate[key]\n",
    "\n",
    "        player1Count = 0\n",
    "        player2Count = 0\n",
    "        for key, name in sortedCoordinate.items():\n",
    "            if name != \" \":\n",
    "                if name == self.player1:\n",
    "                    sortedCoordinate[key] = \"X\"\n",
    "                    player1Count += 1\n",
    "                if name == self.player2:\n",
    "                    sortedCoordinate[key] = \"O\"\n",
    "                    player2Count += 1\n",
    "        \n",
    "        # print the chess table\n",
    "        print(\"     1     2     3(x)\")\n",
    "        print(\"    _____ _____ _____\")\n",
    "        print(\"   |     |     |     |\")\n",
    "        print(\" 1 | \", sortedCoordinate[11], \" | \", sortedCoordinate[21], \" | \", sortedCoordinate[31], \" |\")\n",
    "        print(\"   |_____|_____|_____|\")\n",
    "        print(\"   |     |     |     |\")\n",
    "        print(\" 2 | \", sortedCoordinate[12], \" | \", sortedCoordinate[22], \" | \", sortedCoordinate[32], \" |\")\n",
    "        print(\"   |_____|_____|_____|\")\n",
    "        print(\"   |     |     |     |\")\n",
    "        print(\" 3 | \", sortedCoordinate[13], \" | \", sortedCoordinate[23], \" | \", sortedCoordinate[33], \" |\")\n",
    "        print(\"(y)|_____|_____|_____|\")\n",
    "\n",
    "        print(\"\\n\")\n",
    "        if player1Count == player2Count:\n",
    "            print(self.player1, \"to select next position (xy): \")\n",
    "        else:\n",
    "            print(self.player2, \"to select next position (xy): \")\n",
    "\n",
    "\n",
    "#test\n",
    "dict = {11:\"Dung\",13:\"Dat\",33:\"Dung\",22:\"Dung\", 21:\"Dat\", 12:\"Dat\"}\n",
    "print(\"dict: \", dict, \"\\n-----------------------------------------------------------------------------\\n\\n\")\n",
    "drawer = Drawer(\"Dat\", \"Dung\", dict)\n",
    "drawer.printPannel(dict)"
   ]
  },
  {
   "cell_type": "code",
   "execution_count": null,
   "metadata": {},
   "outputs": [],
   "source": [
    "#  ***** TIC TAC TOE *****\n",
    "#  Player1: Dat     : X\n",
    "#  Player2: Dung    : O\n",
    "#\n",
    "#       1     2     3(x)\n",
    "#     _____ _____ _____\n",
    "#    |     |     |     |\n",
    "#  1 |  X  |     |     |\n",
    "#    |_____|_____|_____|\n",
    "#    |     |     |     |\n",
    "#  2 |     |  O  |     |\n",
    "#    |_____|_____|_____|\n",
    "#    |     |     |     |\n",
    "#  3 |     |     |  X  |\n",
    "# (y)|_____|_____|_____|\n",
    "#\n",
    "#  Dung to select next position (xy):\n",
    "\n",
    "# |   O   |   X   |       |\n"
   ]
  },
  {
   "cell_type": "code",
   "execution_count": 3,
   "metadata": {},
   "outputs": [
    {
     "name": "stdout",
     "output_type": "stream",
     "text": [
      "{11: 'Dung', 13: 'Dat', 33: 'Dung', 22: 'Dung', 21: 'Dat', 12: 'Dat'}\n",
      "{11: 'Dung', 12: 'Dat', 13: 'Dat', 21: 'Dat', 22: 'Dung', 33: 'Dung'}\n"
     ]
    }
   ],
   "source": [
    "dict = {11:\"Dung\",13:\"Dat\",33:\"Dung\",22:\"Dung\", 21:\"Dat\", 12:\"Dat\"}\n",
    "print(dict)\n",
    "sorted_dict = {}\n",
    "for key in sorted(dict):\n",
    "    sorted_dict[key] = dict[key]\n",
    "\n",
    "print(sorted_dict)\n"
   ]
  },
  {
   "cell_type": "code",
   "execution_count": 4,
   "metadata": {},
   "outputs": [
    {
     "name": "stdout",
     "output_type": "stream",
     "text": [
      "     1     2     3(x)\n",
      "aa\n"
     ]
    }
   ],
   "source": [
    "print(\"     1     2     3(x)\")\n",
    "print(\"aa\")"
   ]
  },
  {
   "cell_type": "code",
   "execution_count": 8,
   "metadata": {},
   "outputs": [
    {
     "name": "stdout",
     "output_type": "stream",
     "text": [
      "{11: 'Dung', 13: 'Dat', 33: 'Dung', 22: 'Dung', 21: 'Dat', 12: 'Dat'}\n",
      "['', '', '', '', '', '', '', '', '']\n",
      "{11: '', 21: '', 31: '', 12: '', 22: '', 32: '', 13: '', 23: '', 33: ''}\n",
      "['', '', '', '', '', '', '', '', '']\n",
      "{11: 'Dung', 21: 'Dat', 31: '', 12: 'Dat', 22: 'Dung', 32: '', 13: 'Dat', 23: '', 33: 'Dung'}\n"
     ]
    }
   ],
   "source": [
    "coordinate = {11:\"Dung\",13:\"Dat\",33:\"Dung\",22:\"Dung\", 21:\"Dat\", 12:\"Dat\"}\n",
    "print(coordinate)\n",
    "\n",
    "coor_11 = \"\"\n",
    "coor_21 = \"\"\n",
    "coor_31 = \"\"\n",
    "coor_12 = \"\"\n",
    "coor_22 = \"\"\n",
    "coor_32 = \"\"\n",
    "coor_13 = \"\"\n",
    "coor_23 = \"\"\n",
    "coor_33 = \"\"\n",
    "coorList = [coor_11, coor_21, coor_31,\n",
    "            coor_12, coor_22, coor_32,\n",
    "            coor_13, coor_23, coor_33]\n",
    "print(coorList)\n",
    "sortedCoordinate = {11:coorList[0], 21:coorList[1], 31:coorList[2],\n",
    "                    12:coorList[3], 22:coorList[4], 32:coorList[5],\n",
    "                    13:coorList[6], 23:coorList[7], 33:coorList[8]}\n",
    "print(sortedCoordinate)\n",
    "for key in coordinate.keys():\n",
    "    sortedCoordinate[key] = coordinate[key]\n",
    "\n",
    "print(coorList)\n",
    "print(sortedCoordinate)"
   ]
  },
  {
   "cell_type": "code",
   "execution_count": 15,
   "metadata": {},
   "outputs": [
    {
     "name": "stdout",
     "output_type": "stream",
     "text": [
      "{11: 'Dung', 13: 'Dat', 33: 'Dung', 22: 'Dung', 21: 'Dat', 12: 'Dat'}\n",
      "{11: ' ', 21: ' ', 31: ' ', 12: ' ', 22: ' ', 32: ' ', 13: ' ', 23: ' ', 33: ' '}\n",
      "{11: 'Dung', 21: 'Dat', 31: ' ', 12: 'Dat', 22: 'Dung', 32: ' ', 13: 'Dat', 23: ' ', 33: 'Dung'}\n",
      "{11: 'O', 21: 'X', 31: ' ', 12: 'X', 22: 'O', 32: ' ', 13: 'X', 23: ' ', 33: 'O'}\n"
     ]
    }
   ],
   "source": [
    "coordinate = {11:\"Dung\",13:\"Dat\",33:\"Dung\",22:\"Dung\", 21:\"Dat\", 12:\"Dat\"}\n",
    "print(coordinate)\n",
    "\n",
    "sortedCoordinate = {11:\" \", 21:\" \", 31:\" \",\n",
    "                    12:\" \", 22:\" \", 32:\" \",\n",
    "                    13:\" \", 23:\" \", 33:\" \"}\n",
    "print(sortedCoordinate)\n",
    "\n",
    "for key in coordinate.keys():\n",
    "    sortedCoordinate[key] = coordinate[key]\n",
    "print(sortedCoordinate)\n",
    "\n",
    "for key, name in sortedCoordinate.items():\n",
    "    if name != \"\":\n",
    "        if name == \"Dat\":\n",
    "            sortedCoordinate[key] = \"X\"\n",
    "        if name == \"Dung\":\n",
    "            sortedCoordinate[key] = \"O\"\n",
    "print(sortedCoordinate)\n"
   ]
  }
 ],
 "metadata": {
  "kernelspec": {
   "display_name": "Python 3.10.6 64-bit",
   "language": "python",
   "name": "python3"
  },
  "language_info": {
   "codemirror_mode": {
    "name": "ipython",
    "version": 3
   },
   "file_extension": ".py",
   "mimetype": "text/x-python",
   "name": "python",
   "nbconvert_exporter": "python",
   "pygments_lexer": "ipython3",
   "version": "3.10.6"
  },
  "orig_nbformat": 4,
  "vscode": {
   "interpreter": {
    "hash": "916dbcbb3f70747c44a77c7bcd40155683ae19c65e1c03b4aa3499c5328201f1"
   }
  }
 },
 "nbformat": 4,
 "nbformat_minor": 2
}
