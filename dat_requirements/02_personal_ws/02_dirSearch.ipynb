{
 "cells": [
  {
   "cell_type": "code",
   "execution_count": 23,
   "metadata": {},
   "outputs": [
    {
     "name": "stdout",
     "output_type": "stream",
     "text": [
      "../03_draft_data/draft_data/testFolder2_3/Trash/debug1/HardwareDebug ----- REMOVED FOLDER\n",
      "../03_draft_data/draft_data/testFolder2_3/Trash/debug2/HardwareDebug ----- REMOVED FOLDER\n",
      "../03_draft_data/draft_data/testFolder2_3/HardwareDebug ----- REMOVED FOLDER\n",
      "../03_draft_data/draft_data/testFolder2_3/src/HardwareDebug ----- REMOVED FOLDER\n"
     ]
    }
   ],
   "source": [
    "import re\n",
    "import glob\n",
    "import os\n",
    "import shutil\n",
    "\n",
    "def filterFiles(fileName):\n",
    "    filePattern = '([^.]*)(10A|11B|12C)([0-9]{1}|[0-9]{2})(_ranked).json'\n",
    "    return bool(re.search(filePattern, fileName))\n",
    "\n",
    "def filterFolders(folderName):\n",
    "    folderPattern = '([^.]*)(/)HardwareDebug'\n",
    "    # print(bool(re.search(folderPattern, folderName)))\n",
    "    return bool(re.search(folderPattern, folderName))\n",
    "\n",
    "filePath = '../03_draft_data/draft_data/**/*.json'\n",
    "# stringPattern_ = '* Copyright (C) 2022 Renesas Electronics Corporation. All rights reserved.'\n",
    "stringPattern = '^\\* Copyright [(]C[)] 20[0-2][0-9] Renesas Electronics Corporation. All rights reserved.'\n",
    "exam_comp = '^\\* Component Version: (\\d+\\.)+(\\d+\\.)+(\\d)+'\n",
    "\n",
    "folderPath = '../03_draft_data/draft_data/testFolder2_3/**'\n",
    "\n",
    "\n",
    "for item in filter(filterFolders, glob.glob(folderPath, recursive=True)):\n",
    "    # print(item)\n",
    "    # print(os.path.isdir(item))\n",
    "    if os.path.isdir(item):\n",
    "        # print(item)\n",
    "        shutil.rmtree(item, ignore_errors=False, onerror=None)\n",
    "        print(item, '----- REMOVED FOLDER')\n",
    "    # shutil.rmtree(item, ignore_errors=False, onerror=None)\n",
    "    # print(item, 'REMOVED FOLDER')\n",
    "\n",
    "# for item in filter(filterFiles, glob.glob(filePath, recursive=True)):\n",
    "#     print(item)\n",
    "#     os.remove(item)\n",
    "#     print(item, 'REMOVED')\n",
    "\n",
    "# with open('../03_draft_data/draft_data/testTemplate/testC.c', 'r') as file:\n",
    "#     C_code = file.readlines()\n",
    "# print(C_code)\n",
    "\n",
    "# for i in range(len(C_code)):\n",
    "    \n",
    "#     if bool(re.match(stringPattern, C_code[i])):\n",
    "#         print('Line code: ', C_code[i], ' YESSSSSS')\n",
    "#         C_code[i] = '* Copyright (C) 2022 Renesas Electronics Corporation. All rights reserved.\\n'\n",
    "#     if bool(re.match(exam_comp, C_code[i])):\n",
    "#         C_code[i] = '* Component Version:\\n'\n",
    "\n",
    "\n",
    "# with open('../03_draft_data/draft_data/testTemplate/testC.c', 'w') as file:\n",
    "#     file.writelines(C_code)\n"
   ]
  },
  {
   "cell_type": "markdown",
   "metadata": {},
   "source": [
    "False\n",
    "False\n",
    "False\n",
    "False\n",
    "True\n",
    "../03_draft_data/draft_data/testFolder2_3/Trash/debug1/HardwareDebug\n",
    "True\n",
    "../03_draft_data/draft_data/testFolder2_3/Trash/debug1/HardwareDebug/h1.h\n",
    "True\n",
    "../03_draft_data/draft_data/testFolder2_3/Trash/debug1/HardwareDebug/ha1.c\n",
    "False\n",
    "False\n",
    "False\n",
    "False\n",
    "True\n",
    "../03_draft_data/draft_data/testFolder2_3/Trash/debug2/HardwareDebug\n",
    "True\n",
    "../03_draft_data/draft_data/testFolder2_3/Trash/debug2/HardwareDebug/h2.h\n",
    "True\n",
    "../03_draft_data/draft_data/testFolder2_3/Trash/debug2/HardwareDebug/h2.c\n",
    "True\n",
    "../03_draft_data/draft_data/testFolder2_3/HardwareDebug\n",
    "True\n",
    "../03_draft_data/draft_data/testFolder2_3/HardwareDebug/h1.h\n",
    "True\n",
    "../03_draft_data/draft_data/testFolder2_3/HardwareDebug/h1.c\n",
    "False\n",
    "False\n",
    "False\n",
    "False\n",
    "False\n",
    "True\n",
    "../03_draft_data/draft_data/testFolder2_3/src/HardwareDebug\n",
    "True\n",
    "../03_draft_data/draft_data/testFolder2_3/src/HardwareDebug/a.h\n",
    "True\n",
    "../03_draft_data/draft_data/testFolder2_3/src/HardwareDebug/a1.c\n",
    "True\n",
    "../03_draft_data/draft_data/testFolder2_3/src/HardwareDebug/a.c\n",
    "True\n",
    "../03_draft_data/draft_data/testFolder2_3/src/HardwareDebug/a1.h\n",
    "False"
   ]
  }
 ],
 "metadata": {
  "kernelspec": {
   "display_name": "Python 3.10.6 64-bit",
   "language": "python",
   "name": "python3"
  },
  "language_info": {
   "codemirror_mode": {
    "name": "ipython",
    "version": 3
   },
   "file_extension": ".py",
   "mimetype": "text/x-python",
   "name": "python",
   "nbconvert_exporter": "python",
   "pygments_lexer": "ipython3",
   "version": "3.10.6"
  },
  "orig_nbformat": 4,
  "vscode": {
   "interpreter": {
    "hash": "916dbcbb3f70747c44a77c7bcd40155683ae19c65e1c03b4aa3499c5328201f1"
   }
  }
 },
 "nbformat": 4,
 "nbformat_minor": 2
}
