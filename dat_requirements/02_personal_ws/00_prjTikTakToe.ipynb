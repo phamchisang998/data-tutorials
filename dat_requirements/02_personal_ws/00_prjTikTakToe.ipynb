{
 "cells": [
  {
   "cell_type": "code",
   "execution_count": null,
   "metadata": {},
   "outputs": [],
   "source": [
    "# class player\n",
    "class Player:\n",
    "    def __init__(self, playerName):\n",
    "        winCombinations = [[11,12,13],[21,22,23],[31,32,33],\n",
    "                           [11,21,31],[12,22,32],[13,23,33],\n",
    "                           [11,22,33],[13,22,31]]\n",
    "        pass\n",
    "\n",
    "    def selectPosition(position):\n",
    "        pass\n",
    "\n",
    "    def checkWin():\n",
    "        # win combination\n",
    "        winCombinations = [[11,12,13],[21,22,23],[31,32,33],\n",
    "                           [11,21,31],[12,22,32],[13,23,33],\n",
    "                           [11,22,33],[13,22,31]]\n",
    "        "
   ]
  },
  {
   "cell_type": "code",
   "execution_count": null,
   "metadata": {},
   "outputs": [],
   "source": [
    "#  class drawer\n",
    "class Drawer:\n",
    "    def __init__(self, coordinate):\n",
    "        pass\n",
    "\n",
    "    def printGameInfo():\n",
    "        pass\n",
    "\n",
    "    def drawBoard():\n",
    "        pass\n",
    "\n",
    "    def updateBoard():\n",
    "        pass"
   ]
  },
  {
   "cell_type": "code",
   "execution_count": null,
   "metadata": {},
   "outputs": [],
   "source": [
    "# class control\n",
    "class Control:\n",
    "    def __init__(self):\n",
    "        pass\n",
    "\n",
    "    def playGame():\n",
    "        pass\n",
    "\n",
    "    def isValidCoordinate():\n",
    "        pass"
   ]
  }
 ],
 "metadata": {
  "kernelspec": {
   "display_name": "Python 3.10.6 64-bit",
   "language": "python",
   "name": "python3"
  },
  "language_info": {
   "name": "python",
   "version": "3.10.6"
  },
  "orig_nbformat": 4,
  "vscode": {
   "interpreter": {
    "hash": "916dbcbb3f70747c44a77c7bcd40155683ae19c65e1c03b4aa3499c5328201f1"
   }
  }
 },
 "nbformat": 4,
 "nbformat_minor": 2
}
