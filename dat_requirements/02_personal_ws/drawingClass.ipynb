{
 "cells": [
  {
   "cell_type": "code",
   "execution_count": null,
   "metadata": {},
   "outputs": [],
   "source": []
  },
  {
   "cell_type": "code",
   "execution_count": null,
   "metadata": {},
   "outputs": [],
   "source": [
    "class Drawer:\n",
    "    def __init__(self, player1, player2, coordinate):\n",
    "        self.player1 = player1\n",
    "        self.player2 = player2\n",
    "        self.coordinate = coordinate\n",
    "\n",
    "    def printPannel(self, coordinate):\n",
    "        # print the pannel contain the coordinate of player1 and player2\n",
    "\n",
    "    def updatePannel(self, coordinate):\n",
    "        # fff"
   ]
  }
 ],
 "metadata": {
  "kernelspec": {
   "display_name": "Python 3.10.6 64-bit",
   "language": "python",
   "name": "python3"
  },
  "language_info": {
   "name": "python",
   "version": "3.10.6"
  },
  "orig_nbformat": 4,
  "vscode": {
   "interpreter": {
    "hash": "916dbcbb3f70747c44a77c7bcd40155683ae19c65e1c03b4aa3499c5328201f1"
   }
  }
 },
 "nbformat": 4,
 "nbformat_minor": 2
}
