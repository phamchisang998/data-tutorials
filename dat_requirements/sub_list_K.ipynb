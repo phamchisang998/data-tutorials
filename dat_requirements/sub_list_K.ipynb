{
 "cells": [
  {
   "cell_type": "code",
   "execution_count": 8,
   "metadata": {},
   "outputs": [
    {
     "data": {
      "text/plain": [
       "True"
      ]
     },
     "execution_count": 8,
     "metadata": {},
     "output_type": "execute_result"
    }
   ],
   "source": [
    "# Exercise_1 - Solution\n",
    "# Cho list a gom n phan tu nguyen duong va mot so nguyen duong k.\n",
    "# Kiem tra xem ton tai mot list con b nao cua a ma tong cac phan tu cua list con b bang voi so k.\n",
    "# Vd: input a=[1,2,4,7]; k=8\n",
    "#     sub_list[1,7] co 1+7=8 = k => return True\n",
    "# Vd: input a=[1,1,3];   k=6\n",
    "#     khong ton tai sub_list nao co tong cac phan tu = k => return False\n",
    "# Vd: input a=[1,5,6];   k=8  => return \n",
    "\n",
    "def subListEqualK(a, k):\n",
    "    if k == 0:\n",
    "        return True\n",
    "    if k < 0:\n",
    "        return False\n",
    "    if len(a) == 0 and k > 0:\n",
    "        return False\n",
    "    \n",
    "    output = False\n",
    "    for q in a:\n",
    "        a_sub = a[::] \n",
    "        a_sub.remove(q)\n",
    "        k_sub = k - q\n",
    "        output = output or subListEqualK(a_sub, k_sub)\n",
    "    return output\n",
    "\n",
    "subListEqualK([1,1,2,6,7,2], 8)"
   ]
  },
  {
   "cell_type": "code",
   "execution_count": 15,
   "metadata": {},
   "outputs": [
    {
     "data": {
      "text/plain": [
       "True"
      ]
     },
     "execution_count": 15,
     "metadata": {},
     "output_type": "execute_result"
    }
   ],
   "source": [
    "# Exercise_2 - Solution\n",
    "# Cho list a gom n phan tu nguyen duong va mot so nguyen duong k.\n",
    "# Kiem tra xem ton tai mot list con b nao cua a ma tong cac phan tu cua list con b bang voi so k.\n",
    "# Note: moi phan tu cua b duoc phep tham gia vao phep cong nhieu hon 1 lan.\n",
    "# Vd: a=[1,1,3]; k=6\n",
    "#     1 + 1 + 1 + 3 = 6  => return True\n",
    "# Vd: a=[1,5,6]; k=8\n",
    "#     1 + 1 + 1 + 5 = 8\n",
    "#     1 + 1 + 6     = 8\n",
    "#     => return True\n",
    "# Vd: a=[2,2,2]; k=9\n",
    "#     => return False\n",
    "\n",
    "def subListEqualK(a, k, memo = {}):\n",
    "    # memo = {} is added to initialize a dict\n",
    "    # because input does not include the memo\n",
    "    if k == 0:\n",
    "        return True\n",
    "    if k < 0:\n",
    "        return False\n",
    "    if len(a) == 0 and k > 0:\n",
    "        return False\n",
    "    \n",
    "    if k in memo:\n",
    "        return memo[k]\n",
    "\n",
    "    output = False\n",
    "    for q in a:\n",
    "        a_sub = a[::] \n",
    "        k_sub = k - q\n",
    "        output = output or subListEqualK(a_sub, k_sub, memo) # memo here is used to confirm all sub_funcs use the same memo dict\n",
    "\n",
    "    memo[k] = output\n",
    "\n",
    "    return memo[k]\n",
    "\n",
    "subListEqualK([6,14], 300)"
   ]
  },
  {
   "cell_type": "code",
   "execution_count": 20,
   "metadata": {},
   "outputs": [
    {
     "data": {
      "text/plain": [
       "True"
      ]
     },
     "execution_count": 20,
     "metadata": {},
     "output_type": "execute_result"
    }
   ],
   "source": [
    "# Exercise_2 - Solution - Tabu\n",
    "# Cho list a gom n phan tu nguyen duong va mot so nguyen duong k.\n",
    "# Kiem tra xem ton tai mot list con b nao cua a ma tong cac phan tu cua list con b bang voi so k.\n",
    "# Note: moi phan tu cua b duoc phep tham gia vao phep cong nhieu hon 1 lan.\n",
    "# Vd: a=[1,1,3]; k=6\n",
    "#     1 + 1 + 1 + 3 = 6  => return True\n",
    "# Vd: a=[1,5,6]; k=8\n",
    "#     1 + 1 + 1 + 5 = 8\n",
    "#     1 + 1 + 6     = 8\n",
    "#     => return True\n",
    "# Vd: a=[2,2,2]; k=9\n",
    "#     => return False\n",
    "\n",
    "def subListEqualK(a, k):\n",
    "    out_list = [False] * (k+1)\n",
    "    out_list[0] = True # default\n",
    "    for i in range (k+1):\n",
    "        for item in a:\n",
    "            if (item + i) <= k: # if >k: out of value (tran gia tri k)\n",
    "                # see the diagram (by Sang) to understand\n",
    "                out_list[item + i] = out_list[item + i] or out_list[i]\n",
    "\n",
    "    return out_list[k]\n",
    "\n",
    "subListEqualK([7,15], 300)\n"
   ]
  }
 ],
 "metadata": {
  "kernelspec": {
   "display_name": "Python 3.10.6 64-bit",
   "language": "python",
   "name": "python3"
  },
  "language_info": {
   "codemirror_mode": {
    "name": "ipython",
    "version": 3
   },
   "file_extension": ".py",
   "mimetype": "text/x-python",
   "name": "python",
   "nbconvert_exporter": "python",
   "pygments_lexer": "ipython3",
   "version": "3.10.6"
  },
  "orig_nbformat": 4,
  "vscode": {
   "interpreter": {
    "hash": "916dbcbb3f70747c44a77c7bcd40155683ae19c65e1c03b4aa3499c5328201f1"
   }
  }
 },
 "nbformat": 4,
 "nbformat_minor": 2
}
