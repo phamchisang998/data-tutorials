{
 "cells": [
  {
   "cell_type": "code",
   "execution_count": 1,
   "metadata": {},
   "outputs": [
    {
     "name": "stdout",
     "output_type": "stream",
     "text": [
      "[1, 1, 2, 2, 3, 3, 4, 4] {1, 2, 3, 4}\n"
     ]
    }
   ],
   "source": [
    "# Sets vs List\n",
    "a = [1,1,2,2,3,3,4,4]\n",
    "print(a, set(a))"
   ]
  },
  {
   "cell_type": "code",
   "execution_count": 2,
   "metadata": {},
   "outputs": [
    {
     "name": "stdout",
     "output_type": "stream",
     "text": [
      "(1, 2, 3, 4, 5)\n"
     ]
    }
   ],
   "source": [
    "# Tuples\n",
    "# same as list but it is a immutable\n",
    "b = (1,2,3,4,5)\n",
    "print(b)"
   ]
  },
  {
   "cell_type": "code",
   "execution_count": 17,
   "metadata": {},
   "outputs": [
    {
     "name": "stdout",
     "output_type": "stream",
     "text": [
      "{'keyOne': 1, 'keyTwo': 2, 'keyThree': 3}\n",
      "{'keyOne': 1, 'keyTwo': 2, 'keyThree': 3, 'keyFour': 4}\n",
      "None\n"
     ]
    },
    {
     "ename": "KeyError",
     "evalue": "'keyFive'",
     "output_type": "error",
     "traceback": [
      "\u001b[0;31m---------------------------------------------------------------------------\u001b[0m",
      "\u001b[0;31mKeyError\u001b[0m                                  Traceback (most recent call last)",
      "Cell \u001b[0;32mIn [17], line 10\u001b[0m\n\u001b[1;32m      7\u001b[0m \u001b[39mprint\u001b[39m(dict_c)\n\u001b[1;32m      9\u001b[0m \u001b[39mprint\u001b[39m(dict_c\u001b[39m.\u001b[39mget(\u001b[39m'\u001b[39m\u001b[39mkeyFive\u001b[39m\u001b[39m'\u001b[39m))\n\u001b[0;32m---> 10\u001b[0m \u001b[39mprint\u001b[39m(dict_c[\u001b[39m'\u001b[39;49m\u001b[39mkeyFive\u001b[39;49m\u001b[39m'\u001b[39;49m])\n",
      "\u001b[0;31mKeyError\u001b[0m: 'keyFive'"
     ]
    }
   ],
   "source": [
    "# dictionary\n",
    "# same as HashMap in Java\n",
    "dict_c = {'keyOne':1, 'keyTwo':2, 'keyThree':3}\n",
    "print(dict_c)\n",
    "\n",
    "dict_c['keyFour'] = 4\n",
    "print(dict_c)\n",
    "\n",
    "print(dict_c.get('keyFive')) # .get has try-catch implement\n",
    "print(dict_c['keyFive']) # not have try-catch\n"
   ]
  },
  {
   "cell_type": "code",
   "execution_count": 22,
   "metadata": {},
   "outputs": [
    {
     "name": "stdout",
     "output_type": "stream",
     "text": [
      "{'keyOne': 1, 'keyTwo': 2, 'keyThree': 3}\n",
      "{'keyOne': 1, 'keyTwo': 2, 'keyThree': 3, 'keyFour': 4}\n",
      "{'keyOne': 1, 'keyTwo': 2, 'keyThree': 3, 'keyFour': 5}\n"
     ]
    }
   ],
   "source": [
    "# dictionary\n",
    "# same as HashMap in Java\n",
    "dict_c = {'keyOne':1, 'keyTwo':2, 'keyThree':3}\n",
    "print(dict_c)\n",
    "\n",
    "dict_c['keyFour'] = 4\n",
    "print(dict_c)\n",
    "\n",
    "# add new item, update item...\n",
    "dict_c.update({'keyFour': 5})\n",
    "print(dict_c)\n"
   ]
  },
  {
   "cell_type": "code",
   "execution_count": 8,
   "metadata": {},
   "outputs": [
    {
     "name": "stdout",
     "output_type": "stream",
     "text": [
      "frozenset({1, 2, 3, 4, 5, 6})\n"
     ]
    }
   ],
   "source": [
    "# frozen sets\n",
    "# same as sets but it is a immutable\n",
    "fs = frozenset([1,1,2,2,3,3,4,4,5,6])\n",
    "print(fs)"
   ]
  },
  {
   "cell_type": "code",
   "execution_count": 12,
   "metadata": {},
   "outputs": [
    {
     "name": "stdout",
     "output_type": "stream",
     "text": [
      "6\n"
     ]
    },
    {
     "data": {
      "text/plain": [
       "3"
      ]
     },
     "execution_count": 12,
     "metadata": {},
     "output_type": "execute_result"
    }
   ],
   "source": [
    "# function in python\n",
    "def exmapleFunction(a, b = 2):\n",
    "    return a + b\n",
    "print(exmapleFunction(1,5))\n",
    "exmapleFunction(1)"
   ]
  },
  {
   "cell_type": "code",
   "execution_count": 13,
   "metadata": {},
   "outputs": [
    {
     "data": {
      "text/plain": [
       "4"
      ]
     },
     "execution_count": 13,
     "metadata": {},
     "output_type": "execute_result"
    }
   ],
   "source": [
    "def sub(a, b = 1):\n",
    "    return b - a\n",
    "sub(b=9, a=5)"
   ]
  },
  {
   "cell_type": "code",
   "execution_count": 29,
   "metadata": {},
   "outputs": [
    {
     "name": "stdout",
     "output_type": "stream",
     "text": [
      "120\n"
     ]
    }
   ],
   "source": [
    "# indexing (only list, tuple, ... )\n",
    "# tinh giai thua\n",
    "def giaiThua(n):\n",
    "    # recursive: base case + relation\n",
    "    if n <= 1:\n",
    "        return 1\n",
    "    return n*giaiThua(n-1)\n",
    "\n",
    "print(giaiThua(5))\n"
   ]
  },
  {
   "cell_type": "code",
   "execution_count": 43,
   "metadata": {},
   "outputs": [
    {
     "name": "stdout",
     "output_type": "stream",
     "text": [
      "True\n"
     ]
    }
   ],
   "source": [
    "# check if a str is a palinfrom (doi xung hoan toan)\n",
    "def palindromCheck(a):\n",
    "    if len(a) <= 1:\n",
    "        return True\n",
    "    \n",
    "    if a[0] == a[-1]:\n",
    "        return palindromCheck(a[1:-1]) # a[1:-1] is a ingexing method to cut the begining and ending characters\n",
    "    return False\n",
    "\n",
    "print(palindromCheck('acasaca'))\n",
    "\n"
   ]
  },
  {
   "cell_type": "code",
   "execution_count": 28,
   "metadata": {},
   "outputs": [
    {
     "name": "stdout",
     "output_type": "stream",
     "text": [
      "6765\n"
     ]
    }
   ],
   "source": [
    "# recursive\n",
    "\n",
    "# input: vi tri n trong day Fibonacci\n",
    "# output: gia tri tai vi tri n trong day Fibonacci\n",
    "# Fibo : 0 1 1 2 3 5 8 13 21 34 55\n",
    "# index: 0 1 2 3 4 5 6  7  8  9 10\n",
    "def fibo_N(n):\n",
    "    # base case\n",
    "    if n <= 1:\n",
    "        return n\n",
    "    # recursive relationship\n",
    "    return fibo_N(n-1) + fibo_N(n-2)\n",
    "\n",
    "print(fibo_N(20))"
   ]
  },
  {
   "cell_type": "code",
   "execution_count": null,
   "metadata": {},
   "outputs": [],
   "source": [
    "# memo\n",
    "\n",
    "# input: vi tri n trong day Fibonacci\n",
    "# output: gia tri tai vi tri n trong day Fibonacci\n",
    "# Fibo : 0 1 1 2 3 5 8 13 21 34 55\n",
    "# index: 0 1 2 3 4 5 6  7  8  9 10\n",
    "def fibo_N(n):\n",
    "    # base case\n",
    "    if n <= 1:\n",
    "        return n\n",
    "    # recursive relationship\n",
    "    return fibo_N(n-1) + fibo_N(n-2)\n",
    "\n",
    "print(fibo_N(20))"
   ]
  },
  {
   "cell_type": "code",
   "execution_count": 22,
   "metadata": {},
   "outputs": [
    {
     "name": "stdout",
     "output_type": "stream",
     "text": [
      "{}\n",
      "{}\n",
      "{}\n",
      "{}\n",
      "{}\n",
      "{}\n",
      "{}\n",
      "{}\n",
      "{}\n",
      "{}\n",
      "{}\n",
      "{2: 1}\n",
      "{2: 1, 3: 2}\n",
      "{2: 1, 3: 2, 4: 3}\n",
      "{2: 1, 3: 2, 4: 3, 5: 5}\n",
      "{2: 1, 3: 2, 4: 3, 5: 5, 6: 8}\n",
      "{2: 1, 3: 2, 4: 3, 5: 5, 6: 8, 7: 13}\n",
      "{2: 1, 3: 2, 4: 3, 5: 5, 6: 8, 7: 13, 8: 21}\n",
      "{2: 1, 3: 2, 4: 3, 5: 5, 6: 8, 7: 13, 8: 21, 9: 34}\n",
      "55\n"
     ]
    }
   ],
   "source": [
    "# input: vi tri n trong day Fibonacci\n",
    "# output: gia tri tai vi tri n trong day Fibonacci\n",
    "# Fibo : 0 1 1 2 3 5 8 13 21 34 55\n",
    "# index: 0 1 2 3 4 5 6  7  8  9 10\n",
    "def fibo_N(n, memo = dict()):\n",
    "    print(memo)\n",
    "    # base case\n",
    "    if n <= 1:\n",
    "        return n\n",
    "\n",
    "    # relationship\n",
    "    if n in memo.keys():\n",
    "        return memo[n]\n",
    "\n",
    "    memo[n] = fibo_N(n-1, memo) + fibo_N(n-2, memo)\n",
    "    return memo[n]\n",
    "\n",
    "\n",
    "# how to solve 75000\n",
    "print(fibo_N(10))"
   ]
  }
 ],
 "metadata": {
  "kernelspec": {
   "display_name": "Python 3.10.6 64-bit",
   "language": "python",
   "name": "python3"
  },
  "language_info": {
   "codemirror_mode": {
    "name": "ipython",
    "version": 3
   },
   "file_extension": ".py",
   "mimetype": "text/x-python",
   "name": "python",
   "nbconvert_exporter": "python",
   "pygments_lexer": "ipython3",
   "version": "3.10.6"
  },
  "orig_nbformat": 4,
  "vscode": {
   "interpreter": {
    "hash": "916dbcbb3f70747c44a77c7bcd40155683ae19c65e1c03b4aa3499c5328201f1"
   }
  }
 },
 "nbformat": 4,
 "nbformat_minor": 2
}
