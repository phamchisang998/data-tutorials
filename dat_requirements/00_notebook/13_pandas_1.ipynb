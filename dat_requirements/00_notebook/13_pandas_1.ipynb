{
 "cells": [
  {
   "cell_type": "code",
   "execution_count": 6,
   "metadata": {},
   "outputs": [
    {
     "name": "stdout",
     "output_type": "stream",
     "text": [
      "         product_name  order_id  price  amount   total\n",
      "0              coffee         1  15000       5   75000\n",
      "1                milk         2  20000       7  140000\n",
      "2               latte         3  17000       3   51000\n",
      "3         fresh water         4  10000      10  100000\n",
      "4        freeze latte         5  19000       5   95000\n",
      "5        orange juice         5  18000       6  108000\n",
      "6            milk tea         6  25000       7  175000\n",
      "7             coconut         9  15000      11  165000\n",
      "8         lemon juice        10  11000       5   55000\n",
      "9   water melon juice        11  18000       7  126000\n",
      "10         kiwi juice        11  21000       5  105000\n"
     ]
    }
   ],
   "source": [
    "import pandas as pd\n",
    "from pandasql import sqldf\n",
    "\n",
    "df = pd.read_csv(\"../01_data/05_examWriterResult_2.csv\") # return a dataframe\n",
    "\n",
    "# print(df.to_string())\n",
    "# print(df.info()) # print the schema of dataframe\n",
    "\n",
    "data = sqldf(\"\"\"\n",
    "    select * from df\n",
    "    where amount > 2\n",
    "\"\"\")\n",
    "print(data.to_string())"
   ]
  }
 ],
 "metadata": {
  "kernelspec": {
   "display_name": "Python 3.10.6 64-bit",
   "language": "python",
   "name": "python3"
  },
  "language_info": {
   "codemirror_mode": {
    "name": "ipython",
    "version": 3
   },
   "file_extension": ".py",
   "mimetype": "text/x-python",
   "name": "python",
   "nbconvert_exporter": "python",
   "pygments_lexer": "ipython3",
   "version": "3.10.6"
  },
  "orig_nbformat": 4,
  "vscode": {
   "interpreter": {
    "hash": "916dbcbb3f70747c44a77c7bcd40155683ae19c65e1c03b4aa3499c5328201f1"
   }
  }
 },
 "nbformat": 4,
 "nbformat_minor": 2
}
