{
 "cells": [
  {
   "cell_type": "code",
   "execution_count": 41,
   "metadata": {},
   "outputs": [
    {
     "name": "stdout",
     "output_type": "stream",
     "text": [
      "['coffee', '1', '15000', '5', 75000]\n",
      "['milk', '2', '20000', '7', 140000]\n",
      "['latte', '3', '17000', '3', 51000]\n",
      "['mango juice', '3', '21000', '2', 42000]\n",
      "['fresh water', '4', '10000', '10', 100000]\n",
      "['freeze latte', '5', '19000', '5', 95000]\n",
      "['orange juice', '5', '18000', '6', 108000]\n",
      "['sugar cane juice', '5', '5000', '1', 5000]\n",
      "['milk tea', '6', '25000', '7', 175000]\n",
      "['coconut', '9', '15000', '11', 165000]\n",
      "['cold brew', '9', '30000', '2', 60000]\n",
      "['lemon juice', '10', '11000', '5', 55000]\n",
      "['water melon juice', '11', '18000', '7', 126000]\n",
      "['kiwi juice', '11', '21000', '5', 105000]\n"
     ]
    }
   ],
   "source": [
    "import csv\n",
    "\n",
    "# f = open(\"../01_data/03_exam.csv\")\n",
    "# file_data = f.read()\n",
    "# f.close()\n",
    "\n",
    "with open(\"../01_data/03_exam.csv\", 'r') as f:\n",
    "    # use the **args method\n",
    "    csv_reader = csv.reader(f, delimiter=\",\")\n",
    "\n",
    "    # skip the first row (the header of the file)\n",
    "    next(csv_reader) # this is a build_in fuction of python\n",
    "\n",
    "    collectList = []\n",
    "    for item in csv_reader:\n",
    "        item.append(int(item[2]) * int(item[3]))\n",
    "        collectList.append(item)\n",
    "    # end of for, the poiter also at the end of file\n",
    "\n",
    "for item in collectList:\n",
    "    print(item)\n",
    "\n",
    "# ------------------------------------------------------- #\n",
    "\n",
    "with open(\"../01_data/04_examWriterResult.csv\", 'w') as f:\n",
    "    csv_writer = csv.writer(f, delimiter=\",\")\n",
    "\n",
    "    #  next(csv_writer)\n",
    "    csv_writer.writerow([\"product name\",\"order id\",\"price\",\"amount\",\"total\"])\n",
    "    for item in collectList:\n",
    "        csv_writer.writerow(item)\n",
    "    "
   ]
  },
  {
   "cell_type": "code",
   "execution_count": 46,
   "metadata": {},
   "outputs": [
    {
     "name": "stdout",
     "output_type": "stream",
     "text": [
      "{'product name': 'coffee', 'order id': '1', 'price': '15000', 'amount': '5', 'total': 75000}\n",
      "{'product name': 'milk', 'order id': '2', 'price': '20000', 'amount': '7', 'total': 140000}\n",
      "{'product name': 'latte', 'order id': '3', 'price': '17000', 'amount': '3', 'total': 51000}\n",
      "{'product name': 'mango juice', 'order id': '3', 'price': '21000', 'amount': '2', 'total': 42000}\n",
      "{'product name': 'fresh water', 'order id': '4', 'price': '10000', 'amount': '10', 'total': 100000}\n",
      "{'product name': 'freeze latte', 'order id': '5', 'price': '19000', 'amount': '5', 'total': 95000}\n",
      "{'product name': 'orange juice', 'order id': '5', 'price': '18000', 'amount': '6', 'total': 108000}\n",
      "{'product name': 'sugar cane juice', 'order id': '5', 'price': '5000', 'amount': '1', 'total': 5000}\n",
      "{'product name': 'milk tea', 'order id': '6', 'price': '25000', 'amount': '7', 'total': 175000}\n",
      "{'product name': 'coconut', 'order id': '9', 'price': '15000', 'amount': '11', 'total': 165000}\n",
      "{'product name': 'cold brew', 'order id': '9', 'price': '30000', 'amount': '2', 'total': 60000}\n",
      "{'product name': 'lemon juice', 'order id': '10', 'price': '11000', 'amount': '5', 'total': 55000}\n",
      "{'product name': 'water melon juice', 'order id': '11', 'price': '18000', 'amount': '7', 'total': 126000}\n",
      "{'product name': 'kiwi juice', 'order id': '11', 'price': '21000', 'amount': '5', 'total': 105000}\n"
     ]
    }
   ],
   "source": [
    "# Dict reader\n",
    "with open(\"../01_data/03_exam.csv\", 'r') as f:\n",
    "    # use the **args method\n",
    "    csv_reader = csv.DictReader(f, delimiter=\",\")\n",
    "\n",
    "    collectList_dictReader = []\n",
    "    for item in csv_reader:\n",
    "        item[\"total\"] = int(item[\"price\"]) * int(item[\"amount\"])\n",
    "        collectList_dictReader.append(item)\n",
    "\n",
    "for item in collectList_dictReader:\n",
    "    print(item)"
   ]
  },
  {
   "cell_type": "code",
   "execution_count": 52,
   "metadata": {},
   "outputs": [],
   "source": [
    "# Dict writer\n",
    "with open(\"../01_data/05_examWriterResult_2.csv\", 'w') as f:\n",
    "    # what is 'fields' and 'fieldname'\n",
    "    fields = list(collectList_dictReader[0].keys())\n",
    "    csv_writer = csv.DictWriter(f, delimiter=\",\", fieldnames=fields)\n",
    "    csv_writer.writeheader()\n",
    "\n",
    "    # should use 'writerow': xuwr lys towis ddaau ghi file towis ddos\n",
    "    for item in collectList_dictReader:\n",
    "        csv_writer.writerow(item)\n",
    "    \n",
    "    # should not use 'writerows'\n",
    "    # csv_writer.writerows(collectList_dictReader)"
   ]
  }
 ],
 "metadata": {
  "kernelspec": {
   "display_name": "Python 3.10.6 64-bit",
   "language": "python",
   "name": "python3"
  },
  "language_info": {
   "codemirror_mode": {
    "name": "ipython",
    "version": 3
   },
   "file_extension": ".py",
   "mimetype": "text/x-python",
   "name": "python",
   "nbconvert_exporter": "python",
   "pygments_lexer": "ipython3",
   "version": "3.10.6"
  },
  "orig_nbformat": 4,
  "vscode": {
   "interpreter": {
    "hash": "916dbcbb3f70747c44a77c7bcd40155683ae19c65e1c03b4aa3499c5328201f1"
   }
  }
 },
 "nbformat": 4,
 "nbformat_minor": 2
}
