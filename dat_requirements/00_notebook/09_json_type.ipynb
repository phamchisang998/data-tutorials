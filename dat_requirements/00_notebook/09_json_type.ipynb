{
 "cells": [
  {
   "cell_type": "code",
   "execution_count": 34,
   "metadata": {},
   "outputs": [
    {
     "name": "stdout",
     "output_type": "stream",
     "text": [
      "{'keyOne': 1, 'keyTwo': 2, 'keyThree': 3, '1': 'One'}\n",
      "2\n",
      "3\n",
      "4\n",
      "5\n"
     ]
    }
   ],
   "source": [
    "# some type: csv, json\n",
    "# json: tree, nested data | # csv: table\n",
    "# -flaten data : means transform json into csv\n",
    "# -nesting data: means transform csv into json\n",
    "\n",
    "# open json\n",
    "# file = open(\"/home/minhdat/data-tutorials/dat_requirements/01_data/01_exam1.json\", \"r\")\n",
    "file = open(\"../01_data/01_exam1.json\")\n",
    "\n",
    "# use json module in python\n",
    "import json\n",
    "c = json.load(file)\n",
    "print(c)\n",
    "\n",
    "# confirm if a json is a dictionary\n",
    "c.get(1)\n",
    "type(c.get(1))\n",
    "ex = c.keys()\n",
    "\n"
   ]
  },
  {
   "cell_type": "code",
   "execution_count": 58,
   "metadata": {},
   "outputs": [
    {
     "name": "stdout",
     "output_type": "stream",
     "text": [
      "{'Class_A': {'Sang': 8.9, 'Dat': 8.8, 'Dung': 8.7}, 'Class_B': {'An': 5.5, 'Bao': 5.7, 'Hieu': 7.5, 'Tien': 7.7}, 'Class_C': {'Tu': 9.1, 'Ha': 9.2, 'Thanh': 9.2, 'Thnag': 9.5}}\n",
      "{'Class_A': {'Sang': 8.9, 'Dat': 8.8, 'Dung': 8.7}, 'Class_B': {'An': 5.5, 'Bao': 5.7, 'Hieu': 7.5, 'Tien': 7.7}, 'Class_C': {'Tu': 9.1, 'Ha': 9.2, 'Thanh': 9.2, 'Thnag': 9.5, 'Long': 9.7}}\n",
      "{'Class_A': {'Sang': 8.9, 'Dat': 8.8, 'Dung': 8.7}, 'Class_B': {'An': 5.5, 'Bao': 5.7, 'Hieu': 7.5, 'Tien': 7.7}, 'Class_C': {'Tu': 9.1, 'Ha': 9.2, 'Thanh': 9.2, 'Thnag': 9.5, 'Long': 9.7}}\n"
     ]
    }
   ],
   "source": [
    "# Tinh diem TB cua tung lop\n",
    "from imaplib import Int2AP\n",
    "import json\n",
    "file_diem = open(\"../01_data/01_exam1.json\")\n",
    "f = json.load(file_diem)\n",
    "print(f)\n",
    "\n",
    "# tinh diem TB\n",
    "def avgCal(file):\n",
    "    for c in f.keys():\n",
    "        sum = 0\n",
    "        num = 0\n",
    "        for name in f.get(c):\n",
    "            num += 1\n",
    "            sum += f.get(c).get(name)\n",
    "            # print(type(f.get(c).get(name)))\n",
    "        avg = sum/float(num)\n",
    "        print(\"Diem TB cua lop \", c, \" : \", avg)\n",
    "\n",
    "# them data vao file tu terminal\n",
    "def insertData(className, stuName, avgScore, f):\n",
    "    if className not in f:\n",
    "        # neu chua co class, add class moi, chuwas mot dict roongx {}\n",
    "        f[className] = {}\n",
    "    f[className][stuName] = avgScore\n",
    "    return f\n",
    "\n",
    "f_new = insertData(\"Class_C\", \"Long\", 9.7, f)\n",
    "print(f)\n",
    "print(f_new)\n",
    "file_diem_w = open(\"../01_data/01_exam1.json\", \"w\")\n",
    "json.dump(f_new, file_diem_w)\n",
    "file_diem_w.close()\n",
    "\n",
    "\n"
   ]
  }
 ],
 "metadata": {
  "kernelspec": {
   "display_name": "Python 3.10.6 64-bit",
   "language": "python",
   "name": "python3"
  },
  "language_info": {
   "codemirror_mode": {
    "name": "ipython",
    "version": 3
   },
   "file_extension": ".py",
   "mimetype": "text/x-python",
   "name": "python",
   "nbconvert_exporter": "python",
   "pygments_lexer": "ipython3",
   "version": "3.10.6"
  },
  "orig_nbformat": 4,
  "vscode": {
   "interpreter": {
    "hash": "916dbcbb3f70747c44a77c7bcd40155683ae19c65e1c03b4aa3499c5328201f1"
   }
  }
 },
 "nbformat": 4,
 "nbformat_minor": 2
}
