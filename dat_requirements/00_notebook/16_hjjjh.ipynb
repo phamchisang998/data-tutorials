{
 "cells": [
  {
   "cell_type": "code",
   "execution_count": null,
   "metadata": {},
   "outputs": [],
   "source": [
    "import re\n",
    "import glob\n",
    "\n",
    "def filter_files(file_name):\n",
    "    pattern = '([^.]*)(10A|11B|12C)([0-9]{1}|[0-9]{2}).json'\n",
    "    return bool(re.search(pattern, file_name))\n",
    "\n",
    "\n",
    "class_name_pattern = '(10A|11B|12C)([0-9]{1}|[0-9]{2})'\n",
    "folder_path = \"../03_draft_data/THPT_VoNguyenGiap/**/*.json\"\n",
    "\n",
    "for item in filter(filter_files, glob.glob(folder_path, recursive = True)):\n",
    "    class_name_index = re.search(class_name_pattern, item).span()\n",
    "    class_name = item[class_name_index[0]:class_name_index[1]]\n",
    "    print(class_name)\n",
    "\n",
    "\n"
   ]
  },
  {
   "cell_type": "code",
   "execution_count": null,
   "metadata": {},
   "outputs": [],
   "source": [
    "import re\n",
    "import glob\n",
    "\n",
    "def filter_files(file_name):\n",
    "    pattern = '([^.]*)(10A|11B|12C)([0-9]{1}|[0-9]{2}).json'\n",
    "    return bool(re.search(pattern, file_name))\n",
    "    \n",
    "folder_path = \"../data-tutorials/dat_requirements/03_draft_data/THPT_VoNguyenGiap/**/*.json\"\n",
    "for item in filter(filter_files, glob.glob(folder_path, recursive = True)):\n",
    "    print(item)\n"
   ]
  }
 ],
 "metadata": {
  "kernelspec": {
   "display_name": "Python 3.10.6 64-bit",
   "language": "python",
   "name": "python3"
  },
  "language_info": {
   "name": "python",
   "version": "3.10.6"
  },
  "orig_nbformat": 4,
  "vscode": {
   "interpreter": {
    "hash": "916dbcbb3f70747c44a77c7bcd40155683ae19c65e1c03b4aa3499c5328201f1"
   }
  }
 },
 "nbformat": 4,
 "nbformat_minor": 2
}
