{
 "cells": [
  {
   "cell_type": "code",
   "execution_count": 10,
   "metadata": {},
   "outputs": [
    {
     "name": "stdout",
     "output_type": "stream",
     "text": [
      "280571172992510140037611932413038677189525  --  201\n"
     ]
    }
   ],
   "source": [
    "# @cache is a decoration can help to apply the memoize technique\n",
    "# this decoration is more effective than manual adding memo by developer\n",
    "\n",
    "from functools import *\n",
    "\n",
    "count = 0\n",
    "\n",
    "@cache #decorate\n",
    "def fiboN(n):\n",
    "    global count\n",
    "    count += 1\n",
    "    if n <= 1:\n",
    "        return n\n",
    "    return fiboN(n-1) + fiboN(n-2)\n",
    "\n",
    "print(fiboN(200), \" -- \", count)"
   ]
  },
  {
   "cell_type": "code",
   "execution_count": 11,
   "metadata": {},
   "outputs": [
    {
     "name": "stdout",
     "output_type": "stream",
     "text": [
      "280571172992510140037611932413038677189525  --  399\n"
     ]
    }
   ],
   "source": [
    "count_1 = 0\n",
    "def fiboN_memo(n, memo = {}):\n",
    "    global count_1\n",
    "    count_1 += 1\n",
    "    if n <= 1:\n",
    "        return n\n",
    "    if n in memo:\n",
    "        # da co trong memo, tra ve memo[n]\n",
    "        return memo[n]\n",
    "    # chua co trong memo, add value vao memo[n]\n",
    "    memo[n] = fiboN_memo(n-1, memo) + fiboN_memo(n-2, memo)\n",
    "    return memo[n]\n",
    "\n",
    "print(fiboN_memo(200), \" -- \", count_1)"
   ]
  }
 ],
 "metadata": {
  "kernelspec": {
   "display_name": "Python 3.10.6 64-bit",
   "language": "python",
   "name": "python3"
  },
  "language_info": {
   "codemirror_mode": {
    "name": "ipython",
    "version": 3
   },
   "file_extension": ".py",
   "mimetype": "text/x-python",
   "name": "python",
   "nbconvert_exporter": "python",
   "pygments_lexer": "ipython3",
   "version": "3.10.6"
  },
  "orig_nbformat": 4,
  "vscode": {
   "interpreter": {
    "hash": "52634da84371cba311ea128a5ea7cdc41ff074b781779e754b270ff9f8153cee"
   }
  }
 },
 "nbformat": 4,
 "nbformat_minor": 2
}
