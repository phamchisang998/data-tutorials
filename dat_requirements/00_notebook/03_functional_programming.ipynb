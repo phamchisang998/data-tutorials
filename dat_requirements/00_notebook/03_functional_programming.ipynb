{
 "cells": [
  {
   "cell_type": "code",
   "execution_count": 1,
   "metadata": {},
   "outputs": [
    {
     "name": "stdout",
     "output_type": "stream",
     "text": [
      "3\n"
     ]
    }
   ],
   "source": [
    "def funA(a, b):\n",
    "    return a + b\n",
    "\n",
    "ins_funcA = funA\n",
    "print(ins_funcA(1,2))"
   ]
  },
  {
   "cell_type": "markdown",
   "metadata": {},
   "source": []
  },
  {
   "cell_type": "code",
   "execution_count": 2,
   "metadata": {},
   "outputs": [
    {
     "data": {
      "text/plain": [
       "7"
      ]
     },
     "execution_count": 2,
     "metadata": {},
     "output_type": "execute_result"
    }
   ],
   "source": [
    "# lambda\n",
    "ins_lambda = lambda x,y : x + y\n",
    "ins_lambda(2,5)"
   ]
  },
  {
   "cell_type": "code",
   "execution_count": 5,
   "metadata": {},
   "outputs": [
    {
     "name": "stdout",
     "output_type": "stream",
     "text": [
      "[0, 1, 4, 9, 16, 25]\n"
     ]
    }
   ],
   "source": [
    "# map()\n",
    "# dung de map tung giatri trong List\n",
    "def square(n):\n",
    "    return n*n\n",
    "\n",
    "a = [0,1,2,3,4,5]\n",
    "b = list(map(square,a))\n",
    "print(b)\n"
   ]
  },
  {
   "cell_type": "code",
   "execution_count": 9,
   "metadata": {},
   "outputs": [
    {
     "name": "stdout",
     "output_type": "stream",
     "text": [
      "[0, 1, 4, 9, 16, 25]\n"
     ]
    }
   ],
   "source": [
    "# map() + lambda\n",
    "# dung de map tung giatri trong List\n",
    "\n",
    "a = [0,1,2,3,4,5]\n",
    "b = list(map(lambda n : n*n, a))\n",
    "print(b)"
   ]
  },
  {
   "cell_type": "code",
   "execution_count": 11,
   "metadata": {},
   "outputs": [
    {
     "name": "stdout",
     "output_type": "stream",
     "text": [
      "[1, 0, 2, 5, 9]\n"
     ]
    }
   ],
   "source": [
    "# filter()\n",
    "a = [-1,1,0,-5,2,5,-7,9]\n",
    "b = list(filter(lambda n : n>=0, a))\n",
    "print(b)"
   ]
  },
  {
   "cell_type": "code",
   "execution_count": 13,
   "metadata": {},
   "outputs": [
    {
     "name": "stdout",
     "output_type": "stream",
     "text": [
      "15\n"
     ]
    }
   ],
   "source": [
    "# reduce()\n",
    "from functools import *\n",
    "\n",
    "a = [0,1,2,3,4,5]\n",
    "b = reduce(lambda x,y : x+y, a) # return x+y duoc gan nguoc tro lai cho x..., b la phan tu tiep theo cua list A\n",
    "print(b)"
   ]
  },
  {
   "cell_type": "code",
   "execution_count": 15,
   "metadata": {},
   "outputs": [
    {
     "name": "stdout",
     "output_type": "stream",
     "text": [
      "9\n"
     ]
    }
   ],
   "source": [
    "# reduce()\n",
    "from functools import *\n",
    "\n",
    "a = [0,1,2,3,4,5,-5,8,9,-7]\n",
    "b = reduce(lambda x,y : x if x>=y else y, a)\n",
    "print(b)"
   ]
  }
 ],
 "metadata": {
  "kernelspec": {
   "display_name": "Python 3.10.6 64-bit",
   "language": "python",
   "name": "python3"
  },
  "language_info": {
   "codemirror_mode": {
    "name": "ipython",
    "version": 3
   },
   "file_extension": ".py",
   "mimetype": "text/x-python",
   "name": "python",
   "nbconvert_exporter": "python",
   "pygments_lexer": "ipython3",
   "version": "3.10.6"
  },
  "orig_nbformat": 4,
  "vscode": {
   "interpreter": {
    "hash": "916dbcbb3f70747c44a77c7bcd40155683ae19c65e1c03b4aa3499c5328201f1"
   }
  }
 },
 "nbformat": 4,
 "nbformat_minor": 2
}
