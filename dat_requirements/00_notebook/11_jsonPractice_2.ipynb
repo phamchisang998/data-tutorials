{
 "cells": [
  {
   "cell_type": "code",
   "execution_count": 3,
   "metadata": {},
   "outputs": [
    {
     "data": {
      "text/plain": [
       "[{'class': 'Class_A', 'name': 'Sang', 'score': 8.9},\n",
       " {'class': 'Class_A', 'name': 'Dat', 'score': 8.8},\n",
       " {'class': 'Class_A', 'name': 'Dung', 'score': 8.7},\n",
       " {'class': 'Class_B', 'name': 'An', 'score': 5.5},\n",
       " {'class': 'Class_B', 'name': 'Bao', 'score': 5.7},\n",
       " {'class': 'Class_B', 'name': 'Hieu', 'score': 7.5},\n",
       " {'class': 'Class_B', 'name': 'Tien', 'score': 7.7},\n",
       " {'class': 'Class_C', 'name': 'Tu', 'score': 9.1},\n",
       " {'class': 'Class_C', 'name': 'Ha', 'score': 9.2},\n",
       " {'class': 'Class_C', 'name': 'Thanh', 'score': 9.2},\n",
       " {'class': 'Class_C', 'name': 'Thnag', 'score': 9.5},\n",
       " {'class': 'Class_C', 'name': 'Long', 'score': 9.7},\n",
       " {'class': 'Class_D', 'name': 'Thien', 'score': 9.7}]"
      ]
     },
     "execution_count": 3,
     "metadata": {},
     "output_type": "execute_result"
    }
   ],
   "source": [
    "import json\n",
    "import time\n",
    "fileData = open(\"../01_data/01_exam1.json\")\n",
    "fData = json.load(fileData)\n",
    "\n",
    "# flaten data\n",
    "def flat_data(f_data):\n",
    "    flatened_list = []\n",
    "    for class_i in f_data.keys():\n",
    "        for stu in f_data.get(class_i):\n",
    "            temp_dict = {\"class\": class_i, \"name\": stu, \"score\": f_data[class_i][stu]}\n",
    "            flatened_list.append(temp_dict)\n",
    "\n",
    "    return flatened_list\n",
    "\n",
    "\n"
   ]
  },
  {
   "cell_type": "code",
   "execution_count": 25,
   "metadata": {},
   "outputs": [
    {
     "name": "stdout",
     "output_type": "stream",
     "text": [
      "9.179115295410156e-05\n",
      "0.00010752677917480469\n"
     ]
    }
   ],
   "source": [
    "#{\"Class_A\": {\"Sang\": 8.9, \"Dat\": 8.8, \"Dung\": 8.7}, \"Class_B\": {\"An\": 5.5, \"Bao\": 5.7, \"Hieu\": 7.5, \"Tien\": 7.7}, \"Class_C\": {\"Tu\": 9.1, \"Ha\": 9.2, \"Thanh\": 9.2, \"Thnag\": 9.5, \"Long\": 9.7}, \"Class_D\": {\"Thien\": 9.7}}\n",
    "from functools import *\n",
    "import time\n",
    "def flat_data_ex(f_data):\n",
    "    out = map(\n",
    "        lambda x: [\n",
    "            {\"class\": x[0], \"name\": subx[0], \"score\": subx[1]} \n",
    "                for subx in x[1].items()]\n",
    "        ,f_data.items()\n",
    "    )\n",
    "    return list(reduce(\n",
    "        lambda a, b: a + b\n",
    "        ,out\n",
    "    ))\n",
    "\n"
   ]
  },
  {
   "cell_type": "code",
   "execution_count": 45,
   "metadata": {},
   "outputs": [
    {
     "name": "stdout",
     "output_type": "stream",
     "text": [
      "5.4836273193359375e-05\n",
      "5.793571472167969e-05\n",
      "5.340576171875e-05\n"
     ]
    }
   ],
   "source": [
    "#{\"Class_A\": {\"Sang\": 8.9, \"Dat\": 8.8, \"Dung\": 8.7}, \"Class_B\": {\"An\": 5.5, \"Bao\": 5.7, \"Hieu\": 7.5, \"Tien\": 7.7}, \"Class_C\": {\"Tu\": 9.1, \"Ha\": 9.2, \"Thanh\": 9.2, \"Thnag\": 9.5, \"Long\": 9.7}, \"Class_D\": {\"Thien\": 9.7}}\n",
    "from functools import *\n",
    "import time\n",
    "\n",
    "def reduce_function(a, x):\n",
    "    return a + [{\"class\": x[0], \"name\": subx[0], \"score\": subx[1]} \n",
    "                    for subx in x[1].items()]\n",
    "\n",
    "def flat_data_ex_reduce(f_data):\n",
    "    return list(reduce(\n",
    "        reduce_function\n",
    "        ,[[]] + list(f_data.items())\n",
    "    ))\n",
    "\n",
    "start = time.time()\n",
    "flat_data(fData)\n",
    "print(time.time()- start)\n",
    "start = time.time()\n",
    "flat_data_ex(fData)\n",
    "print(time.time()- start)\n",
    "start = time.time()\n",
    "flat_data_ex_reduce(fData)\n",
    "print(time.time()- start)"
   ]
  },
  {
   "cell_type": "code",
   "execution_count": 8,
   "metadata": {},
   "outputs": [
    {
     "data": {
      "text/plain": [
       "[1, 2, 3, 4, 5, 6]"
      ]
     },
     "execution_count": 8,
     "metadata": {},
     "output_type": "execute_result"
    }
   ],
   "source": [
    "()"
   ]
  }
 ],
 "metadata": {
  "kernelspec": {
   "display_name": "Python 3.10.6 64-bit",
   "language": "python",
   "name": "python3"
  },
  "language_info": {
   "codemirror_mode": {
    "name": "ipython",
    "version": 3
   },
   "file_extension": ".py",
   "mimetype": "text/x-python",
   "name": "python",
   "nbconvert_exporter": "python",
   "pygments_lexer": "ipython3",
   "version": "3.10.6"
  },
  "orig_nbformat": 4,
  "vscode": {
   "interpreter": {
    "hash": "916dbcbb3f70747c44a77c7bcd40155683ae19c65e1c03b4aa3499c5328201f1"
   }
  }
 },
 "nbformat": 4,
 "nbformat_minor": 2
}
