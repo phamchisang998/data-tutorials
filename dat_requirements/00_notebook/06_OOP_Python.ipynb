{
 "cells": [
  {
   "cell_type": "code",
   "execution_count": 1,
   "metadata": {},
   "outputs": [
    {
     "name": "stdout",
     "output_type": "stream",
     "text": [
      "4  --  meow\n"
     ]
    }
   ],
   "source": [
    "# class Person\n",
    "# constructor: name, age, gender, changeAge(), changeName()\n",
    "# Student extent Person, has schoolName, className, changeClass(), changeSchool()\n",
    "# Teacher extent Person, has objectName, className, changeObject()\n",
    "\n",
    "class Person:\n",
    "    def __init__(self, name, age, gender):\n",
    "        self.name = name\n",
    "        self.age = age\n",
    "        self.gender = gender\n",
    "\n",
    "    def changeAge(self, age):\n",
    "        self.age = age\n",
    "\n",
    "    def changeName(self, name):\n",
    "        self.name = name\n",
    "\n",
    "class Student(Person):\n",
    "    def __init__(self, name, age, gender, schoolName, className):\n",
    "        super().__init__(name, age, gender)\n",
    "        self.className = className\n",
    "        self.schoolName = schoolName\n",
    "\n",
    "    def changeClass(self, className):\n",
    "        self.className  = className\n",
    "    \n",
    "    def changeSchool(self, schoolName):\n",
    "        self.schoolName = schoolName\n",
    "\n",
    "class Teacher(Person):\n",
    "    def __init__(self, name, age, gender, objectName, className):\n",
    "        super().__init__(name, age, gender)\n",
    "        self.className = className\n",
    "        self.objectName = objectName\n",
    "    \n",
    "    def changeObject(self, objectName):\n",
    "        self.objectName = objectName\n",
    "\n",
    "student1 = Student(\"Minh\", 18, \"Male\", \"DHBK\", \"GT1\")\n",
    "student2 = Student(\"Quang\", 19, \"Male\", \"DHBK\", \"GT2\")\n",
    "student3 = Student(\"Ngan\", 18, \"Female\", \"DHBK\", \"GT1\")\n",
    "teacher1 = Teacher(\"Thanh\", 38, \"Male\", \"DHBK\", \"Math\")\n",
    "teacher2 = Teacher(\"Hieu\", 29, \"Male\", \"DHBK\", \"Physics\")\n",
    "\n"
   ]
  }
 ],
 "metadata": {
  "kernelspec": {
   "display_name": "Python 3.10.6 64-bit",
   "language": "python",
   "name": "python3"
  },
  "language_info": {
   "codemirror_mode": {
    "name": "ipython",
    "version": 3
   },
   "file_extension": ".py",
   "mimetype": "text/x-python",
   "name": "python",
   "nbconvert_exporter": "python",
   "pygments_lexer": "ipython3",
   "version": "3.10.6"
  },
  "orig_nbformat": 4,
  "vscode": {
   "interpreter": {
    "hash": "916dbcbb3f70747c44a77c7bcd40155683ae19c65e1c03b4aa3499c5328201f1"
   }
  }
 },
 "nbformat": 4,
 "nbformat_minor": 2
}
