{
 "cells": [
  {
   "cell_type": "code",
   "execution_count": 24,
   "metadata": {},
   "outputs": [
    {
     "data": {
      "text/plain": [
       "[{'name': 'Dung', 'age': 23, 'score': 9.1},\n",
       " {'name': 'Sang', 'age': 24, 'score': 9.1},\n",
       " {'name': 'Nam', 'age': 23, 'score': 9.0},\n",
       " {'name': 'Hung', 'age': 23, 'score': 8.9},\n",
       " {'name': 'Nguyen', 'age': 21, 'score': 8.7},\n",
       " {'name': 'Dat', 'age': 25, 'score': 8.5}]"
      ]
     },
     "execution_count": 24,
     "metadata": {},
     "output_type": "execute_result"
    }
   ],
   "source": [
    "from imaplib import Int2AP\n",
    "import json\n",
    "fileData = open(\"../01_data/02_jsonArrayExam.json\")\n",
    "fData = json.load(fileData)\n",
    "# print(fData)\n",
    "# print(\"\\n\")\n",
    "\n",
    "def getMaxCoreStu(f_data):\n",
    "    maxScore = 0\n",
    "    maxScoreNameList = []\n",
    "    for item in f_data:\n",
    "        if item[\"score\"] > maxScore:\n",
    "            maxScore = item[\"score\"]\n",
    "            maxScoreNameList = [item[\"name\"]]\n",
    "        elif item[\"score\"] == maxScore:\n",
    "            maxScoreNameList.append(item[\"name\"])\n",
    "    print(\"Max score student: \", maxScoreNameList, \" -- \", maxScore)\n",
    "# getMaxCoreStu(fData)\n",
    "# let practice with reduce(), lambda function --> homework\n",
    "\n",
    "def arrangeScoreMaxToMin(f_data):\n",
    "    for i in range(len(f_data)):\n",
    "        for j in range(i + 1, len(f_data)):\n",
    "            if f_data[i][\"score\"] < f_data[j][\"score\"]:\n",
    "                f_data[j], f_data[i] = f_data[i], f_data[j]\n",
    "    return f_data[::]\n",
    "# print(arrangeScoreMaxToMin(fData))\n",
    "\n",
    "# use 'sort' method\n",
    "# fData.sort(key = lambda x : x[\"score\"])\n",
    "# fData\n",
    "\n",
    "# use 'sorted' method\n",
    "# sorted(fData, key = lambda x : x[\"score\"])\n",
    "\n",
    "# arrange according name\n",
    "def arrangeName(f_data):\n",
    "    for i in range(len(f_data)):\n",
    "        for j in range(i + 1, len(f_data)):\n",
    "            if ord(f_data[i][\"name\"][0]) > ord(f_data[j][\"name\"][0]):\n",
    "                f_data[j], f_data[i] = f_data[i], f_data[j]\n",
    "    return f_data[::]\n",
    "# print(arrangeName(fData))\n",
    "\n",
    "# arrange according score, then name if same score\n",
    "def arrangeScoreName(f_data):\n",
    "    return sorted(f_data, key = lambda x: (-x[\"score\"], x[\"name\"][0]))\n",
    "arrangeScoreName(fData) \n",
    "\n",
    "# Homework flaten a jsonObject into a jsonArray"
   ]
  },
  {
   "cell_type": "code",
   "execution_count": 12,
   "metadata": {},
   "outputs": [
    {
     "data": {
      "text/plain": [
       "[9, 7, 7, 5, 4, 2]"
      ]
     },
     "execution_count": 12,
     "metadata": {},
     "output_type": "execute_result"
    }
   ],
   "source": [
    "def bubleSort(nums):\n",
    "    for i in range(len(nums)):\n",
    "        for j in range(i + 1, len(nums)):\n",
    "            if nums[i] < nums[j]:\n",
    "                nums[i], nums[j] = nums[j], nums[i]\n",
    "    return nums[::] # nen return ban copy de tranhs viec thay doi data cuar bien global\n",
    "    # return nums\n",
    "\n",
    "bubleSort([5,4,7,9,7,2])\n",
    "# viet buble sort theo logic recursive:\n",
    "# - tim max cua mang ar\n",
    "# - ar.remove(max), call recursive"
   ]
  },
  {
   "cell_type": "code",
   "execution_count": null,
   "metadata": {},
   "outputs": [],
   "source": [
    "# Exercise about flatening a jsonObject into a jsonArray\n",
    "def flatening_date_type(json_object):\n",
    "    # implement code here...\n",
    "    return json_object"
   ]
  }
 ],
 "metadata": {
  "kernelspec": {
   "display_name": "Python 3.10.6 64-bit",
   "language": "python",
   "name": "python3"
  },
  "language_info": {
   "codemirror_mode": {
    "name": "ipython",
    "version": 3
   },
   "file_extension": ".py",
   "mimetype": "text/x-python",
   "name": "python",
   "nbconvert_exporter": "python",
   "pygments_lexer": "ipython3",
   "version": "3.10.6"
  },
  "orig_nbformat": 4,
  "vscode": {
   "interpreter": {
    "hash": "916dbcbb3f70747c44a77c7bcd40155683ae19c65e1c03b4aa3499c5328201f1"
   }
  }
 },
 "nbformat": 4,
 "nbformat_minor": 2
}
