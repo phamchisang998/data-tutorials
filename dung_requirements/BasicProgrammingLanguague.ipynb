{
 "cells": [
  {
   "cell_type": "code",
   "execution_count": 27,
   "metadata": {},
   "outputs": [
    {
     "name": "stdout",
     "output_type": "stream",
     "text": [
      "[1, 1, 2, 2, 3, 3, 4, 4] {1, 2, 3, 4}\n",
      "<class 'tuple'>\n",
      "{'keyone': 1, 'keytwo': 2, 'keythree': 3, 'keyfour': 5}\n",
      "None\n"
     ]
    },
    {
     "ename": "KeyError",
     "evalue": "'keyfive'",
     "output_type": "error",
     "traceback": [
      "\u001b[1;31m---------------------------------------------------------------------------\u001b[0m",
      "\u001b[1;31mKeyError\u001b[0m                                  Traceback (most recent call last)",
      "\u001b[1;32mc:\\Users\\Dung'PC\\source\\data-tutorials\\dung_requirements\\BasicProgrammingLanguague.ipynb Cell 1\u001b[0m in \u001b[0;36m<cell line: 18>\u001b[1;34m()\u001b[0m\n\u001b[0;32m     <a href='vscode-notebook-cell:/c%3A/Users/Dung%27PC/source/data-tutorials/dung_requirements/BasicProgrammingLanguague.ipynb#W1sZmlsZQ%3D%3D?line=15'>16</a>\u001b[0m \u001b[39mprint\u001b[39m(c\u001b[39m.\u001b[39mget(\u001b[39m\"\u001b[39m\u001b[39mkeyfive\u001b[39m\u001b[39m\"\u001b[39m))\n\u001b[0;32m     <a href='vscode-notebook-cell:/c%3A/Users/Dung%27PC/source/data-tutorials/dung_requirements/BasicProgrammingLanguague.ipynb#W1sZmlsZQ%3D%3D?line=16'>17</a>\u001b[0m \u001b[39m#not try catch exp\u001b[39;00m\n\u001b[1;32m---> <a href='vscode-notebook-cell:/c%3A/Users/Dung%27PC/source/data-tutorials/dung_requirements/BasicProgrammingLanguague.ipynb#W1sZmlsZQ%3D%3D?line=17'>18</a>\u001b[0m \u001b[39mprint\u001b[39m(c[\u001b[39m\"\u001b[39;49m\u001b[39mkeyfive\u001b[39;49m\u001b[39m\"\u001b[39;49m]) \n\u001b[0;32m     <a href='vscode-notebook-cell:/c%3A/Users/Dung%27PC/source/data-tutorials/dung_requirements/BasicProgrammingLanguague.ipynb#W1sZmlsZQ%3D%3D?line=19'>20</a>\u001b[0m \u001b[39m#frozenset\u001b[39;00m\n\u001b[0;32m     <a href='vscode-notebook-cell:/c%3A/Users/Dung%27PC/source/data-tutorials/dung_requirements/BasicProgrammingLanguague.ipynb#W1sZmlsZQ%3D%3D?line=20'>21</a>\u001b[0m d \u001b[39m=\u001b[39m \u001b[39mfrozenset\u001b[39m([\u001b[39m1\u001b[39m,\u001b[39m2\u001b[39m,\u001b[39m3\u001b[39m,\u001b[39m4\u001b[39m])\n",
      "\u001b[1;31mKeyError\u001b[0m: 'keyfive'"
     ]
    }
   ],
   "source": [
    "#Set vs List\n",
    "a = [1, 1, 2, 2, 3, 3, 4, 4]\n",
    "print(a, set(a))\n",
    "\n",
    "# tuple\n",
    "b = (1,2,3,4)\n",
    "print(type(b))\n",
    "\n",
    "#dictionary\n",
    "\n",
    "c = {\"keyone\":1, \"keytwo\":2, \"keythree\":3}\n",
    "c[\"keyfour\"] = 4\n",
    "c.update({\"keyfour\":5})\n",
    "print(c)\n",
    "#try catch exp\n",
    "print(c.get(\"keyfive\"))\n",
    "#not try catch exp\n",
    "print(c[\"keyfive\"]) \n",
    "\n",
    "#frozenset\n",
    "d = frozenset([1,2,3,4])\n",
    "print(d)"
   ]
  },
  {
   "cell_type": "code",
   "execution_count": 69,
   "metadata": {},
   "outputs": [
    {
     "data": {
      "text/plain": [
       "True"
      ]
     },
     "execution_count": 69,
     "metadata": {},
     "output_type": "execute_result"
    }
   ],
   "source": [
    "def palindrom(a):\n",
    "    if len(a) <= 1:\n",
    "        return True\n",
    "    elif a[0] == a[-1]:\n",
    "        return palindrom(a[1:-1])\n",
    "    return False\n",
    "palindrom(\"aa\")"
   ]
  },
  {
   "cell_type": "code",
   "execution_count": 22,
   "metadata": {},
   "outputs": [
    {
     "name": "stdout",
     "output_type": "stream",
     "text": [
      "2330017465984 2330017465984\n",
      "None\n"
     ]
    }
   ],
   "source": [
    "c = b.append(2)\n",
    "print(id(a), id(b))\n",
    "print(c)"
   ]
  },
  {
   "cell_type": "code",
   "execution_count": null,
   "metadata": {},
   "outputs": [],
   "source": [
    "def fibonacy(x):\n",
    "    if x <= 1:\n",
    "        return x\n",
    "    return fibonacy(x-1)+fibonacy(x-2)\n",
    "\n",
    "print(fibonacy(5))"
   ]
  },
  {
   "cell_type": "code",
   "execution_count": null,
   "metadata": {},
   "outputs": [],
   "source": [
    "s = 'abc'\n",
    "print(id(s))\n",
    "s1 = s.replace('a', 'd')"
   ]
  },
  {
   "cell_type": "code",
   "execution_count": 21,
   "metadata": {},
   "outputs": [
    {
     "name": "stdout",
     "output_type": "stream",
     "text": [
      "2329939712432\n",
      "2330017504368\n",
      "dbc\n"
     ]
    }
   ],
   "source": [
    "print(id(s))\n",
    "print(id(s1))\n",
    "print(s1)"
   ]
  },
  {
   "cell_type": "code",
   "execution_count": 50,
   "metadata": {},
   "outputs": [
    {
     "name": "stdout",
     "output_type": "stream",
     "text": [
      "[3, 6, 7, 9, 12, 14, 15]\n",
      "16\n"
     ]
    },
    {
     "ename": "TypeError",
     "evalue": "sub_list() takes 2 positional arguments but 3 were given",
     "output_type": "error",
     "traceback": [
      "\u001b[1;31m---------------------------------------------------------------------------\u001b[0m",
      "\u001b[1;31mTypeError\u001b[0m                                 Traceback (most recent call last)",
      "\u001b[1;32mc:\\Users\\Dung'PC\\source\\data-tutorials\\dung_requirements\\BasicProgrammingLanguague.ipynb Cell 7\u001b[0m in \u001b[0;36m<cell line: 37>\u001b[1;34m()\u001b[0m\n\u001b[0;32m     <a href='vscode-notebook-cell:/c%3A/Users/Dung%27PC/source/data-tutorials/dung_requirements/BasicProgrammingLanguague.ipynb#W6sZmlsZQ%3D%3D?line=34'>35</a>\u001b[0m \u001b[39mdef\u001b[39;00m \u001b[39msub_list\u001b[39m(a, k):\n\u001b[0;32m     <a href='vscode-notebook-cell:/c%3A/Users/Dung%27PC/source/data-tutorials/dung_requirements/BasicProgrammingLanguague.ipynb#W6sZmlsZQ%3D%3D?line=35'>36</a>\u001b[0m     \u001b[39mreturn\u001b[39;00m sub_list_solve(a,a,k)   \n\u001b[1;32m---> <a href='vscode-notebook-cell:/c%3A/Users/Dung%27PC/source/data-tutorials/dung_requirements/BasicProgrammingLanguague.ipynb#W6sZmlsZQ%3D%3D?line=36'>37</a>\u001b[0m sub_list_solve(a\u001b[39m=\u001b[39;49m [\u001b[39m3\u001b[39;49m, \u001b[39m6\u001b[39;49m, \u001b[39m7\u001b[39;49m, \u001b[39m9\u001b[39;49m, \u001b[39m12\u001b[39;49m, \u001b[39m14\u001b[39;49m, \u001b[39m15\u001b[39;49m],b\u001b[39m=\u001b[39;49m [\u001b[39m3\u001b[39;49m, \u001b[39m6\u001b[39;49m, \u001b[39m7\u001b[39;49m, \u001b[39m9\u001b[39;49m, \u001b[39m12\u001b[39;49m, \u001b[39m14\u001b[39;49m, \u001b[39m15\u001b[39;49m], k\u001b[39m=\u001b[39;49m\u001b[39m16\u001b[39;49m)\n",
      "\u001b[1;32mc:\\Users\\Dung'PC\\source\\data-tutorials\\dung_requirements\\BasicProgrammingLanguague.ipynb Cell 7\u001b[0m in \u001b[0;36msub_list_solve\u001b[1;34m(a, b, k)\u001b[0m\n\u001b[0;32m     <a href='vscode-notebook-cell:/c%3A/Users/Dung%27PC/source/data-tutorials/dung_requirements/BasicProgrammingLanguague.ipynb#W6sZmlsZQ%3D%3D?line=25'>26</a>\u001b[0m \u001b[39melif\u001b[39;00m my_list \u001b[39m==\u001b[39m []:\n\u001b[0;32m     <a href='vscode-notebook-cell:/c%3A/Users/Dung%27PC/source/data-tutorials/dung_requirements/BasicProgrammingLanguague.ipynb#W6sZmlsZQ%3D%3D?line=26'>27</a>\u001b[0m     \u001b[39mreturn\u001b[39;00m \u001b[39mFalse\u001b[39;00m\n\u001b[1;32m---> <a href='vscode-notebook-cell:/c%3A/Users/Dung%27PC/source/data-tutorials/dung_requirements/BasicProgrammingLanguague.ipynb#W6sZmlsZQ%3D%3D?line=27'>28</a>\u001b[0m Checking \u001b[39m=\u001b[39m sub_list(my_list[:\u001b[39m-\u001b[39;49m\u001b[39m1\u001b[39;49m], my_list, k \u001b[39m-\u001b[39;49m a[\u001b[39m-\u001b[39;49m\u001b[39m1\u001b[39;49m])\n\u001b[0;32m     <a href='vscode-notebook-cell:/c%3A/Users/Dung%27PC/source/data-tutorials/dung_requirements/BasicProgrammingLanguague.ipynb#W6sZmlsZQ%3D%3D?line=28'>29</a>\u001b[0m \u001b[39mif\u001b[39;00m Checking \u001b[39m==\u001b[39m \u001b[39mTrue\u001b[39;00m:\n\u001b[0;32m     <a href='vscode-notebook-cell:/c%3A/Users/Dung%27PC/source/data-tutorials/dung_requirements/BasicProgrammingLanguague.ipynb#W6sZmlsZQ%3D%3D?line=29'>30</a>\u001b[0m     \u001b[39mreturn\u001b[39;00m \u001b[39mTrue\u001b[39;00m\n",
      "\u001b[1;31mTypeError\u001b[0m: sub_list() takes 2 positional arguments but 3 were given"
     ]
    }
   ],
   "source": [
    "#Cho list a (gồm n phần tử nguyên dương) và số nguyên dương k. \n",
    "# Kiểm tra xem tồn tại một list con b nào của a mà tổng các phần tử của list con b đó bằng với số k.\n",
    "#Ví dụ: input a = [1, 2, 4, 7] ; k = 8\n",
    "#Bên trong a có sub_list [1, 7] có tổng là bằng 8 bằng với k, nên trả về True.\n",
    "    # my_list = sorted([e for e in a if e <= k])\n",
    "    # print (my_list)\n",
    "    # print(k)\n",
    "    # if k == 0:\n",
    "    #     return True\n",
    "    # elif my_list == []:\n",
    "    #     return False\n",
    "    # temp = k - my_list[-1]\n",
    "    # # print(temp)\n",
    "    # temp_list = [e for e in my_list[:-1] if e <= k]\n",
    "    # # print(my_list[:-1])\n",
    "    # if temp_list == [] and temp > 0:\n",
    "    #     return sub_list(my_list[:-1], k)\n",
    "    # return sub_list(my_list[:-1],k-my_list[-1])\n",
    "\n",
    "def sub_list(a, b, k):\n",
    "    my_list = sorted([e for e in a if e <= k])\n",
    "    print (my_list)\n",
    "    print(k)\n",
    "    if k == 0:\n",
    "        return True\n",
    "    elif my_list == []:\n",
    "        return False\n",
    "    Checking = sub_list(my_list[:-1], my_list, k - a[-1])\n",
    "    if Checking == True:\n",
    "        return True\n",
    "    # print(my_list[:-1])\n",
    "    else:\n",
    "        return sub_list(my_list[:-1],my_list[:-1], k)\n",
    "\n",
    "sub_list_solve(a= [3, 6, 7, 9, 12, 14, 15],b= [3, 6, 7, 9, 12, 14, 15], k=16)\n",
    " \n"
   ]
  },
  {
   "cell_type": "code",
   "execution_count": 15,
   "metadata": {},
   "outputs": [
    {
     "name": "stdout",
     "output_type": "stream",
     "text": [
      "5\n",
      "2\n",
      "[3, 6, 7, 9, 12, 14, 15]\n",
      "[]\n"
     ]
    }
   ],
   "source": [
    "#Cho mảng a (n phần tử nguyên dương) và số nguyên dương k. \n",
    "# Tương tự bài 1, nhưng cho phép mỗi phần tử của a được phép tham gia vào phép cộng nhiều hơn 1 lần.\n",
    "#Ví dụ:\n",
    "#a =[1, 1, 3]; k = 6. Trả về True do a có phép cộng 1+ 1 + 1 +3  =6\n",
    "def sub_list_pro(a, k):\n",
    "    a_division = []\n",
    "    my_list = [e for e in a if e <= k]\n",
    "    for e in my_list:\n",
    "        mod = k//e\n",
    "        print(mod)\n",
    "        for i in range(1, mod+1):\n",
    "            a_division.append(i*e)\n",
    "    a = sub_list(a_division,k)\n",
    "    \n",
    "sub_list_pro([3,7],16)"
   ]
  }
 ],
 "metadata": {
  "kernelspec": {
   "display_name": "Python 3.10.6 64-bit",
   "language": "python",
   "name": "python3"
  },
  "language_info": {
   "codemirror_mode": {
    "name": "ipython",
    "version": 3
   },
   "file_extension": ".py",
   "mimetype": "text/x-python",
   "name": "python",
   "nbconvert_exporter": "python",
   "pygments_lexer": "ipython3",
   "version": "3.10.6"
  },
  "orig_nbformat": 4,
  "vscode": {
   "interpreter": {
    "hash": "52634da84371cba311ea128a5ea7cdc41ff074b781779e754b270ff9f8153cee"
   }
  }
 },
 "nbformat": 4,
 "nbformat_minor": 2
}
