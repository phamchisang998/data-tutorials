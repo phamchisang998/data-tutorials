{
 "cells": [
  {
   "cell_type": "markdown",
   "metadata": {},
   "source": [
    "LIBRARY"
   ]
  },
  {
   "cell_type": "code",
   "execution_count": 2,
   "metadata": {},
   "outputs": [],
   "source": [
    "import requests\n",
    "import pandas as pd\n",
    "import requests\n",
    "import time\n",
    "import urllib\n",
    "from bs4 import BeautifulSoup\n",
    "import json\n",
    "from functools import *"
   ]
  },
  {
   "cell_type": "markdown",
   "metadata": {},
   "source": [
    "Crawling_Product_ID"
   ]
  },
  {
   "cell_type": "code",
   "execution_count": 3,
   "metadata": {},
   "outputs": [
    {
     "data": {
      "text/plain": [
       "[{'url': '/dien-thoai-may-tinh-bang/c1789',\n",
       "  'name': 'Điện Thoại - Máy Tính Bảng',\n",
       "  'category_id': 1789},\n",
       " {'url': '/dien-thoai-smartphone/c1795',\n",
       "  'name': 'Điện thoại Smartphone',\n",
       "  'category_id': 1795}]"
      ]
     },
     "execution_count": 3,
     "metadata": {},
     "output_type": "execute_result"
    }
   ],
   "source": [
    "def get_product_catagories(url):\n",
    "    def find_value_of_key(value, key):\n",
    "        val = None\n",
    "        if isinstance(value,dict):\n",
    "            if key in value:\n",
    "                return value[key]\n",
    "            for i in value.items():\n",
    "                val = find_value_of_key(i[1], key)\n",
    "                if val is not None:\n",
    "                    return val\n",
    "        if isinstance(value,list):\n",
    "            for i in value:\n",
    "                val = find_value_of_key(i, key)\n",
    "        return val\n",
    "    http_headers = {\n",
    "        'User-Agent':  'PostmanRUntime/7.29.2',\n",
    "    }\n",
    "    response = requests.get(url=url, headers=http_headers)\n",
    "    parser = BeautifulSoup(response.text, 'html.parser', )\n",
    "    product_box = parser.findAll('script')\n",
    "    product_catagories = []\n",
    "    for product in product_box:\n",
    "        try:\n",
    "            item = json.loads(str(product.contents[0]))\n",
    "        except:\n",
    "            item = {}\n",
    "        product_val = find_value_of_key(item,\"breadcrumbs\")\n",
    "        if product_val is not None:\n",
    "            [product_catagories.append(i) for i in product_val if i[\"category_id\"] != 0] \n",
    "    return product_catagories\n",
    "\n",
    "get_product_catagories('https://tiki.vn/dien-thoai-samsung-galaxy-z-flip-4-8gb-128gb-hang-chinh-hang-p194034217.html?itm_campaign=CTP_YPD_TKA_PLA_UNK_ALL_UNK_UNK_UNK_UNK_X.163088_Y.1744616_Z.3253348_CN.Product-Ads-B4Q4&itm_medium=CPC&itm_source=tiki-ads&spid=194034225')\n"
   ]
  },
  {
   "cell_type": "markdown",
   "metadata": {},
   "source": [
    "#GET ID OF PRODUCT"
   ]
  },
  {
   "cell_type": "code",
   "execution_count": 4,
   "metadata": {},
   "outputs": [
    {
     "data": {
      "text/plain": [
       "12"
      ]
     },
     "execution_count": 4,
     "metadata": {},
     "output_type": "execute_result"
    }
   ],
   "source": [
    "def get_max_page_number(name:str, categories_id:int):\n",
    "    http_headers = {\n",
    "    'User-Agent':  'PostmanRUntime/7.29.2',\n",
    "    }\n",
    "    url =f'https://tiki.vn/{name}/c{categories_id}'\n",
    "    response = None\n",
    "    while(response is None):\n",
    "        response = requests.get(url=url, headers=http_headers)\n",
    "    parser = BeautifulSoup(response.text, 'html.parser', )\n",
    "\n",
    "    # find all \n",
    "    div_tag = parser.find(\"div\", {\"data-view-id\":\"product_list_pagination_container\"})   \n",
    "    ul_tag = div_tag.find('ul')\n",
    "    li_tag = ul_tag.findAll('li')\n",
    "    def find_max_tag(a,b):\n",
    "        if isinstance(a,int):\n",
    "            a_num = a\n",
    "        else:\n",
    "            a_tag = a.find('a')\n",
    "            a_num = a_tag.get('data-view-label') if a_tag.get('data-view-label') is not None else 0\n",
    "        b = b.find('a')\n",
    "        b_num = b.get('data-view-label') if b.get('data-view-label') is not None else 0\n",
    "        return max(int(a_num), int(b_num))\n",
    "    \n",
    "    return reduce(find_max_tag,li_tag)\n",
    "\n",
    "\n",
    "\n",
    "\n",
    "\n",
    "get_max_page_number(\"Điện thoại Smartphone\", 1795)"
   ]
  },
  {
   "cell_type": "code",
   "execution_count": null,
   "metadata": {},
   "outputs": [],
   "source": []
  },
  {
   "cell_type": "markdown",
   "metadata": {},
   "source": [
    "crawling_catagories_id"
   ]
  },
  {
   "cell_type": "code",
   "execution_count": 113,
   "metadata": {},
   "outputs": [
    {
     "data": {
      "text/plain": [
       "[197553025,\n",
       " 177746939,\n",
       " 155536275,\n",
       " 184051220,\n",
       " 197216279,\n",
       " 177343384,\n",
       " 170581659,\n",
       " 201631518,\n",
       " 197670818,\n",
       " 170580388,\n",
       " 194034217,\n",
       " 120295859,\n",
       " 114092342,\n",
       " 127372598,\n",
       " 187266104,\n",
       " 203764665,\n",
       " 88100671,\n",
       " 197214015,\n",
       " 184059211,\n",
       " 164923596,\n",
       " 197214029,\n",
       " 168282061,\n",
       " 194037967,\n",
       " 164937168,\n",
       " 201548628,\n",
       " 160801751,\n",
       " 203864283,\n",
       " 113569117,\n",
       " 184036446,\n",
       " 158714974,\n",
       " 166034912,\n",
       " 101615454,\n",
       " 189658085,\n",
       " 187254759,\n",
       " 170497385,\n",
       " 206131571,\n",
       " 142545270,\n",
       " 175845367,\n",
       " 132068858,\n",
       " 114766715]"
      ]
     },
     "execution_count": 113,
     "metadata": {},
     "output_type": "execute_result"
    }
   ],
   "source": [
    "def crawling_product_id(name:str, categories_id:int, page_number:int):\n",
    "    http_headers = {\n",
    "        'User-Agent':  'PostmanRUntime/7.29.2',\n",
    "    }\n",
    "    product_list = set()\n",
    "    for i in range(page_number):\n",
    "        url =f'https://tiki.vn/{name}/c{categories_id}?page{i}'\n",
    "        response = None\n",
    "        while(response is None):\n",
    "            response = requests.get(url=url, headers=http_headers)\n",
    "        parser = BeautifulSoup(response.text, 'html.parser', )\n",
    "    \n",
    "        # find all \n",
    "        product_box = parser.findAll('a')\n",
    "        if (len(product_box) == 0):\n",
    "            pass\n",
    "        for product in product_box:\n",
    "            data = product.get(\"data-view-content\")\n",
    "            if data is not None:\n",
    "                item = json.loads(data)\n",
    "                id = item['click_data'].get('id')\n",
    "                if id is not None:\n",
    "                    product_list.add(id)\n",
    "    return list(product_list)\n",
    "crawling_product_id(\"Điện thoại Smartphone\", 1795,12)"
   ]
  },
  {
   "cell_type": "code",
   "execution_count": 6,
   "metadata": {},
   "outputs": [
    {
     "name": "stdout",
     "output_type": "stream",
     "text": [
      "285782\n"
     ]
    }
   ],
   "source": [
    "http_headers = {\n",
    "    'User-Agent':  'PostmanRUntime/7.29.2',\n",
    "}\n",
    "response = requests.get(url=\"https://tiki.vn/dien-thoai-samsung-galaxy-z-flip-4-8gb-128gb-hang-chinh-hang-p194034217.html?itm_campaign=CTP_YPD_TKA_PLA_UNK_ALL_UNK_UNK_UNK_UNK_X.163088_Y.1744616_Z.3253348_CN.Product-Ads-B4Q4&itm_medium=CPC&itm_source=tiki-ads&spid=194034225\", headers=http_headers)\n",
    "parser = BeautifulSoup(response.text, 'html.parser' )\n",
    "with open('data.txt', 'w') as file:\n",
    "    data = file.write(response.content.decode())\n",
    "print(data)"
   ]
  }
 ],
 "metadata": {
  "kernelspec": {
   "display_name": "Python 3.10.6 64-bit",
   "language": "python",
   "name": "python3"
  },
  "language_info": {
   "codemirror_mode": {
    "name": "ipython",
    "version": 3
   },
   "file_extension": ".py",
   "mimetype": "text/x-python",
   "name": "python",
   "nbconvert_exporter": "python",
   "pygments_lexer": "ipython3",
   "version": "3.10.6"
  },
  "orig_nbformat": 4,
  "vscode": {
   "interpreter": {
    "hash": "916dbcbb3f70747c44a77c7bcd40155683ae19c65e1c03b4aa3499c5328201f1"
   }
  }
 },
 "nbformat": 4,
 "nbformat_minor": 2
}
