{
 "cells": [
  {
   "cell_type": "markdown",
   "metadata": {},
   "source": [
    "LIBRARY"
   ]
  },
  {
   "cell_type": "code",
   "execution_count": 96,
   "metadata": {},
   "outputs": [],
   "source": [
    "import requests\n",
    "import pandas as pd\n",
    "import requests\n",
    "import time\n",
    "import urllib\n",
    "import glob\n",
    "from bs4 import BeautifulSoup\n",
    "import json\n",
    "import csv\n",
    "from pandasql import sqldf\n",
    "from sqlalchemy import create_engine\n",
    "from functools import *\n",
    "import mysql.connector as msql\n",
    "from mysql.connector import Error\n",
    "import numpy as np\n",
    "import pymysql"
   ]
  },
  {
   "cell_type": "markdown",
   "metadata": {},
   "source": [
    "***INTERNAL FUNCTION***"
   ]
  },
  {
   "cell_type": "code",
   "execution_count": 97,
   "metadata": {},
   "outputs": [],
   "source": [
    " ### Find value of key in nested json \n",
    "def find_value_of_key(value, key):\n",
    "    val = None\n",
    "    if isinstance(value,dict):\n",
    "        if key in value:\n",
    "            return value[key]\n",
    "        for i in value.items():\n",
    "            val = find_value_of_key(i[1], key)\n",
    "            if val is not None:\n",
    "                return val\n",
    "    if isinstance(value,list):\n",
    "        for i in value:\n",
    "            val = find_value_of_key(i, key)\n",
    "    return val"
   ]
  },
  {
   "cell_type": "markdown",
   "metadata": {},
   "source": [
    "**CRAWLING CATEGORIES FROM ONE PAGE**"
   ]
  },
  {
   "cell_type": "code",
   "execution_count": 98,
   "metadata": {},
   "outputs": [
    {
     "data": {
      "text/plain": [
       "[{'url': '/dien-thoai-may-tinh-bang/c1789',\n",
       "  'name': 'Điện Thoại - Máy Tính Bảng',\n",
       "  'category_id': 1789},\n",
       " {'url': '/dien-thoai-smartphone/c1795',\n",
       "  'name': 'Điện thoại Smartphone',\n",
       "  'category_id': 1795}]"
      ]
     },
     "execution_count": 98,
     "metadata": {},
     "output_type": "execute_result"
    }
   ],
   "source": [
    "def get_product_catagories(url):\n",
    "    http_headers = {\n",
    "        'User-Agent':  'PostmanRUntime/7.29.2',\n",
    "    }\n",
    "    response = requests.get(url=url, headers=http_headers)\n",
    "    parser = BeautifulSoup(response.text, 'html.parser', )\n",
    "    product_box = parser.findAll('script')\n",
    "    product_catagories = []\n",
    "    for product in product_box:\n",
    "        try:\n",
    "            item = json.loads(str(product.contents[0]))\n",
    "        except:\n",
    "            item = {}\n",
    "        product_val = find_value_of_key(item,\"breadcrumbs\")\n",
    "        if product_val is not None:\n",
    "            [product_catagories.append(i) for i in product_val if i[\"category_id\"] != 0] \n",
    "    return product_catagories\n",
    "\n",
    "\n",
    "### Testing the Functional\n",
    "get_product_catagories('https://tiki.vn/dien-thoai-samsung-galaxy-z-flip-4-8gb-128gb-hang-chinh-hang-p194034217.html?itm_campaign=CTP_YPD_TKA_PLA_UNK_ALL_UNK_UNK_UNK_UNK_X.163088_Y.1744616_Z.3253348_CN.Product-Ads-B4Q4&itm_medium=CPC&itm_source=tiki-ads&spid=194034225')\n"
   ]
  },
  {
   "cell_type": "code",
   "execution_count": null,
   "metadata": {},
   "outputs": [],
   "source": []
  },
  {
   "cell_type": "markdown",
   "metadata": {},
   "source": [
    "#GET ID OF PRODUCT"
   ]
  },
  {
   "cell_type": "code",
   "execution_count": 99,
   "metadata": {},
   "outputs": [
    {
     "data": {
      "text/plain": [
       "12"
      ]
     },
     "execution_count": 99,
     "metadata": {},
     "output_type": "execute_result"
    }
   ],
   "source": [
    "def get_max_page_number(name:str, categories_id:int):\n",
    "    http_headers = {\n",
    "    'User-Agent':  'PostmanRUntime/7.29.2',\n",
    "    }\n",
    "    url = f'https://tiki.vn/{name}/c{categories_id}'\n",
    "    response = None\n",
    "    while(response is None):\n",
    "        response = requests.get(url=url, headers=http_headers)\n",
    "    parser = BeautifulSoup(response.text, 'html.parser', )\n",
    "\n",
    "    # find all \n",
    "    div_tag = parser.find(\"div\", {\"data-view-id\":\"product_list_pagination_container\"})   \n",
    "    ul_tag = div_tag.find('ul')\n",
    "    li_tag = ul_tag.findAll('li')\n",
    "\n",
    "    def find_max_tag(a,b):\n",
    "        if isinstance(a,int):\n",
    "            a_num = a\n",
    "        else:\n",
    "            a_tag = a.find('a')\n",
    "            a_num = a_tag.get('data-view-label') if a_tag.get('data-view-label') is not None else 0\n",
    "        b = b.find('a')\n",
    "        b_num = b.get('data-view-label') if b.get('data-view-label') is not None else 0\n",
    "        return max(int(a_num), int(b_num))\n",
    "    \n",
    "    return reduce(find_max_tag,li_tag)\n",
    "\n",
    "### Testing the Functional\n",
    "get_max_page_number(\"Điện thoại Smartphone\", 1795)"
   ]
  },
  {
   "cell_type": "markdown",
   "metadata": {},
   "source": [
    "** CRAWLING ALL ID FROM CATEGORIES **"
   ]
  },
  {
   "cell_type": "code",
   "execution_count": 100,
   "metadata": {},
   "outputs": [
    {
     "data": {
      "text/plain": [
       "{57809866,\n",
       " 81027831,\n",
       " 101615454,\n",
       " 102077313,\n",
       " 114092342,\n",
       " 114766715,\n",
       " 120295859,\n",
       " 128865871,\n",
       " 135332196,\n",
       " 142545270,\n",
       " 155536275,\n",
       " 160801751,\n",
       " 164937168,\n",
       " 164960337,\n",
       " 168282061,\n",
       " 168304536,\n",
       " 170497385,\n",
       " 170580388,\n",
       " 170581659,\n",
       " 172309326,\n",
       " 175845367,\n",
       " 175967811,\n",
       " 177343384,\n",
       " 177746939,\n",
       " 184036446,\n",
       " 184051220,\n",
       " 184059211,\n",
       " 187266104,\n",
       " 189658085,\n",
       " 194034217,\n",
       " 194037967,\n",
       " 197214015,\n",
       " 197214029,\n",
       " 197216279,\n",
       " 197216291,\n",
       " 197553025,\n",
       " 201548628,\n",
       " 203763209,\n",
       " 203764665,\n",
       " 206084979}"
      ]
     },
     "execution_count": 100,
     "metadata": {},
     "output_type": "execute_result"
    }
   ],
   "source": [
    "def crawling_product_id(name:str, categories_id:int, page_number:int):\n",
    "    http_headers = {\n",
    "        'User-Agent':  'PostmanRUntime/7.29.2',\n",
    "    }\n",
    "    product_list = set()\n",
    "    for i in range(page_number):\n",
    "        url =f'https://tiki.vn/{name}/c{categories_id}?page{i}'\n",
    "        response = None\n",
    "        while(response is None):\n",
    "            response = requests.get(url=url, headers=http_headers)\n",
    "        parser = BeautifulSoup(response.text, 'html.parser')\n",
    "    \n",
    "        # find all \n",
    "        product_box = parser.findAll('a')\n",
    "        product_box = [[]] + list(product_box)\n",
    "        res = set(reduce(get_product_id,product_box))\n",
    "        product_list.update(res)\n",
    "    return product_list\n",
    "\n",
    " \n",
    "def get_product_id(pre_val,product):\n",
    "    data = product.get(\"data-view-content\")\n",
    "    if data is not None:\n",
    "        item = json.loads(data)\n",
    "        id = item['click_data'].get('id')\n",
    "        if id is not None:\n",
    "            pre_val.append(id)\n",
    "    return pre_val\n",
    "\n",
    "### Testing the Functional\n",
    "crawling_product_id(\"Điện thoại Smartphone\", 1795,12)"
   ]
  },
  {
   "cell_type": "markdown",
   "metadata": {},
   "source": [
    "**CALL API TO GET PRODUCT INFORMATION, CATEGORIES**"
   ]
  },
  {
   "cell_type": "code",
   "execution_count": 101,
   "metadata": {},
   "outputs": [],
   "source": [
    "def get_data(product_id:int):\n",
    "    http_headers = {\n",
    "    'User-Agent':  'PostmanRUntime/7.29.2',\n",
    "    }\n",
    "    url = f'https://tiki.vn/api/v2/products/{product_id}'\n",
    "    response = requests.get(url, headers = http_headers)\n",
    "    result = response.json()\n",
    "    categories = result.get('breadcrumbs')\n",
    "    return response.json(), categories\n",
    "    \n",
    "data, categories = get_data(177746939)\n"
   ]
  },
  {
   "cell_type": "markdown",
   "metadata": {},
   "source": [
    "**DUMP DATA TO FILE AND EXTRACT CATEGORIES**"
   ]
  },
  {
   "cell_type": "code",
   "execution_count": 102,
   "metadata": {},
   "outputs": [],
   "source": [
    "### DATA FEILD \n",
    "f_brand = ['id','name','slug'] ##### brand\n",
    "f_brand_crawl = [{'brand':f_brand}]\n",
    "f_seller = ['id','name','store_id','is_best_store'] ##### current_seller, other_seller\n",
    "f_seller_crawl = [{'current_seller': f_seller},{'other_seller': f_seller}]\n",
    "f_product = ['id','name', 'short_url', 'short_description', 'price', 'list_price', 'original_price', 'discount', 'discount_rate',\n",
    "            'rating_average', 'inventory_status', 'inventory_type', 'is_fresh', 'seller','is_gift_card','data_version',\n",
    "            'brand', 'current_seller','other_sellers','inventory','breadcrumbs','amplitude']\n",
    "f_categories = ['url', 'name', 'category_id']"
   ]
  },
  {
   "cell_type": "code",
   "execution_count": 103,
   "metadata": {},
   "outputs": [],
   "source": [
    "#### DUMP HEADER TO FILE\n",
    "def convert_product_feild(feild):\n",
    "    res = []\n",
    "    for x in feild:\n",
    "        if isinstance(x,dict):\n",
    "            for k,v in x.items():\n",
    "                mini_res = [k +'_'+ i for i in v]\n",
    "            res = res  + mini_res\n",
    "        else:\n",
    "            res.append(x)\n",
    "    return res\n",
    "\n",
    "product_header = convert_product_feild(f_product)\n",
    "with open('Data/product.csv', 'w') as f:\n",
    "    writing_data= csv.writer(f, delimiter=',')\n",
    "    writing_data.writerow(product_header)\n",
    "\n",
    "with open('Data/categories.csv', 'w') as f:\n",
    "    writing_data= csv.writer(f, delimiter=',')\n",
    "    writing_data.writerow(f_categories)\n",
    "\n",
    "with open('Data/sellers.csv', 'w') as f:\n",
    "    writing_data= csv.writer(f, delimiter=',')\n",
    "    writing_data.writerow(f_seller)"
   ]
  },
  {
   "cell_type": "code",
   "execution_count": 104,
   "metadata": {},
   "outputs": [
    {
     "data": {
      "text/plain": [
       "{'id': 192455760,\n",
       " 'name': 'Máy tính Khoa Học Casio FX-570VN PLUS - 2 (TL)',\n",
       " 'short_url': 'https://tiki.vn/product-p192455760.html?spid=192455761',\n",
       " 'short_description': 'Thông số kỹ thuậtKích thước: Màn hình hiển thị: Trọng lượng sản phẩm: Bảo hành: Thương hiệu: Sản xuất tại: ,\\xa0,\\xa0Hình thức sử dụng: \\xa0\\xa0Đánh giá máy tính bỏ túi Casio FX-570VN Plus - Dòn...',\n",
       " 'price': 546500,\n",
       " 'list_price': 627000,\n",
       " 'original_price': 627000,\n",
       " 'discount': 80500,\n",
       " 'discount_rate': 13,\n",
       " 'rating_average': 5,\n",
       " 'inventory_status': 'available',\n",
       " 'inventory_type': 'backorder',\n",
       " 'is_fresh': False,\n",
       " 'seller': None,\n",
       " 'is_gift_card': False,\n",
       " 'data_version': 3300,\n",
       " 'brand': {'id': 26150, 'name': 'Casio', 'slug': 'casio'},\n",
       " 'current_seller': {'id': 204329,\n",
       "  'sku': '2769719700908',\n",
       "  'name': 'Nhà Sách Tú Anh',\n",
       "  'link': 'https://tiki.vn/cua-hang/nha-sach-tu-anh',\n",
       "  'logo': 'c1/bd/2c/768bc3bc6186cef1ae341d6f32d0a79c.jpg',\n",
       "  'price': 546500,\n",
       "  'product_id': '192455761',\n",
       "  'store_id': 191362,\n",
       "  'is_best_store': False,\n",
       "  'is_offline_installment_supported': None},\n",
       " 'other_sellers': [{'id': 6034,\n",
       "   'name': 'TÍN NGHĨA',\n",
       "   'link': 'https://tiki.vn/cua-hang/tin-nghia',\n",
       "   'logo': 'https://vcdn.tikicdn.com/ts/seller/41/1e/2e/b859eb3d372defb5977e2702a7d824af.jpg',\n",
       "   'price': 549000,\n",
       "   'product_id': '193600440',\n",
       "   'store_id': 5903}],\n",
       " 'inventory': {'product_virtual_type': None, 'fulfillment_type': 'dropship'},\n",
       " 'breadcrumbs': [{'url': '/nha-sach-tiki/c8322',\n",
       "   'name': 'Nhà Sách Tiki',\n",
       "   'category_id': 8322},\n",
       "  {'url': '/van-phong-pham-qua-luu-niem/c7741',\n",
       "   'name': 'Văn phòng phẩm',\n",
       "   'category_id': 7741},\n",
       "  {'url': '/may-tinh-dien-tu/c2452',\n",
       "   'name': 'Máy Tính Điện Tử',\n",
       "   'category_id': 2452},\n",
       "  {'url': '/may-tinh-khoa-hoc/c1922',\n",
       "   'name': 'Máy Tính Khoa Học',\n",
       "   'category_id': 1922},\n",
       "  {'url': 'https://tiki.vn/may-tinh-khoa-hoc-casio-fx-570vn-plus-2-tl-p192455760.html',\n",
       "   'name': 'Máy tính Khoa Học Casio FX-570VN PLUS - 2 (TL)',\n",
       "   'category_id': 0}],\n",
       " 'amplitude': {'has_freeship_plus_benefit': False,\n",
       "  'partner_rewards_amount': 0,\n",
       "  'tiki_rewards_amount': 2.7325,\n",
       "  'total_rewards_amount': 2.7325}}"
      ]
     },
     "execution_count": 104,
     "metadata": {},
     "output_type": "execute_result"
    }
   ],
   "source": [
    "#### GET DATA AND DUMP TO FEILD\n",
    "def extract_data_to_feild(data, feild, res = {}):\n",
    "    for i in feild:\n",
    "            res[i] = extract_data(data,i)\n",
    "    return res\n",
    "    \n",
    "def extract_data(data,key):\n",
    "    value = data.get(key)\n",
    "    if value is None:\n",
    "        value = find_value_of_key(data,key)\n",
    "    return value\n",
    "####TESTING FUNCTIONS\n",
    "data, categories = get_data(192455760)\n",
    "extract_data_to_feild(data, f_product)"
   ]
  },
  {
   "cell_type": "code",
   "execution_count": 123,
   "metadata": {},
   "outputs": [
    {
     "data": {
      "text/html": [
       "<div>\n",
       "<style scoped>\n",
       "    .dataframe tbody tr th:only-of-type {\n",
       "        vertical-align: middle;\n",
       "    }\n",
       "\n",
       "    .dataframe tbody tr th {\n",
       "        vertical-align: top;\n",
       "    }\n",
       "\n",
       "    .dataframe thead th {\n",
       "        text-align: right;\n",
       "    }\n",
       "</style>\n",
       "<table border=\"1\" class=\"dataframe\">\n",
       "  <thead>\n",
       "    <tr style=\"text-align: right;\">\n",
       "      <th></th>\n",
       "      <th>id</th>\n",
       "      <th>name</th>\n",
       "      <th>short_url</th>\n",
       "      <th>short_description</th>\n",
       "      <th>price</th>\n",
       "      <th>list_price</th>\n",
       "      <th>original_price</th>\n",
       "      <th>discount</th>\n",
       "      <th>discount_rate</th>\n",
       "      <th>rating_average</th>\n",
       "      <th>...</th>\n",
       "      <th>brand</th>\n",
       "      <th>current_seller</th>\n",
       "      <th>other_sellers</th>\n",
       "      <th>categories</th>\n",
       "      <th>product_virtual_type</th>\n",
       "      <th>fulfillment_type</th>\n",
       "      <th>has_freeship_plus_benefit</th>\n",
       "      <th>partner_rewards_amount</th>\n",
       "      <th>tiki_rewards_amount</th>\n",
       "      <th>total_rewards_amount</th>\n",
       "    </tr>\n",
       "  </thead>\n",
       "  <tbody>\n",
       "    <tr>\n",
       "      <th>0</th>\n",
       "      <td>123345348</td>\n",
       "      <td>Apple iPhone 12</td>\n",
       "      <td>https://tiki.vn/product-p123345348.html</td>\n",
       "      <td>Hàng chính hãng mã VN/A, Mới 100%, Nguyên Seal...</td>\n",
       "      <td>15990000</td>\n",
       "      <td>15990000</td>\n",
       "      <td>0</td>\n",
       "      <td>0</td>\n",
       "      <td>0</td>\n",
       "      <td>5</td>\n",
       "      <td>...</td>\n",
       "      <td>17827</td>\n",
       "      <td>0</td>\n",
       "      <td>[]</td>\n",
       "      <td>[{'url': '/dien-thoai-may-tinh-bang/c1789', 'n...</td>\n",
       "      <td>None</td>\n",
       "      <td>tiki_delivery</td>\n",
       "      <td>True</td>\n",
       "      <td>0</td>\n",
       "      <td>35.8</td>\n",
       "      <td>35.8</td>\n",
       "    </tr>\n",
       "  </tbody>\n",
       "</table>\n",
       "<p>1 rows × 26 columns</p>\n",
       "</div>"
      ],
      "text/plain": [
       "          id             name                                short_url  \\\n",
       "0  123345348  Apple iPhone 12  https://tiki.vn/product-p123345348.html   \n",
       "\n",
       "                                   short_description     price  list_price  \\\n",
       "0  Hàng chính hãng mã VN/A, Mới 100%, Nguyên Seal...  15990000    15990000   \n",
       "\n",
       "   original_price  discount  discount_rate  rating_average  ...  brand  \\\n",
       "0               0         0              0               5  ...  17827   \n",
       "\n",
       "  current_seller  other_sellers  \\\n",
       "0              0             []   \n",
       "\n",
       "                                          categories  product_virtual_type  \\\n",
       "0  [{'url': '/dien-thoai-may-tinh-bang/c1789', 'n...                  None   \n",
       "\n",
       "   fulfillment_type  has_freeship_plus_benefit  partner_rewards_amount  \\\n",
       "0     tiki_delivery                       True                       0   \n",
       "\n",
       "  tiki_rewards_amount total_rewards_amount  \n",
       "0                35.8                 35.8  \n",
       "\n",
       "[1 rows x 26 columns]"
      ]
     },
     "execution_count": 123,
     "metadata": {},
     "output_type": "execute_result"
    }
   ],
   "source": [
    "#### pandas extract data\n",
    "def extract_product_data(data):\n",
    "    c_seller_id = 0\n",
    "    if data['current_seller'] is not None:\n",
    "        c_seller_id = data['current_seller']['id']\n",
    "    o_seller_id = None\n",
    "    if data['other_sellers'] is not None:\n",
    "        o_seller_id = [item['id'] for item in data['other_sellers']]\n",
    "    brand_id = data['brand']['id']\n",
    "    inventory_st  = data['inventory']\n",
    "    amplitude = data['amplitude']\n",
    "\n",
    "    del data['amplitude']\n",
    "    del data['inventory']\n",
    "\n",
    "    data['other_sellers'] = o_seller_id\n",
    "    data['current_seller'] = c_seller_id\n",
    "    data['brand'] = brand_id\n",
    "    data[\"is_fresh\"] = 1 if data[\"is_fresh\"] == True else 0\n",
    "    data[\"is_gift_card\"] = 1 if data[\"is_gift_card\"] == True else 0\n",
    "\n",
    "    data['categories'] = data['breadcrumbs']\n",
    "    del data['breadcrumbs']\n",
    "    if amplitude is not None:\n",
    "        data.update(amplitude)\n",
    "    if inventory_st is not None:\n",
    "        data.update(inventory_st)\n",
    "    \n",
    "    df = pd.json_normalize(data)\n",
    "    return df\n",
    "\n",
    "data, categories = get_data(123345348)\n",
    "f_data = extract_data_to_feild(data, f_product)\n",
    "df = extract_product_data(f_data)\n",
    "pd.DataFrame(df)"
   ]
  },
  {
   "cell_type": "code",
   "execution_count": 106,
   "metadata": {},
   "outputs": [
    {
     "data": {
      "text/plain": [
       "['id',\n",
       " 'name',\n",
       " 'short_url',\n",
       " 'short_description',\n",
       " 'price',\n",
       " 'list_price',\n",
       " 'original_price',\n",
       " 'discount',\n",
       " 'discount_rate',\n",
       " 'rating_average',\n",
       " 'inventory_status',\n",
       " 'inventory_type',\n",
       " 'is_fresh',\n",
       " 'seller',\n",
       " 'is_gift_card',\n",
       " 'data_version',\n",
       " 'brand',\n",
       " 'current_seller',\n",
       " 'other_sellers',\n",
       " 'categories',\n",
       " 'product_virtual_type',\n",
       " 'fulfillment_type',\n",
       " 'has_freeship_plus_benefit',\n",
       " 'partner_rewards_amount',\n",
       " 'tiki_rewards_amount',\n",
       " 'total_rewards_amount']"
      ]
     },
     "execution_count": 106,
     "metadata": {},
     "output_type": "execute_result"
    }
   ],
   "source": [
    "data, categories = get_data(192455760)\n",
    "f_data = extract_data_to_feild(data, f_product)\n",
    "df = extract_product_data(f_data)\n",
    "list(df.columns.values)"
   ]
  },
  {
   "cell_type": "code",
   "execution_count": 107,
   "metadata": {},
   "outputs": [],
   "source": [
    "####DUMP DATA TO FILE\n",
    "def dump_to_file(data,filename:str):\n",
    "    with open(f'Data/{filename}.csv', 'a') as f:\n",
    "        writing_data= csv.writer(f, delimiter=',')\n",
    "        writing_data.writerow(data)\n",
    "\n",
    "#### TESTING FUNC"
   ]
  },
  {
   "cell_type": "markdown",
   "metadata": {},
   "source": [
    "***DUMP DATA TO MYSQL***"
   ]
  },
  {
   "cell_type": "code",
   "execution_count": 108,
   "metadata": {},
   "outputs": [],
   "source": [
    "###create engine\n",
    "username = 'minhdung'\n",
    "password = '020920'\n",
    "host = 'localhost'\n",
    "\n",
    "DB_NAME = 'Tiki_Product'\n",
    "\n",
    "engine = create_engine(f\"mysql+pymysql://{username}:{password}@{host}\")\n",
    "\n",
    "with engine.connect() as conn:\n",
    "    try:\n",
    "        # Do not substitute user-supplied database names here.\n",
    "        conn.execute(f\"CREATE DATABASE IF NOT EXISTS {DB_NAME}\")\n",
    "    except Error as e:\n",
    "        print(\"Error while connecting to MySQL\", e)"
   ]
  },
  {
   "cell_type": "markdown",
   "metadata": {},
   "source": [
    "***CREATE TABLE IF NOT EXISTS***"
   ]
  },
  {
   "cell_type": "code",
   "execution_count": 109,
   "metadata": {},
   "outputs": [],
   "source": [
    "def create_table(database:str, table:str, datatype:str):\n",
    "    try:\n",
    "        username = 'minhdung'\n",
    "        password = '020920'\n",
    "        host = 'localhost'\n",
    "        engine = create_engine(f\"mysql+pymysql://{username}:{password}@{host}/{database}\")\n",
    "        with engine.connect() as conn:\n",
    "            conn.execute(f'DROP TABLE IF EXISTS {table};')\n",
    "            conn.execute(f'CREATE TABLE {table}({datatype})')\n",
    "            print('Created table....')\n",
    "    except Error as e:\n",
    "            print(\"Error while connecting to MySQL\", e)"
   ]
  },
  {
   "cell_type": "markdown",
   "metadata": {},
   "source": [
    "***create categories table***"
   ]
  },
  {
   "cell_type": "code",
   "execution_count": 110,
   "metadata": {},
   "outputs": [
    {
     "name": "stdout",
     "output_type": "stream",
     "text": [
      "Created table....\n",
      "Table is created....\n"
     ]
    }
   ],
   "source": [
    "table = \"categories\"\n",
    "datatype = '''url varchar(255),\n",
    "            name varchar(255),\n",
    "            category_id INT(255),\n",
    "            PRIMARY KEY (category_id)'''\n",
    "create_table(\"Tiki_Product\",table=table,datatype=datatype)\n",
    "print(\"Table is created....\")"
   ]
  },
  {
   "cell_type": "markdown",
   "metadata": {},
   "source": [
    "***create seller table***"
   ]
  },
  {
   "cell_type": "code",
   "execution_count": 111,
   "metadata": {},
   "outputs": [
    {
     "name": "stdout",
     "output_type": "stream",
     "text": [
      "Created table....\n",
      "Table is created....\n"
     ]
    }
   ],
   "source": [
    "table = \"seller\"\n",
    "datatype = '''id INT(255),\n",
    "            name varchar(255),\n",
    "            store_id INT(255),\n",
    "            is_best_store BOOLEAN,\n",
    "            PRIMARY KEY (id)'''\n",
    "create_table(\"Tiki_Product\",table=table,datatype=datatype)\n",
    "print(\"Table is created....\")"
   ]
  },
  {
   "cell_type": "markdown",
   "metadata": {},
   "source": [
    "***create product table***"
   ]
  },
  {
   "cell_type": "code",
   "execution_count": 121,
   "metadata": {},
   "outputs": [
    {
     "name": "stdout",
     "output_type": "stream",
     "text": [
      "Created table....\n",
      "Table is created....\n",
      "[('tinyint',)]\n"
     ]
    }
   ],
   "source": [
    "table = \"product\"\n",
    "datatype = '''id INT(255),\n",
    "            name VARCHAR(255),\n",
    "            short_url VARCHAR(255),\n",
    "            short_description VARCHAR(255),\n",
    "            price BIGINT(255),\n",
    "            list_price BIGINT(255),\n",
    "            original_price BIGINT(255),\n",
    "            discount INT(255),\n",
    "            discount_rate FLOAT(255, 2),\n",
    "            rating_average FLOAT(255,2),\n",
    "            inventory_status VARCHAR(255),\n",
    "            inventory_type VARCHAR(255),\n",
    "            is_fresh tinyint(1),\n",
    "            seller VARCHAR(255) ,\n",
    "            is_gift_card tinyint(1),\n",
    "            data_version INT(255),\n",
    "            brand INT(255),\n",
    "            current_seller INT(225) default NULL,\n",
    "            other_sellers VARCHAR(255),\n",
    "            categories LONGTEXT,\n",
    "            has_freeship_plus_benefit VARCHAR(255),\n",
    "            partner_rewards_amount FLOAT(255,2),\n",
    "            tiki_rewards_amount FLOAT(255,2),\n",
    "            total_rewards_amount FLOAT(255,2),\n",
    "            product_virtual_type VARCHAR(255),\n",
    "            fulfillment_type VARCHAR(255),\n",
    "            PRIMARY KEY (id)'''\n",
    "create_table(\"Tiki_Product\",\"product\",datatype)\n",
    "print(\"Table is created....\")\n",
    "username = 'minhdung'\n",
    "password = '020920'\n",
    "host = 'localhost'\n",
    "engine = create_engine(f\"mysql+pymysql://{username}:{password}@{host}/Tiki_Product\")\n",
    "with engine.connect() as conn:\n",
    "    A =conn.execute(f'SELECT DATA_TYPE FROM INFORMATION_SCHEMA.COLUMNS WHERE TABLE_SCHEMA = \\'Tiki_Product\\' AND table_name = \\'{table}\\' AND COLUMN_NAME = \\'is_fresh\\' ;')\n",
    "    print(A.fetchall())"
   ]
  },
  {
   "cell_type": "code",
   "execution_count": 113,
   "metadata": {},
   "outputs": [
    {
     "data": {
      "text/html": [
       "<div>\n",
       "<style scoped>\n",
       "    .dataframe tbody tr th:only-of-type {\n",
       "        vertical-align: middle;\n",
       "    }\n",
       "\n",
       "    .dataframe tbody tr th {\n",
       "        vertical-align: top;\n",
       "    }\n",
       "\n",
       "    .dataframe thead th {\n",
       "        text-align: right;\n",
       "    }\n",
       "</style>\n",
       "<table border=\"1\" class=\"dataframe\">\n",
       "  <thead>\n",
       "    <tr style=\"text-align: right;\">\n",
       "      <th></th>\n",
       "      <th>id</th>\n",
       "      <th>name</th>\n",
       "      <th>short_url</th>\n",
       "      <th>short_description</th>\n",
       "      <th>price</th>\n",
       "      <th>list_price</th>\n",
       "      <th>original_price</th>\n",
       "      <th>discount</th>\n",
       "      <th>discount_rate</th>\n",
       "      <th>rating_average</th>\n",
       "      <th>...</th>\n",
       "      <th>is_fresh</th>\n",
       "      <th>seller</th>\n",
       "      <th>is_gift_card</th>\n",
       "      <th>data_version</th>\n",
       "      <th>brand</th>\n",
       "      <th>current_seller</th>\n",
       "      <th>other_sellers</th>\n",
       "      <th>inventory</th>\n",
       "      <th>breadcrumbs</th>\n",
       "      <th>amplitude</th>\n",
       "    </tr>\n",
       "  </thead>\n",
       "  <tbody>\n",
       "  </tbody>\n",
       "</table>\n",
       "<p>0 rows × 22 columns</p>\n",
       "</div>"
      ],
      "text/plain": [
       "Empty DataFrame\n",
       "Columns: [id, name, short_url, short_description, price, list_price, original_price, discount, discount_rate, rating_average, inventory_status, inventory_type, is_fresh, seller, is_gift_card, data_version, brand, current_seller, other_sellers, inventory, breadcrumbs, amplitude]\n",
       "Index: []\n",
       "\n",
       "[0 rows x 22 columns]"
      ]
     },
     "execution_count": 113,
     "metadata": {},
     "output_type": "execute_result"
    }
   ],
   "source": [
    "def read_csv_to_dataframe(filename):\n",
    "    df = pd.read_csv(f'Data/{filename}.csv', index_col=False, delimiter = ',')\n",
    "    df = df.replace({np.NaN:None})\n",
    "    return df\n",
    "df = read_csv_to_dataframe('product')\n",
    "df"
   ]
  },
  {
   "cell_type": "markdown",
   "metadata": {},
   "source": [
    "***DUMP DATA TO SQL***"
   ]
  },
  {
   "cell_type": "code",
   "execution_count": 144,
   "metadata": {},
   "outputs": [],
   "source": [
    "def import_data_mysql(Dataframe:pd.DataFrame, Table, database):\n",
    "    try:\n",
    "        username = 'minhdung'\n",
    "        password = '020920'\n",
    "        host = 'localhost'\n",
    "        engine = create_engine(f\"mysql+pymysql://{username}:{password}@{host}/{database}\")\n",
    "        Dataframe[\"is_fresh\"] = Dataframe[\"is_fresh\"].astype(int)\n",
    "        Dataframe[\"is_gift_card\"] = Dataframe[\"is_gift_card\"].astype(int)\n",
    "        Dataframe.to_sql('temporary_table', con = engine.connect(), if_exists= 'replace',index = False)\n",
    "        with engine.begin() as cnx:\n",
    "            insert_sql = 'INSERT IGNORE INTO product (SELECT * FROM temporary_table)'\n",
    "            cnx.execute(insert_sql)                  \n",
    "    except Error as e:\n",
    "            print(\"Error while import data to MySQL\", e)\n"
   ]
  },
  {
   "cell_type": "code",
   "execution_count": 146,
   "metadata": {},
   "outputs": [
    {
     "name": "stderr",
     "output_type": "stream",
     "text": [
      "/tmp/ipykernel_17210/3831459741.py:15: FutureWarning: The frame.append method is deprecated and will be removed from pandas in a future version. Use pandas.concat instead.\n",
      "  df = df.append(df1,ignore_index=True)\n",
      "/tmp/ipykernel_17210/3831459741.py:15: FutureWarning: The frame.append method is deprecated and will be removed from pandas in a future version. Use pandas.concat instead.\n",
      "  df = df.append(df1,ignore_index=True)\n",
      "/tmp/ipykernel_17210/3831459741.py:15: FutureWarning: The frame.append method is deprecated and will be removed from pandas in a future version. Use pandas.concat instead.\n",
      "  df = df.append(df1,ignore_index=True)\n",
      "/tmp/ipykernel_17210/3831459741.py:15: FutureWarning: The frame.append method is deprecated and will be removed from pandas in a future version. Use pandas.concat instead.\n",
      "  df = df.append(df1,ignore_index=True)\n",
      "/tmp/ipykernel_17210/3831459741.py:15: FutureWarning: The frame.append method is deprecated and will be removed from pandas in a future version. Use pandas.concat instead.\n",
      "  df = df.append(df1,ignore_index=True)\n"
     ]
    }
   ],
   "source": [
    "#### Testing Product Mysql\n",
    "p_id = [101615454,\n",
    "        114092342,\n",
    "        114766715,\n",
    "        120295859,\n",
    "        123345348]\n",
    "def create_dataframe(id):\n",
    "        data, categories = get_data(id)\n",
    "        f_data = extract_data_to_feild(data, f_product)\n",
    "        df = extract_product_data(f_data)\n",
    "        return df\n",
    "df = create_dataframe(57809866)\n",
    "for i in p_id:\n",
    "        df1 = create_dataframe(i)\n",
    "        df = df.append(df1,ignore_index=True)\n",
    "df.drop_duplicates(subset=['id'])\n",
    "df = df.applymap(str)\n",
    "import_data_mysql(df, 'product', 'Tiki_Product')\n"
   ]
  }
 ],
 "metadata": {
  "kernelspec": {
   "display_name": "Python 3 (ipykernel)",
   "language": "python",
   "name": "python3"
  },
  "language_info": {
   "codemirror_mode": {
    "name": "ipython",
    "version": 3
   },
   "file_extension": ".py",
   "mimetype": "text/x-python",
   "name": "python",
   "nbconvert_exporter": "python",
   "pygments_lexer": "ipython3",
   "version": "3.10.6"
  },
  "vscode": {
   "interpreter": {
    "hash": "916dbcbb3f70747c44a77c7bcd40155683ae19c65e1c03b4aa3499c5328201f1"
   }
  }
 },
 "nbformat": 4,
 "nbformat_minor": 2
}
