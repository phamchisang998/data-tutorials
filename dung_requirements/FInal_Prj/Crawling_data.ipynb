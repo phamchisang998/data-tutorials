{
 "cells": [
  {
   "cell_type": "markdown",
   "metadata": {},
   "source": [
    "LIBRARY"
   ]
  },
  {
   "cell_type": "code",
   "execution_count": null,
   "metadata": {},
   "outputs": [],
   "source": [
    "import requests\n",
    "import pandas as pd\n",
    "import requests\n",
    "import time\n",
    "import urllib\n",
    "import glob\n",
    "from bs4 import BeautifulSoup\n",
    "import json\n",
    "import csv\n",
    "from pandasql import sqldf\n",
    "from sqlalchemy import create_engine\n",
    "from functools import *\n",
    "import mysql.connector as msql\n",
    "from mysql.connector import Error\n",
    "import numpy as np\n",
    "import pymysql\n",
    "import time\n",
    "import threading\n",
    "import queue"
   ]
  },
  {
   "cell_type": "markdown",
   "metadata": {},
   "source": [
    "***INTERNAL FUNCTION***"
   ]
  },
  {
   "cell_type": "code",
   "execution_count": null,
   "metadata": {},
   "outputs": [],
   "source": [
    " ### Find value of key in nested json \n",
    "def find_value_of_key(value, key):\n",
    "    val = None\n",
    "    if isinstance(value,dict):\n",
    "        if key in value:\n",
    "            return value[key]\n",
    "        for i in value.items():\n",
    "            val = find_value_of_key(i[1], key)\n",
    "            if val is not None:\n",
    "                return val\n",
    "    if isinstance(value,list):\n",
    "        for i in value:\n",
    "            val = find_value_of_key(i, key)\n",
    "    return val"
   ]
  },
  {
   "cell_type": "markdown",
   "metadata": {},
   "source": [
    "**CRAWLING CATEGORIES FROM ONE PAGE**"
   ]
  },
  {
   "cell_type": "code",
   "execution_count": null,
   "metadata": {},
   "outputs": [],
   "source": [
    "def get_product_catagories(url):\n",
    "    http_headers = {\n",
    "        'User-Agent':  'PostmanRUntime/7.29.2',\n",
    "    }\n",
    "    response = requests.get(url=url, headers=http_headers)\n",
    "    parser = BeautifulSoup(response.text, 'html.parser', )\n",
    "    product_box = parser.findAll('script')\n",
    "    product_catagories = []\n",
    "    for product in product_box:\n",
    "        try:\n",
    "            item = json.loads(str(product.contents[0]))\n",
    "        except:\n",
    "            item = {}\n",
    "        product_val = find_value_of_key(item,\"breadcrumbs\")\n",
    "        if product_val is not None:\n",
    "            [product_catagories.append(i) for i in product_val if i[\"category_id\"] != 0] \n",
    "    return product_catagories\n",
    "\n",
    "\n",
    "### Testing the Functional\n",
    "get_product_catagories('https://tiki.vn/dien-thoai-samsung-galaxy-z-flip-4-8gb-128gb-hang-chinh-hang-p194034217.html?itm_campaign=CTP_YPD_TKA_PLA_UNK_ALL_UNK_UNK_UNK_UNK_X.163088_Y.1744616_Z.3253348_CN.Product-Ads-B4Q4&itm_medium=CPC&itm_source=tiki-ads&spid=194034225')\n"
   ]
  },
  {
   "cell_type": "code",
   "execution_count": null,
   "metadata": {},
   "outputs": [],
   "source": []
  },
  {
   "cell_type": "markdown",
   "metadata": {},
   "source": [
    "#GET ID OF PRODUCT"
   ]
  },
  {
   "cell_type": "code",
   "execution_count": null,
   "metadata": {},
   "outputs": [],
   "source": [
    "def get_max_page_number(name:str, categories_id:int):\n",
    "    http_headers = {\n",
    "    'User-Agent':  'PostmanRUntime/7.29.2',\n",
    "    }\n",
    "    url = f'https://tiki.vn/{name}/c{categories_id}'\n",
    "    def find_max_tag(a,b):\n",
    "        if isinstance(a,int):\n",
    "            a_num = a\n",
    "        else:\n",
    "            a_tag = a.find('a')\n",
    "            a_num = a_tag.get('data-view-label') if a_tag.get('data-view-label') is not None else 0\n",
    "        b = b.find('a')\n",
    "        b_num = b.get('data-view-label') if b.get('data-view-label') is not None else 0\n",
    "        return max(int(a_num), int(b_num))\n",
    "    \n",
    "    div_tag = None\n",
    "    while(div_tag is None):\n",
    "        response = requests.get(url=url, headers=http_headers)\n",
    "        parser = BeautifulSoup(response.text, 'html.parser', )\n",
    "        div_tag = parser.find(\"div\", {\"data-view-id\":\"product_list_pagination_container\"})   \n",
    "    # find all \n",
    "    ul_tag = div_tag.find('ul')\n",
    "    li_tag = ul_tag.findAll('li')\n",
    "    return reduce(find_max_tag,li_tag)\n",
    "\n",
    "### Testing the Functional\n",
    "get_max_page_number(\"Điện thoại Smartphone\", 1795)"
   ]
  },
  {
   "cell_type": "markdown",
   "metadata": {},
   "source": [
    "** CRAWLING ALL ID FROM CATEGORIES **"
   ]
  },
  {
   "cell_type": "code",
   "execution_count": null,
   "metadata": {},
   "outputs": [],
   "source": [
    "def crawling_product_id(name:str, categories_id:int, page_number:int):\n",
    "    http_headers = {\n",
    "        'User-Agent':  'PostmanRUntime/7.29.2',\n",
    "    }\n",
    "    product_list = set()\n",
    "    for i in range(page_number):\n",
    "        url =f'https://tiki.vn/{name}/c{categories_id}?page{i}'\n",
    "        response = None\n",
    "        while(response is None):\n",
    "            response = requests.get(url=url, headers=http_headers)\n",
    "        parser = BeautifulSoup(response.text, 'html.parser')\n",
    "    \n",
    "        # find all \n",
    "        product_box = parser.findAll('a')\n",
    "        product_box = [[]] + list(product_box)\n",
    "        res = set(reduce(get_product_id,product_box))\n",
    "        product_list.update(res)\n",
    "    return list(product_list)\n",
    "\n",
    " \n",
    "def get_product_id(pre_val,product):\n",
    "    data = product.get(\"data-view-content\")\n",
    "    if data is not None:\n",
    "        item = json.loads(data)\n",
    "        id = item['click_data'].get('id')\n",
    "        if id is not None:\n",
    "            pre_val.append(id)\n",
    "    return pre_val\n",
    "\n",
    "### Testing the Functional\n",
    "crawling_product_id(\"Điện thoại Smartphone\", 1795,12)"
   ]
  },
  {
   "cell_type": "markdown",
   "metadata": {},
   "source": [
    "**CALL API TO GET PRODUCT INFORMATION, CATEGORIES**"
   ]
  },
  {
   "cell_type": "code",
   "execution_count": null,
   "metadata": {},
   "outputs": [],
   "source": [
    "def priget_data(product_id:int):\n",
    "    http_headers = {\n",
    "    'User-Agent':  'PostmanRUntime/7.29.2',\n",
    "    }\n",
    "    url = f'https://tiki.vn/api/v2/products/{product_id}'\n",
    "    response = requests.get(url, headers = http_headers)\n",
    "    result = response.json()\n",
    "    categories = result.get('breadcrumbs')\n",
    "    return response.json(), categories\n",
    "    \n",
    "data, categories = get_data(177746939)\n"
   ]
  },
  {
   "cell_type": "markdown",
   "metadata": {},
   "source": [
    "**DUMP DATA TO FILE AND EXTRACT CATEGORIES**"
   ]
  },
  {
   "cell_type": "code",
   "execution_count": null,
   "metadata": {},
   "outputs": [],
   "source": [
    "### DATA FEILD \n",
    "f_brand = ['id','name','slug'] ##### brand\n",
    "f_brand_crawl = [{'brand':f_brand}]\n",
    "f_seller = ['id','name','store_id','is_best_store'] ##### current_seller, other_seller\n",
    "f_seller_crawl = [{'current_seller': f_seller},{'other_seller': f_seller}]\n",
    "f_product = ['id','name', 'short_url', 'short_description', 'price', 'list_price', 'original_price', 'discount', 'discount_rate',\n",
    "            'rating_average', 'inventory_status', 'inventory_type', 'is_fresh', 'seller','is_gift_card','data_version',\n",
    "            'brand', 'current_seller','other_sellers','inventory','breadcrumbs','amplitude']\n",
    "f_categories = ['url', 'name', 'category_id']"
   ]
  },
  {
   "cell_type": "code",
   "execution_count": null,
   "metadata": {},
   "outputs": [],
   "source": [
    "#### DUMP HEADER TO FILE\n",
    "def convert_product_feild(feild):\n",
    "    res = []\n",
    "    for x in feild:\n",
    "        if isinstance(x,dict):\n",
    "            for k,v in x.items():\n",
    "                mini_res = [k +'_'+ i for i in v]\n",
    "            res = res  + mini_res\n",
    "        else:\n",
    "            res.append(x)\n",
    "    return res\n",
    "\n",
    "product_header = convert_product_feild(f_product)\n",
    "with open('Data/product.csv', 'w') as f:\n",
    "    writing_data= csv.writer(f, delimiter=',')\n",
    "    writing_data.writerow(product_header)\n",
    "\n",
    "with open('Data/categories.csv', 'w') as f:\n",
    "    writing_data= csv.writer(f, delimiter=',')\n",
    "    writing_data.writerow(f_categories)\n",
    "\n",
    "with open('Data/sellers.csv', 'w') as f:\n",
    "    writing_data= csv.writer(f, delimiter=',')\n",
    "    writing_data.writerow(f_seller)"
   ]
  },
  {
   "cell_type": "code",
   "execution_count": null,
   "metadata": {},
   "outputs": [],
   "source": [
    "#### GET DATA AND DUMP TO FEILD\n",
    "def extract_data_to_feild(data, feild, res = {}):\n",
    "    for i in feild:\n",
    "            res[i] = extract_data(data,i)\n",
    "    return res\n",
    "    \n",
    "def extract_data(data,key):\n",
    "    value = data.get(key)\n",
    "    if value is None:\n",
    "        value = find_value_of_key(data,key)\n",
    "    return value\n",
    "####TESTING FUNCTIONS\n",
    "data, categories = get_data(192455760)\n",
    "extract_data_to_feild(data, f_product)"
   ]
  },
  {
   "cell_type": "code",
   "execution_count": null,
   "metadata": {},
   "outputs": [],
   "source": [
    "#### pandas extract data\n",
    "def extract_product_data(data):\n",
    "    c_seller_id = 0\n",
    "    if data['current_seller'] is not None:\n",
    "        c_seller_id = data['current_seller']['id']\n",
    "    o_seller_id = None\n",
    "    if data['other_sellers'] is not None:\n",
    "        o_seller_id = [item['id'] for item in data['other_sellers']]\n",
    "    brand_id = data['brand']['id']\n",
    "    inventory_st  = data['inventory']\n",
    "    amplitude = data['amplitude']\n",
    "\n",
    "    del data['amplitude']\n",
    "    del data['inventory']\n",
    "\n",
    "    data['other_sellers'] = o_seller_id\n",
    "    data['current_seller'] = c_seller_id\n",
    "    data['brand'] = brand_id\n",
    "    data[\"is_fresh\"] = 1 if data[\"is_fresh\"] == True else 0\n",
    "    data[\"is_gift_card\"] = 1 if data[\"is_gift_card\"] == True else 0\n",
    "\n",
    "    data['categories'] = data['breadcrumbs']\n",
    "    del data['breadcrumbs']\n",
    "    if amplitude is not None:\n",
    "        data.update(amplitude)\n",
    "    if inventory_st is not None:\n",
    "        data.update(inventory_st)\n",
    "    \n",
    "    df = pd.json_normalize(data)\n",
    "    return df\n",
    "\n",
    "data, categories = get_data(123345348)\n",
    "f_data = extract_data_to_feild(data, f_product)\n",
    "df = extract_product_data(f_data)\n",
    "pd.DataFrame(df)"
   ]
  },
  {
   "cell_type": "code",
   "execution_count": null,
   "metadata": {},
   "outputs": [],
   "source": [
    "data, categories = get_data(192455760)\n",
    "f_data = extract_data_to_feild(data, f_product)\n",
    "df = extract_product_data(f_data)\n",
    "list(df.columns.values)"
   ]
  },
  {
   "cell_type": "code",
   "execution_count": null,
   "metadata": {},
   "outputs": [],
   "source": [
    "####DUMP DATA TO FILE\n",
    "def dump_to_file(data,filename:str):\n",
    "    with open(f'Data/{filename}.csv', 'a') as f:\n",
    "        writing_data= csv.writer(f, delimiter=',')\n",
    "        writing_data.writerow(data)\n",
    "\n",
    "#### TESTING FUNC"
   ]
  },
  {
   "cell_type": "markdown",
   "metadata": {},
   "source": [
    "***DUMP DATA TO MYSQL***"
   ]
  },
  {
   "cell_type": "code",
   "execution_count": null,
   "metadata": {},
   "outputs": [],
   "source": [
    "###create engine\n",
    "username = 'minhdung'\n",
    "password = '020920'\n",
    "host = 'localhost'\n",
    "\n",
    "DB_NAME = 'Tiki_Product'\n",
    "\n",
    "engine = create_engine(f\"mysql+pymysql://{username}:{password}@{host}\")\n",
    "\n",
    "with engine.connect() as conn:\n",
    "    try:\n",
    "        # Do not substitute user-supplied database names here.\n",
    "        conn.execute(f\"CREATE DATABASE IF NOT EXISTS {DB_NAME}\")\n",
    "    except Error as e:\n",
    "        print(\"Error while connecting to MySQL\", e)"
   ]
  },
  {
   "cell_type": "markdown",
   "metadata": {},
   "source": [
    "***CREATE TABLE IF NOT EXISTS***"
   ]
  },
  {
   "cell_type": "code",
   "execution_count": null,
   "metadata": {},
   "outputs": [],
   "source": [
    "def create_table(database:str, table:str, datatype:str):\n",
    "    try:\n",
    "        username = 'minhdung'\n",
    "        password = '020920'\n",
    "        host = 'localhost'\n",
    "        engine = create_engine(f\"mysql+pymysql://{username}:{password}@{host}/{database}\")\n",
    "        with engine.connect() as conn:\n",
    "            conn.execute(f'DROP TABLE IF EXISTS {table};')\n",
    "            conn.execute(f'CREATE TABLE {table}({datatype})')\n",
    "            print('Created table....')\n",
    "    except Error as e:\n",
    "            print(\"Error while connecting to MySQL\", e)"
   ]
  },
  {
   "cell_type": "markdown",
   "metadata": {},
   "source": [
    "***create categories table***"
   ]
  },
  {
   "cell_type": "code",
   "execution_count": null,
   "metadata": {},
   "outputs": [],
   "source": [
    "table = \"categories\"\n",
    "datatype = '''url varchar(255),\n",
    "            name varchar(255),\n",
    "            category_id INT(255),\n",
    "            PRIMARY KEY (category_id)'''\n",
    "create_table(\"Tiki_Product\",table=table,datatype=datatype)\n",
    "print(\"Table is created....\")"
   ]
  },
  {
   "cell_type": "markdown",
   "metadata": {},
   "source": [
    "***create seller table***"
   ]
  },
  {
   "cell_type": "code",
   "execution_count": null,
   "metadata": {},
   "outputs": [],
   "source": [
    "table = \"seller\"\n",
    "datatype = '''id INT(255),\n",
    "            name varchar(255),\n",
    "            store_id INT(255),\n",
    "            is_best_store BOOLEAN,\n",
    "            PRIMARY KEY (id)'''\n",
    "create_table(\"Tiki_Product\",table=table,datatype=datatype)\n",
    "print(\"Table is created....\")"
   ]
  },
  {
   "cell_type": "markdown",
   "metadata": {},
   "source": [
    "***create product table***"
   ]
  },
  {
   "cell_type": "code",
   "execution_count": null,
   "metadata": {},
   "outputs": [],
   "source": [
    "table = \"product\"\n",
    "datatype = '''id INT(255),\n",
    "            name VARCHAR(255),\n",
    "            short_url VARCHAR(255),\n",
    "            short_description VARCHAR(255),\n",
    "            price BIGINT(255),\n",
    "            list_price BIGINT(255),\n",
    "            original_price BIGINT(255),\n",
    "            discount INT(255),\n",
    "            discount_rate FLOAT(255, 2),\n",
    "            rating_average FLOAT(255,2),\n",
    "            inventory_status VARCHAR(255),\n",
    "            inventory_type VARCHAR(255),\n",
    "            is_fresh tinyint(1),\n",
    "            seller VARCHAR(255) ,\n",
    "            is_gift_card tinyint(1),\n",
    "            data_version INT(255),\n",
    "            brand INT(255),\n",
    "            current_seller INT(225) default NULL,\n",
    "            other_sellers VARCHAR(255),\n",
    "            categories LONGTEXT,\n",
    "            has_freeship_plus_benefit VARCHAR(255),\n",
    "            partner_rewards_amount FLOAT(255,2),\n",
    "            tiki_rewards_amount FLOAT(255,2),\n",
    "            total_rewards_amount FLOAT(255,2),\n",
    "            product_virtual_type VARCHAR(255),\n",
    "            fulfillment_type VARCHAR(255),\n",
    "            PRIMARY KEY (id)'''\n",
    "create_table(\"Tiki_Product\",\"product\",datatype)\n",
    "print(\"Table is created....\")\n",
    "username = 'minhdung'\n",
    "password = '020920'\n",
    "host = 'localhost'\n",
    "engine = create_engine(f\"mysql+pymysql://{username}:{password}@{host}/Tiki_Product\")\n",
    "with engine.connect() as conn:\n",
    "    A =conn.execute(f'SELECT DATA_TYPE FROM INFORMATION_SCHEMA.COLUMNS WHERE TABLE_SCHEMA = \\'Tiki_Product\\' AND table_name = \\'{table}\\' AND COLUMN_NAME = \\'is_fresh\\' ;')\n",
    "    print(A.fetchall())"
   ]
  },
  {
   "cell_type": "code",
   "execution_count": null,
   "metadata": {},
   "outputs": [],
   "source": [
    "def read_csv_to_dataframe(filename):\n",
    "    df = pd.read_csv(f'Data/{filename}.csv', index_col=False, delimiter = ',')\n",
    "    df = df.replace({np.NaN:None})\n",
    "    return df\n",
    "df = read_csv_to_dataframe('product')\n",
    "df"
   ]
  },
  {
   "cell_type": "markdown",
   "metadata": {},
   "source": [
    "***DUMP DATA TO SQL***"
   ]
  },
  {
   "cell_type": "code",
   "execution_count": null,
   "metadata": {},
   "outputs": [],
   "source": [
    "def import_data_mysql(Dataframe:pd.DataFrame, database):\n",
    "    try:\n",
    "        username = 'minhdung'\n",
    "        password = '020920'\n",
    "        host = 'localhost'\n",
    "        engine = create_engine(f\"mysql+pymysql://{username}:{password}@{host}/{database}\")\n",
    "        Dataframe[\"is_fresh\"] = Dataframe[\"is_fresh\"].astype(int)\n",
    "        Dataframe[\"is_gift_card\"] = Dataframe[\"is_gift_card\"].astype(int)\n",
    "        Dataframe.to_sql('temporary_table', con = engine.connect(), if_exists= 'replace',index = False)\n",
    "        with engine.begin() as cnx:\n",
    "            insert_sql = 'INSERT IGNORE INTO product (SELECT * FROM temporary_table)'\n",
    "            cnx.execute(insert_sql)                  \n",
    "    except Error as e:\n",
    "            print(\"Error while import data to MySQL\", e)\n"
   ]
  },
  {
   "cell_type": "code",
   "execution_count": null,
   "metadata": {},
   "outputs": [],
   "source": [
    "def import_categories(Dataframe:pd.DataFrame, database):\n",
    "    try:\n",
    "        username = 'minhdung'\n",
    "        password = '020920'\n",
    "        host = 'localhost'\n",
    "        Dataframe.drop(columns = 'status')\n",
    "        engine = create_engine(f\"mysql+pymysql://{username}:{password}@{host}/{database}\")\n",
    "        with engine.begin() as cnx:\n",
    "            Dataframe.to_sql('categories', con = engine.connect(), if_exists= 'replace')                \n",
    "    except Error as e:\n",
    "            print(\"Error while import categories to MySQL\", e)\n"
   ]
  },
  {
   "cell_type": "code",
   "execution_count": null,
   "metadata": {},
   "outputs": [],
   "source": [
    "def create_product_df(id):\n",
    "        data, categories = get_data(id)\n",
    "        f_data = extract_data_to_feild(data, f_product)\n",
    "        df = extract_product_data(f_data)\n",
    "        return df, categories\n",
    "df, cate = create_product_df(197553025)"
   ]
  },
  {
   "cell_type": "code",
   "execution_count": null,
   "metadata": {},
   "outputs": [],
   "source": [
    "#### Testing Product Mysql\n",
    "p_id = [101615454,\n",
    "        114092342,\n",
    "        114766715,\n",
    "        120295859,\n",
    "        123345348]\n",
    "df,categories = create_product_df(57809866)\n",
    "print(categories)\n",
    "for i in p_id:\n",
    "        df1,categories = create_product_df(i)\n",
    "        df = df.append(df1,ignore_index=True)\n",
    "df.drop_duplicates(subset=['id'])\n",
    "df = df.applymap(str)\n",
    "import_data_mysql(df, 'Tiki_Product')\n"
   ]
  },
  {
   "cell_type": "markdown",
   "metadata": {},
   "source": [
    "***THREAD ADD DATA TO PRODUCT DATA TABLE***\n",
    "    Create categories dict to store categories id : 100\n",
    "    multiple thread:\n",
    "        + get data from categories and dump to database\n",
    "        + get categories from data get and return to categories"
   ]
  },
  {
   "cell_type": "code",
   "execution_count": null,
   "metadata": {},
   "outputs": [],
   "source": [
    "### create URL categories {id: (name, tick)}, number 100\n",
    "\n"
   ]
  },
  {
   "cell_type": "code",
   "execution_count": null,
   "metadata": {},
   "outputs": [],
   "source": [
    "### Testing the Functional\n",
    "def add_status_categories(categories,status):\n",
    "    def change_status(x):\n",
    "        x[\"status\"] = status\n",
    "        return x\n",
    "    categories = list(map(change_status, categories))\n",
    "    return pd.DataFrame.from_records(categories)\n"
   ]
  },
  {
   "cell_type": "code",
   "execution_count": null,
   "metadata": {},
   "outputs": [],
   "source": []
  },
  {
   "cell_type": "code",
   "execution_count": 82,
   "metadata": {},
   "outputs": [
    {
     "name": "stdout",
     "output_type": "stream",
     "text": [
      "debug4\n",
      "[{'url': '/dien-thoai-may-tinh-bang/c1789', 'name': 'Điện Thoại - Máy Tính Bảng', 'category_id': 1789}, {'url': '/dien-thoai-smartphone/c1795', 'name': 'Điện thoại Smartphone', 'category_id': 1795}, {'url': 'https://tiki.vn/dien-thoai-xiaomi-redmi-10c-4gb-128gb-hang-chinh-hang-p171897574.html', 'name': 'Điện thoại Xiaomi Redmi 10C (4GB/128GB) - Hàng chính hãng', 'category_id': 0}]\n",
      "[{'url': '/dien-thoai-may-tinh-bang/c1789', 'name': 'Điện Thoại - Máy Tính Bảng', 'category_id': 1789}, {'url': '/dien-thoai-smartphone/c1795', 'name': 'Điện thoại Smartphone', 'category_id': 1795}, {'url': 'https://tiki.vn/dien-thoai-xiaomi-redmi-10c-4gb-128gb-hang-chinh-hang-p171897574.html', 'name': 'Điện thoại Xiaomi Redmi 10C (4GB/128GB) - Hàng chính hãng', 'category_id': 0}]\n",
      "debug1\n",
      "                               url                        name  category_id  \\\n",
      "0  /dien-thoai-may-tinh-bang/c1789  Điện Thoại - Máy Tính Bảng         1789   \n",
      "1     /dien-thoai-smartphone/c1795       Điện thoại Smartphone         1795   \n",
      "\n",
      "   status  \n",
      "0    True  \n",
      "1    True  \n",
      "debug2\n",
      "[]\n"
     ]
    },
    {
     "name": "stderr",
     "output_type": "stream",
     "text": [
      "/tmp/ipykernel_4728/30762652.py:68: FutureWarning: The frame.append method is deprecated and will be removed from pandas in a future version. Use pandas.concat instead.\n",
      "  df = df.append(df1,ignore_index=True)\n",
      "/tmp/ipykernel_4728/4218575413.py:6: FutureWarning: The frame.append method is deprecated and will be removed from pandas in a future version. Use pandas.concat instead.\n",
      "  categories_df = categories_df.append(df1,ignore_index=True)\n"
     ]
    },
    {
     "name": "stdout",
     "output_type": "stream",
     "text": [
      "debug4[{'url': '/dien-thoai-may-tinh-bang/c1789', 'name': 'Điện Thoại - Máy Tính Bảng', 'category_id': 1789}, {'url': '/dien-thoai-smartphone/c1795', 'name': 'Điện thoại Smartphone', 'category_id': 1795}, {'url': 'https://tiki.vn/dien-thoai-samsung-galaxy-a53-5g-8gb-128gb-hang-chinh-hang-p170497385.html', 'name': 'Điện thoại Samsung Galaxy A53 5G (8GB/128GB) - Hàng chính hãng', 'category_id': 0}]\n",
      "debug1\n",
      "\n",
      "[{'url': '/dien-thoai-may-tinh-bang/c1789', 'name': 'Điện Thoại - Máy Tính Bảng', 'category_id': 1789}, {'url': '/dien-thoai-smartphone/c1795', 'name': 'Điện thoại Smartphone', 'category_id': 1795}, {'url': 'https://tiki.vn/dien-thoai-samsung-galaxy-a53-5g-8gb-128gb-hang-chinh-hang-p170497385.html', 'name': 'Điện thoại Samsung Galaxy A53 5G (8GB/128GB) - Hàng chính hãng', 'category_id': 0}]\n",
      "                               url                        name  category_id  \\\n",
      "0  /dien-thoai-may-tinh-bang/c1789  Điện Thoại - Máy Tính Bảng         1789   \n",
      "1     /dien-thoai-smartphone/c1795       Điện thoại Smartphone         1795   \n",
      "\n",
      "   status  \n",
      "0    True  \n",
      "1    True  \n",
      "debug2\n",
      "[]\n"
     ]
    },
    {
     "name": "stderr",
     "output_type": "stream",
     "text": [
      "/tmp/ipykernel_4728/30762652.py:68: FutureWarning: The frame.append method is deprecated and will be removed from pandas in a future version. Use pandas.concat instead.\n",
      "  df = df.append(df1,ignore_index=True)\n",
      "/tmp/ipykernel_4728/4218575413.py:6: FutureWarning: The frame.append method is deprecated and will be removed from pandas in a future version. Use pandas.concat instead.\n",
      "  categories_df = categories_df.append(df1,ignore_index=True)\n"
     ]
    },
    {
     "name": "stdout",
     "output_type": "stream",
     "text": [
      "                               url                        name  category_id  \\\n",
      "0  /dien-thoai-may-tinh-bang/c1789  Điện Thoại - Máy Tính Bảng         1789   \n",
      "1     /dien-thoai-smartphone/c1795       Điện thoại Smartphone         1795   \n",
      "\n",
      "   status  \n",
      "0    True  \n",
      "1    True  \n",
      "debug4\n",
      "[{'url': '/dien-thoai-may-tinh-bang/c1789', 'name': 'Điện Thoại - Máy Tính Bảng', 'category_id': 1789}, {'url': '/dien-thoai-smartphone/c1795', 'name': 'Điện thoại Smartphone', 'category_id': 1795}, {'url': 'https://tiki.vn/dien-thoai-samsung-galaxy-a03s-4gb-64gb-hang-chinh-hang-da-kich-hoat-bao-hanh-dien-tu-p125766378.html', 'name': 'Điện Thoại Samsung Galaxy A03s (4GB/64GB) - Hàng Chính Hãng - Đã kích hoạt bảo hành điện tử', 'category_id': 0}]\n",
      "[{'url': '/dien-thoai-may-tinh-bang/c1789', 'name': 'Điện Thoại - Máy Tính Bảng', 'category_id': 1789}, {'url': '/dien-thoai-smartphone/c1795', 'name': 'Điện thoại Smartphone', 'category_id': 1795}, {'url': 'https://tiki.vn/dien-thoai-samsung-galaxy-a03s-4gb-64gb-hang-chinh-hang-da-kich-hoat-bao-hanh-dien-tu-p125766378.html', 'name': 'Điện Thoại Samsung Galaxy A03s (4GB/64GB) - Hàng Chính Hãng - Đã kích hoạt bảo hành điện tử', 'category_id': 0}]\n",
      "debug1\n",
      "                               url                        name  category_id  \\\n",
      "0  /dien-thoai-may-tinh-bang/c1789  Điện Thoại - Máy Tính Bảng         1789   \n",
      "1     /dien-thoai-smartphone/c1795       Điện thoại Smartphone         1795   \n",
      "\n",
      "   status  \n",
      "0    True  \n",
      "1    True  \n",
      "debug2\n",
      "[]\n"
     ]
    },
    {
     "name": "stderr",
     "output_type": "stream",
     "text": [
      "/tmp/ipykernel_4728/30762652.py:68: FutureWarning: The frame.append method is deprecated and will be removed from pandas in a future version. Use pandas.concat instead.\n",
      "  df = df.append(df1,ignore_index=True)\n",
      "/tmp/ipykernel_4728/4218575413.py:6: FutureWarning: The frame.append method is deprecated and will be removed from pandas in a future version. Use pandas.concat instead.\n",
      "  categories_df = categories_df.append(df1,ignore_index=True)\n"
     ]
    },
    {
     "name": "stdout",
     "output_type": "stream",
     "text": [
      "debug4[{'url': '/dien-thoai-may-tinh-bang/c1789', 'name': 'Điện Thoại - Máy Tính Bảng', 'category_id': 1789}, {'url': '/dien-thoai-smartphone/c1795', 'name': 'Điện thoại Smartphone', 'category_id': 1795}, {'url': 'https://tiki.vn/dien-thoai-vivo-t1x-8gb-128gb-hang-chinh-hang-p206084979.html', 'name': 'Điện thoại Vivo T1X (8GB/128GB) - Hàng Chính Hãng', 'category_id': 0}]\n",
      "debug1\n",
      "\n",
      "[{'url': '/dien-thoai-may-tinh-bang/c1789', 'name': 'Điện Thoại - Máy Tính Bảng', 'category_id': 1789}, {'url': '/dien-thoai-smartphone/c1795', 'name': 'Điện thoại Smartphone', 'category_id': 1795}, {'url': 'https://tiki.vn/dien-thoai-vivo-t1x-8gb-128gb-hang-chinh-hang-p206084979.html', 'name': 'Điện thoại Vivo T1X (8GB/128GB) - Hàng Chính Hãng', 'category_id': 0}]\n",
      "                               url                        name  category_id  \\\n",
      "0  /dien-thoai-may-tinh-bang/c1789  Điện Thoại - Máy Tính Bảng         1789   \n",
      "1     /dien-thoai-smartphone/c1795       Điện thoại Smartphone         1795   \n",
      "\n",
      "   status  \n",
      "0    True  \n",
      "1    True  \n",
      "debug2\n",
      "[]\n"
     ]
    },
    {
     "name": "stderr",
     "output_type": "stream",
     "text": [
      "/tmp/ipykernel_4728/30762652.py:68: FutureWarning: The frame.append method is deprecated and will be removed from pandas in a future version. Use pandas.concat instead.\n",
      "  df = df.append(df1,ignore_index=True)\n",
      "/tmp/ipykernel_4728/4218575413.py:6: FutureWarning: The frame.append method is deprecated and will be removed from pandas in a future version. Use pandas.concat instead.\n",
      "  categories_df = categories_df.append(df1,ignore_index=True)\n"
     ]
    },
    {
     "name": "stdout",
     "output_type": "stream",
     "text": [
      "debug4\n",
      "[{'url': '/dien-thoai-may-tinh-bang/c1789', 'name': 'Điện Thoại - Máy Tính Bảng', 'category_id': 1789}, {'url': '/dien-thoai-smartphone/c1795', 'name': 'Điện thoại Smartphone', 'category_id': 1795}, {'url': 'https://tiki.vn/dien-thoai-oppo-a16k-3gb-32g-hang-chinh-hang-p142545270.html', 'name': 'Điện Thoại Oppo A16k (3GB/32GB) - Hàng Chính Hãng', 'category_id': 0}]\n",
      "[{'url': '/dien-thoai-may-tinh-bang/c1789', 'name': 'Điện Thoại - Máy Tính Bảng', 'category_id': 1789}, {'url': '/dien-thoai-smartphone/c1795', 'name': 'Điện thoại Smartphone', 'category_id': 1795}, {'url': 'https://tiki.vn/dien-thoai-oppo-a16k-3gb-32g-hang-chinh-hang-p142545270.html', 'name': 'Điện Thoại Oppo A16k (3GB/32GB) - Hàng Chính Hãng', 'category_id': 0}]\n",
      "debug1\n",
      "                               url                        name  category_id  \\\n",
      "0  /dien-thoai-may-tinh-bang/c1789  Điện Thoại - Máy Tính Bảng         1789   \n",
      "1     /dien-thoai-smartphone/c1795       Điện thoại Smartphone         1795   \n",
      "\n",
      "   status  \n",
      "0    True  \n",
      "1    True  \n",
      "debug2\n",
      "[]\n"
     ]
    },
    {
     "name": "stderr",
     "output_type": "stream",
     "text": [
      "/tmp/ipykernel_4728/30762652.py:68: FutureWarning: The frame.append method is deprecated and will be removed from pandas in a future version. Use pandas.concat instead.\n",
      "  df = df.append(df1,ignore_index=True)\n",
      "/tmp/ipykernel_4728/4218575413.py:6: FutureWarning: The frame.append method is deprecated and will be removed from pandas in a future version. Use pandas.concat instead.\n",
      "  categories_df = categories_df.append(df1,ignore_index=True)\n"
     ]
    },
    {
     "name": "stdout",
     "output_type": "stream",
     "text": [
      "debug4[{'url': '/dien-thoai-may-tinh-bang/c1789', 'name': 'Điện Thoại - Máy Tính Bảng', 'category_id': 1789}, {'url': '/dien-thoai-smartphone/c1795', 'name': 'Điện thoại Smartphone', 'category_id': 1795}, {'url': 'https://tiki.vn/dien-thoai-samsung-galaxy-s20-fe-8gb-256gb-hang-chinh-hang-da-kich-hoat-bao-hanh-dien-tu-p175845367.html', 'name': 'Điện Thoại Samsung Galaxy S20 FE (8GB/256GB) - Hàng Chính Hãng - Đã kích hoạt bảo hành điện tử', 'category_id': 0}]\n",
      "debug1\n",
      "\n",
      "[{'url': '/dien-thoai-may-tinh-bang/c1789', 'name': 'Điện Thoại - Máy Tính Bảng', 'category_id': 1789}, {'url': '/dien-thoai-smartphone/c1795', 'name': 'Điện thoại Smartphone', 'category_id': 1795}, {'url': 'https://tiki.vn/dien-thoai-samsung-galaxy-s20-fe-8gb-256gb-hang-chinh-hang-da-kich-hoat-bao-hanh-dien-tu-p175845367.html', 'name': 'Điện Thoại Samsung Galaxy S20 FE (8GB/256GB) - Hàng Chính Hãng - Đã kích hoạt bảo hành điện tử', 'category_id': 0}]\n",
      "                               url                        name  category_id  \\\n",
      "0  /dien-thoai-may-tinh-bang/c1789  Điện Thoại - Máy Tính Bảng         1789   \n",
      "1     /dien-thoai-smartphone/c1795       Điện thoại Smartphone         1795   \n",
      "\n",
      "   status  \n",
      "0    True  \n",
      "1    True  \n",
      "debug2\n",
      "[]\n"
     ]
    },
    {
     "name": "stderr",
     "output_type": "stream",
     "text": [
      "/tmp/ipykernel_4728/30762652.py:68: FutureWarning: The frame.append method is deprecated and will be removed from pandas in a future version. Use pandas.concat instead.\n",
      "  df = df.append(df1,ignore_index=True)\n",
      "/tmp/ipykernel_4728/4218575413.py:6: FutureWarning: The frame.append method is deprecated and will be removed from pandas in a future version. Use pandas.concat instead.\n",
      "  categories_df = categories_df.append(df1,ignore_index=True)\n"
     ]
    },
    {
     "name": "stdout",
     "output_type": "stream",
     "text": [
      "debug4[{'url': '/dien-thoai-may-tinh-bang/c1789', 'name': 'Điện Thoại - Máy Tính Bảng', 'category_id': 1789}, {'url': '/dien-thoai-smartphone/c1795', 'name': 'Điện thoại Smartphone', 'category_id': 1795}, {'url': 'https://tiki.vn/dien-thoai-samsung-galaxy-a23-4gb-128gb-hang-chinh-hang-da-kich-hoat-bao-hanh-dien-tu-p173764601.html', 'name': 'Điện thoại Samsung Galaxy A23 (4GB/128GB) - Hàng chính hãng - Đã kích hoạt bảo hành điện tử', 'category_id': 0}]\n",
      "debug1\n",
      "\n",
      "[{'url': '/dien-thoai-may-tinh-bang/c1789', 'name': 'Điện Thoại - Máy Tính Bảng', 'category_id': 1789}, {'url': '/dien-thoai-smartphone/c1795', 'name': 'Điện thoại Smartphone', 'category_id': 1795}, {'url': 'https://tiki.vn/dien-thoai-samsung-galaxy-a23-4gb-128gb-hang-chinh-hang-da-kich-hoat-bao-hanh-dien-tu-p173764601.html', 'name': 'Điện thoại Samsung Galaxy A23 (4GB/128GB) - Hàng chính hãng - Đã kích hoạt bảo hành điện tử', 'category_id': 0}]\n",
      "                               url                        name  category_id  \\\n",
      "0  /dien-thoai-may-tinh-bang/c1789  Điện Thoại - Máy Tính Bảng         1789   \n",
      "1     /dien-thoai-smartphone/c1795       Điện thoại Smartphone         1795   \n",
      "\n",
      "   status  \n",
      "0    True  \n",
      "1    True  \n",
      "debug2\n",
      "[]\n"
     ]
    },
    {
     "name": "stderr",
     "output_type": "stream",
     "text": [
      "/tmp/ipykernel_4728/30762652.py:68: FutureWarning: The frame.append method is deprecated and will be removed from pandas in a future version. Use pandas.concat instead.\n",
      "  df = df.append(df1,ignore_index=True)\n",
      "/tmp/ipykernel_4728/4218575413.py:6: FutureWarning: The frame.append method is deprecated and will be removed from pandas in a future version. Use pandas.concat instead.\n",
      "  categories_df = categories_df.append(df1,ignore_index=True)\n"
     ]
    },
    {
     "name": "stdout",
     "output_type": "stream",
     "text": [
      "debug4\n",
      "[{'url': '/dien-thoai-may-tinh-bang/c1789', 'name': 'Điện Thoại - Máy Tính Bảng', 'category_id': 1789}, {'url': '/dien-thoai-smartphone/c1795', 'name': 'Điện thoại Smartphone', 'category_id': 1795}, {'url': 'https://tiki.vn/dien-thoai-samsung-galaxy-a03-3gb-32gb-hang-chinh-hang-da-kich-hoat-bao-hanh-dien-tu-p159725951.html', 'name': 'Điện thoại Samsung Galaxy A03 (3GB/32GB) - Hàng chính hãng - Đã kích hoạt bảo hành điện tử', 'category_id': 0}]\n",
      "[{'url': '/dien-thoai-may-tinh-bang/c1789', 'name': 'Điện Thoại - Máy Tính Bảng', 'category_id': 1789}, {'url': '/dien-thoai-smartphone/c1795', 'name': 'Điện thoại Smartphone', 'category_id': 1795}, {'url': 'https://tiki.vn/dien-thoai-samsung-galaxy-a03-3gb-32gb-hang-chinh-hang-da-kich-hoat-bao-hanh-dien-tu-p159725951.html', 'name': 'Điện thoại Samsung Galaxy A03 (3GB/32GB) - Hàng chính hãng - Đã kích hoạt bảo hành điện tử', 'category_id': 0}]\n",
      "debug1\n",
      "                               url                        name  category_id  \\\n",
      "0  /dien-thoai-may-tinh-bang/c1789  Điện Thoại - Máy Tính Bảng         1789   \n",
      "1     /dien-thoai-smartphone/c1795       Điện thoại Smartphone         1795   \n",
      "\n",
      "   status  \n",
      "0    True  \n",
      "1    True  \n",
      "debug2\n",
      "[]\n"
     ]
    },
    {
     "name": "stderr",
     "output_type": "stream",
     "text": [
      "/tmp/ipykernel_4728/30762652.py:68: FutureWarning: The frame.append method is deprecated and will be removed from pandas in a future version. Use pandas.concat instead.\n",
      "  df = df.append(df1,ignore_index=True)\n",
      "/tmp/ipykernel_4728/4218575413.py:6: FutureWarning: The frame.append method is deprecated and will be removed from pandas in a future version. Use pandas.concat instead.\n",
      "  categories_df = categories_df.append(df1,ignore_index=True)\n"
     ]
    },
    {
     "name": "stdout",
     "output_type": "stream",
     "text": [
      "debug5\n",
      "                               url                        name  category_id  \\\n",
      "0  /dien-thoai-may-tinh-bang/c1789  Điện Thoại - Máy Tính Bảng         1789   \n",
      "1     /dien-thoai-smartphone/c1795       Điện thoại Smartphone         1795   \n",
      "\n",
      "   status  \n",
      "0    True  \n",
      "1    True  \n",
      "debug5\n",
      "debug4[{'url': '/dien-thoai-may-tinh-bang/c1789', 'name': 'Điện Thoại - Máy Tính Bảng', 'category_id': 1789}, {'url': '/dien-thoai-smartphone/c1795', 'name': 'Điện thoại Smartphone', 'category_id': 1795}, {'url': 'https://tiki.vn/apple-iphone-14-pro-p197216279.html', 'name': 'Apple iPhone 14 Pro', 'category_id': 0}]\n",
      "debug1\n",
      "                               url                        name  category_id  \\\n",
      "0  /dien-thoai-may-tinh-bang/c1789  Điện Thoại - Máy Tính Bảng         1789   \n",
      "1     /dien-thoai-smartphone/c1795       Điện thoại Smartphone         1795   \n",
      "\n",
      "   status  \n",
      "0    True  \n",
      "1    True  \n",
      "\n",
      "[{'url': '/dien-thoai-may-tinh-bang/c1789', 'name': 'Điện Thoại - Máy Tính Bảng', 'category_id': 1789}, {'url': '/dien-thoai-smartphone/c1795', 'name': 'Điện thoại Smartphone', 'category_id': 1795}, {'url': 'https://tiki.vn/apple-iphone-14-pro-p197216279.html', 'name': 'Apple iPhone 14 Pro', 'category_id': 0}]\n",
      "debug2\n",
      "[]\n"
     ]
    },
    {
     "name": "stderr",
     "output_type": "stream",
     "text": [
      "/tmp/ipykernel_4728/4218575413.py:6: FutureWarning: The frame.append method is deprecated and will be removed from pandas in a future version. Use pandas.concat instead.\n",
      "  categories_df = categories_df.append(df1,ignore_index=True)\n",
      "/tmp/ipykernel_4728/4218575413.py:69: FutureWarning: The frame.append method is deprecated and will be removed from pandas in a future version. Use pandas.concat instead.\n",
      "  df = df.append(df1,ignore_index=True)\n"
     ]
    },
    {
     "name": "stdout",
     "output_type": "stream",
     "text": [
      "debug4\n",
      "[{'url': '/dien-thoai-may-tinh-bang/c1789', 'name': 'Điện Thoại - Máy Tính Bảng', 'category_id': 1789}, {'url': '/dien-thoai-smartphone/c1795', 'name': 'Điện thoại Smartphone', 'category_id': 1795}, {'url': 'https://tiki.vn/apple-iphone-14-pro-max-p197216291.html', 'name': 'Apple iPhone 14 Pro Max', 'category_id': 0}]\n",
      "[{'url': '/dien-thoai-may-tinh-bang/c1789', 'name': 'Điện Thoại - Máy Tính Bảng', 'category_id': 1789}, {'url': '/dien-thoai-smartphone/c1795', 'name': 'Điện thoại Smartphone', 'category_id': 1795}, {'url': 'https://tiki.vn/apple-iphone-14-pro-max-p197216291.html', 'name': 'Apple iPhone 14 Pro Max', 'category_id': 0}]\n",
      "debug1\n",
      "                               url                        name  category_id  \\\n",
      "0  /dien-thoai-may-tinh-bang/c1789  Điện Thoại - Máy Tính Bảng         1789   \n",
      "1     /dien-thoai-smartphone/c1795       Điện thoại Smartphone         1795   \n",
      "\n",
      "   status  \n",
      "0    True  \n",
      "1    True  \n",
      "debug2\n",
      "[]\n"
     ]
    },
    {
     "name": "stderr",
     "output_type": "stream",
     "text": [
      "/tmp/ipykernel_4728/4218575413.py:69: FutureWarning: The frame.append method is deprecated and will be removed from pandas in a future version. Use pandas.concat instead.\n",
      "  df = df.append(df1,ignore_index=True)\n",
      "/tmp/ipykernel_4728/4218575413.py:6: FutureWarning: The frame.append method is deprecated and will be removed from pandas in a future version. Use pandas.concat instead.\n",
      "  categories_df = categories_df.append(df1,ignore_index=True)\n"
     ]
    },
    {
     "name": "stdout",
     "output_type": "stream",
     "text": [
      "debug4[{'url': '/dien-thoai-may-tinh-bang/c1789', 'name': 'Điện Thoại - Máy Tính Bảng', 'category_id': 1789}, {'url': '/dien-thoai-smartphone/c1795', 'name': 'Điện thoại Smartphone', 'category_id': 1795}, {'url': 'https://tiki.vn/dien-thoai-samsung-galaxy-z-flip-4-8gb-128gb-hang-chinh-hang-p194034217.html', 'name': 'Điện thoại Samsung Galaxy Z Flip 4 (8GB/128GB) - Hàng chính hãng', 'category_id': 0}]\n",
      "debug1\n",
      "\n",
      "[{'url': '/dien-thoai-may-tinh-bang/c1789', 'name': 'Điện Thoại - Máy Tính Bảng', 'category_id': 1789}, {'url': '/dien-thoai-smartphone/c1795', 'name': 'Điện thoại Smartphone', 'category_id': 1795}, {'url': 'https://tiki.vn/dien-thoai-samsung-galaxy-z-flip-4-8gb-128gb-hang-chinh-hang-p194034217.html', 'name': 'Điện thoại Samsung Galaxy Z Flip 4 (8GB/128GB) - Hàng chính hãng', 'category_id': 0}]\n",
      "                               url                        name  category_id  \\\n",
      "0  /dien-thoai-may-tinh-bang/c1789  Điện Thoại - Máy Tính Bảng         1789   \n",
      "1     /dien-thoai-smartphone/c1795       Điện thoại Smartphone         1795   \n",
      "\n",
      "   status  \n",
      "0    True  \n",
      "1    True  \n",
      "debug2\n",
      "[]\n"
     ]
    },
    {
     "name": "stderr",
     "output_type": "stream",
     "text": [
      "/tmp/ipykernel_4728/4218575413.py:69: FutureWarning: The frame.append method is deprecated and will be removed from pandas in a future version. Use pandas.concat instead.\n",
      "  df = df.append(df1,ignore_index=True)\n",
      "/tmp/ipykernel_4728/4218575413.py:6: FutureWarning: The frame.append method is deprecated and will be removed from pandas in a future version. Use pandas.concat instead.\n",
      "  categories_df = categories_df.append(df1,ignore_index=True)\n"
     ]
    },
    {
     "name": "stdout",
     "output_type": "stream",
     "text": [
      "debug4[{'url': '/dien-thoai-may-tinh-bang/c1789', 'name': 'Điện Thoại - Máy Tính Bảng', 'category_id': 1789}, {'url': '/dien-thoai-smartphone/c1795', 'name': 'Điện thoại Smartphone', 'category_id': 1795}, {'url': 'https://tiki.vn/dien-thoai-oppo-reno-6-5g-8gb-128g-hang-chinh-hang-p114092342.html', 'name': 'Điện Thoại Oppo Reno 6 5G (8GB/128G) - Hàng Chính Hãng', 'category_id': 0}]\n",
      "debug1\n",
      "\n",
      "[{'url': '/dien-thoai-may-tinh-bang/c1789', 'name': 'Điện Thoại - Máy Tính Bảng', 'category_id': 1789}, {'url': '/dien-thoai-smartphone/c1795', 'name': 'Điện thoại Smartphone', 'category_id': 1795}, {'url': 'https://tiki.vn/dien-thoai-oppo-reno-6-5g-8gb-128g-hang-chinh-hang-p114092342.html', 'name': 'Điện Thoại Oppo Reno 6 5G (8GB/128G) - Hàng Chính Hãng', 'category_id': 0}]\n",
      "                               url                        name  category_id  \\\n",
      "0  /dien-thoai-may-tinh-bang/c1789  Điện Thoại - Máy Tính Bảng         1789   \n",
      "1     /dien-thoai-smartphone/c1795       Điện thoại Smartphone         1795   \n",
      "\n",
      "   status  \n",
      "0    True  \n",
      "1    True  \n",
      "debug2\n",
      "[]\n"
     ]
    },
    {
     "name": "stderr",
     "output_type": "stream",
     "text": [
      "/tmp/ipykernel_4728/4218575413.py:69: FutureWarning: The frame.append method is deprecated and will be removed from pandas in a future version. Use pandas.concat instead.\n",
      "  df = df.append(df1,ignore_index=True)\n",
      "/tmp/ipykernel_4728/4218575413.py:6: FutureWarning: The frame.append method is deprecated and will be removed from pandas in a future version. Use pandas.concat instead.\n",
      "  categories_df = categories_df.append(df1,ignore_index=True)\n"
     ]
    },
    {
     "ename": "KeyboardInterrupt",
     "evalue": "",
     "output_type": "error",
     "traceback": [
      "\u001b[0;31m---------------------------------------------------------------------------\u001b[0m",
      "\u001b[0;31mKeyboardInterrupt\u001b[0m                         Traceback (most recent call last)",
      "Cell \u001b[0;32mIn [82], line 102\u001b[0m\n\u001b[1;32m    100\u001b[0m categories_list \u001b[39m=\u001b[39m []\n\u001b[1;32m    101\u001b[0m \u001b[39mwhile\u001b[39;00m (\u001b[39mlen\u001b[39m(categories_df\u001b[39m.\u001b[39mindex) \u001b[39m<\u001b[39m \u001b[39m100\u001b[39m):\n\u001b[0;32m--> 102\u001b[0m \tmain_task()\n",
      "Cell \u001b[0;32mIn [82], line 95\u001b[0m, in \u001b[0;36mmain_task\u001b[0;34m()\u001b[0m\n\u001b[1;32m     93\u001b[0m \u001b[39m# wait until threads finish their job\u001b[39;00m\n\u001b[1;32m     94\u001b[0m t1\u001b[39m.\u001b[39mjoin()\n\u001b[0;32m---> 95\u001b[0m t2\u001b[39m.\u001b[39;49mjoin()\n",
      "File \u001b[0;32m/usr/lib/python3.10/threading.py:1096\u001b[0m, in \u001b[0;36mThread.join\u001b[0;34m(self, timeout)\u001b[0m\n\u001b[1;32m   1093\u001b[0m     \u001b[39mraise\u001b[39;00m \u001b[39mRuntimeError\u001b[39;00m(\u001b[39m\"\u001b[39m\u001b[39mcannot join current thread\u001b[39m\u001b[39m\"\u001b[39m)\n\u001b[1;32m   1095\u001b[0m \u001b[39mif\u001b[39;00m timeout \u001b[39mis\u001b[39;00m \u001b[39mNone\u001b[39;00m:\n\u001b[0;32m-> 1096\u001b[0m     \u001b[39mself\u001b[39;49m\u001b[39m.\u001b[39;49m_wait_for_tstate_lock()\n\u001b[1;32m   1097\u001b[0m \u001b[39melse\u001b[39;00m:\n\u001b[1;32m   1098\u001b[0m     \u001b[39m# the behavior of a negative timeout isn't documented, but\u001b[39;00m\n\u001b[1;32m   1099\u001b[0m     \u001b[39m# historically .join(timeout=x) for x<0 has acted as if timeout=0\u001b[39;00m\n\u001b[1;32m   1100\u001b[0m     \u001b[39mself\u001b[39m\u001b[39m.\u001b[39m_wait_for_tstate_lock(timeout\u001b[39m=\u001b[39m\u001b[39mmax\u001b[39m(timeout, \u001b[39m0\u001b[39m))\n",
      "File \u001b[0;32m/usr/lib/python3.10/threading.py:1116\u001b[0m, in \u001b[0;36mThread._wait_for_tstate_lock\u001b[0;34m(self, block, timeout)\u001b[0m\n\u001b[1;32m   1113\u001b[0m     \u001b[39mreturn\u001b[39;00m\n\u001b[1;32m   1115\u001b[0m \u001b[39mtry\u001b[39;00m:\n\u001b[0;32m-> 1116\u001b[0m     \u001b[39mif\u001b[39;00m lock\u001b[39m.\u001b[39;49macquire(block, timeout):\n\u001b[1;32m   1117\u001b[0m         lock\u001b[39m.\u001b[39mrelease()\n\u001b[1;32m   1118\u001b[0m         \u001b[39mself\u001b[39m\u001b[39m.\u001b[39m_stop()\n",
      "\u001b[0;31mKeyboardInterrupt\u001b[0m: "
     ]
    }
   ],
   "source": [
    "def add_categories_data(categories):\n",
    "\tglobal categories_df\n",
    "\tdf1 = add_status_categories(categories,True)\n",
    "\tprint('debug1')\n",
    "\tprint(categories_df)\n",
    "\tcategories_df = categories_df.append(df1,ignore_index=True)\n",
    "\tprint('debug2')\n",
    "\tprint(categories)\n",
    "\n",
    "\n",
    "# category = categories_df.loc[(categories_df['status'] == True)].iloc[1]\n",
    "# Name = category['name']\n",
    "# Id = category['category_id']\n",
    "# print(Name,Id)\n",
    "# max_page_number = get_max_page_number(Name,Id)\n",
    "# p_ids = crawling_product_id(Name, Id, max_page_number)\n",
    "# print(max_page_number,p_ids[0])\n",
    "# df,categories = create_product_df(p_ids[0])\n",
    "# categories_list = categories_list + categories\n",
    "# print(cate)\n",
    "# if len(categories_df.loc[(categories_df['status'] == True)])> 0:\n",
    "# \tcategory = categories_df.loc[(categories_df['status'] == True)].iloc[1]\n",
    "# \tif category is not None:\n",
    "# \t\tName = category['name']\n",
    "# \t\tId = category['category_id']\n",
    "# \t\tmax_page_number = get_max_page_number(Name,Id)\n",
    "# \t\tp_ids = crawling_product_id(Name, Id, max_page_number)\n",
    "# \t\tdf,categories = create_product_df(p_ids[0])\n",
    "# \t\tfor i in p_ids[1:]:\n",
    "# \t\t\t\tdf1,categories = create_product_df(i)\n",
    "# \t\t\t\tcategories_list = categories_list + categories\n",
    "# \t\t\t\tdf = df.append(df1,ignore_index=True)\n",
    "# \t\tdf.drop_duplicates(subset=['id'])\n",
    "# \t\tdf = df.applymap(str)\n",
    "# \t\timport_data_mysql(df, 'Tiki_Product')\n",
    "# \t\tcategories_df.loc[categories_df['status'] == True].iloc[1]['status'] = False\n",
    "\n",
    "def thread_categories(lock):\n",
    "\tglobal categories_df\n",
    "\tglobal categories_list\n",
    "\tif categories_list != []:\n",
    "\t\tcatergories_filter = list(filter(lambda x: False if x['category_id'] in categories_df['category_id'].unique() else False, categories_list))\n",
    "\t\tprint('debug3')\n",
    "\t\tprint(catergories_filter, categories_list)\n",
    "\t\tadd_categories_data(catergories_filter)\n",
    "\t\tcategories_list = []\n",
    "\tif len(categories_df.index > 100):\n",
    "\t\timport_categories(categories_df,'Tiki_Product')\n",
    "\t\n",
    "\n",
    "def thread_add_product(lock):\n",
    "\tglobal categories_df\n",
    "\tglobal categories_list\n",
    "\tif len(categories_df.loc[(categories_df['status'] == True)])> 0:\n",
    "\t\tlock.acquire()\n",
    "\t\tcategory = categories_df.loc[(categories_df['status'] == True)].iloc[1]\n",
    "\t\tif category is not None:\n",
    "\t\t\tName = category['name']\n",
    "\t\t\tId = category['category_id']\n",
    "\t\t\tmax_page_number = get_max_page_number(Name,Id)\n",
    "\t\t\tp_ids = crawling_product_id(Name, Id, max_page_number)\n",
    "\t\t\tdf,categories = create_product_df(p_ids[0])\n",
    "\t\t\tprint('debug5')\n",
    "\t\t\tfor i in p_ids[1:]:\n",
    "\t\t\t\t\tdf1,categories = create_product_df(i)\n",
    "\t\t\t\t\tcategories_list = categories_list + categories\n",
    "\t\t\t\t\tprint('debug4')\n",
    "\t\t\t\t\tprint(categories_list)\n",
    "\t\t\t\t\tdf = df.append(df1,ignore_index=True)\n",
    "\t\t\tdf.drop_duplicates(subset=['id'])\n",
    "\t\t\tdf = df.applymap(str)\n",
    "\t\t\tcategories_df.loc[categories_df['status'] == True].loc[1,'status'] = False\n",
    "\t\t\tprint(categories_df)\n",
    "\t\t\timport_data_mysql(df, 'Tiki_Product')\n",
    "\t\t\tlock.release()\n",
    "def main_task():\n",
    "\tglobal categories_df\n",
    "\tglobal categories_list\n",
    "\tprint(categories_df)\n",
    "\n",
    "\t\n",
    "\t# creating a lock\n",
    "\tlock = threading.Lock()\n",
    "\n",
    "\t# creating threads\n",
    "\tt2 = threading.Thread(target=thread_add_product, args=(lock,))\n",
    "\tt1 = threading.Thread(target=thread_categories, args=(lock,))\n",
    "\n",
    "\t# start threads\n",
    "\tt1.start()\n",
    "\tt2.start()\n",
    "\n",
    "\t# wait until threads finish their job\n",
    "\tt1.join()\n",
    "\tt2.join()\n",
    "\n",
    "if __name__ == \"__main__\":\n",
    "\tcategories = get_product_catagories('https://tiki.vn/dien-thoai-samsung-galaxy-z-flip-4-8gb-128gb-hang-chinh-hang-p194034217.html?itm_campaign=CTP_YPD_TKA_PLA_UNK_ALL_UNK_UNK_UNK_UNK_X.163088_Y.1744616_Z.3253348_CN.Product-Ads-B4Q4&itm_medium=CPC&itm_source=tiki-ads&spid=194034225')\n",
    "\tcategories_df = add_status_categories(categories,  True)\n",
    "\tcategories_list = []\n",
    "\twhile (len(categories_df.index) < 100):\n",
    "\t\tmain_task()\n"
   ]
  },
  {
   "cell_type": "code",
   "execution_count": null,
   "metadata": {},
   "outputs": [],
   "source": [
    "a = [1,2,3,4]\n",
    "for i in a[1:]:\n",
    "    print(i)"
   ]
  }
 ],
 "metadata": {
  "kernelspec": {
   "display_name": "Python 3 (ipykernel)",
   "language": "python",
   "name": "python3"
  },
  "language_info": {
   "codemirror_mode": {
    "name": "ipython",
    "version": 3
   },
   "file_extension": ".py",
   "mimetype": "text/x-python",
   "name": "python",
   "nbconvert_exporter": "python",
   "pygments_lexer": "ipython3",
   "version": "3.10.6"
  },
  "vscode": {
   "interpreter": {
    "hash": "916dbcbb3f70747c44a77c7bcd40155683ae19c65e1c03b4aa3499c5328201f1"
   }
  }
 },
 "nbformat": 4,
 "nbformat_minor": 2
}
