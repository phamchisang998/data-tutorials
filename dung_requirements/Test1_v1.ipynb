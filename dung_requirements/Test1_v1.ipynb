{
 "cells": [
  {
   "cell_type": "code",
   "execution_count": 3,
   "metadata": {},
   "outputs": [
    {
     "name": "stdout",
     "output_type": "stream",
     "text": [
      "{'bccd': False}\n",
      "{'bccd': False, 'cd': True}\n",
      "{'bccd': False, 'cd': True, 'abccd': True}\n",
      "{'bccd': False, 'cd': True, 'abccd': True, 'aabccd': True}\n"
     ]
    },
    {
     "data": {
      "text/plain": [
       "True"
      ]
     },
     "execution_count": 3,
     "metadata": {},
     "output_type": "execute_result"
    }
   ],
   "source": [
    "from functools import *\n",
    "def sub_string(a, arr, memo={}):\n",
    "    if a == '':\n",
    "        return True\n",
    "    check = reduce(lambda x,y: x or a[:len(a)], a)\n",
    "    if check == False:\n",
    "        return False\n",
    "    if a in memo:\n",
    "        return memo[a] \n",
    "    output = False\n",
    "    for i in arr:\n",
    "        a1 = a[:len(i)]\n",
    "        if a1 == i:\n",
    "            a2 = a[len(i):]\n",
    "            output = output or sub_string(a2, arr, memo)     \n",
    "    memo[a] = output\n",
    "    print(memo)\n",
    "    return memo[a]\n",
    "\n",
    "sub_string(\"aabccd\",[\"a\",\"abc\",\"cd\",\"eef\",\"eeeee\"])"
   ]
  },
  {
   "cell_type": "code",
   "execution_count": 8,
   "metadata": {},
   "outputs": [
    {
     "data": {
      "text/plain": [
       "True"
      ]
     },
     "execution_count": 8,
     "metadata": {},
     "output_type": "execute_result"
    }
   ],
   "source": [
    "# space 0(n) , time 0(n)\n",
    "from functools import *\n",
    "def sub_string(a, arr, memo={}):\n",
    "    if a == '':\n",
    "        return True\n",
    "    if a in memo:\n",
    "        return memo[a] \n",
    "    output = False\n",
    "    for i in arr:\n",
    "        a1 = a[:len(i)]\n",
    "        if a1 == i:\n",
    "            a2 = a[len(i):]\n",
    "            output = output or sub_string(a2, arr, memo)     \n",
    "    memo[a] = output\n",
    "    return memo[a]\n",
    "\n",
    "sub_string(\"eeeeeeeeeeeeeeeeeeeeeeeeeeeeeeef\",[\"e\",\"ee\",\"eee\",\"eeee\",\"f\"])"
   ]
  },
  {
   "cell_type": "code",
   "execution_count": 7,
   "metadata": {},
   "outputs": [
    {
     "data": {
      "text/plain": [
       "'aab'"
      ]
     },
     "execution_count": 7,
     "metadata": {},
     "output_type": "execute_result"
    }
   ],
   "source": [
    "#tabu \n",
    "def sub_string_1(a, arr):\n",
    "    tabu = [False]*(len(a)+1)\n",
    "    tabu[0] = True\n",
    "    for i in range(len(a)+1):\n",
    "        a1 = a[i:]\n",
    "        for item in arr:\n",
    "            a2 = a1[:len(item)]\n",
    "            if item == a2:\n",
    "                tabu[i+len(item)] = tabu[len(item)+i] or tabu[i]\n",
    "    return tabu[len(a)]\n",
    "\n",
    "sub_string_1(\"eeeeeeeeeeeeeeeeeeef\",[\"e\",\"eee\",\"eeee\",\"ee\",\"f\"])"
   ]
  },
  {
   "cell_type": "code",
   "execution_count": 3,
   "metadata": {},
   "outputs": [
    {
     "name": "stdout",
     "output_type": "stream",
     "text": [
      "abcdef:abc\n",
      "def:ef\n",
      "{'d': []}\n",
      "def:f\n",
      "{'d': [], 'de': []}\n",
      "{'d': [], 'de': [], 'def': []}\n",
      "abcdef:ef\n",
      "abcd:abc\n",
      "{'d': [], 'de': [], 'def': [], 'abcd': []}\n",
      "abcdef:cde\n",
      "abf:f\n",
      "{'d': [], 'de': [], 'def': [], 'abcd': [], 'ab': []}\n",
      "{'d': [], 'de': [], 'def': [], 'abcd': [], 'ab': [], 'abf': []}\n",
      "abcdef:f\n",
      "abcde:abc\n",
      "abcde:cde\n",
      "{'d': [], 'de': [], 'def': [], 'abcd': [], 'ab': [], 'abf': [], 'abcde': []}\n",
      "{'d': [], 'de': [], 'def': [], 'abcd': [], 'ab': [], 'abf': [], 'abcde': [], 'abcdef': []}\n"
     ]
    },
    {
     "data": {
      "text/plain": [
       "[]"
      ]
     },
     "execution_count": 3,
     "metadata": {},
     "output_type": "execute_result"
    }
   ],
   "source": [
    "def sub_list_string(a, arr, memo={}):\n",
    "    if a == '':\n",
    "        return True\n",
    "    if a in memo:\n",
    "        return memo[a] \n",
    "    output = []\n",
    "    for i in arr:\n",
    "        if i in a:\n",
    "            a1 = a.replace(i,\"\")\n",
    "            print(a +\":\" + i)\n",
    "            Next_Res = sub_list_string(a1,arr,memo)\n",
    "            if Next_Res:\n",
    "                output.append(i)\n",
    "    memo[a] = output\n",
    "    print(memo)\n",
    "    return memo[a]\n",
    "\n",
    "sub_list_string(\"abcdef\",[\"abc\",\"ef\",\"cde\",\"f\"])"
   ]
  },
  {
   "cell_type": "code",
   "execution_count": 57,
   "metadata": {},
   "outputs": [
    {
     "data": {
      "text/plain": [
       "'eeeeeeeeeeeeeeeeeeeeeeeeeeeeeeeeeeeeeeeeeee'"
      ]
     },
     "execution_count": 57,
     "metadata": {},
     "output_type": "execute_result"
    }
   ],
   "source": [
    "#Longest Palindrome Substring\n",
    "\n",
    "#Define Palindrome for single string\n",
    "def mini_palindrome(s):\n",
    "    Middle = len(s)//2\n",
    "    s1 = s[:Middle]\n",
    "    s2 = s[(Middle):]\n",
    "    for i in range(1,len(s1)+1):\n",
    "        if s1[i-1] != s2[-i]:\n",
    "            return False\n",
    "    return True\n",
    "\n",
    "#Find max_string\n",
    "def max_sring(arr):\n",
    "    x = ''\n",
    "    for i in arr:\n",
    "        if len(i) > len(x):\n",
    "            x = i\n",
    "    return x\n",
    "#Longest Palindrome Substring Main\n",
    "def long_palindrome(s, memo = {}):\n",
    "    for i in range(0,len(s)):\n",
    "        s1 = s[i:]\n",
    "        for j in range(0,len(s1)):\n",
    "            s2 = s1[:j]\n",
    "            if s2 in memo:\n",
    "                continue\n",
    "            if mini_palindrome(s2) == True:\n",
    "                memo[s2] = True\n",
    "            else:\n",
    "                memo[s2] = False\n",
    "    right_list = list(filter(lambda x: True if memo[x] == True else False, memo))   \n",
    "    return max_sring(right_list)\n",
    "\n",
    "long_palindrome(\"eeeeeeeeeeeeeeeeeeeeeeeeeeeeeeeeeeeeeeeeeeef\")"
   ]
  }
 ],
 "metadata": {
  "kernelspec": {
   "display_name": "Python 3.10.6 64-bit",
   "language": "python",
   "name": "python3"
  },
  "language_info": {
   "codemirror_mode": {
    "name": "ipython",
    "version": 3
   },
   "file_extension": ".py",
   "mimetype": "text/x-python",
   "name": "python",
   "nbconvert_exporter": "python",
   "pygments_lexer": "ipython3",
   "version": "3.10.6"
  },
  "orig_nbformat": 4,
  "vscode": {
   "interpreter": {
    "hash": "52634da84371cba311ea128a5ea7cdc41ff074b781779e754b270ff9f8153cee"
   }
  }
 },
 "nbformat": 4,
 "nbformat_minor": 2
}
