{
 "cells": [
  {
   "cell_type": "markdown",
   "metadata": {},
   "source": [
    "EX: 1 TRƯỜNG CẤP 3 có 3 cấp 10,11,12 \n",
    "\n",
    "- Khối 10: 20 lớp\n",
    "- Khối 11: 18 lớp\n",
    "- khối 12: 15 lớp\n",
    "mỗi lớp sẽ có random từ 30-36 mỗi học sinh sẽ được identify bằng school ID tăng dần từ 1 -> tổng số học sinh. Class ID số thứ tự trong lớp từ 1 -> số học sinh một lớp. Mỗi học sinh có 1 aray chứa điểm theo thứu tự:\n",
    "toán, lý , hóa , ngữ văn , sử , địa, anh văn, công nghệ, GDCD, tin học\n",
    "\n",
    "\n",
    "\n",
    "------ require generator------\n",
    "thư mục lớn: trường\n",
    "trong thư lớn có 3 thư mục nhỏ :3 khối\n",
    "trong thư mục nhỏ có file theo tên lớp: 10A1.js,..... -> bên trong chứa Array Json : chứa từng json là từng học sinh trong lớp HS:{SCHOOL ID : INT, CLASS ID:INT, SCORES:[average theo định nghĩa random theo Float ]} \n",
    "~70% học sinh phải có điểm TB môn > TB , ~30% học sinh có điểm dưới trung bình \n",
    "\n",
    "\n",
    "----- require read file -----\n",
    "- Xuất ra 1 cái folder y chang trên chứa rank của từng khối với điểm học sinh và loại học sinh\n",
    "\n",
    "- Tổng số học sinh giỏi ,tổng số học sinh khá, tổng học sinh trung bình tạo ra 1 file thống kê\n",
    "\n",
    "- Xuất ra 3 file chứa tổng học sinh giỏi , tổng học sinh khá, tổng học sinh trung bình từng khối\n",
    "\n",
    "- Lọc ra top 3 học sinh giỏi nhất của từng khối"
   ]
  },
  {
   "cell_type": "code",
   "execution_count": null,
   "metadata": {},
   "outputs": [],
   "source": []
  }
 ],
 "metadata": {
  "kernelspec": {
   "display_name": "Python 3.10.6 64-bit",
   "language": "python",
   "name": "python3"
  },
  "language_info": {
   "name": "python",
   "version": "3.10.6"
  },
  "orig_nbformat": 4,
  "vscode": {
   "interpreter": {
    "hash": "52634da84371cba311ea128a5ea7cdc41ff074b781779e754b270ff9f8153cee"
   }
  }
 },
 "nbformat": 4,
 "nbformat_minor": 2
}
