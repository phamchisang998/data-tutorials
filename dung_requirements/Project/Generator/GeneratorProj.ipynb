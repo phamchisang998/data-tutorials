{
 "cells": [
  {
   "cell_type": "markdown",
   "metadata": {},
   "source": [
    "EX: 1 TRƯỜNG CẤP 3 có 3 cấp 10,11,12 \n",
    "\n",
    "- Khối 10: 20 lớp\n",
    "- Khối 11: 18 lớp\n",
    "- khối 12: 15 lớp\n",
    "mỗi lớp sẽ có random từ 30-36 mỗi    học sinh sẽ được identify bằng school ID tăng dần từ 1 -> tổng số học sinh. Class ID số thứ tự trong lớp từ 1 -> số học sinh một lớp. Mỗi học sinh có 1 aray chứa điểm theo thứu tự:\n",
    "toán, lý , hóa , ngữ văn , sử , địa, anh văn, công nghệ, GDCD, tin học\n",
    "\n",
    "\n",
    "\n",
    "------ require generator------\n",
    "thư mục lớn: trường\n",
    "trong thư lớn có 3 thư mục nhỏ :3 khối\n",
    "trong thư mục nhỏ có file theo tên lớp: 10A1.js,..... -> bên trong chứa Array Json : chứa từng json là từng học sinh trong lớp HS:{SCHOOL ID : INT, CLASS ID:INT, SCORES:[average theo định nghĩa random theo Float ]} \n",
    "~70% học sinh phải có điểm TB môn > TB , ~30% học sinh có điểm dưới trung bình \n",
    "\n",
    "\n",
    "----- require read file -----\n",
    "- Xuất ra 1 cái folder y chang trên chứa them rank của từng khối với điểm học sinh và loại học sinh\n",
    "\n",
    "- Tổng số học sinh giỏi ,tổng số học sinh khá, tổng học sinh trung bình tạo ra 1 file thống kê\n",
    "\n",
    "- Xuất ra 3 file chứa tổng học sinh giỏi , tổng học sinh khá, tổng học sinh trung bình từng khối\n",
    "\n",
    "- Lọc ra top 3 học sinh giỏi nhất của từng khối"
   ]
  },
  {
   "cell_type": "code",
   "execution_count": 32,
   "metadata": {},
   "outputs": [],
   "source": [
    "# library\n",
    "from functools import *\n",
    "from pathlib import Path\n",
    "import json\n",
    "import os\n",
    "import random"
   ]
  },
  {
   "cell_type": "code",
   "execution_count": 2,
   "metadata": {},
   "outputs": [
    {
     "name": "stdout",
     "output_type": "stream",
     "text": [
      "Directory '10' created successfully\n",
      "Directory '11' created successfully\n",
      "Directory '12' created successfully\n",
      "{}\n"
     ]
    }
   ],
   "source": [
    "class data_generator:\n",
    "   def __init__(self,school = \"\",grade_class = {},parent_dir = ''):\n",
    "      self.school = school\n",
    "      self.grade_class = grade_class\n",
    "      self.parent_dir = parent_dir\n",
    "      self.ID_school = 0\n",
    "\n",
    "   def create_foler(self):\n",
    "      self.school = \"Le Quy Don\"\n",
    "      self.grade_class = {\"10\":20, \"11\":18, \"12\":15}\n",
    "      self.parent_dir = \"../Generator/Data\"\n",
    "      for key,val in self.grade_class.items():\n",
    "         # Path\n",
    "         path = os.path.join(self.parent_dir, key)\n",
    "         # Create the directory\n",
    "         try:\n",
    "            os.makedirs(path, exist_ok = True)\n",
    "            print(\"Directory '%s' created successfully\" % key)\n",
    "         except OSError as error:\n",
    "            print(\"Directory '%s' can not be created\" % key)\n",
    "      \n",
    "   def generate_data_class(self):\n",
    "      self.ID_school += 1\n",
    "      if not bool(self.grade_class):\n",
    "         return None\n",
    "      grade,ordinal_numbers = random.choice(list(self.grade_class.items()))\n",
    "      if ordinal_numbers > 0:\n",
    "         student_total = random.randint(30,35)\n",
    "         self.grade_class[grade] = ordinal_numbers -1\n",
    "         for i in range(0,student_total+1):\n",
    "            percentage_avr = random.random()\n",
    "            overall = lambda x: random.uniform(0,5) if percentage_avr < 0.3 else random.uniform(5,10)\n",
    "            avr_score = overall(percentage_avr)\n",
    "            score = {\"Math\":avr_score, \"Physic\":avr_score, \"Chemistry\": avr_score, \"Literature\":avr_score, \"History\": avr_score, \"Geographic\": avr_score,\n",
    "                     \"English\": avr_score, \"Technique\": avr_score, \"Common Sense\": avr_score, \"Computer\": avr_score}\n",
    "            sub_higher = 10.0 - avr_score\n",
    "            sub_lower = avr_score - 10.0\n",
    "            while(sub_higher != 0 or sub_lower != 0 ):\n",
    "               alpha = random.random()\n",
    "               beta = random.random()\n",
    "               subject,subj_score = random.choice(list(score.items()))\n",
    "               subj_score = subj_score + alpha*sub_higher + beta*sub_lower\n",
    "               sub_higher = sub_higher - alpha*sub_higher\n",
    "               sub_lower = sub_lower - beta*sub_lower\n",
    "               score[subject] = subj_score\n",
    "            ## append ordinal_numbers to file\n",
    "            final = False\n",
    "            if i == student_total:\n",
    "               final = True\n",
    "            value_append_file = {\"School ID\": self.ID_school, \"Class ID\": i, \"Score\": score }\n",
    "            self.dump_data_to_file(grade,ordinal_numbers,value_append_file, final)\n",
    "      else:\n",
    "         del self.grade_class[grade]\n",
    "      return self.generate_data_class()          \n",
    "   def dump_data():\n",
    "      pass\n",
    "   def control_generator():\n",
    "      pass\n",
    "\n",
    "   def dump_data_to_file(self, grade, ordinal_numbers, value, final):\n",
    "      filename = Path(str(grade) + \"/\" + str(grade) + \"A\" + str(ordinal_numbers) + \".json\")\n",
    "      fileToOpen = \"Data\"/filename\n",
    "      if (os.path.exists(fileToOpen) == False):\n",
    "         with open(fileToOpen,\"a\") as file:\n",
    "            file.write('[')\n",
    "            json.dump(value, file, indent = 4)\n",
    "      else:\n",
    "         with open(fileToOpen,\"a+\") as file:\n",
    "            file.write(',')\n",
    "            json.dump(value, file, indent = 4)\n",
    "         if final:\n",
    "            with open(fileToOpen,\"a+\") as file:\n",
    "               file.write(']')\n",
    "\n",
    "generator = data_generator()\n",
    "generator.create_foler()\n",
    "generator.generate_data_class()    \n",
    "print(generator.grade_class)"
   ]
  },
  {
   "cell_type": "code",
   "execution_count": 5,
   "metadata": {},
   "outputs": [
    {
     "name": "stdout",
     "output_type": "stream",
     "text": [
      "195 ms ± 66.2 ms per loop (mean ± std. dev. of 7 runs, 10 loops each)\n"
     ]
    }
   ],
   "source": [
    "# Checking a ability\n",
    "def ranking_student(student):\n",
    "    overall = sum(student[\"Score\"].values())/10\n",
    "    good = all(v > 6.5 for v in student[\"Score\"].values()) and (student[\"Score\"][\"Math\"]>6.5 or student[\"Score\"][\"Literature\"]>6.5 )\n",
    "    medium = all(v > 5 for v in student[\"Score\"].values()) and (student[\"Score\"][\"Math\"]>6.5 or student[\"Score\"][\"Literature\"]>6.5 )\n",
    "    weak = all(v > 3.5 for v in student[\"Score\"].values()) and (student[\"Score\"][\"Math\"]>6.5 or student[\"Score\"][\"Literature\"]>6.5 )\n",
    "    if overall > 8 and good:\n",
    "        student[\"rank\"] = \"good\"\n",
    "    elif overall > 6.5 and medium:\n",
    "        student[\"rank\"] = \"medium\"   \n",
    "    else: \n",
    "        student[\"rank\"] = \"weak\"\n",
    "    student[\"average\"] = overall\n",
    "    return student\n",
    "\n",
    "def Edit_student_rank():\n",
    "    students_rank = {\n",
    "        \"good\": 0\n",
    "        ,\"medium\": 0\n",
    "        ,\"weak\": 0\n",
    "    }\n",
    "    path = \"Data\"\n",
    "    dir_list = os.listdir(path)\n",
    "    for i in dir_list:\n",
    "        path_folder = path+\"/\"+i\n",
    "        folder_list = os.listdir(path_folder)\n",
    "        for j in folder_list:\n",
    "            file_path = Path(path_folder + \"/\" + j)\n",
    "            with open(file_path) as file:\n",
    "                data = json.load(file)\n",
    "            data = list(map(ranking_student,data))\n",
    "            with open(file_path,\"w+\") as file:\n",
    "                json.dump(data,file,indent=4)\n",
    "\n",
    "Edit_student_rank()\n",
    "%timeit Edit_student_rank()"
   ]
  },
  {
   "cell_type": "code",
   "execution_count": 9,
   "metadata": {},
   "outputs": [
    {
     "name": "stdout",
     "output_type": "stream",
     "text": [
      "{'good': 497, 'medium': 356, 'weak': 931}\n",
      "21.1 ms ± 8.23 ms per loop (mean ± std. dev. of 7 runs, 100 loops each)\n"
     ]
    }
   ],
   "source": [
    "def Count_student_rank ():\n",
    "    students_rank = {\n",
    "        \"good\": 0\n",
    "        ,\"medium\": 0\n",
    "        ,\"weak\": 0\n",
    "    }\n",
    "    path = \"Data\"\n",
    "    dir_list = os.listdir(path)\n",
    "    for i in dir_list:\n",
    "        path_folder = path+\"/\"+i\n",
    "        folder_list = os.listdir(path_folder)\n",
    "        for j in folder_list:\n",
    "            file_path = path_folder + \"/\" + j\n",
    "            with open(file_path) as file:\n",
    "                data = json.load(file) \n",
    "                data = [students_rank] + data  \n",
    "            students_rank = reduce(increase_ranks, data)\n",
    "    return students_rank\n",
    "\n",
    "def increase_ranks(x, y):\n",
    "    for item in x.keys():\n",
    "        if y[\"rank\"] == item:\n",
    "            x[item] = x[item] + 1\n",
    "    return x\n",
    "count_student = Count_student_rank()\n",
    "print(count_student)\n",
    "%timeit Count_student_rank()"
   ]
  },
  {
   "cell_type": "code",
   "execution_count": 49,
   "metadata": {},
   "outputs": [
    {
     "name": "stdout",
     "output_type": "stream",
     "text": [
      "Defaulting to user installation because normal site-packages is not writeable\n",
      "Requirement already satisfied: numpy in /home/minh/.local/lib/python3.10/site-packages (1.23.4)\n"
     ]
    }
   ],
   "source": [
    "# run command line\n",
    "! pip install numpy"
   ]
  },
  {
   "cell_type": "code",
   "execution_count": 38,
   "metadata": {},
   "outputs": [],
   "source": [
    "#Xuất ra 3 file chứa tổng học sinh giỏi , tổng học sinh khá, tổng học sinh trung bình từng khối\n",
    "def stastic_collecting():\n",
    "    path = \"Data\"\n",
    "    dir_list = os.listdir(path)\n",
    "    for i in dir_list:\n",
    "        path_folder = path+\"/\"+i\n",
    "        folder_list = os.listdir(path_folder)\n",
    "        students = {\n",
    "        \"good\": []\n",
    "        ,\"medium\": []\n",
    "        ,\"weak\": []\n",
    "         }\n",
    "        for j in folder_list:\n",
    "            file_path = path_folder + \"/\" + j\n",
    "            with open(file_path) as file:\n",
    "                data = json.load(file) \n",
    "                data = [students] + data\n",
    "            students = reduce(increase_stastics, data)\n",
    "            for item in students.items():\n",
    "                result_path = path_folder + '/' + item[0]\n",
    "                with open(result_path, \"w+\") as file:\n",
    "                    json.dump(item[1],file,indent=4)\n",
    "def increase_stastics(x, y):\n",
    "    rank = y[\"rank\"]\n",
    "    x[rank].append(y)\n",
    "    return x\n",
    "\n",
    "stastic_collecting()            "
   ]
  },
  {
   "cell_type": "code",
   "execution_count": 1,
   "metadata": {},
   "outputs": [
    {
     "ename": "NameError",
     "evalue": "name 'json' is not defined",
     "output_type": "error",
     "traceback": [
      "\u001b[0;31m---------------------------------------------------------------------------\u001b[0m",
      "\u001b[0;31mNameError\u001b[0m                                 Traceback (most recent call last)",
      "Cell \u001b[0;32mIn [1], line 17\u001b[0m\n\u001b[1;32m     14\u001b[0m         students_ranking[i]\u001b[39m.\u001b[39mappend(data[:\u001b[39m3\u001b[39m])\n\u001b[1;32m     15\u001b[0m     \u001b[39mreturn\u001b[39;00m students_ranking\n\u001b[0;32m---> 17\u001b[0m stastic_collecting_best()\n",
      "Cell \u001b[0;32mIn [1], line 12\u001b[0m, in \u001b[0;36mstastic_collecting_best\u001b[0;34m()\u001b[0m\n\u001b[1;32m     10\u001b[0m path_file \u001b[39m=\u001b[39m path \u001b[39m+\u001b[39m \u001b[39m'\u001b[39m\u001b[39m/\u001b[39m\u001b[39m'\u001b[39m \u001b[39m+\u001b[39m i \u001b[39m+\u001b[39m \u001b[39m\"\u001b[39m\u001b[39m/good\u001b[39m\u001b[39m\"\u001b[39m\n\u001b[1;32m     11\u001b[0m \u001b[39mwith\u001b[39;00m \u001b[39mopen\u001b[39m(path_file) \u001b[39mas\u001b[39;00m file:\n\u001b[0;32m---> 12\u001b[0m     data \u001b[39m=\u001b[39m json\u001b[39m.\u001b[39mload(file)\n\u001b[1;32m     13\u001b[0m data\u001b[39m.\u001b[39msort(key \u001b[39m=\u001b[39m \u001b[39mlambda\u001b[39;00m x: x[\u001b[39m'\u001b[39m\u001b[39maverage\u001b[39m\u001b[39m'\u001b[39m], reverse\u001b[39m=\u001b[39m\u001b[39mTrue\u001b[39;00m)\n\u001b[1;32m     14\u001b[0m students_ranking[i]\u001b[39m.\u001b[39mappend(data[:\u001b[39m3\u001b[39m])\n",
      "\u001b[0;31mNameError\u001b[0m: name 'json' is not defined"
     ]
    }
   ],
   "source": [
    "def stastic_collecting_best():\n",
    "    path = \"Data\"\n",
    "    dir_list = os.listdir(path)\n",
    "    students_ranking = {\n",
    "        \"10\": []\n",
    "        ,\"11\": []\n",
    "        ,\"12\": []\n",
    "         }\n",
    "    for i in dir_list:\n",
    "        path_file = path + '/' + i + \"/good\"\n",
    "        with open(path_file) as file:\n",
    "            data = json.load(file)\n",
    "        data.sort(key = lambda x: x['average'], reverse=True)\n",
    "        students_ranking[i].append(data[:3])\n",
    "    return students_ranking\n",
    "\n",
    "stastic_collecting_best()"
   ]
  }
 ],
 "metadata": {
  "kernelspec": {
   "display_name": "Python 3.10.6 64-bit",
   "language": "python",
   "name": "python3"
  },
  "language_info": {
   "codemirror_mode": {
    "name": "ipython",
    "version": 3
   },
   "file_extension": ".py",
   "mimetype": "text/x-python",
   "name": "python",
   "nbconvert_exporter": "python",
   "pygments_lexer": "ipython3",
   "version": "3.10.6"
  },
  "orig_nbformat": 4,
  "vscode": {
   "interpreter": {
    "hash": "916dbcbb3f70747c44a77c7bcd40155683ae19c65e1c03b4aa3499c5328201f1"
   }
  }
 },
 "nbformat": 4,
 "nbformat_minor": 2
}
