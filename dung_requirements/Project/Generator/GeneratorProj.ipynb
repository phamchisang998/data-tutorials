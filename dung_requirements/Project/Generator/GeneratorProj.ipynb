{
 "cells": [
  {
   "cell_type": "markdown",
   "metadata": {},
   "source": [
    "EX: 1 TRƯỜNG CẤP 3 có 3 cấp 10,11,12 \n",
    "\n",
    "- Khối 10: 20 lớp\n",
    "- Khối 11: 18 lớp\n",
    "- khối 12: 15 lớp\n",
    "mỗi lớp sẽ có random từ 30-36 mỗi học sinh sẽ được identify bằng school ID tăng dần từ 1 -> tổng số học sinh. Class ID số thứ tự trong lớp từ 1 -> số học sinh một lớp. Mỗi học sinh có 1 aray chứa điểm theo thứu tự:\n",
    "toán, lý , hóa , ngữ văn , sử , địa, anh văn, công nghệ, GDCD, tin học\n",
    "\n",
    "\n",
    "\n",
    "------ require generator------\n",
    "thư mục lớn: trường\n",
    "trong thư lớn có 3 thư mục nhỏ :3 khối\n",
    "trong thư mục nhỏ có file theo tên lớp: 10A1.js,..... -> bên trong chứa Array Json : chứa từng json là từng học sinh trong lớp HS:{SCHOOL ID : INT, CLASS ID:INT, SCORES:[average theo định nghĩa random theo Float ]} \n",
    "~70% học sinh phải có điểm TB môn > TB , ~30% học sinh có điểm dưới trung bình \n",
    "\n",
    "\n",
    "----- require read file -----\n",
    "- Xuất ra 1 cái folder y chang trên chứa rank của từng khối với điểm học sinh và loại học sinh\n",
    "\n",
    "- Tổng số học sinh giỏi ,tổng số học sinh khá, tổng học sinh trung bình tạo ra 1 file thống kê\n",
    "\n",
    "- Xuất ra 3 file chứa tổng học sinh giỏi , tổng học sinh khá, tổng học sinh trung bình từng khối\n",
    "\n",
    "- Lọc ra top 3 học sinh giỏi nhất của từng khối"
   ]
  },
  {
   "cell_type": "code",
   "execution_count": 6,
   "metadata": {},
   "outputs": [
    {
     "ename": "TypeError",
     "evalue": "join() argument must be str, bytes, or os.PathLike object, not 'int'",
     "output_type": "error",
     "traceback": [
      "\u001b[1;31m---------------------------------------------------------------------------\u001b[0m",
      "\u001b[1;31mTypeError\u001b[0m                                 Traceback (most recent call last)",
      "\u001b[1;32mc:\\Users\\Dung'PC\\source\\data-tutorials\\dung_requirements\\Project\\Generator\\GeneratorProj.ipynb Cell 2\u001b[0m in \u001b[0;36m<cell line: 31>\u001b[1;34m()\u001b[0m\n\u001b[0;32m     <a href='vscode-notebook-cell:/c%3A/Users/Dung%27PC/source/data-tutorials/dung_requirements/Project/Generator/GeneratorProj.ipynb#W2sZmlsZQ%3D%3D?line=27'>28</a>\u001b[0m       \u001b[39mpass\u001b[39;00m\n\u001b[0;32m     <a href='vscode-notebook-cell:/c%3A/Users/Dung%27PC/source/data-tutorials/dung_requirements/Project/Generator/GeneratorProj.ipynb#W2sZmlsZQ%3D%3D?line=29'>30</a>\u001b[0m generator \u001b[39m=\u001b[39m data_generator()\n\u001b[1;32m---> <a href='vscode-notebook-cell:/c%3A/Users/Dung%27PC/source/data-tutorials/dung_requirements/Project/Generator/GeneratorProj.ipynb#W2sZmlsZQ%3D%3D?line=30'>31</a>\u001b[0m generator\u001b[39m.\u001b[39;49mcreate_foler()\n",
      "\u001b[1;32mc:\\Users\\Dung'PC\\source\\data-tutorials\\dung_requirements\\Project\\Generator\\GeneratorProj.ipynb Cell 2\u001b[0m in \u001b[0;36mdata_generator.create_foler\u001b[1;34m(self)\u001b[0m\n\u001b[0;32m     <a href='vscode-notebook-cell:/c%3A/Users/Dung%27PC/source/data-tutorials/dung_requirements/Project/Generator/GeneratorProj.ipynb#W2sZmlsZQ%3D%3D?line=11'>12</a>\u001b[0m \u001b[39mself\u001b[39m\u001b[39m.\u001b[39mparent_dir \u001b[39m=\u001b[39m \u001b[39m\"\u001b[39m\u001b[39m../Generator/Data\u001b[39m\u001b[39m\"\u001b[39m\n\u001b[0;32m     <a href='vscode-notebook-cell:/c%3A/Users/Dung%27PC/source/data-tutorials/dung_requirements/Project/Generator/GeneratorProj.ipynb#W2sZmlsZQ%3D%3D?line=12'>13</a>\u001b[0m \u001b[39mfor\u001b[39;00m key,val \u001b[39min\u001b[39;00m \u001b[39mself\u001b[39m\u001b[39m.\u001b[39mgrade_class\u001b[39m.\u001b[39mitems():\n\u001b[0;32m     <a href='vscode-notebook-cell:/c%3A/Users/Dung%27PC/source/data-tutorials/dung_requirements/Project/Generator/GeneratorProj.ipynb#W2sZmlsZQ%3D%3D?line=13'>14</a>\u001b[0m    \u001b[39m# Path\u001b[39;00m\n\u001b[1;32m---> <a href='vscode-notebook-cell:/c%3A/Users/Dung%27PC/source/data-tutorials/dung_requirements/Project/Generator/GeneratorProj.ipynb#W2sZmlsZQ%3D%3D?line=14'>15</a>\u001b[0m    path \u001b[39m=\u001b[39m os\u001b[39m.\u001b[39;49mpath\u001b[39m.\u001b[39;49mjoin(\u001b[39mself\u001b[39;49m\u001b[39m.\u001b[39;49mparent_dir, key)\n\u001b[0;32m     <a href='vscode-notebook-cell:/c%3A/Users/Dung%27PC/source/data-tutorials/dung_requirements/Project/Generator/GeneratorProj.ipynb#W2sZmlsZQ%3D%3D?line=15'>16</a>\u001b[0m    \u001b[39m# Create the directory\u001b[39;00m\n\u001b[0;32m     <a href='vscode-notebook-cell:/c%3A/Users/Dung%27PC/source/data-tutorials/dung_requirements/Project/Generator/GeneratorProj.ipynb#W2sZmlsZQ%3D%3D?line=16'>17</a>\u001b[0m    \u001b[39mtry\u001b[39;00m:\n",
      "File \u001b[1;32mc:\\Python\\lib\\ntpath.py:143\u001b[0m, in \u001b[0;36mjoin\u001b[1;34m(path, *paths)\u001b[0m\n\u001b[0;32m    141\u001b[0m     \u001b[39mreturn\u001b[39;00m result_drive \u001b[39m+\u001b[39m result_path\n\u001b[0;32m    142\u001b[0m \u001b[39mexcept\u001b[39;00m (\u001b[39mTypeError\u001b[39;00m, \u001b[39mAttributeError\u001b[39;00m, \u001b[39mBytesWarning\u001b[39;00m):\n\u001b[1;32m--> 143\u001b[0m     genericpath\u001b[39m.\u001b[39;49m_check_arg_types(\u001b[39m'\u001b[39;49m\u001b[39mjoin\u001b[39;49m\u001b[39m'\u001b[39;49m, path, \u001b[39m*\u001b[39;49mpaths)\n\u001b[0;32m    144\u001b[0m     \u001b[39mraise\u001b[39;00m\n",
      "File \u001b[1;32mc:\\Python\\lib\\genericpath.py:152\u001b[0m, in \u001b[0;36m_check_arg_types\u001b[1;34m(funcname, *args)\u001b[0m\n\u001b[0;32m    150\u001b[0m         hasbytes \u001b[39m=\u001b[39m \u001b[39mTrue\u001b[39;00m\n\u001b[0;32m    151\u001b[0m     \u001b[39melse\u001b[39;00m:\n\u001b[1;32m--> 152\u001b[0m         \u001b[39mraise\u001b[39;00m \u001b[39mTypeError\u001b[39;00m(\u001b[39mf\u001b[39m\u001b[39m'\u001b[39m\u001b[39m{\u001b[39;00mfuncname\u001b[39m}\u001b[39;00m\u001b[39m() argument must be str, bytes, or \u001b[39m\u001b[39m'\u001b[39m\n\u001b[0;32m    153\u001b[0m                         \u001b[39mf\u001b[39m\u001b[39m'\u001b[39m\u001b[39mos.PathLike object, not \u001b[39m\u001b[39m{\u001b[39;00ms\u001b[39m.\u001b[39m\u001b[39m__class__\u001b[39m\u001b[39m.\u001b[39m\u001b[39m__name__\u001b[39m\u001b[39m!r}\u001b[39;00m\u001b[39m'\u001b[39m) \u001b[39mfrom\u001b[39;00m \u001b[39mNone\u001b[39m\n\u001b[0;32m    154\u001b[0m \u001b[39mif\u001b[39;00m hasstr \u001b[39mand\u001b[39;00m hasbytes:\n\u001b[0;32m    155\u001b[0m     \u001b[39mraise\u001b[39;00m \u001b[39mTypeError\u001b[39;00m(\u001b[39m\"\u001b[39m\u001b[39mCan\u001b[39m\u001b[39m'\u001b[39m\u001b[39mt mix strings and bytes in path components\u001b[39m\u001b[39m\"\u001b[39m) \u001b[39mfrom\u001b[39;00m \u001b[39mNone\u001b[39m\n",
      "\u001b[1;31mTypeError\u001b[0m: join() argument must be str, bytes, or os.PathLike object, not 'int'"
     ]
    }
   ],
   "source": [
    "import os\n",
    "import random\n",
    "class data_generator:\n",
    "   def __init__(self,school = \"\",grade_class = {},parent_dir = ''):\n",
    "      self.school = school\n",
    "      self.grade_class = grade_class\n",
    "      self.parent_dir = parent_dir\n",
    "\n",
    "   def create_foler(self):\n",
    "      self.school = \"Le Quy Don\"\n",
    "      self.grade_class = {\"10\":20, \"11\":18, \"12\":15}\n",
    "      self.parent_dir = \"../Generator/Data\"\n",
    "      for key,val in self.grade_class.items():\n",
    "         # Path\n",
    "         path = os.path.join(self.parent_dir, key)\n",
    "         # Create the directory\n",
    "         try:\n",
    "            os.makedirs(path, exist_ok = True)\n",
    "            print(\"Directory '%s' created successfully\" % key)\n",
    "         except OSError as error:\n",
    "            print(\"Directory '%s' can not be created\" % key)\n",
    "      \n",
    "   def generate_data_class(self):\n",
    "      School_id = 0\n",
    "      for i in self.grade_class.items():\n",
    "         for j in range(1,i[1]):\n",
    "            mode = random.randint(0,1)\n",
    "            \n",
    "   def dump_data():\n",
    "      pass\n",
    "   def control_generator():\n",
    "      pass\n",
    "\n",
    "generator = data_generator()\n",
    "generator.create_foler()\n",
    "      "
   ]
  }
 ],
 "metadata": {
  "kernelspec": {
   "display_name": "Python 3.10.6 64-bit",
   "language": "python",
   "name": "python3"
  },
  "language_info": {
   "codemirror_mode": {
    "name": "ipython",
    "version": 3
   },
   "file_extension": ".py",
   "mimetype": "text/x-python",
   "name": "python",
   "nbconvert_exporter": "python",
   "pygments_lexer": "ipython3",
   "version": "3.10.6"
  },
  "orig_nbformat": 4,
  "vscode": {
   "interpreter": {
    "hash": "52634da84371cba311ea128a5ea7cdc41ff074b781779e754b270ff9f8153cee"
   }
  }
 },
 "nbformat": 4,
 "nbformat_minor": 2
}
