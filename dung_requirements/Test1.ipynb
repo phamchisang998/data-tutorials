{
 "cells": [
  {
   "cell_type": "code",
   "execution_count": null,
   "metadata": {},
   "outputs": [],
   "source": [
    "def sub_string(a, arr, memo={}):\n",
    "    if a == '':\n",
    "        return True\n",
    "    if a in memo:\n",
    "        return memo[a] \n",
    "    output = False\n",
    "    for i in arr:\n",
    "        if i in a:\n",
    "            a1 = a.replace(i,\"\")\n",
    "            output = output or sub_string(a1, arr, memo)\n",
    "    memo[a] = output\n",
    "    print(memo)\n",
    "    return memo[a]\n",
    "\n",
    "sub_string(\"abccdef\",[\"ab\",\"abc\",\"ef\",\"cde\",\"f\"])"
   ]
  },
  {
   "cell_type": "code",
   "execution_count": null,
   "metadata": {},
   "outputs": [],
   "source": [
    "def sub_list_string(a, arr, memo={}):\n",
    "    if a == '':\n",
    "        return True\n",
    "    if a in memo:\n",
    "        return memo[a] \n",
    "    output = []\n",
    "    for i in arr:\n",
    "        if i in a:\n",
    "            a1 = a.replace(i,\"\")\n",
    "            print(a +\":\" + i)\n",
    "            Next_Res = sub_list_string(a1,arr,memo)\n",
    "            if Next_Res:\n",
    "                output.append(i)\n",
    "    memo[a] = output\n",
    "    print(memo)\n",
    "    return memo[a]\n",
    "\n",
    "sub_list_string(\"abcdef\",[\"abc\",\"ab\",\"ef\",\"cde\",\"f\"])"
   ]
  },
  {
   "cell_type": "code",
   "execution_count": null,
   "metadata": {},
   "outputs": [],
   "source": [
    "#Longest Palindrome Substring\n",
    "\n",
    "#Define Palindrome for single string\n",
    "def mini_palindrome(s):\n",
    "    Middle = len(s)//2\n",
    "    if s[:Middle] == s[(Middle+1):]:\n",
    "        return True\n",
    "    return False\n",
    "\n",
    "#Find max_string\n",
    "def max_sring(arr):\n",
    "    x = \"\"\n",
    "    x = arr[0]\n",
    "    for i in arr:\n",
    "        if len(i) > len(x):\n",
    "            x = i\n",
    "    return x\n",
    "#Longest Palindrome Substring Main\n",
    "def long_palindrome(s, memo = {}):\n",
    "    for i in range(0,len(s)+1):\n",
    "        s1 = s[i:]\n",
    "        for j in range(0,len(s1)+1):\n",
    "            s2 = s1[:j]\n",
    "            if s2 in memo:\n",
    "                continue\n",
    "            if mini_palindrome(s2):\n",
    "                memo[s2] = True\n",
    "            else:\n",
    "                memo[s2] = False\n",
    "    right_list = list(filter(lambda x: True if memo[x] == True else False, memo))\n",
    "    \n",
    "    return max_sring(right_list)\n",
    "\n",
    "long_palindrome(\"acabaca\")"
   ]
  }
 ],
 "metadata": {
  "language_info": {
   "name": "python"
  },
  "orig_nbformat": 4
 },
 "nbformat": 4,
 "nbformat_minor": 2
}
