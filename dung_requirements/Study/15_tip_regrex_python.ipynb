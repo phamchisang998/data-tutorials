{
 "cells": [
  {
   "cell_type": "code",
   "execution_count": 26,
   "metadata": {},
   "outputs": [
    {
     "name": "stdout",
     "output_type": "stream",
     "text": [
      "../03_draft_data/THPT_VoNguyenGiap/Grade11/11B16.json 11B16\n",
      "../03_draft_data/THPT_VoNguyenGiap/Grade11/11B4.json 11B4\n",
      "../03_draft_data/THPT_VoNguyenGiap/Grade11/11B18.json 11B18\n",
      "../03_draft_data/THPT_VoNguyenGiap/Grade11/11B10.json 11B10\n",
      "../03_draft_data/THPT_VoNguyenGiap/Grade11/11B5.json 11B5\n",
      "../03_draft_data/THPT_VoNguyenGiap/Grade11/11B17.json 11B17\n",
      "../03_draft_data/THPT_VoNguyenGiap/Grade11/11B6.json 11B6\n",
      "../03_draft_data/THPT_VoNguyenGiap/Grade11/11B11.json 11B11\n",
      "../03_draft_data/THPT_VoNguyenGiap/Grade11/11B7.json 11B7\n",
      "../03_draft_data/THPT_VoNguyenGiap/Grade11/11B15.json 11B15\n",
      "../03_draft_data/THPT_VoNguyenGiap/Grade11/11B12.json 11B12\n",
      "../03_draft_data/THPT_VoNguyenGiap/Grade11/11B1.json 11B1\n",
      "../03_draft_data/THPT_VoNguyenGiap/Grade11/11B14.json 11B14\n",
      "../03_draft_data/THPT_VoNguyenGiap/Grade11/11B8.json 11B8\n",
      "../03_draft_data/THPT_VoNguyenGiap/Grade11/11B13.json 11B13\n",
      "../03_draft_data/THPT_VoNguyenGiap/Grade11/11B9.json 11B9\n",
      "../03_draft_data/THPT_VoNguyenGiap/Grade11/11B2.json 11B2\n",
      "../03_draft_data/THPT_VoNguyenGiap/Grade11/11B3.json 11B3\n",
      "../03_draft_data/THPT_VoNguyenGiap/Grade12/12C10.json 12C10\n",
      "../03_draft_data/THPT_VoNguyenGiap/Grade12/12C6.json 12C6\n",
      "../03_draft_data/THPT_VoNguyenGiap/Grade12/12C8.json 12C8\n",
      "../03_draft_data/THPT_VoNguyenGiap/Grade12/12C3.json 12C3\n",
      "../03_draft_data/THPT_VoNguyenGiap/Grade12/12C12.json 12C12\n",
      "../03_draft_data/THPT_VoNguyenGiap/Grade12/12C7.json 12C7\n",
      "../03_draft_data/THPT_VoNguyenGiap/Grade12/12C2.json 12C2\n",
      "../03_draft_data/THPT_VoNguyenGiap/Grade12/12C13.json 12C13\n",
      "../03_draft_data/THPT_VoNguyenGiap/Grade12/12C15.json 12C15\n",
      "../03_draft_data/THPT_VoNguyenGiap/Grade12/12C9.json 12C9\n",
      "../03_draft_data/THPT_VoNguyenGiap/Grade12/12C1.json 12C1\n",
      "../03_draft_data/THPT_VoNguyenGiap/Grade12/12C5.json 12C5\n",
      "../03_draft_data/THPT_VoNguyenGiap/Grade12/12C11.json 12C11\n",
      "../03_draft_data/THPT_VoNguyenGiap/Grade12/12C4.json 12C4\n",
      "../03_draft_data/THPT_VoNguyenGiap/Grade12/12C14.json 12C14\n",
      "../03_draft_data/THPT_VoNguyenGiap/Grade10/10A15.json 10A15\n",
      "../03_draft_data/THPT_VoNguyenGiap/Grade10/10A1.json 10A1\n",
      "../03_draft_data/THPT_VoNguyenGiap/Grade10/10A10.json 10A10\n",
      "../03_draft_data/THPT_VoNguyenGiap/Grade10/10A12.json 10A12\n",
      "../03_draft_data/THPT_VoNguyenGiap/Grade10/10A3.json 10A3\n",
      "../03_draft_data/THPT_VoNguyenGiap/Grade10/10A6.json 10A6\n",
      "../03_draft_data/THPT_VoNguyenGiap/Grade10/10A7.json 10A7\n",
      "../03_draft_data/THPT_VoNguyenGiap/Grade10/10A16.json 10A16\n",
      "../03_draft_data/THPT_VoNguyenGiap/Grade10/10A13.json 10A13\n",
      "../03_draft_data/THPT_VoNguyenGiap/Grade10/10A11.json 10A11\n",
      "../03_draft_data/THPT_VoNguyenGiap/Grade10/10A18.json 10A18\n",
      "../03_draft_data/THPT_VoNguyenGiap/Grade10/10A8.json 10A8\n",
      "../03_draft_data/THPT_VoNguyenGiap/Grade10/10A14.json 10A14\n",
      "../03_draft_data/THPT_VoNguyenGiap/Grade10/10A5.json 10A5\n",
      "../03_draft_data/THPT_VoNguyenGiap/Grade10/10A2.json 10A2\n",
      "../03_draft_data/THPT_VoNguyenGiap/Grade10/10A9.json 10A9\n",
      "../03_draft_data/THPT_VoNguyenGiap/Grade10/10A20.json 10A20\n",
      "../03_draft_data/THPT_VoNguyenGiap/Grade10/10A4.json 10A4\n",
      "../03_draft_data/THPT_VoNguyenGiap/Grade10/10A19.json 10A19\n",
      "../03_draft_data/THPT_VoNguyenGiap/Grade10/10A17.json 10A17\n"
     ]
    }
   ],
   "source": [
    "import re\n",
    "import glob\n",
    "\n",
    "def filter_files(file_name):\n",
    "    pattern = '([^.]*)(10A|11B|12C)([0-9]{1}|[0-9]{2}).json'\n",
    "    return bool(re.search(pattern, file_name))\n",
    "\n",
    "\n",
    "class_name_pattern = '(10A|11B|12C)([0-9]*)'\n",
    "folder_path = \"../03_draft_data/THPT_VoNguyenGiap/**/*.json\"\n",
    "\n",
    "for item in filter(filter_files, glob.glob(folder_path, recursive = True)):\n",
    "    class_name_index = re.search(class_name_pattern, item).span()\n",
    "    class_name = item[class_name_index[0]:class_name_index[1]]\n",
    "    print(item, class_name)\n",
    "\n",
    "\n"
   ]
  },
  {
   "cell_type": "code",
   "execution_count": 27,
   "metadata": {},
   "outputs": [
    {
     "name": "stdout",
     "output_type": "stream",
     "text": [
      "5\n"
     ]
    }
   ],
   "source": [
    "eval(\"print(5)\")"
   ]
  }
 ],
 "metadata": {
  "kernelspec": {
   "display_name": "Python 3.10.6 64-bit",
   "language": "python",
   "name": "python3"
  },
  "language_info": {
   "codemirror_mode": {
    "name": "ipython",
    "version": 3
   },
   "file_extension": ".py",
   "mimetype": "text/x-python",
   "name": "python",
   "nbconvert_exporter": "python",
   "pygments_lexer": "ipython3",
   "version": "3.10.6"
  },
  "orig_nbformat": 4,
  "vscode": {
   "interpreter": {
    "hash": "916dbcbb3f70747c44a77c7bcd40155683ae19c65e1c03b4aa3499c5328201f1"
   }
  }
 },
 "nbformat": 4,
 "nbformat_minor": 2
}
