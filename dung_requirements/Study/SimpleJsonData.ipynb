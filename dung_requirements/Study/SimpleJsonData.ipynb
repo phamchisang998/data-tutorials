{
 "cells": [
  {
   "cell_type": "code",
   "execution_count": 13,
   "metadata": {},
   "outputs": [
    {
     "name": "stdout",
     "output_type": "stream",
     "text": [
      "<_io.TextIOWrapper name='../Data/Example1.json' mode='r' encoding='cp1252'>\n",
      "{\"12A2\": {\"Dung\": 10.0, \"Sang\": 5.3, \"Dat\": 3.2}, \"12A1\": {\"Dung\": 1.0, \"Sang\": 2.1, \"Dat\": 3.0}, \"12A3\": {\"Tien\": 10}}\n"
     ]
    }
   ],
   "source": [
    "#json:tree, nested data structure\n",
    "#csv:table\n",
    "f = open(\"../Data/Example1.json\",\"r\")\n",
    "# e = open(\"C:/Users/Dung'PC/source/data-tutorials/dung_requirements/Data\",\"rb\")\n",
    "print(f)\n",
    "a = f.read()\n",
    "print(a)"
   ]
  },
  {
   "cell_type": "markdown",
   "metadata": {},
   "source": []
  },
  {
   "cell_type": "code",
   "execution_count": 20,
   "metadata": {},
   "outputs": [
    {
     "ename": "KeyError",
     "evalue": "'Student'",
     "output_type": "error",
     "traceback": [
      "\u001b[1;31m---------------------------------------------------------------------------\u001b[0m",
      "\u001b[1;31mKeyError\u001b[0m                                  Traceback (most recent call last)",
      "\u001b[1;32mc:\\Users\\Dung'PC\\source\\data-tutorials\\dung_requirements\\Study\\SimpleData.ipynb Cell 2\u001b[0m in \u001b[0;36m<cell line: 7>\u001b[1;34m()\u001b[0m\n\u001b[0;32m      <a href='vscode-notebook-cell:/c%3A/Users/Dung%27PC/source/data-tutorials/dung_requirements/Study/SimpleData.ipynb#W1sZmlsZQ%3D%3D?line=4'>5</a>\u001b[0m c \u001b[39m=\u001b[39m \u001b[39mopen\u001b[39m(\u001b[39m\"\u001b[39m\u001b[39m../Data/Example1.json\u001b[39m\u001b[39m\"\u001b[39m)\n\u001b[0;32m      <a href='vscode-notebook-cell:/c%3A/Users/Dung%27PC/source/data-tutorials/dung_requirements/Study/SimpleData.ipynb#W1sZmlsZQ%3D%3D?line=5'>6</a>\u001b[0m a \u001b[39m=\u001b[39m json\u001b[39m.\u001b[39mload(c)\n\u001b[1;32m----> <a href='vscode-notebook-cell:/c%3A/Users/Dung%27PC/source/data-tutorials/dung_requirements/Study/SimpleData.ipynb#W1sZmlsZQ%3D%3D?line=6'>7</a>\u001b[0m \u001b[39mprint\u001b[39m(a[\u001b[39m\"\u001b[39;49m\u001b[39mStudent\u001b[39;49m\u001b[39m\"\u001b[39;49m]\u001b[39m.\u001b[39mkeys())\n",
      "\u001b[1;31mKeyError\u001b[0m: 'Student'"
     ]
    }
   ],
   "source": [
    "import json \n",
    "#json:tree, nested data structure\n",
    "#csv:table\n",
    "#impotant: control the type in the data\n",
    "c = open(\"../Data/Example1.json\")\n",
    "a = json.load(c)\n",
    "print(a[\"Student\"].keys())\n",
    "\n",
    "\n"
   ]
  },
  {
   "cell_type": "code",
   "execution_count": 8,
   "metadata": {},
   "outputs": [
    {
     "ename": "JSONDecodeError",
     "evalue": "Expecting value: line 1 column 1 (char 0)",
     "output_type": "error",
     "traceback": [
      "\u001b[1;31m---------------------------------------------------------------------------\u001b[0m",
      "\u001b[1;31mJSONDecodeError\u001b[0m                           Traceback (most recent call last)",
      "\u001b[1;32mc:\\Users\\Dung'PC\\source\\data-tutorials\\dung_requirements\\Study\\SimpleData.ipynb Cell 4\u001b[0m in \u001b[0;36m<cell line: 4>\u001b[1;34m()\u001b[0m\n\u001b[0;32m      <a href='vscode-notebook-cell:/c%3A/Users/Dung%27PC/source/data-tutorials/dung_requirements/Study/SimpleData.ipynb#W3sZmlsZQ%3D%3D?line=1'>2</a>\u001b[0m \u001b[39mimport\u001b[39;00m \u001b[39mjson\u001b[39;00m \n\u001b[0;32m      <a href='vscode-notebook-cell:/c%3A/Users/Dung%27PC/source/data-tutorials/dung_requirements/Study/SimpleData.ipynb#W3sZmlsZQ%3D%3D?line=2'>3</a>\u001b[0m a \u001b[39m=\u001b[39m\u001b[39mopen\u001b[39m(\u001b[39m\"\u001b[39m\u001b[39m../Data/Example1.json\u001b[39m\u001b[39m\"\u001b[39m)\n\u001b[1;32m----> <a href='vscode-notebook-cell:/c%3A/Users/Dung%27PC/source/data-tutorials/dung_requirements/Study/SimpleData.ipynb#W3sZmlsZQ%3D%3D?line=3'>4</a>\u001b[0m Value \u001b[39m=\u001b[39m json\u001b[39m.\u001b[39;49mload(a)\n\u001b[0;32m      <a href='vscode-notebook-cell:/c%3A/Users/Dung%27PC/source/data-tutorials/dung_requirements/Study/SimpleData.ipynb#W3sZmlsZQ%3D%3D?line=4'>5</a>\u001b[0m \u001b[39mdef\u001b[39;00m \u001b[39mAverage\u001b[39m(a):\n\u001b[0;32m      <a href='vscode-notebook-cell:/c%3A/Users/Dung%27PC/source/data-tutorials/dung_requirements/Study/SimpleData.ipynb#W3sZmlsZQ%3D%3D?line=5'>6</a>\u001b[0m     \u001b[39mfor\u001b[39;00m item \u001b[39min\u001b[39;00m a\u001b[39m.\u001b[39mitems():\n",
      "File \u001b[1;32mc:\\Python\\lib\\json\\__init__.py:293\u001b[0m, in \u001b[0;36mload\u001b[1;34m(fp, cls, object_hook, parse_float, parse_int, parse_constant, object_pairs_hook, **kw)\u001b[0m\n\u001b[0;32m    274\u001b[0m \u001b[39mdef\u001b[39;00m \u001b[39mload\u001b[39m(fp, \u001b[39m*\u001b[39m, \u001b[39mcls\u001b[39m\u001b[39m=\u001b[39m\u001b[39mNone\u001b[39;00m, object_hook\u001b[39m=\u001b[39m\u001b[39mNone\u001b[39;00m, parse_float\u001b[39m=\u001b[39m\u001b[39mNone\u001b[39;00m,\n\u001b[0;32m    275\u001b[0m         parse_int\u001b[39m=\u001b[39m\u001b[39mNone\u001b[39;00m, parse_constant\u001b[39m=\u001b[39m\u001b[39mNone\u001b[39;00m, object_pairs_hook\u001b[39m=\u001b[39m\u001b[39mNone\u001b[39;00m, \u001b[39m*\u001b[39m\u001b[39m*\u001b[39mkw):\n\u001b[0;32m    276\u001b[0m     \u001b[39m\"\"\"Deserialize ``fp`` (a ``.read()``-supporting file-like object containing\u001b[39;00m\n\u001b[0;32m    277\u001b[0m \u001b[39m    a JSON document) to a Python object.\u001b[39;00m\n\u001b[0;32m    278\u001b[0m \n\u001b[1;32m   (...)\u001b[0m\n\u001b[0;32m    291\u001b[0m \u001b[39m    kwarg; otherwise ``JSONDecoder`` is used.\u001b[39;00m\n\u001b[0;32m    292\u001b[0m \u001b[39m    \"\"\"\u001b[39;00m\n\u001b[1;32m--> 293\u001b[0m     \u001b[39mreturn\u001b[39;00m loads(fp\u001b[39m.\u001b[39mread(),\n\u001b[0;32m    294\u001b[0m         \u001b[39mcls\u001b[39m\u001b[39m=\u001b[39m\u001b[39mcls\u001b[39m, object_hook\u001b[39m=\u001b[39mobject_hook,\n\u001b[0;32m    295\u001b[0m         parse_float\u001b[39m=\u001b[39mparse_float, parse_int\u001b[39m=\u001b[39mparse_int,\n\u001b[0;32m    296\u001b[0m         parse_constant\u001b[39m=\u001b[39mparse_constant, object_pairs_hook\u001b[39m=\u001b[39mobject_pairs_hook, \u001b[39m*\u001b[39m\u001b[39m*\u001b[39mkw)\n",
      "File \u001b[1;32mc:\\Python\\lib\\json\\__init__.py:346\u001b[0m, in \u001b[0;36mloads\u001b[1;34m(s, cls, object_hook, parse_float, parse_int, parse_constant, object_pairs_hook, **kw)\u001b[0m\n\u001b[0;32m    341\u001b[0m     s \u001b[39m=\u001b[39m s\u001b[39m.\u001b[39mdecode(detect_encoding(s), \u001b[39m'\u001b[39m\u001b[39msurrogatepass\u001b[39m\u001b[39m'\u001b[39m)\n\u001b[0;32m    343\u001b[0m \u001b[39mif\u001b[39;00m (\u001b[39mcls\u001b[39m \u001b[39mis\u001b[39;00m \u001b[39mNone\u001b[39;00m \u001b[39mand\u001b[39;00m object_hook \u001b[39mis\u001b[39;00m \u001b[39mNone\u001b[39;00m \u001b[39mand\u001b[39;00m\n\u001b[0;32m    344\u001b[0m         parse_int \u001b[39mis\u001b[39;00m \u001b[39mNone\u001b[39;00m \u001b[39mand\u001b[39;00m parse_float \u001b[39mis\u001b[39;00m \u001b[39mNone\u001b[39;00m \u001b[39mand\u001b[39;00m\n\u001b[0;32m    345\u001b[0m         parse_constant \u001b[39mis\u001b[39;00m \u001b[39mNone\u001b[39;00m \u001b[39mand\u001b[39;00m object_pairs_hook \u001b[39mis\u001b[39;00m \u001b[39mNone\u001b[39;00m \u001b[39mand\u001b[39;00m \u001b[39mnot\u001b[39;00m kw):\n\u001b[1;32m--> 346\u001b[0m     \u001b[39mreturn\u001b[39;00m _default_decoder\u001b[39m.\u001b[39;49mdecode(s)\n\u001b[0;32m    347\u001b[0m \u001b[39mif\u001b[39;00m \u001b[39mcls\u001b[39m \u001b[39mis\u001b[39;00m \u001b[39mNone\u001b[39;00m:\n\u001b[0;32m    348\u001b[0m     \u001b[39mcls\u001b[39m \u001b[39m=\u001b[39m JSONDecoder\n",
      "File \u001b[1;32mc:\\Python\\lib\\json\\decoder.py:337\u001b[0m, in \u001b[0;36mJSONDecoder.decode\u001b[1;34m(self, s, _w)\u001b[0m\n\u001b[0;32m    332\u001b[0m \u001b[39mdef\u001b[39;00m \u001b[39mdecode\u001b[39m(\u001b[39mself\u001b[39m, s, _w\u001b[39m=\u001b[39mWHITESPACE\u001b[39m.\u001b[39mmatch):\n\u001b[0;32m    333\u001b[0m     \u001b[39m\"\"\"Return the Python representation of ``s`` (a ``str`` instance\u001b[39;00m\n\u001b[0;32m    334\u001b[0m \u001b[39m    containing a JSON document).\u001b[39;00m\n\u001b[0;32m    335\u001b[0m \n\u001b[0;32m    336\u001b[0m \u001b[39m    \"\"\"\u001b[39;00m\n\u001b[1;32m--> 337\u001b[0m     obj, end \u001b[39m=\u001b[39m \u001b[39mself\u001b[39;49m\u001b[39m.\u001b[39;49mraw_decode(s, idx\u001b[39m=\u001b[39;49m_w(s, \u001b[39m0\u001b[39;49m)\u001b[39m.\u001b[39;49mend())\n\u001b[0;32m    338\u001b[0m     end \u001b[39m=\u001b[39m _w(s, end)\u001b[39m.\u001b[39mend()\n\u001b[0;32m    339\u001b[0m     \u001b[39mif\u001b[39;00m end \u001b[39m!=\u001b[39m \u001b[39mlen\u001b[39m(s):\n",
      "File \u001b[1;32mc:\\Python\\lib\\json\\decoder.py:355\u001b[0m, in \u001b[0;36mJSONDecoder.raw_decode\u001b[1;34m(self, s, idx)\u001b[0m\n\u001b[0;32m    353\u001b[0m     obj, end \u001b[39m=\u001b[39m \u001b[39mself\u001b[39m\u001b[39m.\u001b[39mscan_once(s, idx)\n\u001b[0;32m    354\u001b[0m \u001b[39mexcept\u001b[39;00m \u001b[39mStopIteration\u001b[39;00m \u001b[39mas\u001b[39;00m err:\n\u001b[1;32m--> 355\u001b[0m     \u001b[39mraise\u001b[39;00m JSONDecodeError(\u001b[39m\"\u001b[39m\u001b[39mExpecting value\u001b[39m\u001b[39m\"\u001b[39m, s, err\u001b[39m.\u001b[39mvalue) \u001b[39mfrom\u001b[39;00m \u001b[39mNone\u001b[39m\n\u001b[0;32m    356\u001b[0m \u001b[39mreturn\u001b[39;00m obj, end\n",
      "\u001b[1;31mJSONDecodeError\u001b[0m: Expecting value: line 1 column 1 (char 0)"
     ]
    }
   ],
   "source": [
    "from functools import *\n",
    "import json \n",
    "a =open(\"../Data/Example1.json\")\n",
    "Value = json.load(a)\n",
    "def Average(a):\n",
    "    for item in a.items():\n",
    "        sum = 0\n",
    "        for key,value in item[1].items():\n",
    "            sum = sum + value\n",
    "        average = sum/len(item[1])    \n",
    "        print(item[0],\":\",str(average))\n",
    "Average(Value)"
   ]
  },
  {
   "cell_type": "code",
   "execution_count": 4,
   "metadata": {},
   "outputs": [
    {
     "data": {
      "text/plain": [
       "{'12A2': {'Dung': 10.0, 'Sang': 5.3, 'Dat': 3.2},\n",
       " '12A1': {'Dung': 1.0, 'Sang': 2.1, 'Dat': 3.0},\n",
       " '12A3': {'Tien': 10}}"
      ]
     },
     "execution_count": 4,
     "metadata": {},
     "output_type": "execute_result"
    }
   ],
   "source": [
    "from functools import *\n",
    "def AddStudent(Class, Name, Mark, Dict):\n",
    "    if Class in Dict:\n",
    "        Dict[Class][Name] = Mark\n",
    "    Dict[Class] ={}\n",
    "    Dict[Class][Name] = Mark\n",
    "    return Dict\n",
    "AddStudent(\"12A3\", \"Tien\", 10, Value)"
   ]
  },
  {
   "cell_type": "code",
   "execution_count": null,
   "metadata": {},
   "outputs": [],
   "source": []
  },
  {
   "cell_type": "code",
   "execution_count": 9,
   "metadata": {},
   "outputs": [],
   "source": [
    "file_diem_w = open(\"../Data/Example1.json\", \"w\")\n",
    "json.dump(Value, file_diem_w)\n",
    "file_diem_w.close()"
   ]
  },
  {
   "cell_type": "markdown",
   "metadata": {},
   "source": [
    "DAY2: JSON OBJECT"
   ]
  },
  {
   "cell_type": "code",
   "execution_count": 1,
   "metadata": {},
   "outputs": [
    {
     "ename": "JSONDecodeError",
     "evalue": "Extra data: line 1 column 43 (char 42)",
     "output_type": "error",
     "traceback": [
      "\u001b[0;31m---------------------------------------------------------------------------\u001b[0m",
      "\u001b[0;31mJSONDecodeError\u001b[0m                           Traceback (most recent call last)",
      "Cell \u001b[0;32mIn [1], line 5\u001b[0m\n\u001b[1;32m      3\u001b[0m \u001b[39mimport\u001b[39;00m \u001b[39mjson\u001b[39;00m\n\u001b[1;32m      4\u001b[0m data1 \u001b[39m=\u001b[39m  \u001b[39mopen\u001b[39m(\u001b[39m\"\u001b[39m\u001b[39m../Data/Example2.json\u001b[39m\u001b[39m\"\u001b[39m)\n\u001b[0;32m----> 5\u001b[0m Value2 \u001b[39m=\u001b[39m json\u001b[39m.\u001b[39;49mload(data1)\n\u001b[1;32m      6\u001b[0m \u001b[39mprint\u001b[39m(Value2)\n",
      "File \u001b[0;32m/usr/lib/python3.10/json/__init__.py:293\u001b[0m, in \u001b[0;36mload\u001b[0;34m(fp, cls, object_hook, parse_float, parse_int, parse_constant, object_pairs_hook, **kw)\u001b[0m\n\u001b[1;32m    274\u001b[0m \u001b[39mdef\u001b[39;00m \u001b[39mload\u001b[39m(fp, \u001b[39m*\u001b[39m, \u001b[39mcls\u001b[39m\u001b[39m=\u001b[39m\u001b[39mNone\u001b[39;00m, object_hook\u001b[39m=\u001b[39m\u001b[39mNone\u001b[39;00m, parse_float\u001b[39m=\u001b[39m\u001b[39mNone\u001b[39;00m,\n\u001b[1;32m    275\u001b[0m         parse_int\u001b[39m=\u001b[39m\u001b[39mNone\u001b[39;00m, parse_constant\u001b[39m=\u001b[39m\u001b[39mNone\u001b[39;00m, object_pairs_hook\u001b[39m=\u001b[39m\u001b[39mNone\u001b[39;00m, \u001b[39m*\u001b[39m\u001b[39m*\u001b[39mkw):\n\u001b[1;32m    276\u001b[0m     \u001b[39m\"\"\"Deserialize ``fp`` (a ``.read()``-supporting file-like object containing\u001b[39;00m\n\u001b[1;32m    277\u001b[0m \u001b[39m    a JSON document) to a Python object.\u001b[39;00m\n\u001b[1;32m    278\u001b[0m \n\u001b[0;32m   (...)\u001b[0m\n\u001b[1;32m    291\u001b[0m \u001b[39m    kwarg; otherwise ``JSONDecoder`` is used.\u001b[39;00m\n\u001b[1;32m    292\u001b[0m \u001b[39m    \"\"\"\u001b[39;00m\n\u001b[0;32m--> 293\u001b[0m     \u001b[39mreturn\u001b[39;00m loads(fp\u001b[39m.\u001b[39;49mread(),\n\u001b[1;32m    294\u001b[0m         \u001b[39mcls\u001b[39;49m\u001b[39m=\u001b[39;49m\u001b[39mcls\u001b[39;49m, object_hook\u001b[39m=\u001b[39;49mobject_hook,\n\u001b[1;32m    295\u001b[0m         parse_float\u001b[39m=\u001b[39;49mparse_float, parse_int\u001b[39m=\u001b[39;49mparse_int,\n\u001b[1;32m    296\u001b[0m         parse_constant\u001b[39m=\u001b[39;49mparse_constant, object_pairs_hook\u001b[39m=\u001b[39;49mobject_pairs_hook, \u001b[39m*\u001b[39;49m\u001b[39m*\u001b[39;49mkw)\n",
      "File \u001b[0;32m/usr/lib/python3.10/json/__init__.py:346\u001b[0m, in \u001b[0;36mloads\u001b[0;34m(s, cls, object_hook, parse_float, parse_int, parse_constant, object_pairs_hook, **kw)\u001b[0m\n\u001b[1;32m    341\u001b[0m     s \u001b[39m=\u001b[39m s\u001b[39m.\u001b[39mdecode(detect_encoding(s), \u001b[39m'\u001b[39m\u001b[39msurrogatepass\u001b[39m\u001b[39m'\u001b[39m)\n\u001b[1;32m    343\u001b[0m \u001b[39mif\u001b[39;00m (\u001b[39mcls\u001b[39m \u001b[39mis\u001b[39;00m \u001b[39mNone\u001b[39;00m \u001b[39mand\u001b[39;00m object_hook \u001b[39mis\u001b[39;00m \u001b[39mNone\u001b[39;00m \u001b[39mand\u001b[39;00m\n\u001b[1;32m    344\u001b[0m         parse_int \u001b[39mis\u001b[39;00m \u001b[39mNone\u001b[39;00m \u001b[39mand\u001b[39;00m parse_float \u001b[39mis\u001b[39;00m \u001b[39mNone\u001b[39;00m \u001b[39mand\u001b[39;00m\n\u001b[1;32m    345\u001b[0m         parse_constant \u001b[39mis\u001b[39;00m \u001b[39mNone\u001b[39;00m \u001b[39mand\u001b[39;00m object_pairs_hook \u001b[39mis\u001b[39;00m \u001b[39mNone\u001b[39;00m \u001b[39mand\u001b[39;00m \u001b[39mnot\u001b[39;00m kw):\n\u001b[0;32m--> 346\u001b[0m     \u001b[39mreturn\u001b[39;00m _default_decoder\u001b[39m.\u001b[39;49mdecode(s)\n\u001b[1;32m    347\u001b[0m \u001b[39mif\u001b[39;00m \u001b[39mcls\u001b[39m \u001b[39mis\u001b[39;00m \u001b[39mNone\u001b[39;00m:\n\u001b[1;32m    348\u001b[0m     \u001b[39mcls\u001b[39m \u001b[39m=\u001b[39m JSONDecoder\n",
      "File \u001b[0;32m/usr/lib/python3.10/json/decoder.py:340\u001b[0m, in \u001b[0;36mJSONDecoder.decode\u001b[0;34m(self, s, _w)\u001b[0m\n\u001b[1;32m    338\u001b[0m end \u001b[39m=\u001b[39m _w(s, end)\u001b[39m.\u001b[39mend()\n\u001b[1;32m    339\u001b[0m \u001b[39mif\u001b[39;00m end \u001b[39m!=\u001b[39m \u001b[39mlen\u001b[39m(s):\n\u001b[0;32m--> 340\u001b[0m     \u001b[39mraise\u001b[39;00m JSONDecodeError(\u001b[39m\"\u001b[39m\u001b[39mExtra data\u001b[39m\u001b[39m\"\u001b[39m, s, end)\n\u001b[1;32m    341\u001b[0m \u001b[39mreturn\u001b[39;00m obj\n",
      "\u001b[0;31mJSONDecodeError\u001b[0m: Extra data: line 1 column 43 (char 42)"
     ]
    }
   ],
   "source": [
    "#Print data\n",
    "from functools import *\n",
    "import json\n",
    "data1 =  open(\"../Data/Example2.json\")\n",
    "Value2 = json.load(data1)\n",
    "print(Value2)"
   ]
  },
  {
   "cell_type": "code",
   "execution_count": null,
   "metadata": {},
   "outputs": [],
   "source": []
  },
  {
   "cell_type": "code",
   "execution_count": 35,
   "metadata": {},
   "outputs": [
    {
     "data": {
      "text/plain": [
       "['Sang']"
      ]
     },
     "execution_count": 35,
     "metadata": {},
     "output_type": "execute_result"
    }
   ],
   "source": [
    "# return the name of value have a highest avgScore\n",
    "def MaxScore_Students(data):\n",
    "    students =[]\n",
    "    student1 = data[0]\n",
    "    for i in  range(1,len(data)):\n",
    "        if student1[\"average\"] == data[i][\"average\"]:\n",
    "            students.append(data[i])\n",
    "        if student1[\"average\"] < data[i][\"average\"]:\n",
    "            students = [data[i]]\n",
    "            student1 = data[i]\n",
    "    names = [e[\"name\"] for e in students]\n",
    "    return names\n",
    "\n",
    "MaxScore_Students(Value2)\n",
    "#question using reduce_________"
   ]
  },
  {
   "cell_type": "code",
   "execution_count": 36,
   "metadata": {},
   "outputs": [
    {
     "data": {
      "text/plain": [
       "[9, 7, 5, 4, 2]"
      ]
     },
     "execution_count": 36,
     "metadata": {},
     "output_type": "execute_result"
    }
   ],
   "source": [
    "# Sort technique \n",
    "def bubble_sort_data(data):\n",
    "    for i in range(len(data)):\n",
    "        for j in range(i+1,len(data)):\n",
    "            if data[i] < data[j]:\n",
    "                data[i], data[j] = data[j], data[i]\n",
    "# return copy version\n",
    "    return data[::]\n"
   ]
  },
  {
   "cell_type": "code",
   "execution_count": 52,
   "metadata": {},
   "outputs": [
    {
     "ename": "NameError",
     "evalue": "name 'Value2' is not defined",
     "output_type": "error",
     "traceback": [
      "\u001b[1;31m---------------------------------------------------------------------------\u001b[0m",
      "\u001b[1;31mNameError\u001b[0m                                 Traceback (most recent call last)",
      "\u001b[1;32mc:\\Users\\Dung'PC\\source\\data-tutorials\\dung_requirements\\Study\\SimpleData.ipynb Cell 11\u001b[0m in \u001b[0;36m<cell line: 9>\u001b[1;34m()\u001b[0m\n\u001b[0;32m      <a href='vscode-notebook-cell:/c%3A/Users/Dung%27PC/source/data-tutorials/dung_requirements/Study/SimpleData.ipynb#X13sZmlsZQ%3D%3D?line=5'>6</a>\u001b[0m     \u001b[39mreturn\u001b[39;00m item\u001b[39m.\u001b[39mget(\u001b[39m'\u001b[39m\u001b[39maverage\u001b[39m\u001b[39m'\u001b[39m)\n\u001b[0;32m      <a href='vscode-notebook-cell:/c%3A/Users/Dung%27PC/source/data-tutorials/dung_requirements/Study/SimpleData.ipynb#X13sZmlsZQ%3D%3D?line=7'>8</a>\u001b[0m \u001b[39m# sorted(Value2, key=get_key, reverse=True)\u001b[39;00m\n\u001b[1;32m----> <a href='vscode-notebook-cell:/c%3A/Users/Dung%27PC/source/data-tutorials/dung_requirements/Study/SimpleData.ipynb#X13sZmlsZQ%3D%3D?line=8'>9</a>\u001b[0m Value2\u001b[39m.\u001b[39msort(key\u001b[39m=\u001b[39m\u001b[39mlambda\u001b[39;00m x: x[\u001b[39m\"\u001b[39m\u001b[39maverage\u001b[39m\u001b[39m\"\u001b[39m], reverse\u001b[39m=\u001b[39m\u001b[39mTrue\u001b[39;00m)\n\u001b[0;32m     <a href='vscode-notebook-cell:/c%3A/Users/Dung%27PC/source/data-tutorials/dung_requirements/Study/SimpleData.ipynb#X13sZmlsZQ%3D%3D?line=9'>10</a>\u001b[0m Value2\n\u001b[0;32m     <a href='vscode-notebook-cell:/c%3A/Users/Dung%27PC/source/data-tutorials/dung_requirements/Study/SimpleData.ipynb#X13sZmlsZQ%3D%3D?line=11'>12</a>\u001b[0m Sorted_name \u001b[39m=\u001b[39m \u001b[39msorted\u001b[39m(Value2, key\u001b[39m=\u001b[39m\u001b[39mlambda\u001b[39;00m x: \u001b[39mord\u001b[39m(x[\u001b[39m\"\u001b[39m\u001b[39mname\u001b[39m\u001b[39m\"\u001b[39m][\u001b[39m0\u001b[39m])) \n",
      "\u001b[1;31mNameError\u001b[0m: name 'Value2' is not defined"
     ]
    }
   ],
   "source": [
    "# sorted : return\n",
    "# sort: not return\n",
    "a = [5,2,4,7,9]\n",
    "\n",
    "def get_key(item):\n",
    "    return item.get('average')\n",
    "\n",
    "# sorted(Value2, key=get_key, reverse=True)\n",
    "Value2.sort(key=lambda x: x[\"average\"], reverse=True)\n",
    "Value2\n",
    "\n",
    "Sorted_name = sorted(Value2, key=lambda x: ord(x[\"name\"][0])) \n",
    "Sorted_name\n",
    "\n",
    "Sorted_score_name = sorted(Value2, key=lambda x: (-x[\"average\"],ord(x[\"name\"][0])))\n",
    "Sorted_score_name"
   ]
  },
  {
   "cell_type": "code",
   "execution_count": 68,
   "metadata": {},
   "outputs": [
    {
     "name": "stdout",
     "output_type": "stream",
     "text": [
      "[{'class': '12A2', 'Dung': 10.0, 'Sang': 5.3, 'Dat': 3.2}, {'class': '12A1', 'Dung': 1.0, 'Sang': 2.1, 'Dat': 3.0}, {'class': '12A3', 'Tien': 10}]\n"
     ]
    }
   ],
   "source": [
    "# faltten nested datatype \n",
    "def flatten_data(data):\n",
    "    output = []\n",
    "    def flatten(mini_data):\n",
    "        mini_output = {}\n",
    "        for i in mini_data:\n",
    "            if type(i) is dict:\n",
    "                for j in i.items():\n",
    "                    mini_output[j[0]] = j[1]\n",
    "            else:\n",
    "                mini_output[\"class\"] = i\n",
    "        return mini_output\n",
    "    for i1 in data.items():\n",
    "        output.append(flatten(i1))\n",
    "    return output\n",
    "\n",
    "a = {\"12A2\": {\"Dung\": 10.0, \"Sang\": 5.3, \"Dat\": 3.2}, \"12A1\": {\"Dung\": 1.0, \"Sang\": 2.1, \"Dat\": 3.0}, \"12A3\": {\"Tien\": 10}}\n",
    "Val = flatten_data(a)\n",
    "print(Val)"
   ]
  },
  {
   "cell_type": "code",
   "execution_count": 98,
   "metadata": {},
   "outputs": [
    {
     "data": {
      "text/plain": [
       "[{'class': '12A2', 'name': 'Dung', 'score': 10.0},\n",
       " {'class': '12A2', 'name': 'Sang', 'score': 5.3},\n",
       " {'class': '12A2', 'name': 'Dat', 'score': 3.2},\n",
       " {'class': '12A1', 'name': 'Dung', 'score': 1.0},\n",
       " {'class': '12A1', 'name': 'Sang', 'score': 2.1},\n",
       " {'class': '12A1', 'name': 'Dat', 'score': 3.0},\n",
       " {'class': '12A3', 'name': 'Tien', 'score': 10}]"
      ]
     },
     "execution_count": 98,
     "metadata": {},
     "output_type": "execute_result"
    }
   ],
   "source": [
    "#map flatten\n",
    "from functools import *\n",
    "def flatten_data(data):\n",
    "    out = map(\n",
    "        lambda x:[\n",
    "            {\"class\":x[0], \"name\":subx[0],\"score\":subx[1]} \n",
    "            for subx in x[1].items()\n",
    "            ]\n",
    "        ,data.items()\n",
    "    )\n",
    "    return list(reduce(lambda x,y: x+y,out))\n",
    "    \n",
    "## Testing\n",
    "a = {\"12A2\": {\"Dung\": 10.0, \"Sang\": 5.3, \"Dat\": 3.2}, \"12A1\": {\"Dung\": 1.0, \"Sang\": 2.1, \"Dat\": 3.0}, \"12A3\": {\"Tien\": 10}}\n",
    "flatten_data(a)"
   ]
  },
  {
   "cell_type": "code",
   "execution_count": 97,
   "metadata": {},
   "outputs": [
    {
     "data": {
      "text/plain": [
       "[{'class': '12A2', 'name': 'Dung', 'score': 10.0},\n",
       " {'class': '12A2', 'name': 'Sang', 'score': 5.3},\n",
       " {'class': '12A2', 'name': 'Dat', 'score': 3.2},\n",
       " {'class': '12A1', 'name': 'Dung', 'score': 1.0},\n",
       " {'class': '12A1', 'name': 'Sang', 'score': 2.1},\n",
       " {'class': '12A1', 'name': 'Dat', 'score': 3.0},\n",
       " {'class': '12A3', 'name': 'Tien', 'score': 10}]"
      ]
     },
     "execution_count": 97,
     "metadata": {},
     "output_type": "execute_result"
    }
   ],
   "source": [
    "# reduce flatten\n",
    "def flatten_by_reduce(data):\n",
    "    out = reduce(\n",
    "        lambda x,y: \n",
    "            x+[{\"class\":y[0], \"name\":subx[0],\"score\":subx[1]} \n",
    "            for subx in y[1].items()\n",
    "            ]\n",
    "        ,[[]]+list(data.items()))\n",
    "    return list(out)\n",
    "a = {\"12A2\": {\"Dung\": 10.0, \"Sang\": 5.3, \"Dat\": 3.2}, \"12A1\": {\"Dung\": 1.0, \"Sang\": 2.1, \"Dat\": 3.0}, \"12A3\": {\"Tien\": 10}}\n",
    "flatten_by_reduce(a)"
   ]
  },
  {
   "cell_type": "code",
   "execution_count": 48,
   "metadata": {},
   "outputs": [
    {
     "name": "stdout",
     "output_type": "stream",
     "text": [
      "{\"12A2\": {\"Dung\": 10.0, \"Sang\": 5.3, \"Dat\": 3.2}, \"12A1\": {\"Dung\": 1.0, \"Sang\": 2.1, \"Dat\": 3.0}, \"12A3\": {\"Tien\": 10}}\n"
     ]
    }
   ],
   "source": [
    "# Open file safely creating the thread to read file and close \n",
    "with open(\"../Data/Example1.json\") as f:\n",
    "    val = f.read()\n",
    "print(val)"
   ]
  },
  {
   "cell_type": "code",
   "execution_count": null,
   "metadata": {},
   "outputs": [],
   "source": [
    "#flatten from outside to inside get class name and student name "
   ]
  },
  {
   "cell_type": "markdown",
   "metadata": {},
   "source": [
    "EX: 1 TRƯỜNG CẤP 3 có 3 cấp 10,11,12 \n",
    "\n",
    "- Khối 10: 20 lớp\n",
    "- Khối 11: 18 lớp\n",
    "- khối 12: 15 lớp\n",
    "mỗi lớp sẽ có random từ 30-36 mỗi học sinh sẽ được identify bằng school ID tăng dần từ 1 -> tổng số học sinh. Class ID số thứ tự trong lớp từ 1 -> số học sinh một lớp. Mỗi học sinh có 1 aray chứa điểm theo thứu tự:\n",
    "toán, lý , hóa , ngữ văn , sử , địa, anh văn, công nghệ, GDCD, tin học\n",
    "\n",
    "\n",
    "\n",
    "------ require generator------\n",
    "thư mục lớn: trường\n",
    "trong thư lớn có 3 thư mục nhỏ :3 khối\n",
    "trong thư mục nhỏ có file theo tên lớp: 10A1.js,..... -> bên trong chứa Array Json : chứa từng json là từng học sinh trong lớp HS:{SCHOOL ID : INT, CLASS ID:INT, SCORES:[average theo định nghĩa random theo Float ]} \n",
    "~70% học sinh phải có điểm TB môn > TB , ~30% học sinh có điểm dưới trung bình \n",
    "\n",
    "\n",
    "----- require read file -----\n",
    "- Xuất ra 1 cái folder y chang trên chứa rank của từng khối với điểm học sinh và loại học sinh\n",
    "\n",
    "- Tổng số học sinh giỏi ,tổng số học sinh khá, tổng học sinh trung bình tạo ra 1 file thống kê\n",
    "\n",
    "- Xuất ra 3 file chứa tổng học sinh giỏi , tổng học sinh khá, tổng học sinh trung bình từng khối\n",
    "\n",
    "- Lọc ra top 3 học sinh giỏi nhất của từng khối"
   ]
  }
 ],
 "metadata": {
  "kernelspec": {
   "display_name": "Python 3.10.6 64-bit",
   "language": "python",
   "name": "python3"
  },
  "language_info": {
   "codemirror_mode": {
    "name": "ipython",
    "version": 3
   },
   "file_extension": ".py",
   "mimetype": "text/x-python",
   "name": "python",
   "nbconvert_exporter": "python",
   "pygments_lexer": "ipython3",
   "version": "3.10.6"
  },
  "orig_nbformat": 4,
  "vscode": {
   "interpreter": {
    "hash": "916dbcbb3f70747c44a77c7bcd40155683ae19c65e1c03b4aa3499c5328201f1"
   }
  }
 },
 "nbformat": 4,
 "nbformat_minor": 2
}
