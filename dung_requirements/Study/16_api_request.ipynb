{
 "cells": [
  {
   "cell_type": "code",
   "execution_count": 13,
   "metadata": {},
   "outputs": [],
   "source": [
    "import requests\n",
    "import pandas as pd"
   ]
  },
  {
   "cell_type": "code",
   "execution_count": 15,
   "metadata": {},
   "outputs": [
    {
     "name": "stdout",
     "output_type": "stream",
     "text": [
      "     id  user_id                                              title  \\\n",
      "0  2164     4213  Vitiosus eveniet facilis molestiae cognomen sa...   \n",
      "1  2161     4204  Quis voluptas alioqui adulescens derelinquo es...   \n",
      "2  2160     4204  Viriliter quis collum aut omnis veniam in admo...   \n",
      "3  2152     4194  Desidero vehemens utique vester est ademptio c...   \n",
      "4  2151     4189  Acervus soleo strenuus suspendo spoliatio et c...   \n",
      "5  2150     4188  Uredo est patria sequi eius vulariter voluptates.   \n",
      "6  2149     4184  Neque abbas thesaurus stultus cumque bellicus ...   \n",
      "7  2148     4177  Maxime vulgivagus speculum incidunt abbas tere...   \n",
      "8  2147     4173  Cruentus approbo arbustum aliquid videlicet au...   \n",
      "9  2146     4171  Cur comitatus angustus suscipio comes sustineo...   \n",
      "\n",
      "                                                body  \n",
      "0  Qui universe cunae. Depono ustilo ocer. Suscip...  \n",
      "1  Canonicus attonbitus vulnus. Velit sit quod. S...  \n",
      "2  Dedico maxime capio. Caveo territo ter. Vester...  \n",
      "3  Soleo tamquam thesaurus. Aequus cogo aer. Vae ...  \n",
      "4  Basium aut tempore. Comburo bellicus conservo....  \n",
      "5  Ut molestias ancilla. Voluptatibus thalassinus...  \n",
      "6  Appono delibero tersus. Vae praesentium defleo...  \n",
      "7  Aestas est aut. Patrocinor conventus voluptate...  \n",
      "8  Auctus calculus vorax. Decet vulpes ducimus. P...  \n",
      "9  Vado delinquo architecto. Abduco et quam. Ullu...  \n"
     ]
    }
   ],
   "source": [
    "# api-endpoint\n",
    "URL = \"https://gorest.co.in/public/v2/posts\"\n",
    "# location given here\n",
    "r = requests.get(url = URL)\n",
    "df = pd.DataFrame(r.json())\n",
    "print(df)"
   ]
  }
 ],
 "metadata": {
  "kernelspec": {
   "display_name": "Python 3 (ipykernel)",
   "language": "python",
   "name": "python3"
  },
  "language_info": {
   "codemirror_mode": {
    "name": "ipython",
    "version": 3
   },
   "file_extension": ".py",
   "mimetype": "text/x-python",
   "name": "python",
   "nbconvert_exporter": "python",
   "pygments_lexer": "ipython3",
   "version": "3.10.6"
  },
  "vscode": {
   "interpreter": {
    "hash": "916dbcbb3f70747c44a77c7bcd40155683ae19c65e1c03b4aa3499c5328201f1"
   }
  }
 },
 "nbformat": 4,
 "nbformat_minor": 2
}
