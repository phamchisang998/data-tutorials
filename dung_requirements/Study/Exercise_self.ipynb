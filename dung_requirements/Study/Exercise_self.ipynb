{
 "cells": [
  {
   "cell_type": "code",
   "execution_count": 2,
   "metadata": {},
   "outputs": [
    {
     "data": {
      "text/plain": [
       "1000000000"
      ]
     },
     "execution_count": 2,
     "metadata": {},
     "output_type": "execute_result"
    }
   ],
   "source": [
    "a = 10**9\n",
    "a"
   ]
  },
  {
   "cell_type": "code",
   "execution_count": 1,
   "metadata": {},
   "outputs": [],
   "source": [
    "def tetranacci(n): \n",
    "    arr = [1, 2, 4, 8]\n",
    "    if n <= 4: \n",
    "        return arr[:n]\n",
    "    else: \n",
    "        for i in range(4, n):\n",
    "            arr.append(sum(arr[i-4:i]))\n",
    "    return arr\n",
    "\n",
    "def legoBlocks(n, m):\n",
    "    a, s = [(v**n) for v in tetranacci(m)], [1]\n",
    "    print(a,s)\n",
    "\n",
    "    for i in range(1, len(a)):\n",
    "        sums = sum([x*y for x,y in zip(a[:i], s[::-1])])\n",
    "        s.append( (a[i]-sums))\n",
    "    return s[-1]\n",
    "\n",
    "legoBlocks(10000000000,30000000)"
   ]
  },
  {
   "cell_type": "code",
   "execution_count": 5,
   "metadata": {},
   "outputs": [
    {
     "data": {
      "text/plain": [
       "False"
      ]
     },
     "execution_count": 5,
     "metadata": {},
     "output_type": "execute_result"
    }
   ],
   "source": [
    "def located_card(cards,query):\n",
    "    return cards[cards.index(query)]\n",
    "test = {\n",
    "    'input': { \n",
    "        'cards': [13, 11, 10, 7, 4, 3, 1, 0], \n",
    "        'query': 7\n",
    "    },\n",
    "    'output': 4\n",
    "}\n",
    "located_card(**test['input']) == test['output']"
   ]
  },
  {
   "cell_type": "code",
   "execution_count": 14,
   "metadata": {},
   "outputs": [
    {
     "name": "stdout",
     "output_type": "stream",
     "text": [
      "4\n",
      "60\n",
      "8\n",
      "130\n",
      "6\n",
      "120\n",
      "5\n",
      "110\n"
     ]
    },
    {
     "data": {
      "text/plain": [
       "5"
      ]
     },
     "execution_count": 14,
     "metadata": {},
     "output_type": "execute_result"
    }
   ],
   "source": [
    "# Input: arr[] = {10, 20, 30, 50, 60, 80, 110, 130, 140, 170}, x = 110\n",
    "# Output: 6\n",
    "# Explanation: Element x is present at index 6. \n",
    "def binary_search(arr, a, index):\n",
    "    print(index)\n",
    "    if arr== []:\n",
    "        return -1\n",
    "    mid = len(arr)//2\n",
    "    print(arr[mid])\n",
    "    if arr[mid] == a:\n",
    "        return index\n",
    "    if arr[mid] < a: \n",
    "        arr1 = arr[mid+1:]\n",
    "        index = index + mid\n",
    "        return binary_search(arr1,a,index)\n",
    "    arr2 =arr[:mid]\n",
    "    index = index - mid\n",
    "    return  binary_search(arr2,a,index)\n",
    "\n",
    "arr= [10, 20, 30, 40, 60, 110, 120, 130, 170]\n",
    "x = 110\n",
    "middle = len(arr)//2\n",
    "binary_search(arr,x,middle)"
   ]
  },
  {
   "cell_type": "markdown",
   "metadata": {},
   "source": [
    "BINARY TREE"
   ]
  },
  {
   "cell_type": "code",
   "execution_count": 2,
   "metadata": {},
   "outputs": [],
   "source": [
    "class TreeNode:\n",
    "    def __init__(self,key, value = None):\n",
    "        self.key = key\n",
    "        self.left= None\n",
    "        self.right = None\n",
    "        self.parent = None\n",
    "\n",
    "class User:\n",
    "    def __init__(self, username, name, email):\n",
    "        self.username = username\n",
    "        self.name = name\n",
    "        self.email = email"
   ]
  },
  {
   "cell_type": "code",
   "execution_count": 14,
   "metadata": {},
   "outputs": [],
   "source": [
    "def insert(node,key,value):\n",
    "    if node == None:\n",
    "        node = TreeNode(key,value)\n",
    "    elif key < node.key:\n",
    "        node.left = insert(node.left, key, value)\n",
    "        node.left.parent = node\n",
    "    elif key > node.key:\n",
    "        node.right= insert(node.right,key,value)\n",
    "        node.right.parent = node\n",
    "    return node"
   ]
  },
  {
   "cell_type": "markdown",
   "metadata": {},
   "source": [
    "BINARY TREE"
   ]
  },
  {
   "cell_type": "code",
   "execution_count": null,
   "metadata": {},
   "outputs": [],
   "source": [
    "def remove_none(nums):\n",
    "    return [x for x in nums if x is not None]\n",
    "\n",
    "def is_binary_tree(node):\n",
    "    if node == None:\n",
    "        return True, None, None\n",
    "    is_bst_l, min_l, max_l = is_binary_tree(node.left)\n",
    "    is_bst_r, min_r, max_r = is_binary_tree(node.right)\n",
    "    is_bst = is_bst_l and is_bst_r and (max_l is None or max_l < node.key) and (min_r is None or min_r > node.key)\n",
    "    min_key = min(remove_none([min_l, node.key, min_r]))\n",
    "    max_key = max(remove_none([max_l, node.key, max_r]))\n",
    "    \n",
    "    # print(node.key, min_key, max_key, is_bst_node)\n",
    "        \n",
    "    return is_bst, min_key, max_key\n",
    "    \n",
    "    \n",
    "    "
   ]
  },
  {
   "cell_type": "markdown",
   "metadata": {},
   "source": [
    "BALANCED TREE"
   ]
  },
  {
   "cell_type": "code",
   "execution_count": 6,
   "metadata": {},
   "outputs": [],
   "source": [
    "def is_balanced(Node):\n",
    "    if Node == None:\n",
    "        return 0,True\n",
    "    heigh_left, balanced_left = is_balanced(Node.left)\n",
    "    heigh_right, balanced_right = is_balanced(Node.right)\n",
    "    balanced = balanced_right and balanced_left and abs(balanced_left-balanced_right)<=1\n",
    "    heigh = 1 + max(heigh_left,heigh_right)\n",
    "    return balanced,heigh\n",
    "\n",
    "def display_keys(node, space='\\t', level=0):\n",
    "    # print(node.key if node else None, level)\n",
    "    \n",
    "    # If the node is empty\n",
    "    if node is None:\n",
    "        print(space*level + '∅')\n",
    "        return   \n",
    "    \n",
    "    # If the node is a leaf \n",
    "    if node.left is None and node.right is None:\n",
    "        print(space*level + str(node.key))\n",
    "        return\n",
    "    \n",
    "    # If the node has children\n",
    "    display_keys(node.right, space, level+1)\n",
    "    print(space*level + str(node.key))\n",
    "    display_keys(node.left,space, level+1)    \n",
    "        "
   ]
  },
  {
   "cell_type": "code",
   "execution_count": 2,
   "metadata": {},
   "outputs": [],
   "source": [
    "#User List\n",
    "aakash = User('aakash', 'Aakash Rai', 'aakash@example.com')\n",
    "biraj = User('biraj', 'Biraj Das', 'biraj@example.com')\n",
    "hemanth = User('hemanth', 'Hemanth Jain', 'hemanth@example.com')\n",
    "jadhesh = User('jadhesh', 'Jadhesh Verma', 'jadhesh@example.com')\n",
    "siddhant = User('siddhant', 'Siddhant Sinha', 'siddhant@example.com')\n",
    "sonaksh = User('sonaksh', 'Sonaksh Kumar', 'sonaksh@example.com')\n",
    "vishal = User('vishal', 'Vishal Goel', 'vishal@example.com')"
   ]
  },
  {
   "cell_type": "code",
   "execution_count": 15,
   "metadata": {},
   "outputs": [
    {
     "data": {
      "text/plain": [
       "<__main__.TreeNode at 0x224387f0fa0>"
      ]
     },
     "execution_count": 15,
     "metadata": {},
     "output_type": "execute_result"
    }
   ],
   "source": [
    "# Testing ballanced Tree\n",
    "tree = insert(None,jadhesh.username,jadhesh)\n",
    "insert(tree, biraj.username, biraj)\n",
    "insert(tree, sonaksh.username, sonaksh)\n",
    "insert(tree, aakash.username, aakash)\n",
    "insert(tree, hemanth.username, hemanth)\n",
    "\n",
    "insert(tree, siddhant.username, siddhant)\n",
    "insert(tree, vishal.username, siddhant)"
   ]
  },
  {
   "cell_type": "code",
   "execution_count": 18,
   "metadata": {},
   "outputs": [
    {
     "name": "stdout",
     "output_type": "stream",
     "text": [
      "\t\t\t∅\n",
      "\t\tvishal\n",
      "\t\t\ttanya\n",
      "\tsonaksh\n",
      "\t\tsiddhant\n",
      "jadhesh\n",
      "\t\themanth\n",
      "\tbiraj\n",
      "\t\taakash\n"
     ]
    }
   ],
   "source": [
    "tanya = User('tanya','Misff Tanya','minhne@1234.com')\n",
    "insert(tree ,tanya.username, tanya)\n",
    "display_keys(tree)"
   ]
  },
  {
   "cell_type": "code",
   "execution_count": 22,
   "metadata": {},
   "outputs": [
    {
     "data": {
      "text/plain": [
       "(True, 2)"
      ]
     },
     "execution_count": 22,
     "metadata": {},
     "output_type": "execute_result"
    }
   ],
   "source": [
    "is_balanced(tree)"
   ]
  },
  {
   "cell_type": "markdown",
   "metadata": {},
   "source": [
    "Parse Tuple"
   ]
  },
  {
   "cell_type": "code",
   "execution_count": null,
   "metadata": {},
   "outputs": [],
   "source": [
    "def parse_tuple(data):\n",
    "    # print(data)\n",
    "    if isinstance(data, tuple) and len(data) == 3:\n",
    "        node = TreeNode(data[1])\n",
    "        node.left = parse_tuple(data[0])\n",
    "        node.right = parse_tuple(data[2])\n",
    "    elif data is None:\n",
    "        node = None\n",
    "    else:\n",
    "        node = TreeNode(data)\n",
    "    return node"
   ]
  },
  {
   "cell_type": "markdown",
   "metadata": {},
   "source": [
    "traverse_in_order"
   ]
  },
  {
   "cell_type": "code",
   "execution_count": null,
   "metadata": {},
   "outputs": [],
   "source": [
    "def traverse_in_order(node):\n",
    "    if node is None: \n",
    "        return []\n",
    "    return(traverse_in_order(node.left) + \n",
    "           [node.key] + \n",
    "           traverse_in_order(node.right))"
   ]
  },
  {
   "cell_type": "markdown",
   "metadata": {},
   "source": [
    "## Balanced Binary Search Trees\n",
    "\n",
    "> **QUESTION 15**: Write a function to create a balanced BST from a sorted list/array of key-value pairs.\n",
    "\n",
    "We can use a recursive strategy here, turning the middle element of the list into the root, and recursively creating left and right subtrees."
   ]
  },
  {
   "cell_type": "code",
   "execution_count": null,
   "metadata": {},
   "outputs": [],
   "source": [
    "def make_balanced_bst(data, lo=0, hi=None, parent=None):\n",
    "    if hi is None:\n",
    "        hi = len(data) - 1\n",
    "    if lo > hi:\n",
    "        return None\n",
    "    \n",
    "    mid = (lo + hi) // 2\n",
    "    key, value = data[mid], data[mid]\n",
    "\n",
    "    root = TreeNode(key, value)\n",
    "    root.parent = parent\n",
    "    root.left = make_balanced_bst(data, lo, mid-1, root)\n",
    "    root.right = make_balanced_bst(data, mid+1, hi, root)\n",
    "    \n",
    "    return root\n",
    "    \n",
    "tree = make_balanced_bst([1,2,3,4,5,6,7])\n",
    "display_keys(tree)    "
   ]
  },
  {
   "cell_type": "markdown",
   "metadata": {},
   "source": [
    "LONGEST SUBSTRING WITHOUT REPEAT\n"
   ]
  },
  {
   "cell_type": "code",
   "execution_count": null,
   "metadata": {},
   "outputs": [],
   "source": [
    "def lengthOfLongestSubstring(s: str) -> int:\n",
    "    charposition = {}\n",
    "    lenghtoflongestsubString = 0\n",
    "    leftindex = 0\n",
    "    for rightindex in range(len(s)):\n",
    "        if ord(s[rightindex]) in lenghtoflongestsubString:\n",
    "                leftindex = max(charposition[ord(s[rightindex])] , leftindex)\n",
    "        lenghtoflongestsubString = max(lenghtoflongestsubString,rightindex-leftindex+1)\n",
    "        charposition[ord(s[rightindex])] = rightindex\n",
    "    return lenghtoflongestsubString\n"
   ]
  },
  {
   "cell_type": "code",
   "execution_count": 31,
   "metadata": {},
   "outputs": [],
   "source": [
    "class TreeNode:\n",
    "    def __init__(self, val=None, left=None, right=None):\n",
    "        self.val = val\n",
    "        self.left = left\n",
    "        self.right = right\n",
    "def insert(node, value):\n",
    "    if node is None:\n",
    "        node = TreeNode(val = value)\n",
    "    if value > node.val:\n",
    "        node.right = insert(node.right, value)\n",
    "    if value < node.val:\n",
    "        node.left = insert(node.left, value)\n",
    "    return node\n",
    "\n",
    "node = insert(None, 8)\n",
    "node = insert(node, 3)\n"
   ]
  },
  {
   "cell_type": "code",
   "execution_count": 22,
   "metadata": {},
   "outputs": [
    {
     "name": "stdout",
     "output_type": "stream",
     "text": [
      "8\n",
      "3\n"
     ]
    }
   ],
   "source": [
    "print(node.val)\n",
    "print(node.left.val)\n",
    "\n"
   ]
  },
  {
   "cell_type": "code",
   "execution_count": 26,
   "metadata": {},
   "outputs": [],
   "source": [
    "# Definition for a binary tree node.\n",
    "class TreeNode:\n",
    "    def __init__(self, val=0, left=None, right=None):\n",
    "        self.val = val\n",
    "        self.left = left\n",
    "        self.right = right\n",
    "\n",
    "def insert(node, value):\n",
    "    if node is None:\n",
    "        node = TreeNode(val = value)\n",
    "    if value > node.val:\n",
    "        node.right = insert(node.right, value)\n",
    "    if value < node.val:\n",
    "        node.left = insert(node.left, value)\n",
    "    return node\n",
    "class Solution:\n",
    "    def maxAncestorDiff(self, root) -> int:\n",
    "        def maxDifutil(t, res):\n",
    "            if t is None:\n",
    "                return float('inf'),float('-inf'),res\n",
    "            if (t.left is None) and (t.right is None):\n",
    "                return t.val, t.val, res\n",
    "            a_min, a_max, res = maxDifutil(t.right, res)\n",
    "            b_min, b_max, res = maxDifutil(t.left, res)\n",
    "            val = min( a_min, b_min)\n",
    "            val1 = max(a_max, b_max)\n",
    "            res = max(res, abs(t.val - val))\n",
    "            res = max(res, abs(t.val - val1))\n",
    "\n",
    "            return min(val, t.val), max(val1,t.val), res\n",
    "        min_val,max_val,res = maxDifutil(root, 0)\n",
    "        return res         \n",
    "                "
   ]
  },
  {
   "cell_type": "code",
   "execution_count": 21,
   "metadata": {},
   "outputs": [],
   "source": [
    "root = [8,3,10,1,6,None,14,None,None,4,7,13]\n",
    "node = None\n",
    "for i in root:\n",
    "    if i is not None:\n",
    "        node = insert(node,i)"
   ]
  },
  {
   "cell_type": "code",
   "execution_count": 27,
   "metadata": {},
   "outputs": [
    {
     "data": {
      "text/plain": [
       "7"
      ]
     },
     "execution_count": 27,
     "metadata": {},
     "output_type": "execute_result"
    }
   ],
   "source": [
    "res = Solution()\n",
    "\n",
    "res.maxAncestorDiff(node)\n"
   ]
  },
  {
   "cell_type": "code",
   "execution_count": 37,
   "metadata": {},
   "outputs": [
    {
     "name": "stdout",
     "output_type": "stream",
     "text": [
      "babad\n",
      "baba\n",
      "bab\n",
      "aba\n",
      "abad\n",
      "aba\n",
      "bad\n",
      "ba\n",
      "b\n",
      "a\n",
      "ad\n",
      "a\n",
      "d\n"
     ]
    },
    {
     "data": {
      "text/plain": [
       "'aba'"
      ]
     },
     "execution_count": 37,
     "metadata": {},
     "output_type": "execute_result"
    }
   ],
   "source": [
    "#O(2^n)\n",
    "class Solution:\n",
    "    def longestPalindrome(self, s: str) -> str:\n",
    "        print(s)\n",
    "        def palindrom_checking(s):\n",
    "            res = False\n",
    "            middle = 0\n",
    "            if len(s)%2 == 0:\n",
    "                middle = len(s)//2\n",
    "                if s[:middle] == s[:(middle-1):-1]:\n",
    "                    res = True\n",
    "            else:\n",
    "                middle = len(s)//2\n",
    "                if s[:middle] == s[:middle:-1]:\n",
    "                    res = True\n",
    "            return res\n",
    "        if len(s) == 1:\n",
    "            return s\n",
    "        if palindrom_checking(s):\n",
    "            return s\n",
    "        left_val = self.longestPalindrome(s[:(len(s)-1)])\n",
    "        right_val = self.longestPalindrome(s[1:])\n",
    "        if len(left_val) > len(right_val):\n",
    "            return left_val\n",
    "        return right_val\n",
    "sol = Solution()\n",
    "sol.longestPalindrome('babad')"
   ]
  },
  {
   "cell_type": "code",
   "execution_count": 62,
   "metadata": {},
   "outputs": [
    {
     "data": {
      "text/plain": [
       "'a'"
      ]
     },
     "execution_count": 62,
     "metadata": {},
     "output_type": "execute_result"
    }
   ],
   "source": [
    "## longest palindrom following code styke 0(n^2)\n",
    "from functools import *\n",
    "## longest palindrom following code styke 0(n^2)\n",
    "from functools import *\n",
    "class Solution:\n",
    "    def isSubStringStillPalindrom(self, s, left, right):\n",
    "        left_check = True if left >= 0 else False\n",
    "        right_check = True if right < len(s) else False\n",
    "        if left_check and right_check:\n",
    "            checking_palindrom = True if s[left] == s[right] else False\n",
    "            return checking_palindrom\n",
    "        return False   \n",
    "\n",
    "    def longestPalindrome_expand(self, s, left, right):\n",
    "        # left_check = True if left > 0 else False\n",
    "        # right_check = True if right < len(s) else False\n",
    "        print\n",
    "        while(self.isSubStringStillPalindrom(s, left, right)):\n",
    "            left -= 1\n",
    "            right += 1\n",
    "        return s[(left+1):(right)]\n",
    "    def longestPalindrome(self, s: str) -> str:\n",
    "        res = ''\n",
    "        if len(s) == 1:\n",
    "            return s\n",
    "        for i in range(len(s)-1):\n",
    "            print(s[i])\n",
    "            oddlongestpalindrome = self.longestPalindrome_expand(s, i, i)\n",
    "            evenlongestpalindrome = self.longestPalindrome_expand(s, i,i+1)\n",
    "            res = reduce(lambda x,y: x if len(x) >len(y) else y,[oddlongestpalindrome,evenlongestpalindrome,res])\n",
    "        return res\n",
    "        "
   ]
  },
  {
   "cell_type": "code",
   "execution_count": null,
   "metadata": {},
   "outputs": [],
   "source": [
    "class Solution:\n",
    "    def lengthOfLongestSubstring(self, s: str, memo = {}) -> int:\n",
    "        # def isSubstring(s):\n",
    "        #     for i in s:\n",
    "        #         if s.count(i) > 1:\n",
    "        #             return False\n",
    "        #     return True            \n",
    "        # if s in memo:\n",
    "        #     return memo[s]\n",
    "        # if len(s) == 1:\n",
    "        #     memo[s] = 1\n",
    "        # if isSubstring(s):\n",
    "        #     memo[s] = len(s)\n",
    "        # else:\n",
    "        #     memo[s] = max(self.lengthOfLongestSubstring(s[:-1], memo),self.lengthOfLongestSubstring(s[1:], memo))\n",
    "        # return memo[s]\n",
    "        window = \"\"\n",
    "        res = 0\n",
    "        left = 0\n",
    "        for i in range(len(s)):\n",
    "            while s[i] in window:\n",
    "                print(window, left, s[i])\n",
    "                window.remove(s[left])\n",
    "                left =+1\n",
    "            window = window + s[i]\n",
    "            right = i\n",
    "            res = max(res, right - left +1)\n",
    "        return res\n",
    "    \n",
    "Solution = Solution()\n",
    "Solution.lengthOfLongestSubstring(\"abcabcbb\")"
   ]
  }
 ],
 "metadata": {
  "kernelspec": {
   "display_name": "Python 3.10.6 64-bit",
   "language": "python",
   "name": "python3"
  },
  "language_info": {
   "codemirror_mode": {
    "name": "ipython",
    "version": 3
   },
   "file_extension": ".py",
   "mimetype": "text/x-python",
   "name": "python",
   "nbconvert_exporter": "python",
   "pygments_lexer": "ipython3",
   "version": "3.10.6"
  },
  "orig_nbformat": 4,
  "vscode": {
   "interpreter": {
    "hash": "916dbcbb3f70747c44a77c7bcd40155683ae19c65e1c03b4aa3499c5328201f1"
   }
  }
 },
 "nbformat": 4,
 "nbformat_minor": 2
}
