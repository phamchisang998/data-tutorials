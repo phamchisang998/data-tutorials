{
 "cells": [
  {
   "cell_type": "markdown",
   "metadata": {},
   "source": [
    "CSV "
   ]
  },
  {
   "cell_type": "code",
   "execution_count": 31,
   "metadata": {},
   "outputs": [
    {
     "name": "stdout",
     "output_type": "stream",
     "text": [
      "['BlackCoffe', '2', '30000', '5', 150000]\n",
      "['Milk', '1', '25000', '4', 100000]\n",
      "['MilkTea', '2', '40000', '3', 120000]\n",
      "['CocaCola', '5', '15000', '2', 30000]\n",
      "['Pepsi', '3', '15000', '3', 45000]\n",
      "['Sting', '1', '15000', '3', 45000]\n",
      "['PeachTea', '2', '50000', '3', 150000]\n"
     ]
    }
   ],
   "source": [
    "import csv\n",
    "# Load CSV file\n",
    "with open(\"../Data/ProductExample.csv\") as f:\n",
    "    Data = csv.reader(f,delimiter=',')\n",
    "    next(Data) # skip the headers\n",
    "    \n",
    "    # map file line object to the List\n",
    "    Data1 = []\n",
    "    for i in Data:\n",
    "        Data1.append(i)\n",
    "\n",
    "# -----implement the data-----\n",
    "def total(arr):\n",
    "    for i in arr:\n",
    "        total_val = int(i[2])*int(i[3])\n",
    "        i.append(total_val)\n",
    "total(Data1)\n",
    "for i in Data1:\n",
    "    print(i)\n",
    "\n",
    "with open(\"../Data/ProductExampleWriter.csv\",'w', newline='') as f:\n",
    "    writing_data= csv.writer(f, delimiter=',')\n",
    "    writing_data.writerow(['Productname','OrderId','Price','Amount'])\n",
    "    for i in Data1:\n",
    "        writing_data.writerow(i)"
   ]
  },
  {
   "cell_type": "code",
   "execution_count": 9,
   "metadata": {},
   "outputs": [
    {
     "ename": "ValueError",
     "evalue": "I/O operation on closed file.",
     "output_type": "error",
     "traceback": [
      "\u001b[1;31m---------------------------------------------------------------------------\u001b[0m",
      "\u001b[1;31mValueError\u001b[0m                                Traceback (most recent call last)",
      "\u001b[1;32mc:\\Users\\Dung'PC\\source\\data-tutorials\\dung_requirements\\Study\\SimpleCsvData.ipynb Cell 3\u001b[0m in \u001b[0;36m<cell line: 2>\u001b[1;34m()\u001b[0m\n\u001b[0;32m      <a href='vscode-notebook-cell:/c%3A/Users/Dung%27PC/source/data-tutorials/dung_requirements/Study/SimpleCsvData.ipynb#W3sZmlsZQ%3D%3D?line=0'>1</a>\u001b[0m \u001b[39m# print data in CSV data\u001b[39;00m\n\u001b[1;32m----> <a href='vscode-notebook-cell:/c%3A/Users/Dung%27PC/source/data-tutorials/dung_requirements/Study/SimpleCsvData.ipynb#W3sZmlsZQ%3D%3D?line=1'>2</a>\u001b[0m \u001b[39mfor\u001b[39;00m i \u001b[39min\u001b[39;00m Data:\n\u001b[0;32m      <a href='vscode-notebook-cell:/c%3A/Users/Dung%27PC/source/data-tutorials/dung_requirements/Study/SimpleCsvData.ipynb#W3sZmlsZQ%3D%3D?line=2'>3</a>\u001b[0m     \u001b[39mprint\u001b[39m(i)\n",
      "\u001b[1;31mValueError\u001b[0m: I/O operation on closed file."
     ]
    }
   ],
   "source": [
    "# print data in CSV data\n"
   ]
  }
 ],
 "metadata": {
  "kernelspec": {
   "display_name": "Python 3.10.6 64-bit",
   "language": "python",
   "name": "python3"
  },
  "language_info": {
   "codemirror_mode": {
    "name": "ipython",
    "version": 3
   },
   "file_extension": ".py",
   "mimetype": "text/x-python",
   "name": "python",
   "nbconvert_exporter": "python",
   "pygments_lexer": "ipython3",
   "version": "3.10.6"
  },
  "orig_nbformat": 4,
  "vscode": {
   "interpreter": {
    "hash": "52634da84371cba311ea128a5ea7cdc41ff074b781779e754b270ff9f8153cee"
   }
  }
 },
 "nbformat": 4,
 "nbformat_minor": 2
}
