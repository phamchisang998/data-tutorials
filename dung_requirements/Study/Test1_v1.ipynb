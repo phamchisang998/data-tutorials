{
 "cells": [
  {
   "cell_type": "code",
   "execution_count": 3,
   "metadata": {},
   "outputs": [
    {
     "name": "stdout",
     "output_type": "stream",
     "text": [
      "{'bccd': False}\n",
      "{'bccd': False, 'cd': True}\n",
      "{'bccd': False, 'cd': True, 'abccd': True}\n",
      "{'bccd': False, 'cd': True, 'abccd': True, 'aabccd': True}\n"
     ]
    },
    {
     "data": {
      "text/plain": [
       "True"
      ]
     },
     "execution_count": 3,
     "metadata": {},
     "output_type": "execute_result"
    }
   ],
   "source": [
    "from functools import *\n",
    "def sub_string(a, arr, memo={}):\n",
    "    if a == '':\n",
    "        return True\n",
    "    check = reduce(lambda x,y: x or a[:len(a)], a)\n",
    "    if check == False:\n",
    "        return False\n",
    "    if a in memo:\n",
    "        return memo[a] \n",
    "    output = False\n",
    "    for i in arr:\n",
    "        a1 = a[:len(i)]\n",
    "        if a1 == i:\n",
    "            a2 = a[len(i):]\n",
    "            output = output or sub_string(a2, arr, memo)     \n",
    "    memo[a] = output\n",
    "    print(memo)\n",
    "    return memo[a]\n",
    "\n",
    "sub_string(\"aabccd\",[\"a\",\"abc\",\"cd\",\"eef\",\"eeeee\"])"
   ]
  },
  {
   "cell_type": "code",
   "execution_count": 12,
   "metadata": {},
   "outputs": [
    {
     "data": {
      "text/plain": [
       "{'f': True,\n",
       " 'ef': {...},\n",
       " 'eef': {...},\n",
       " 'eeef': {...},\n",
       " 'eeeef': {...},\n",
       " 'eeeeef': {...},\n",
       " 'eeeeeef': {...},\n",
       " 'eeeeeeef': {...},\n",
       " 'eeeeeeeef': {...},\n",
       " 'eeeeeeeeef': {...},\n",
       " 'eeeeeeeeeef': {...}}"
      ]
     },
     "execution_count": 12,
     "metadata": {},
     "output_type": "execute_result"
    }
   ],
   "source": [
    "# space 0(n) , time 0(n)\n",
    "from functools import *\n",
    "def sub_string(a, arr, memo={}):\n",
    "    if a == '':\n",
    "        return True\n",
    "    if a in memo:\n",
    "        return memo[a] \n",
    "    output = False\n",
    "    for i in arr:\n",
    "        a1 = a[:len(i)]\n",
    "        if a1 == i:\n",
    "            a2 = a[len(i):]\n",
    "            output = output or sub_string(a2, arr, memo)     \n",
    "    memo[a] = output\n",
    "    return memo\n",
    "\n",
    "sub_string(\"eeeeeeeeeef\",[\"e\",\"ee\",\"eee\",\"eeee\",\"f\"])"
   ]
  },
  {
   "cell_type": "code",
   "execution_count": 1,
   "metadata": {},
   "outputs": [
    {
     "data": {
      "text/plain": [
       "True"
      ]
     },
     "execution_count": 1,
     "metadata": {},
     "output_type": "execute_result"
    }
   ],
   "source": [
    "#tabu \n",
    "def sub_string_1(a, arr):\n",
    "    tabu = [False]*(len(a)+1)\n",
    "    tabu[0] = True\n",
    "    for i in range(len(a)+1):\n",
    "        a1 = a[i:]\n",
    "        for item in arr:\n",
    "            a2 = a1[:len(item)]\n",
    "            if item == a2:\n",
    "                tabu[i+len(item)] = tabu[len(item)+i] or tabu[i]\n",
    "    return tabu[len(a)]\n",
    "\n",
    "sub_string_1(\"eeeeeeeeeeeeeeeeeeef\",[\"e\",\"eee\",\"eeee\",\"ee\",\"f\"])"
   ]
  },
  {
   "cell_type": "code",
   "execution_count": 78,
   "metadata": {},
   "outputs": [
    {
     "data": {
      "text/plain": [
       "[['a', 'bc', 'd', 'ef'],\n",
       " ['a', 'bc', 'de', 'f'],\n",
       " ['abc', 'd', 'ef'],\n",
       " ['abc', 'de', 'f']]"
      ]
     },
     "execution_count": 78,
     "metadata": {},
     "output_type": "execute_result"
    }
   ],
   "source": [
    "def sub_list_string(a, arr, minivalue = [], memo=[]):\n",
    "    if a == '':\n",
    "        return []\n",
    "    if not check_exist_val(a,arr):\n",
    "        return None\n",
    "    for i in arr:\n",
    "        a1 = a[:len(i)]\n",
    "        if a1 == i:\n",
    "            output = [e for e in minivalue]\n",
    "            output.append(i)\n",
    "            a2 = a[len(i):]\n",
    "            Res = sub_list_string(a2,arr, output,memo)\n",
    "            if Res != None:\n",
    "                memo.append(output)\n",
    "\n",
    "def check_exist_val(a,arr):\n",
    "    output = False\n",
    "    for i in arr:\n",
    "        b = a[:len(i)]\n",
    "        if b == i:\n",
    "            output = output or True\n",
    "    return output\n",
    "\n",
    "memo = []\n",
    "sub_list_string(\"abcdef\", [\"a\",\"bc\",\"abc\",\"d\",\"ef\",\"de\",\"f\"],memo=memo)\n",
    "memo"
   ]
  },
  {
   "cell_type": "code",
   "execution_count": 57,
   "metadata": {},
   "outputs": [
    {
     "data": {
      "text/plain": [
       "'eeeeeeeeeeeeeeeeeeeeeeeeeeeeeeeeeeeeeeeeeee'"
      ]
     },
     "execution_count": 57,
     "metadata": {},
     "output_type": "execute_result"
    }
   ],
   "source": [
    "#Longest Palindrome Substring\n",
    "\n",
    "#Define Palindrome for single string\n",
    "def mini_palindrome(s):\n",
    "    Middle = len(s)//2\n",
    "    s1 = s[:Middle]\n",
    "    s2 = s[(Middle):]\n",
    "    for i in range(1,len(s1)+1):\n",
    "        if s1[i-1] != s2[-i]:\n",
    "            return False\n",
    "    return True\n",
    "\n",
    "#Find max_string\n",
    "def max_sring(arr):\n",
    "    x = ''\n",
    "    for i in arr:\n",
    "        if len(i) > len(x):\n",
    "            x = i\n",
    "    return x\n",
    "#Longest Palindrome Substring Main\n",
    "def long_palindrome(s, memo = {}):\n",
    "    for i in range(0,len(s)):\n",
    "        s1 = s[i:]\n",
    "        for j in range(0,len(s1)):\n",
    "            s2 = s1[:j]\n",
    "            if s2 in memo:\n",
    "                continue\n",
    "            if mini_palindrome(s2) == True:\n",
    "                memo[s2] = True\n",
    "            else:\n",
    "                memo[s2] = False\n",
    "    right_list = list(filter(lambda x: True if memo[x] == True else False, memo))   \n",
    "    return max_sring(right_list)\n",
    "\n",
    "long_palindrome(\"eeeeeeeeeeeeeeeeeeeeeeeeeeeeeeeeeeeeeeeeeeef\")"
   ]
  },
  {
   "cell_type": "code",
   "execution_count": null,
   "metadata": {},
   "outputs": [
    {
     "ename": "",
     "evalue": "",
     "output_type": "error",
     "traceback": [
      "\u001b[1;31mCanceled future for execute_request message before replies were done"
     ]
    },
    {
     "ename": "",
     "evalue": "",
     "output_type": "error",
     "traceback": [
      "\u001b[1;31mThe Kernel crashed while executing code in the the current cell or a previous cell. Please review the code in the cell(s) to identify a possible cause of the failure. Click <a href='https://aka.ms/vscodeJupyterKernelCrash'>here</a> for more info. View Jupyter <a href='command:jupyter.viewOutput'>log</a> for further details."
     ]
    }
   ],
   "source": [
    "from functools import *\n",
    "\n",
    "Count = 0\n",
    "\n",
    "@cache\n",
    "def fibonancy(n):\n",
    "    global Count\n",
    "    Count +=1\n",
    "    if n<=1:\n",
    "        return n\n",
    "    return fibonancy(n-1) + fibonancy(n-2)\n",
    "\n",
    "Count2 = 0\n",
    "def fibonancymemo(n,memo = {}):\n",
    "    global Count2\n",
    "    Count2 += 1\n",
    "    if n <= 1:\n",
    "        return n\n",
    "    if n in memo:\n",
    "        return memo[n]\n",
    "    memo[n] = fibonancymemo(n-1,memo) + fibonancymemo(n-2,memo)\n",
    "    return memo[n]\n",
    "\n",
    "print(fibonancy(500),str(Count))\n",
    "print(fibonancymemo(2000),str(Count2))"
   ]
  },
  {
   "cell_type": "code",
   "execution_count": 2,
   "metadata": {},
   "outputs": [
    {
     "name": "stdout",
     "output_type": "stream",
     "text": [
      "1916910633200 1\n"
     ]
    },
    {
     "ename": "UnboundLocalError",
     "evalue": "local variable 'Count' referenced before assignment",
     "output_type": "error",
     "traceback": [
      "\u001b[1;31m---------------------------------------------------------------------------\u001b[0m",
      "\u001b[1;31mUnboundLocalError\u001b[0m                         Traceback (most recent call last)",
      "\u001b[1;32mc:\\Users\\Dung'PC\\source\\data-tutorials\\dung_requirements\\Test1_v1.ipynb Cell 7\u001b[0m in \u001b[0;36m<cell line: 7>\u001b[1;34m()\u001b[0m\n\u001b[0;32m      <a href='vscode-notebook-cell:/c%3A/Users/Dung%27PC/source/data-tutorials/dung_requirements/Test1_v1.ipynb#W6sZmlsZQ%3D%3D?line=4'>5</a>\u001b[0m     Count \u001b[39m=\u001b[39m Count \u001b[39m+\u001b[39m \u001b[39m1\u001b[39m\n\u001b[0;32m      <a href='vscode-notebook-cell:/c%3A/Users/Dung%27PC/source/data-tutorials/dung_requirements/Test1_v1.ipynb#W6sZmlsZQ%3D%3D?line=5'>6</a>\u001b[0m     \u001b[39mprint\u001b[39m(\u001b[39mid\u001b[39m(Count))\n\u001b[1;32m----> <a href='vscode-notebook-cell:/c%3A/Users/Dung%27PC/source/data-tutorials/dung_requirements/Test1_v1.ipynb#W6sZmlsZQ%3D%3D?line=6'>7</a>\u001b[0m increase()\n\u001b[0;32m      <a href='vscode-notebook-cell:/c%3A/Users/Dung%27PC/source/data-tutorials/dung_requirements/Test1_v1.ipynb#W6sZmlsZQ%3D%3D?line=7'>8</a>\u001b[0m \u001b[39mprint\u001b[39m(\u001b[39mid\u001b[39m(Count), Count)\n",
      "\u001b[1;32mc:\\Users\\Dung'PC\\source\\data-tutorials\\dung_requirements\\Test1_v1.ipynb Cell 7\u001b[0m in \u001b[0;36mincrease\u001b[1;34m()\u001b[0m\n\u001b[0;32m      <a href='vscode-notebook-cell:/c%3A/Users/Dung%27PC/source/data-tutorials/dung_requirements/Test1_v1.ipynb#W6sZmlsZQ%3D%3D?line=2'>3</a>\u001b[0m \u001b[39mdef\u001b[39;00m \u001b[39mincrease\u001b[39m():\n\u001b[1;32m----> <a href='vscode-notebook-cell:/c%3A/Users/Dung%27PC/source/data-tutorials/dung_requirements/Test1_v1.ipynb#W6sZmlsZQ%3D%3D?line=3'>4</a>\u001b[0m     \u001b[39mprint\u001b[39m(\u001b[39mid\u001b[39m(Count))\n\u001b[0;32m      <a href='vscode-notebook-cell:/c%3A/Users/Dung%27PC/source/data-tutorials/dung_requirements/Test1_v1.ipynb#W6sZmlsZQ%3D%3D?line=4'>5</a>\u001b[0m     Count \u001b[39m=\u001b[39m Count \u001b[39m+\u001b[39m \u001b[39m1\u001b[39m\n\u001b[0;32m      <a href='vscode-notebook-cell:/c%3A/Users/Dung%27PC/source/data-tutorials/dung_requirements/Test1_v1.ipynb#W6sZmlsZQ%3D%3D?line=5'>6</a>\u001b[0m     \u001b[39mprint\u001b[39m(\u001b[39mid\u001b[39m(Count))\n",
      "\u001b[1;31mUnboundLocalError\u001b[0m: local variable 'Count' referenced before assignment"
     ]
    }
   ],
   "source": [
    "Count = 1\n",
    "print(id(Count), Count)\n",
    "def increase():\n",
    "    print(id(Count))\n",
    "    Count = Count + 1\n",
    "    print(id(Count))\n",
    "increase()\n",
    "print(id(Count), Count)"
   ]
  }
 ],
 "metadata": {
  "kernelspec": {
   "display_name": "Python 3.10.6 64-bit",
   "language": "python",
   "name": "python3"
  },
  "language_info": {
   "codemirror_mode": {
    "name": "ipython",
    "version": 3
   },
   "file_extension": ".py",
   "mimetype": "text/x-python",
   "name": "python",
   "nbconvert_exporter": "python",
   "pygments_lexer": "ipython3",
   "version": "3.10.6"
  },
  "orig_nbformat": 4,
  "vscode": {
   "interpreter": {
    "hash": "52634da84371cba311ea128a5ea7cdc41ff074b781779e754b270ff9f8153cee"
   }
  }
 },
 "nbformat": 4,
 "nbformat_minor": 2
}
