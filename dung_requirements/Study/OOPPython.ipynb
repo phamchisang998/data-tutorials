{
 "cells": [
  {
   "cell_type": "code",
   "execution_count": 5,
   "metadata": {},
   "outputs": [
    {
     "name": "stdout",
     "output_type": "stream",
     "text": [
      "Room12A2\n",
      "Room 12A3\n"
     ]
    }
   ],
   "source": [
    "# class\n",
    "class Student:\n",
    "    def __init__(self,name,classroom,gender):\n",
    "        self.name = name\n",
    "        self.classroom = classroom\n",
    "        self.gender = gender\n",
    "    def ChangeClass(self,classroom):\n",
    "        self.classroom = classroom\n",
    "\n",
    "student = Student(\"MinhDung\", \"Room12A2\",\"man\")\n",
    "print(student.classroom)\n",
    "student.ChangeClass(\"Room 12A3\")\n",
    "print(student.classroom)"
   ]
  },
  {
   "cell_type": "code",
   "execution_count": 7,
   "metadata": {},
   "outputs": [
    {
     "name": "stdout",
     "output_type": "stream",
     "text": [
      "13\n"
     ]
    }
   ],
   "source": [
    "class Person:\n",
    "    def __init__(self, name, age, gender):\n",
    "        self.name = name\n",
    "        self.age = age\n",
    "        self.gender = gender\n",
    "    def increaseage(self):\n",
    "        self.age = self.age + 1\n",
    "\n",
    "class Student(Person):\n",
    "    def __init__(self, name, age, gender,schoolname,lastname):\n",
    "        super().__init__(name, age, gender)\n",
    "        self.schoolname = schoolname\n",
    "        self.lastname = lastname\n",
    "    def changeschool(self, schoolname):\n",
    "        self.schoolname = schoolname\n",
    "    def increaseage(self):\n",
    "        self.age = self.age + 2\n",
    "\n",
    "class Teacher(Person):\n",
    "    def __init__(self, name, age, gender,subjectname,lastname):\n",
    "        super().__init__(name, age, gender)\n",
    "        self.subjectname = subjectname \n",
    "        self.lastname = lastname\n",
    "    def changesubject(self, subjectname):\n",
    "        self.subjectname = subjectname\n",
    " \n",
    "student = Student(\"MinhDung\", 11, \"man\", \"LQD\", \"Nguyen\")\n",
    "student.increaseage()\n",
    "print(student.age)\n"
   ]
  }
 ],
 "metadata": {
  "kernelspec": {
   "display_name": "Python 3.10.6 64-bit",
   "language": "python",
   "name": "python3"
  },
  "language_info": {
   "codemirror_mode": {
    "name": "ipython",
    "version": 3
   },
   "file_extension": ".py",
   "mimetype": "text/x-python",
   "name": "python",
   "nbconvert_exporter": "python",
   "pygments_lexer": "ipython3",
   "version": "3.10.6"
  },
  "orig_nbformat": 4,
  "vscode": {
   "interpreter": {
    "hash": "916dbcbb3f70747c44a77c7bcd40155683ae19c65e1c03b4aa3499c5328201f1"
   }
  }
 },
 "nbformat": 4,
 "nbformat_minor": 2
}
