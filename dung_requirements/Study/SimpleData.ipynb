{
 "cells": [
  {
   "cell_type": "code",
   "execution_count": 176,
   "metadata": {},
   "outputs": [
    {
     "name": "stdout",
     "output_type": "stream",
     "text": [
      "<_io.TextIOWrapper name='../Data/Example1.json' mode='r' encoding='cp1252'>\n",
      "{\"Student\":\n",
      "    {\"name\":15,\n",
      "     \"class\" :\"12A2\",\n",
      "     \"sex\":\"Dont know\"}\n",
      "}\n"
     ]
    }
   ],
   "source": [
    "#json:tree, nested data structure\n",
    "#csv:table\n",
    "f = open(\"../Data/Example1.json\",\"r\")\n",
    "# e = open(\"C:/Users/Dung'PC/source/data-tutorials/dung_requirements/Data\",\"rb\")\n",
    "print(f)\n",
    "a = f.read()\n",
    "print(a)"
   ]
  },
  {
   "cell_type": "code",
   "execution_count": 205,
   "metadata": {},
   "outputs": [
    {
     "name": "stdout",
     "output_type": "stream",
     "text": [
      "dict_keys(['Age', 'Class', '1', 'Sex'])\n"
     ]
    }
   ],
   "source": [
    "import json \n",
    "#json:tree, nested data structure\n",
    "#csv:table\n",
    "#impotant: control the type in the data\n",
    "c = open(\"../Data/Example1.json\")\n",
    "a = json.load(c)\n",
    "print(a[\"Student\"].keys())\n",
    "\n",
    "\n"
   ]
  },
  {
   "cell_type": "code",
   "execution_count": null,
   "metadata": {},
   "outputs": [],
   "source": []
  },
  {
   "cell_type": "code",
   "execution_count": 253,
   "metadata": {},
   "outputs": [
    {
     "ename": "UnsupportedOperation",
     "evalue": "not readable",
     "output_type": "error",
     "traceback": [
      "\u001b[1;31m---------------------------------------------------------------------------\u001b[0m",
      "\u001b[1;31mUnsupportedOperation\u001b[0m                      Traceback (most recent call last)",
      "\u001b[1;32mc:\\Users\\Dung'PC\\source\\data-tutorials\\dung_requirements\\Study\\SimpleData.ipynb Cell 4\u001b[0m in \u001b[0;36m<cell line: 3>\u001b[1;34m()\u001b[0m\n\u001b[0;32m      <a href='vscode-notebook-cell:/c%3A/Users/Dung%27PC/source/data-tutorials/dung_requirements/Study/SimpleData.ipynb#W5sZmlsZQ%3D%3D?line=0'>1</a>\u001b[0m \u001b[39mfrom\u001b[39;00m \u001b[39mfunctools\u001b[39;00m \u001b[39mimport\u001b[39;00m \u001b[39m*\u001b[39m\n\u001b[0;32m      <a href='vscode-notebook-cell:/c%3A/Users/Dung%27PC/source/data-tutorials/dung_requirements/Study/SimpleData.ipynb#W5sZmlsZQ%3D%3D?line=1'>2</a>\u001b[0m a \u001b[39m=\u001b[39m\u001b[39mopen\u001b[39m(\u001b[39m\"\u001b[39m\u001b[39m../Data/Example1.json\u001b[39m\u001b[39m\"\u001b[39m,\u001b[39m\"\u001b[39m\u001b[39mw\u001b[39m\u001b[39m\"\u001b[39m)\n\u001b[1;32m----> <a href='vscode-notebook-cell:/c%3A/Users/Dung%27PC/source/data-tutorials/dung_requirements/Study/SimpleData.ipynb#W5sZmlsZQ%3D%3D?line=2'>3</a>\u001b[0m Value \u001b[39m=\u001b[39m json\u001b[39m.\u001b[39;49mload(a)\n\u001b[0;32m      <a href='vscode-notebook-cell:/c%3A/Users/Dung%27PC/source/data-tutorials/dung_requirements/Study/SimpleData.ipynb#W5sZmlsZQ%3D%3D?line=3'>4</a>\u001b[0m \u001b[39mdef\u001b[39;00m \u001b[39mAverage\u001b[39m(a):\n\u001b[0;32m      <a href='vscode-notebook-cell:/c%3A/Users/Dung%27PC/source/data-tutorials/dung_requirements/Study/SimpleData.ipynb#W5sZmlsZQ%3D%3D?line=4'>5</a>\u001b[0m     \u001b[39mfor\u001b[39;00m item \u001b[39min\u001b[39;00m a\u001b[39m.\u001b[39mitems():\n",
      "File \u001b[1;32mc:\\Python\\lib\\json\\__init__.py:293\u001b[0m, in \u001b[0;36mload\u001b[1;34m(fp, cls, object_hook, parse_float, parse_int, parse_constant, object_pairs_hook, **kw)\u001b[0m\n\u001b[0;32m    274\u001b[0m \u001b[39mdef\u001b[39;00m \u001b[39mload\u001b[39m(fp, \u001b[39m*\u001b[39m, \u001b[39mcls\u001b[39m\u001b[39m=\u001b[39m\u001b[39mNone\u001b[39;00m, object_hook\u001b[39m=\u001b[39m\u001b[39mNone\u001b[39;00m, parse_float\u001b[39m=\u001b[39m\u001b[39mNone\u001b[39;00m,\n\u001b[0;32m    275\u001b[0m         parse_int\u001b[39m=\u001b[39m\u001b[39mNone\u001b[39;00m, parse_constant\u001b[39m=\u001b[39m\u001b[39mNone\u001b[39;00m, object_pairs_hook\u001b[39m=\u001b[39m\u001b[39mNone\u001b[39;00m, \u001b[39m*\u001b[39m\u001b[39m*\u001b[39mkw):\n\u001b[0;32m    276\u001b[0m     \u001b[39m\"\"\"Deserialize ``fp`` (a ``.read()``-supporting file-like object containing\u001b[39;00m\n\u001b[0;32m    277\u001b[0m \u001b[39m    a JSON document) to a Python object.\u001b[39;00m\n\u001b[0;32m    278\u001b[0m \n\u001b[1;32m   (...)\u001b[0m\n\u001b[0;32m    291\u001b[0m \u001b[39m    kwarg; otherwise ``JSONDecoder`` is used.\u001b[39;00m\n\u001b[0;32m    292\u001b[0m \u001b[39m    \"\"\"\u001b[39;00m\n\u001b[1;32m--> 293\u001b[0m     \u001b[39mreturn\u001b[39;00m loads(fp\u001b[39m.\u001b[39;49mread(),\n\u001b[0;32m    294\u001b[0m         \u001b[39mcls\u001b[39m\u001b[39m=\u001b[39m\u001b[39mcls\u001b[39m, object_hook\u001b[39m=\u001b[39mobject_hook,\n\u001b[0;32m    295\u001b[0m         parse_float\u001b[39m=\u001b[39mparse_float, parse_int\u001b[39m=\u001b[39mparse_int,\n\u001b[0;32m    296\u001b[0m         parse_constant\u001b[39m=\u001b[39mparse_constant, object_pairs_hook\u001b[39m=\u001b[39mobject_pairs_hook, \u001b[39m*\u001b[39m\u001b[39m*\u001b[39mkw)\n",
      "\u001b[1;31mUnsupportedOperation\u001b[0m: not readable"
     ]
    }
   ],
   "source": [
    "from functools import *\n",
    "a =open(\"../Data/Example1.json\")\n",
    "Value = json.load(a)\n",
    "def Average(a):\n",
    "    for item in a.items():\n",
    "        sum = 0\n",
    "        for key,value in item[1].items():\n",
    "            sum = sum + value\n",
    "        average = sum/len(item[1])    \n",
    "        print(item[0],\":\",str(average))\n",
    "Average(Value)"
   ]
  },
  {
   "cell_type": "code",
   "execution_count": 239,
   "metadata": {},
   "outputs": [
    {
     "data": {
      "text/plain": [
       "{'12A2': {'Dung': 10.0, 'Sang': 5.3, 'Dat': 3.2},\n",
       " '12A1': {'Dung': 1.0, 'Sang': 2.1, 'Dat': 3.0},\n",
       " '12A3': {'Tien': 10}}"
      ]
     },
     "execution_count": 239,
     "metadata": {},
     "output_type": "execute_result"
    }
   ],
   "source": [
    "from functools import *\n",
    "def AddStudent(Class, Name, Mark, Dict):\n",
    "    if Class in Dict:\n",
    "        Dict[Class][Name] = Mark\n",
    "    Dict[Class] ={}\n",
    "    Dict[Class][Name] = Mark\n",
    "    return Dict\n",
    "AddStudent(\"12A3\", \"Tien\", 10, Value)"
   ]
  },
  {
   "cell_type": "code",
   "execution_count": 248,
   "metadata": {},
   "outputs": [
    {
     "ename": "UnsupportedOperation",
     "evalue": "not writable",
     "output_type": "error",
     "traceback": [
      "\u001b[1;31m---------------------------------------------------------------------------\u001b[0m",
      "\u001b[1;31mUnsupportedOperation\u001b[0m                      Traceback (most recent call last)",
      "\u001b[1;32mc:\\Users\\Dung'PC\\source\\data-tutorials\\dung_requirements\\Study\\SimpleData.ipynb Cell 6\u001b[0m in \u001b[0;36m<cell line: 1>\u001b[1;34m()\u001b[0m\n\u001b[1;32m----> <a href='vscode-notebook-cell:/c%3A/Users/Dung%27PC/source/data-tutorials/dung_requirements/Study/SimpleData.ipynb#X11sZmlsZQ%3D%3D?line=0'>1</a>\u001b[0m a\u001b[39m.\u001b[39;49mwrite(json\u001b[39m.\u001b[39;49mdumps(Value))\n\u001b[0;32m      <a href='vscode-notebook-cell:/c%3A/Users/Dung%27PC/source/data-tutorials/dung_requirements/Study/SimpleData.ipynb#X11sZmlsZQ%3D%3D?line=1'>2</a>\u001b[0m a\u001b[39m.\u001b[39mclose()\n\u001b[0;32m      <a href='vscode-notebook-cell:/c%3A/Users/Dung%27PC/source/data-tutorials/dung_requirements/Study/SimpleData.ipynb#X11sZmlsZQ%3D%3D?line=2'>3</a>\u001b[0m a \u001b[39m=\u001b[39m \u001b[39mopen\u001b[39m(\u001b[39m\"\u001b[39m\u001b[39m../Data/Example1.json\u001b[39m\u001b[39m\"\u001b[39m)\n",
      "\u001b[1;31mUnsupportedOperation\u001b[0m: not writable"
     ]
    }
   ],
   "source": [
    "a.write(json.dumps(Value))\n",
    "a.close()\n",
    "a = open(\"../Data/Example1.json\")"
   ]
  }
 ],
 "metadata": {
  "kernelspec": {
   "display_name": "Python 3.10.6 64-bit",
   "language": "python",
   "name": "python3"
  },
  "language_info": {
   "codemirror_mode": {
    "name": "ipython",
    "version": 3
   },
   "file_extension": ".py",
   "mimetype": "text/x-python",
   "name": "python",
   "nbconvert_exporter": "python",
   "pygments_lexer": "ipython3",
   "version": "3.10.6"
  },
  "orig_nbformat": 4,
  "vscode": {
   "interpreter": {
    "hash": "52634da84371cba311ea128a5ea7cdc41ff074b781779e754b270ff9f8153cee"
   }
  }
 },
 "nbformat": 4,
 "nbformat_minor": 2
}
