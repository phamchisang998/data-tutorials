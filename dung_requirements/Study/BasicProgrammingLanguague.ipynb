{
 "cells": [
  {
   "cell_type": "code",
   "execution_count": 1,
   "metadata": {},
   "outputs": [
    {
     "name": "stdout",
     "output_type": "stream",
     "text": [
      "[1, 1, 2, 2, 3, 3, 4, 4] {1, 2, 3, 4}\n",
      "2\n",
      "{'keyone': 1, 'keytwo': 2, 'keythree': 3, 'keyfour': 5}\n",
      "None\n"
     ]
    },
    {
     "ename": "KeyError",
     "evalue": "'keyfive'",
     "output_type": "error",
     "traceback": [
      "\u001b[1;31m---------------------------------------------------------------------------\u001b[0m",
      "\u001b[1;31mKeyError\u001b[0m                                  Traceback (most recent call last)",
      "\u001b[1;32mc:\\Users\\Dung'PC\\source\\data-tutorials\\dung_requirements\\BasicProgrammingLanguague.ipynb Cell 1\u001b[0m in \u001b[0;36m<cell line: 18>\u001b[1;34m()\u001b[0m\n\u001b[0;32m     <a href='vscode-notebook-cell:/c%3A/Users/Dung%27PC/source/data-tutorials/dung_requirements/BasicProgrammingLanguague.ipynb#W0sZmlsZQ%3D%3D?line=15'>16</a>\u001b[0m \u001b[39mprint\u001b[39m(c\u001b[39m.\u001b[39mget(\u001b[39m\"\u001b[39m\u001b[39mkeyfive\u001b[39m\u001b[39m\"\u001b[39m))\n\u001b[0;32m     <a href='vscode-notebook-cell:/c%3A/Users/Dung%27PC/source/data-tutorials/dung_requirements/BasicProgrammingLanguague.ipynb#W0sZmlsZQ%3D%3D?line=16'>17</a>\u001b[0m \u001b[39m#not try catch exp\u001b[39;00m\n\u001b[1;32m---> <a href='vscode-notebook-cell:/c%3A/Users/Dung%27PC/source/data-tutorials/dung_requirements/BasicProgrammingLanguague.ipynb#W0sZmlsZQ%3D%3D?line=17'>18</a>\u001b[0m \u001b[39mprint\u001b[39m(c[\u001b[39m\"\u001b[39;49m\u001b[39mkeyfive\u001b[39;49m\u001b[39m\"\u001b[39;49m]) \n\u001b[0;32m     <a href='vscode-notebook-cell:/c%3A/Users/Dung%27PC/source/data-tutorials/dung_requirements/BasicProgrammingLanguague.ipynb#W0sZmlsZQ%3D%3D?line=19'>20</a>\u001b[0m \u001b[39m#frozenset\u001b[39;00m\n\u001b[0;32m     <a href='vscode-notebook-cell:/c%3A/Users/Dung%27PC/source/data-tutorials/dung_requirements/BasicProgrammingLanguague.ipynb#W0sZmlsZQ%3D%3D?line=20'>21</a>\u001b[0m d \u001b[39m=\u001b[39m \u001b[39mfrozenset\u001b[39m([\u001b[39m1\u001b[39m,\u001b[39m2\u001b[39m,\u001b[39m3\u001b[39m,\u001b[39m4\u001b[39m])\n",
      "\u001b[1;31mKeyError\u001b[0m: 'keyfive'"
     ]
    }
   ],
   "source": [
    "#Set vs List\n",
    "a = [1, 1, 2, 2, 3, 3, 4, 4]\n",
    "print(a, set(a))\n",
    "\n",
    "# tuple\n",
    "b = (1,2,3,4)\n",
    "print(b[1])\n",
    "\n",
    "#dictionary\n",
    "\n",
    "c = {\"keyone\":1, \"keytwo\":2, \"keythree\":3}\n",
    "c[\"keyfour\"] = 4\n",
    "c.update({\"keyfour\":5})\n",
    "print(c)\n",
    "#try catch exp\n",
    "print(c.get(\"keyfive\"))\n",
    "#not try catch exp\n",
    "print(c[\"keyfive\"]) \n",
    "\n",
    "#frozenset\n",
    "d = frozenset([1,2,3,4])\n",
    "print(d)"
   ]
  },
  {
   "cell_type": "code",
   "execution_count": 69,
   "metadata": {},
   "outputs": [
    {
     "data": {
      "text/plain": [
       "True"
      ]
     },
     "execution_count": 69,
     "metadata": {},
     "output_type": "execute_result"
    }
   ],
   "source": [
    "def palindrom(a):\n",
    "    if len(a) <= 1:\n",
    "        return True\n",
    "    elif a[0] == a[-1]:\n",
    "        return palindrom(a[1:-1])\n",
    "    return False\n",
    "palindrom(\"aa\")"
   ]
  },
  {
   "cell_type": "code",
   "execution_count": 22,
   "metadata": {},
   "outputs": [
    {
     "name": "stdout",
     "output_type": "stream",
     "text": [
      "2330017465984 2330017465984\n",
      "None\n"
     ]
    }
   ],
   "source": [
    "c = b.append(2)\n",
    "print(id(a), id(b))\n",
    "print(c)"
   ]
  },
  {
   "cell_type": "code",
   "execution_count": null,
   "metadata": {},
   "outputs": [],
   "source": [
    "def fibonacy(x):\n",
    "    if x <= 1:\n",
    "        return x\n",
    "    return fibonacy(x-1)+fibonacy(x-2)\n",
    "\n"
   ]
  },
  {
   "cell_type": "code",
   "execution_count": null,
   "metadata": {},
   "outputs": [],
   "source": [
    "s = 'abc'\n",
    "print(id(s))\n",
    "s1 = s.replace('a', 'd')"
   ]
  },
  {
   "cell_type": "code",
   "execution_count": 21,
   "metadata": {},
   "outputs": [
    {
     "name": "stdout",
     "output_type": "stream",
     "text": [
      "2329939712432\n",
      "2330017504368\n",
      "dbc\n"
     ]
    }
   ],
   "source": [
    "print(id(s))\n",
    "print(id(s1))\n",
    "print(s1)"
   ]
  },
  {
   "cell_type": "code",
   "execution_count": 50,
   "metadata": {},
   "outputs": [
    {
     "name": "stdout",
     "output_type": "stream",
     "text": [
      "[3, 6, 7, 9, 12, 14, 15]\n",
      "16\n"
     ]
    },
    {
     "ename": "TypeError",
     "evalue": "sub_list() takes 2 positional arguments but 3 were given",
     "output_type": "error",
     "traceback": [
      "\u001b[1;31m---------------------------------------------------------------------------\u001b[0m",
      "\u001b[1;31mTypeError\u001b[0m                                 Traceback (most recent call last)",
      "\u001b[1;32mc:\\Users\\Dung'PC\\source\\data-tutorials\\dung_requirements\\BasicProgrammingLanguague.ipynb Cell 7\u001b[0m in \u001b[0;36m<cell line: 37>\u001b[1;34m()\u001b[0m\n\u001b[0;32m     <a href='vscode-notebook-cell:/c%3A/Users/Dung%27PC/source/data-tutorials/dung_requirements/BasicProgrammingLanguague.ipynb#W6sZmlsZQ%3D%3D?line=34'>35</a>\u001b[0m \u001b[39mdef\u001b[39;00m \u001b[39msub_list\u001b[39m(a, k):\n\u001b[0;32m     <a href='vscode-notebook-cell:/c%3A/Users/Dung%27PC/source/data-tutorials/dung_requirements/BasicProgrammingLanguague.ipynb#W6sZmlsZQ%3D%3D?line=35'>36</a>\u001b[0m     \u001b[39mreturn\u001b[39;00m sub_list_solve(a,a,k)   \n\u001b[1;32m---> <a href='vscode-notebook-cell:/c%3A/Users/Dung%27PC/source/data-tutorials/dung_requirements/BasicProgrammingLanguague.ipynb#W6sZmlsZQ%3D%3D?line=36'>37</a>\u001b[0m sub_list_solve(a\u001b[39m=\u001b[39;49m [\u001b[39m3\u001b[39;49m, \u001b[39m6\u001b[39;49m, \u001b[39m7\u001b[39;49m, \u001b[39m9\u001b[39;49m, \u001b[39m12\u001b[39;49m, \u001b[39m14\u001b[39;49m, \u001b[39m15\u001b[39;49m],b\u001b[39m=\u001b[39;49m [\u001b[39m3\u001b[39;49m, \u001b[39m6\u001b[39;49m, \u001b[39m7\u001b[39;49m, \u001b[39m9\u001b[39;49m, \u001b[39m12\u001b[39;49m, \u001b[39m14\u001b[39;49m, \u001b[39m15\u001b[39;49m], k\u001b[39m=\u001b[39;49m\u001b[39m16\u001b[39;49m)\n",
      "\u001b[1;32mc:\\Users\\Dung'PC\\source\\data-tutorials\\dung_requirements\\BasicProgrammingLanguague.ipynb Cell 7\u001b[0m in \u001b[0;36msub_list_solve\u001b[1;34m(a, b, k)\u001b[0m\n\u001b[0;32m     <a href='vscode-notebook-cell:/c%3A/Users/Dung%27PC/source/data-tutorials/dung_requirements/BasicProgrammingLanguague.ipynb#W6sZmlsZQ%3D%3D?line=25'>26</a>\u001b[0m \u001b[39melif\u001b[39;00m my_list \u001b[39m==\u001b[39m []:\n\u001b[0;32m     <a href='vscode-notebook-cell:/c%3A/Users/Dung%27PC/source/data-tutorials/dung_requirements/BasicProgrammingLanguague.ipynb#W6sZmlsZQ%3D%3D?line=26'>27</a>\u001b[0m     \u001b[39mreturn\u001b[39;00m \u001b[39mFalse\u001b[39;00m\n\u001b[1;32m---> <a href='vscode-notebook-cell:/c%3A/Users/Dung%27PC/source/data-tutorials/dung_requirements/BasicProgrammingLanguague.ipynb#W6sZmlsZQ%3D%3D?line=27'>28</a>\u001b[0m Checking \u001b[39m=\u001b[39m sub_list(my_list[:\u001b[39m-\u001b[39;49m\u001b[39m1\u001b[39;49m], my_list, k \u001b[39m-\u001b[39;49m a[\u001b[39m-\u001b[39;49m\u001b[39m1\u001b[39;49m])\n\u001b[0;32m     <a href='vscode-notebook-cell:/c%3A/Users/Dung%27PC/source/data-tutorials/dung_requirements/BasicProgrammingLanguague.ipynb#W6sZmlsZQ%3D%3D?line=28'>29</a>\u001b[0m \u001b[39mif\u001b[39;00m Checking \u001b[39m==\u001b[39m \u001b[39mTrue\u001b[39;00m:\n\u001b[0;32m     <a href='vscode-notebook-cell:/c%3A/Users/Dung%27PC/source/data-tutorials/dung_requirements/BasicProgrammingLanguague.ipynb#W6sZmlsZQ%3D%3D?line=29'>30</a>\u001b[0m     \u001b[39mreturn\u001b[39;00m \u001b[39mTrue\u001b[39;00m\n",
      "\u001b[1;31mTypeError\u001b[0m: sub_list() takes 2 positional arguments but 3 were given"
     ]
    }
   ],
   "source": [
    "#Cho list a (gồm n phần tử nguyên dương) và số nguyên dương k. \n",
    "# Kiểm tra xem tồn tại một list con b nào của a mà tổng các phần tử của list con b đó bằng với số k.\n",
    "#Ví dụ: input a = [1, 2, 4, 7] ; k = 8\n",
    "#Bên trong a có sub_list [1, 7] có tổng là bằng 8 bằng với k, nên trả về True.\n",
    "    # my_list = sorted([e for e in a if e <= k])\n",
    "    # print (my_list)\n",
    "    # print(k)\n",
    "    # if k == 0:\n",
    "    #     return True\n",
    "    # elif my_list == []:\n",
    "    #     return False\n",
    "    # temp = k - my_list[-1]\n",
    "    # # print(temp)\n",
    "    # temp_list = [e for e in my_list[:-1] if e <= k]\n",
    "    # # print(my_list[:-1])\n",
    "    # if temp_list == [] and temp > 0:\n",
    "    #     return sub_list(my_list[:-1], k)\n",
    "    # return sub_list(my_list[:-1],k-my_list[-1])\n",
    "\n",
    "def sub_list(a, b, k):\n",
    "    my_list = sorted([e for e in a if e <= k])\n",
    "    print (my_list)\n",
    "    print(k)\n",
    "    if k == 0:\n",
    "        return True\n",
    "    elif my_list == []:\n",
    "        return False\n",
    "    Checking = sub_list(my_list[:-1], my_list, k - a[-1])\n",
    "    if Checking == True:\n",
    "        return True\n",
    "    # print(my_list[:-1])\n",
    "    else:\n",
    "        return sub_list(my_list[:-1],my_list[:-1], k)\n",
    "\n",
    " \n"
   ]
  },
  {
   "cell_type": "code",
   "execution_count": 1,
   "metadata": {},
   "outputs": [
    {
     "name": "stdout",
     "output_type": "stream",
     "text": [
      "5\n",
      "2\n"
     ]
    },
    {
     "ename": "NameError",
     "evalue": "name 'sub_list' is not defined",
     "output_type": "error",
     "traceback": [
      "\u001b[1;31m---------------------------------------------------------------------------\u001b[0m",
      "\u001b[1;31mNameError\u001b[0m                                 Traceback (most recent call last)",
      "\u001b[1;32mc:\\Users\\Dung'PC\\source\\data-tutorials\\dung_requirements\\BasicProgrammingLanguague.ipynb Cell 8\u001b[0m in \u001b[0;36m<cell line: 15>\u001b[1;34m()\u001b[0m\n\u001b[0;32m     <a href='vscode-notebook-cell:/c%3A/Users/Dung%27PC/source/data-tutorials/dung_requirements/BasicProgrammingLanguague.ipynb#X10sZmlsZQ%3D%3D?line=11'>12</a>\u001b[0m             a_division\u001b[39m.\u001b[39mappend(i\u001b[39m*\u001b[39me)\n\u001b[0;32m     <a href='vscode-notebook-cell:/c%3A/Users/Dung%27PC/source/data-tutorials/dung_requirements/BasicProgrammingLanguague.ipynb#X10sZmlsZQ%3D%3D?line=12'>13</a>\u001b[0m     a \u001b[39m=\u001b[39m sub_list(a_division,k)\n\u001b[1;32m---> <a href='vscode-notebook-cell:/c%3A/Users/Dung%27PC/source/data-tutorials/dung_requirements/BasicProgrammingLanguague.ipynb#X10sZmlsZQ%3D%3D?line=14'>15</a>\u001b[0m sub_list_pro([\u001b[39m3\u001b[39;49m,\u001b[39m7\u001b[39;49m],\u001b[39m16\u001b[39;49m)\n",
      "\u001b[1;32mc:\\Users\\Dung'PC\\source\\data-tutorials\\dung_requirements\\BasicProgrammingLanguague.ipynb Cell 8\u001b[0m in \u001b[0;36msub_list_pro\u001b[1;34m(a, k)\u001b[0m\n\u001b[0;32m     <a href='vscode-notebook-cell:/c%3A/Users/Dung%27PC/source/data-tutorials/dung_requirements/BasicProgrammingLanguague.ipynb#X10sZmlsZQ%3D%3D?line=10'>11</a>\u001b[0m     \u001b[39mfor\u001b[39;00m i \u001b[39min\u001b[39;00m \u001b[39mrange\u001b[39m(\u001b[39m1\u001b[39m, mod\u001b[39m+\u001b[39m\u001b[39m1\u001b[39m):\n\u001b[0;32m     <a href='vscode-notebook-cell:/c%3A/Users/Dung%27PC/source/data-tutorials/dung_requirements/BasicProgrammingLanguague.ipynb#X10sZmlsZQ%3D%3D?line=11'>12</a>\u001b[0m         a_division\u001b[39m.\u001b[39mappend(i\u001b[39m*\u001b[39me)\n\u001b[1;32m---> <a href='vscode-notebook-cell:/c%3A/Users/Dung%27PC/source/data-tutorials/dung_requirements/BasicProgrammingLanguague.ipynb#X10sZmlsZQ%3D%3D?line=12'>13</a>\u001b[0m a \u001b[39m=\u001b[39m sub_list(a_division,k)\n",
      "\u001b[1;31mNameError\u001b[0m: name 'sub_list' is not defined"
     ]
    }
   ],
   "source": [
    "#Cho mảng a (n phần tử nguyên dương) và số nguyên dương k. \n",
    "# Tương tự bài 1, nhưng cho phép mỗi phần tử của a được phép tham gia vào phép cộng nhiều hơn 1 lần.\n",
    "#Ví dụ:\n",
    "#a =[1, 1, 3]; k = 6. Trả về True do a có phép cộng 1+ 1 + 1 +3  =6\n",
    "def sub_list_pro(a, k):\n",
    "    a_division = []\n",
    "    my_list = [e for e in a if e <= k]\n",
    "    for e in my_list:\n",
    "        mod = k//e\n",
    "        print(mod)\n",
    "        for i in range(1, mod+1):\n",
    "            a_division.append(i*e)\n",
    "    a = sub_list(a_division,k)\n",
    "    \n",
    "sub_list_pro([3,7],16)\n",
    "\n",
    "\n"
   ]
  },
  {
   "cell_type": "code",
   "execution_count": null,
   "metadata": {},
   "outputs": [],
   "source": [
    "# recursive only\n",
    "\n",
    "# input : vi tri n trong day Fibonacci\n",
    "# output: gia tri tai vi tri n trong day Fibonacci\n",
    "# Fibo  : 0 1 1 2 3 5 8 13 21 34 55 ...\n",
    "# index : 0 1 2 3 4 5 6  7  8  9 10 ...\n",
    "import sys\n",
    "sys.setrecursivelimit(100000)\n",
    "def fibo_N(n):\n",
    "    if n <= 1:\n",
    "        return n\n",
    "    return fibo_N(n-1) +  fibo_N(n-2)\n",
    "\n",
    "print(fibo_N(10))"
   ]
  },
  {
   "cell_type": "code",
   "execution_count": 2,
   "metadata": {},
   "outputs": [
    {
     "name": "stdout",
     "output_type": "stream",
     "text": [
      "[1, 2, 3]\n",
      "[2, 3]\n",
      "[3]\n",
      "[]\n",
      "[2]\n",
      "[]\n",
      "[1, 3]\n",
      "[3]\n",
      "[]\n",
      "[1]\n"
     ]
    },
    {
     "data": {
      "text/plain": [
       "True"
      ]
     },
     "execution_count": 2,
     "metadata": {},
     "output_type": "execute_result"
    }
   ],
   "source": [
    "def sub_list(a,k):\n",
    "    print(a)\n",
    "    if k == 0:\n",
    "        return True\n",
    "    elif k < 0:\n",
    "        return False\n",
    "    elif len(a)==0 and k>0:\n",
    "        return False\n",
    "    output = False\n",
    "    for q in a:\n",
    "        a1 = a[::]\n",
    "        a1.remove(q)\n",
    "        k1 = k - q\n",
    "        output = output or sub_list(a1,k1)\n",
    "    return output\n",
    "\n",
    "sub_list(a=[1,2,3],k=5)\n",
    "    \n",
    "    "
   ]
  },
  {
   "cell_type": "code",
   "execution_count": 58,
   "metadata": {},
   "outputs": [
    {
     "name": "stdout",
     "output_type": "stream",
     "text": [
      "{'ccd': False}\n",
      "{'ccd': False, 'c': False}\n",
      "{'ccd': False, 'c': False, 'cf': False}\n",
      "{'ccd': False, 'c': False, 'cf': False, 'ccde': False}\n",
      "{'ccd': False, 'c': False, 'cf': False, 'ccde': False, 'ccdef': False}\n",
      "{'ccd': False, 'c': False, 'cf': False, 'ccde': False, 'ccdef': False, 'cd': False}\n",
      "{'ccd': False, 'c': False, 'cf': False, 'ccde': False, 'ccdef': False, 'cd': False, 'f': True}\n",
      "{'ccd': False, 'c': False, 'cf': False, 'ccde': False, 'ccdef': False, 'cd': False, 'f': True, 'cdef': True}\n",
      "{'ccd': False, 'c': False, 'cf': False, 'ccde': False, 'ccdef': False, 'cd': False, 'f': True, 'cdef': True, 'abccdef': True}\n"
     ]
    },
    {
     "data": {
      "text/plain": [
       "True"
      ]
     },
     "execution_count": 58,
     "metadata": {},
     "output_type": "execute_result"
    }
   ],
   "source": [
    "# cho 1 string a và 1 list arr kiểm tra a có thể tạo từ arr không\n",
    "# gặp đã tính => gọi\n",
    "# móc ra tổ hợp\n",
    "# móc ra tổ hợp ngắn nhất\n",
    "def sub_string(a, arr, memo={}):\n",
    "    if a == '':\n",
    "        return True\n",
    "    if a in memo:\n",
    "        return memo[a] \n",
    "    output = False\n",
    "    for i in arr:\n",
    "        if i in a:\n",
    "            a1 = a.replace(i,\"\")\n",
    "            output = output or sub_string(a1, arr, memo)\n",
    "    memo[a] = output\n",
    "    print(memo)\n",
    "    return memo[a]\n",
    "\n",
    "sub_string(\"abcdef\",[\"ab\",\"abc\",\"ef\",\"cde\",\"f\"])\n",
    "            "
   ]
  },
  {
   "cell_type": "code",
   "execution_count": 49,
   "metadata": {},
   "outputs": [
    {
     "name": "stdout",
     "output_type": "stream",
     "text": [
      "2742583504112\n",
      "abc\n",
      "abcde\n"
     ]
    }
   ],
   "source": [
    "a =\"abcde\"\n",
    "print(id(a))\n",
    "a1 = a.replace(\"de\",\"\")\n",
    "print(a1)\n",
    "print(a)"
   ]
  },
  {
   "cell_type": "code",
   "execution_count": null,
   "metadata": {},
   "outputs": [
    {
     "ename": "",
     "evalue": "",
     "output_type": "error",
     "traceback": [
      "\u001b[1;31mCanceled future for execute_request message before replies were done"
     ]
    },
    {
     "ename": "",
     "evalue": "",
     "output_type": "error",
     "traceback": [
      "\u001b[1;31mThe Kernel crashed while executing code in the the current cell or a previous cell. Please review the code in the cell(s) to identify a possible cause of the failure. Click <a href='https://aka.ms/vscodeJupyterKernelCrash'>here</a> for more info. View Jupyter <a href='command:jupyter.viewOutput'>log</a> for further details."
     ]
    }
   ],
   "source": [
    "# cho 1 string a và 1 list arr kiểm tra a có thể tạo từ arr không\n",
    "# gặp đã tính => gọi\n",
    "# móc ra tổ hợp\n",
    "# móc ra tổ hợp ngắn nhất\n",
    "def sub_string(a, arr, memo={}):\n",
    "    if a == '':\n",
    "        return True\n",
    "    if a in memo:\n",
    "        return memo[a] \n",
    "    output = []\n",
    "    for i in arr:\n",
    "            a1 = a[:len(i)]\n",
    "            if a1 == i:\n",
    "                Next_Res = sub_string(a1,arr,memo)\n",
    "                if Next_Res:\n",
    "                    output.append(i)\n",
    "                else:\n",
    "                    output = []\n",
    "    memo[a] = output\n",
    "    return memo[a]\n",
    "\n",
    "sub_string(\"abcdef\",[\"abc\",\"ab\",\"ef\",\"cde\",\"f\"])"
   ]
  },
  {
   "cell_type": "code",
   "execution_count": 1,
   "metadata": {},
   "outputs": [
    {
     "name": "stdout",
     "output_type": "stream",
     "text": [
      "{3: False}\n",
      "{3: False, 10: False}\n",
      "{3: False, 10: False, 17: False}\n",
      "{3: False, 10: False, 17: False, 24: False}\n",
      "{3: False, 10: False, 17: False, 24: False, 31: False}\n",
      "{3: False, 10: False, 17: False, 24: False, 31: False, 38: False}\n",
      "{3: False, 10: False, 17: False, 24: False, 31: False, 38: False, 45: False}\n",
      "{3: False, 10: False, 17: False, 24: False, 31: False, 38: False, 45: False, 52: False}\n",
      "{3: False, 10: False, 17: False, 24: False, 31: False, 38: False, 45: False, 52: False, 59: False}\n",
      "{3: False, 10: False, 17: False, 24: False, 31: False, 38: False, 45: False, 52: False, 59: False, 66: False}\n",
      "{3: False, 10: False, 17: False, 24: False, 31: False, 38: False, 45: False, 52: False, 59: False, 66: False, 73: False}\n",
      "{3: False, 10: False, 17: False, 24: False, 31: False, 38: False, 45: False, 52: False, 59: False, 66: False, 73: False, 80: False}\n",
      "{3: False, 10: False, 17: False, 24: False, 31: False, 38: False, 45: False, 52: False, 59: False, 66: False, 73: False, 80: False, 87: False}\n",
      "{3: False, 10: False, 17: False, 24: False, 31: False, 38: False, 45: False, 52: False, 59: False, 66: False, 73: False, 80: False, 87: False, 94: False}\n",
      "{3: False, 10: False, 17: False, 24: False, 31: False, 38: False, 45: False, 52: False, 59: False, 66: False, 73: False, 80: False, 87: False, 94: False, 101: False}\n",
      "{3: False, 10: False, 17: False, 24: False, 31: False, 38: False, 45: False, 52: False, 59: False, 66: False, 73: False, 80: False, 87: False, 94: False, 101: False, 108: False}\n",
      "{3: False, 10: False, 17: False, 24: False, 31: False, 38: False, 45: False, 52: False, 59: False, 66: False, 73: False, 80: False, 87: False, 94: False, 101: False, 108: False, 115: False}\n",
      "{3: False, 10: False, 17: False, 24: False, 31: False, 38: False, 45: False, 52: False, 59: False, 66: False, 73: False, 80: False, 87: False, 94: False, 101: False, 108: False, 115: False, 122: False}\n",
      "{3: False, 10: False, 17: False, 24: False, 31: False, 38: False, 45: False, 52: False, 59: False, 66: False, 73: False, 80: False, 87: False, 94: False, 101: False, 108: False, 115: False, 122: False, 129: False}\n",
      "{3: False, 10: False, 17: False, 24: False, 31: False, 38: False, 45: False, 52: False, 59: False, 66: False, 73: False, 80: False, 87: False, 94: False, 101: False, 108: False, 115: False, 122: False, 129: False, 136: False}\n",
      "{3: False, 10: False, 17: False, 24: False, 31: False, 38: False, 45: False, 52: False, 59: False, 66: False, 73: False, 80: False, 87: False, 94: False, 101: False, 108: False, 115: False, 122: False, 129: False, 136: False, 143: False}\n",
      "{3: False, 10: False, 17: False, 24: False, 31: False, 38: False, 45: False, 52: False, 59: False, 66: False, 73: False, 80: False, 87: False, 94: False, 101: False, 108: False, 115: False, 122: False, 129: False, 136: False, 143: False, 150: False}\n",
      "{3: False, 10: False, 17: False, 24: False, 31: False, 38: False, 45: False, 52: False, 59: False, 66: False, 73: False, 80: False, 87: False, 94: False, 101: False, 108: False, 115: False, 122: False, 129: False, 136: False, 143: False, 150: False, 157: False}\n",
      "{3: False, 10: False, 17: False, 24: False, 31: False, 38: False, 45: False, 52: False, 59: False, 66: False, 73: False, 80: False, 87: False, 94: False, 101: False, 108: False, 115: False, 122: False, 129: False, 136: False, 143: False, 150: False, 157: False, 164: False}\n",
      "{3: False, 10: False, 17: False, 24: False, 31: False, 38: False, 45: False, 52: False, 59: False, 66: False, 73: False, 80: False, 87: False, 94: False, 101: False, 108: False, 115: False, 122: False, 129: False, 136: False, 143: False, 150: False, 157: False, 164: False, 171: False}\n",
      "{3: False, 10: False, 17: False, 24: False, 31: False, 38: False, 45: False, 52: False, 59: False, 66: False, 73: False, 80: False, 87: False, 94: False, 101: False, 108: False, 115: False, 122: False, 129: False, 136: False, 143: False, 150: False, 157: False, 164: False, 171: False, 178: False}\n",
      "{3: False, 10: False, 17: False, 24: False, 31: False, 38: False, 45: False, 52: False, 59: False, 66: False, 73: False, 80: False, 87: False, 94: False, 101: False, 108: False, 115: False, 122: False, 129: False, 136: False, 143: False, 150: False, 157: False, 164: False, 171: False, 178: False, 185: False}\n",
      "{3: False, 10: False, 17: False, 24: False, 31: False, 38: False, 45: False, 52: False, 59: False, 66: False, 73: False, 80: False, 87: False, 94: False, 101: False, 108: False, 115: False, 122: False, 129: False, 136: False, 143: False, 150: False, 157: False, 164: False, 171: False, 178: False, 185: False, 192: False}\n",
      "{3: False, 10: False, 17: False, 24: False, 31: False, 38: False, 45: False, 52: False, 59: False, 66: False, 73: False, 80: False, 87: False, 94: False, 101: False, 108: False, 115: False, 122: False, 129: False, 136: False, 143: False, 150: False, 157: False, 164: False, 171: False, 178: False, 185: False, 192: False, 199: False}\n",
      "{3: False, 10: False, 17: False, 24: False, 31: False, 38: False, 45: False, 52: False, 59: False, 66: False, 73: False, 80: False, 87: False, 94: False, 101: False, 108: False, 115: False, 122: False, 129: False, 136: False, 143: False, 150: False, 157: False, 164: False, 171: False, 178: False, 185: False, 192: False, 199: False, 206: False}\n",
      "{3: False, 10: False, 17: False, 24: False, 31: False, 38: False, 45: False, 52: False, 59: False, 66: False, 73: False, 80: False, 87: False, 94: False, 101: False, 108: False, 115: False, 122: False, 129: False, 136: False, 143: False, 150: False, 157: False, 164: False, 171: False, 178: False, 185: False, 192: False, 199: False, 206: False, 213: False}\n",
      "{3: False, 10: False, 17: False, 24: False, 31: False, 38: False, 45: False, 52: False, 59: False, 66: False, 73: False, 80: False, 87: False, 94: False, 101: False, 108: False, 115: False, 122: False, 129: False, 136: False, 143: False, 150: False, 157: False, 164: False, 171: False, 178: False, 185: False, 192: False, 199: False, 206: False, 213: False, 220: False}\n",
      "{3: False, 10: False, 17: False, 24: False, 31: False, 38: False, 45: False, 52: False, 59: False, 66: False, 73: False, 80: False, 87: False, 94: False, 101: False, 108: False, 115: False, 122: False, 129: False, 136: False, 143: False, 150: False, 157: False, 164: False, 171: False, 178: False, 185: False, 192: False, 199: False, 206: False, 213: False, 220: False, 227: False}\n",
      "{3: False, 10: False, 17: False, 24: False, 31: False, 38: False, 45: False, 52: False, 59: False, 66: False, 73: False, 80: False, 87: False, 94: False, 101: False, 108: False, 115: False, 122: False, 129: False, 136: False, 143: False, 150: False, 157: False, 164: False, 171: False, 178: False, 185: False, 192: False, 199: False, 206: False, 213: False, 220: False, 227: False, 234: False}\n",
      "{3: False, 10: False, 17: False, 24: False, 31: False, 38: False, 45: False, 52: False, 59: False, 66: False, 73: False, 80: False, 87: False, 94: False, 101: False, 108: False, 115: False, 122: False, 129: False, 136: False, 143: False, 150: False, 157: False, 164: False, 171: False, 178: False, 185: False, 192: False, 199: False, 206: False, 213: False, 220: False, 227: False, 234: False, 241: False}\n",
      "{3: False, 10: False, 17: False, 24: False, 31: False, 38: False, 45: False, 52: False, 59: False, 66: False, 73: False, 80: False, 87: False, 94: False, 101: False, 108: False, 115: False, 122: False, 129: False, 136: False, 143: False, 150: False, 157: False, 164: False, 171: False, 178: False, 185: False, 192: False, 199: False, 206: False, 213: False, 220: False, 227: False, 234: False, 241: False, 248: False}\n",
      "{3: False, 10: False, 17: False, 24: False, 31: False, 38: False, 45: False, 52: False, 59: False, 66: False, 73: False, 80: False, 87: False, 94: False, 101: False, 108: False, 115: False, 122: False, 129: False, 136: False, 143: False, 150: False, 157: False, 164: False, 171: False, 178: False, 185: False, 192: False, 199: False, 206: False, 213: False, 220: False, 227: False, 234: False, 241: False, 248: False, 255: False}\n",
      "{3: False, 10: False, 17: False, 24: False, 31: False, 38: False, 45: False, 52: False, 59: False, 66: False, 73: False, 80: False, 87: False, 94: False, 101: False, 108: False, 115: False, 122: False, 129: False, 136: False, 143: False, 150: False, 157: False, 164: False, 171: False, 178: False, 185: False, 192: False, 199: False, 206: False, 213: False, 220: False, 227: False, 234: False, 241: False, 248: False, 255: False, 262: False}\n",
      "{3: False, 10: False, 17: False, 24: False, 31: False, 38: False, 45: False, 52: False, 59: False, 66: False, 73: False, 80: False, 87: False, 94: False, 101: False, 108: False, 115: False, 122: False, 129: False, 136: False, 143: False, 150: False, 157: False, 164: False, 171: False, 178: False, 185: False, 192: False, 199: False, 206: False, 213: False, 220: False, 227: False, 234: False, 241: False, 248: False, 255: False, 262: False, 269: False}\n",
      "{3: False, 10: False, 17: False, 24: False, 31: False, 38: False, 45: False, 52: False, 59: False, 66: False, 73: False, 80: False, 87: False, 94: False, 101: False, 108: False, 115: False, 122: False, 129: False, 136: False, 143: False, 150: False, 157: False, 164: False, 171: False, 178: False, 185: False, 192: False, 199: False, 206: False, 213: False, 220: False, 227: False, 234: False, 241: False, 248: False, 255: False, 262: False, 269: False, 276: False}\n",
      "{3: False, 10: False, 17: False, 24: False, 31: False, 38: False, 45: False, 52: False, 59: False, 66: False, 73: False, 80: False, 87: False, 94: False, 101: False, 108: False, 115: False, 122: False, 129: False, 136: False, 143: False, 150: False, 157: False, 164: False, 171: False, 178: False, 185: False, 192: False, 199: False, 206: False, 213: False, 220: False, 227: False, 234: False, 241: False, 248: False, 255: False, 262: False, 269: False, 276: False, 283: False}\n",
      "{3: False, 10: False, 17: False, 24: False, 31: False, 38: False, 45: False, 52: False, 59: False, 66: False, 73: False, 80: False, 87: False, 94: False, 101: False, 108: False, 115: False, 122: False, 129: False, 136: False, 143: False, 150: False, 157: False, 164: False, 171: False, 178: False, 185: False, 192: False, 199: False, 206: False, 213: False, 220: False, 227: False, 234: False, 241: False, 248: False, 255: False, 262: False, 269: False, 276: False, 283: False, 290: False}\n",
      "{3: False, 10: False, 17: False, 24: False, 31: False, 38: False, 45: False, 52: False, 59: False, 66: False, 73: False, 80: False, 87: False, 94: False, 101: False, 108: False, 115: False, 122: False, 129: False, 136: False, 143: False, 150: False, 157: False, 164: False, 171: False, 178: False, 185: False, 192: False, 199: False, 206: False, 213: False, 220: False, 227: False, 234: False, 241: False, 248: False, 255: False, 262: False, 269: False, 276: False, 283: False, 290: False, 297: False}\n",
      "{3: False, 10: False, 17: False, 24: False, 31: False, 38: False, 45: False, 52: False, 59: False, 66: False, 73: False, 80: False, 87: False, 94: False, 101: False, 108: False, 115: False, 122: False, 129: False, 136: False, 143: False, 150: False, 157: False, 164: False, 171: False, 178: False, 185: False, 192: False, 199: False, 206: False, 213: False, 220: False, 227: False, 234: False, 241: False, 248: False, 255: False, 262: False, 269: False, 276: False, 283: False, 290: False, 297: False, 304: False}\n",
      "{3: False, 10: False, 17: False, 24: False, 31: False, 38: False, 45: False, 52: False, 59: False, 66: False, 73: False, 80: False, 87: False, 94: False, 101: False, 108: False, 115: False, 122: False, 129: False, 136: False, 143: False, 150: False, 157: False, 164: False, 171: False, 178: False, 185: False, 192: False, 199: False, 206: False, 213: False, 220: False, 227: False, 234: False, 241: False, 248: False, 255: False, 262: False, 269: False, 276: False, 283: False, 290: False, 297: False, 304: False, 311: False}\n",
      "{3: False, 10: False, 17: False, 24: False, 31: False, 38: False, 45: False, 52: False, 59: False, 66: False, 73: False, 80: False, 87: False, 94: False, 101: False, 108: False, 115: False, 122: False, 129: False, 136: False, 143: False, 150: False, 157: False, 164: False, 171: False, 178: False, 185: False, 192: False, 199: False, 206: False, 213: False, 220: False, 227: False, 234: False, 241: False, 248: False, 255: False, 262: False, 269: False, 276: False, 283: False, 290: False, 297: False, 304: False, 311: False, 318: False}\n",
      "{3: False, 10: False, 17: False, 24: False, 31: False, 38: False, 45: False, 52: False, 59: False, 66: False, 73: False, 80: False, 87: False, 94: False, 101: False, 108: False, 115: False, 122: False, 129: False, 136: False, 143: False, 150: False, 157: False, 164: False, 171: False, 178: False, 185: False, 192: False, 199: False, 206: False, 213: False, 220: False, 227: False, 234: False, 241: False, 248: False, 255: False, 262: False, 269: False, 276: False, 283: False, 290: False, 297: False, 304: False, 311: False, 318: False, 325: False}\n",
      "{3: False, 10: False, 17: False, 24: False, 31: False, 38: False, 45: False, 52: False, 59: False, 66: False, 73: False, 80: False, 87: False, 94: False, 101: False, 108: False, 115: False, 122: False, 129: False, 136: False, 143: False, 150: False, 157: False, 164: False, 171: False, 178: False, 185: False, 192: False, 199: False, 206: False, 213: False, 220: False, 227: False, 234: False, 241: False, 248: False, 255: False, 262: False, 269: False, 276: False, 283: False, 290: False, 297: False, 304: False, 311: False, 318: False, 325: False, 332: False}\n",
      "{3: False, 10: False, 17: False, 24: False, 31: False, 38: False, 45: False, 52: False, 59: False, 66: False, 73: False, 80: False, 87: False, 94: False, 101: False, 108: False, 115: False, 122: False, 129: False, 136: False, 143: False, 150: False, 157: False, 164: False, 171: False, 178: False, 185: False, 192: False, 199: False, 206: False, 213: False, 220: False, 227: False, 234: False, 241: False, 248: False, 255: False, 262: False, 269: False, 276: False, 283: False, 290: False, 297: False, 304: False, 311: False, 318: False, 325: False, 332: False, 339: False}\n",
      "{3: False, 10: False, 17: False, 24: False, 31: False, 38: False, 45: False, 52: False, 59: False, 66: False, 73: False, 80: False, 87: False, 94: False, 101: False, 108: False, 115: False, 122: False, 129: False, 136: False, 143: False, 150: False, 157: False, 164: False, 171: False, 178: False, 185: False, 192: False, 199: False, 206: False, 213: False, 220: False, 227: False, 234: False, 241: False, 248: False, 255: False, 262: False, 269: False, 276: False, 283: False, 290: False, 297: False, 304: False, 311: False, 318: False, 325: False, 332: False, 339: False, 346: False}\n",
      "{3: False, 10: False, 17: False, 24: False, 31: False, 38: False, 45: False, 52: False, 59: False, 66: False, 73: False, 80: False, 87: False, 94: False, 101: False, 108: False, 115: False, 122: False, 129: False, 136: False, 143: False, 150: False, 157: False, 164: False, 171: False, 178: False, 185: False, 192: False, 199: False, 206: False, 213: False, 220: False, 227: False, 234: False, 241: False, 248: False, 255: False, 262: False, 269: False, 276: False, 283: False, 290: False, 297: False, 304: False, 311: False, 318: False, 325: False, 332: False, 339: False, 346: False, 353: False}\n",
      "{3: False, 10: False, 17: False, 24: False, 31: False, 38: False, 45: False, 52: False, 59: False, 66: False, 73: False, 80: False, 87: False, 94: False, 101: False, 108: False, 115: False, 122: False, 129: False, 136: False, 143: False, 150: False, 157: False, 164: False, 171: False, 178: False, 185: False, 192: False, 199: False, 206: False, 213: False, 220: False, 227: False, 234: False, 241: False, 248: False, 255: False, 262: False, 269: False, 276: False, 283: False, 290: False, 297: False, 304: False, 311: False, 318: False, 325: False, 332: False, 339: False, 346: False, 353: False, 360: False}\n",
      "{3: False, 10: False, 17: False, 24: False, 31: False, 38: False, 45: False, 52: False, 59: False, 66: False, 73: False, 80: False, 87: False, 94: False, 101: False, 108: False, 115: False, 122: False, 129: False, 136: False, 143: False, 150: False, 157: False, 164: False, 171: False, 178: False, 185: False, 192: False, 199: False, 206: False, 213: False, 220: False, 227: False, 234: False, 241: False, 248: False, 255: False, 262: False, 269: False, 276: False, 283: False, 290: False, 297: False, 304: False, 311: False, 318: False, 325: False, 332: False, 339: False, 346: False, 353: False, 360: False, 367: False}\n",
      "{3: False, 10: False, 17: False, 24: False, 31: False, 38: False, 45: False, 52: False, 59: False, 66: False, 73: False, 80: False, 87: False, 94: False, 101: False, 108: False, 115: False, 122: False, 129: False, 136: False, 143: False, 150: False, 157: False, 164: False, 171: False, 178: False, 185: False, 192: False, 199: False, 206: False, 213: False, 220: False, 227: False, 234: False, 241: False, 248: False, 255: False, 262: False, 269: False, 276: False, 283: False, 290: False, 297: False, 304: False, 311: False, 318: False, 325: False, 332: False, 339: False, 346: False, 353: False, 360: False, 367: False, 374: False}\n",
      "{3: False, 10: False, 17: False, 24: False, 31: False, 38: False, 45: False, 52: False, 59: False, 66: False, 73: False, 80: False, 87: False, 94: False, 101: False, 108: False, 115: False, 122: False, 129: False, 136: False, 143: False, 150: False, 157: False, 164: False, 171: False, 178: False, 185: False, 192: False, 199: False, 206: False, 213: False, 220: False, 227: False, 234: False, 241: False, 248: False, 255: False, 262: False, 269: False, 276: False, 283: False, 290: False, 297: False, 304: False, 311: False, 318: False, 325: False, 332: False, 339: False, 346: False, 353: False, 360: False, 367: False, 374: False, 381: False}\n",
      "{3: False, 10: False, 17: False, 24: False, 31: False, 38: False, 45: False, 52: False, 59: False, 66: False, 73: False, 80: False, 87: False, 94: False, 101: False, 108: False, 115: False, 122: False, 129: False, 136: False, 143: False, 150: False, 157: False, 164: False, 171: False, 178: False, 185: False, 192: False, 199: False, 206: False, 213: False, 220: False, 227: False, 234: False, 241: False, 248: False, 255: False, 262: False, 269: False, 276: False, 283: False, 290: False, 297: False, 304: False, 311: False, 318: False, 325: False, 332: False, 339: False, 346: False, 353: False, 360: False, 367: False, 374: False, 381: False, 388: False}\n",
      "{3: False, 10: False, 17: False, 24: False, 31: False, 38: False, 45: False, 52: False, 59: False, 66: False, 73: False, 80: False, 87: False, 94: False, 101: False, 108: False, 115: False, 122: False, 129: False, 136: False, 143: False, 150: False, 157: False, 164: False, 171: False, 178: False, 185: False, 192: False, 199: False, 206: False, 213: False, 220: False, 227: False, 234: False, 241: False, 248: False, 255: False, 262: False, 269: False, 276: False, 283: False, 290: False, 297: False, 304: False, 311: False, 318: False, 325: False, 332: False, 339: False, 346: False, 353: False, 360: False, 367: False, 374: False, 381: False, 388: False, 395: False}\n",
      "{3: False, 10: False, 17: False, 24: False, 31: False, 38: False, 45: False, 52: False, 59: False, 66: False, 73: False, 80: False, 87: False, 94: False, 101: False, 108: False, 115: False, 122: False, 129: False, 136: False, 143: False, 150: False, 157: False, 164: False, 171: False, 178: False, 185: False, 192: False, 199: False, 206: False, 213: False, 220: False, 227: False, 234: False, 241: False, 248: False, 255: False, 262: False, 269: False, 276: False, 283: False, 290: False, 297: False, 304: False, 311: False, 318: False, 325: False, 332: False, 339: False, 346: False, 353: False, 360: False, 367: False, 374: False, 381: False, 388: False, 395: False, 402: False}\n",
      "{3: False, 10: False, 17: False, 24: False, 31: False, 38: False, 45: False, 52: False, 59: False, 66: False, 73: False, 80: False, 87: False, 94: False, 101: False, 108: False, 115: False, 122: False, 129: False, 136: False, 143: False, 150: False, 157: False, 164: False, 171: False, 178: False, 185: False, 192: False, 199: False, 206: False, 213: False, 220: False, 227: False, 234: False, 241: False, 248: False, 255: False, 262: False, 269: False, 276: False, 283: False, 290: False, 297: False, 304: False, 311: False, 318: False, 325: False, 332: False, 339: False, 346: False, 353: False, 360: False, 367: False, 374: False, 381: False, 388: False, 395: False, 402: False, 409: False}\n",
      "{3: False, 10: False, 17: False, 24: False, 31: False, 38: False, 45: False, 52: False, 59: False, 66: False, 73: False, 80: False, 87: False, 94: False, 101: False, 108: False, 115: False, 122: False, 129: False, 136: False, 143: False, 150: False, 157: False, 164: False, 171: False, 178: False, 185: False, 192: False, 199: False, 206: False, 213: False, 220: False, 227: False, 234: False, 241: False, 248: False, 255: False, 262: False, 269: False, 276: False, 283: False, 290: False, 297: False, 304: False, 311: False, 318: False, 325: False, 332: False, 339: False, 346: False, 353: False, 360: False, 367: False, 374: False, 381: False, 388: False, 395: False, 402: False, 409: False, 416: False}\n",
      "{3: False, 10: False, 17: False, 24: False, 31: False, 38: False, 45: False, 52: False, 59: False, 66: False, 73: False, 80: False, 87: False, 94: False, 101: False, 108: False, 115: False, 122: False, 129: False, 136: False, 143: False, 150: False, 157: False, 164: False, 171: False, 178: False, 185: False, 192: False, 199: False, 206: False, 213: False, 220: False, 227: False, 234: False, 241: False, 248: False, 255: False, 262: False, 269: False, 276: False, 283: False, 290: False, 297: False, 304: False, 311: False, 318: False, 325: False, 332: False, 339: False, 346: False, 353: False, 360: False, 367: False, 374: False, 381: False, 388: False, 395: False, 402: False, 409: False, 416: False, 423: False}\n",
      "{3: False, 10: False, 17: False, 24: False, 31: False, 38: False, 45: False, 52: False, 59: False, 66: False, 73: False, 80: False, 87: False, 94: False, 101: False, 108: False, 115: False, 122: False, 129: False, 136: False, 143: False, 150: False, 157: False, 164: False, 171: False, 178: False, 185: False, 192: False, 199: False, 206: False, 213: False, 220: False, 227: False, 234: False, 241: False, 248: False, 255: False, 262: False, 269: False, 276: False, 283: False, 290: False, 297: False, 304: False, 311: False, 318: False, 325: False, 332: False, 339: False, 346: False, 353: False, 360: False, 367: False, 374: False, 381: False, 388: False, 395: False, 402: False, 409: False, 416: False, 423: False, 430: False}\n",
      "{3: False, 10: False, 17: False, 24: False, 31: False, 38: False, 45: False, 52: False, 59: False, 66: False, 73: False, 80: False, 87: False, 94: False, 101: False, 108: False, 115: False, 122: False, 129: False, 136: False, 143: False, 150: False, 157: False, 164: False, 171: False, 178: False, 185: False, 192: False, 199: False, 206: False, 213: False, 220: False, 227: False, 234: False, 241: False, 248: False, 255: False, 262: False, 269: False, 276: False, 283: False, 290: False, 297: False, 304: False, 311: False, 318: False, 325: False, 332: False, 339: False, 346: False, 353: False, 360: False, 367: False, 374: False, 381: False, 388: False, 395: False, 402: False, 409: False, 416: False, 423: False, 430: False, 437: False}\n",
      "{3: False, 10: False, 17: False, 24: False, 31: False, 38: False, 45: False, 52: False, 59: False, 66: False, 73: False, 80: False, 87: False, 94: False, 101: False, 108: False, 115: False, 122: False, 129: False, 136: False, 143: False, 150: False, 157: False, 164: False, 171: False, 178: False, 185: False, 192: False, 199: False, 206: False, 213: False, 220: False, 227: False, 234: False, 241: False, 248: False, 255: False, 262: False, 269: False, 276: False, 283: False, 290: False, 297: False, 304: False, 311: False, 318: False, 325: False, 332: False, 339: False, 346: False, 353: False, 360: False, 367: False, 374: False, 381: False, 388: False, 395: False, 402: False, 409: False, 416: False, 423: False, 430: False, 437: False, 444: False}\n",
      "{3: False, 10: False, 17: False, 24: False, 31: False, 38: False, 45: False, 52: False, 59: False, 66: False, 73: False, 80: False, 87: False, 94: False, 101: False, 108: False, 115: False, 122: False, 129: False, 136: False, 143: False, 150: False, 157: False, 164: False, 171: False, 178: False, 185: False, 192: False, 199: False, 206: False, 213: False, 220: False, 227: False, 234: False, 241: False, 248: False, 255: False, 262: False, 269: False, 276: False, 283: False, 290: False, 297: False, 304: False, 311: False, 318: False, 325: False, 332: False, 339: False, 346: False, 353: False, 360: False, 367: False, 374: False, 381: False, 388: False, 395: False, 402: False, 409: False, 416: False, 423: False, 430: False, 437: False, 444: False, 451: False}\n",
      "{3: False, 10: False, 17: False, 24: False, 31: False, 38: False, 45: False, 52: False, 59: False, 66: False, 73: False, 80: False, 87: False, 94: False, 101: False, 108: False, 115: False, 122: False, 129: False, 136: False, 143: False, 150: False, 157: False, 164: False, 171: False, 178: False, 185: False, 192: False, 199: False, 206: False, 213: False, 220: False, 227: False, 234: False, 241: False, 248: False, 255: False, 262: False, 269: False, 276: False, 283: False, 290: False, 297: False, 304: False, 311: False, 318: False, 325: False, 332: False, 339: False, 346: False, 353: False, 360: False, 367: False, 374: False, 381: False, 388: False, 395: False, 402: False, 409: False, 416: False, 423: False, 430: False, 437: False, 444: False, 451: False, 458: False}\n",
      "{3: False, 10: False, 17: False, 24: False, 31: False, 38: False, 45: False, 52: False, 59: False, 66: False, 73: False, 80: False, 87: False, 94: False, 101: False, 108: False, 115: False, 122: False, 129: False, 136: False, 143: False, 150: False, 157: False, 164: False, 171: False, 178: False, 185: False, 192: False, 199: False, 206: False, 213: False, 220: False, 227: False, 234: False, 241: False, 248: False, 255: False, 262: False, 269: False, 276: False, 283: False, 290: False, 297: False, 304: False, 311: False, 318: False, 325: False, 332: False, 339: False, 346: False, 353: False, 360: False, 367: False, 374: False, 381: False, 388: False, 395: False, 402: False, 409: False, 416: False, 423: False, 430: False, 437: False, 444: False, 451: False, 458: False, 465: False}\n",
      "{3: False, 10: False, 17: False, 24: False, 31: False, 38: False, 45: False, 52: False, 59: False, 66: False, 73: False, 80: False, 87: False, 94: False, 101: False, 108: False, 115: False, 122: False, 129: False, 136: False, 143: False, 150: False, 157: False, 164: False, 171: False, 178: False, 185: False, 192: False, 199: False, 206: False, 213: False, 220: False, 227: False, 234: False, 241: False, 248: False, 255: False, 262: False, 269: False, 276: False, 283: False, 290: False, 297: False, 304: False, 311: False, 318: False, 325: False, 332: False, 339: False, 346: False, 353: False, 360: False, 367: False, 374: False, 381: False, 388: False, 395: False, 402: False, 409: False, 416: False, 423: False, 430: False, 437: False, 444: False, 451: False, 458: False, 465: False, 472: False}\n",
      "{3: False, 10: False, 17: False, 24: False, 31: False, 38: False, 45: False, 52: False, 59: False, 66: False, 73: False, 80: False, 87: False, 94: False, 101: False, 108: False, 115: False, 122: False, 129: False, 136: False, 143: False, 150: False, 157: False, 164: False, 171: False, 178: False, 185: False, 192: False, 199: False, 206: False, 213: False, 220: False, 227: False, 234: False, 241: False, 248: False, 255: False, 262: False, 269: False, 276: False, 283: False, 290: False, 297: False, 304: False, 311: False, 318: False, 325: False, 332: False, 339: False, 346: False, 353: False, 360: False, 367: False, 374: False, 381: False, 388: False, 395: False, 402: False, 409: False, 416: False, 423: False, 430: False, 437: False, 444: False, 451: False, 458: False, 465: False, 472: False, 479: False}\n",
      "{3: False, 10: False, 17: False, 24: False, 31: False, 38: False, 45: False, 52: False, 59: False, 66: False, 73: False, 80: False, 87: False, 94: False, 101: False, 108: False, 115: False, 122: False, 129: False, 136: False, 143: False, 150: False, 157: False, 164: False, 171: False, 178: False, 185: False, 192: False, 199: False, 206: False, 213: False, 220: False, 227: False, 234: False, 241: False, 248: False, 255: False, 262: False, 269: False, 276: False, 283: False, 290: False, 297: False, 304: False, 311: False, 318: False, 325: False, 332: False, 339: False, 346: False, 353: False, 360: False, 367: False, 374: False, 381: False, 388: False, 395: False, 402: False, 409: False, 416: False, 423: False, 430: False, 437: False, 444: False, 451: False, 458: False, 465: False, 472: False, 479: False, 486: False}\n",
      "{3: False, 10: False, 17: False, 24: False, 31: False, 38: False, 45: False, 52: False, 59: False, 66: False, 73: False, 80: False, 87: False, 94: False, 101: False, 108: False, 115: False, 122: False, 129: False, 136: False, 143: False, 150: False, 157: False, 164: False, 171: False, 178: False, 185: False, 192: False, 199: False, 206: False, 213: False, 220: False, 227: False, 234: False, 241: False, 248: False, 255: False, 262: False, 269: False, 276: False, 283: False, 290: False, 297: False, 304: False, 311: False, 318: False, 325: False, 332: False, 339: False, 346: False, 353: False, 360: False, 367: False, 374: False, 381: False, 388: False, 395: False, 402: False, 409: False, 416: False, 423: False, 430: False, 437: False, 444: False, 451: False, 458: False, 465: False, 472: False, 479: False, 486: False, 493: False}\n",
      "{3: False, 10: False, 17: False, 24: False, 31: False, 38: False, 45: False, 52: False, 59: False, 66: False, 73: False, 80: False, 87: False, 94: False, 101: False, 108: False, 115: False, 122: False, 129: False, 136: False, 143: False, 150: False, 157: False, 164: False, 171: False, 178: False, 185: False, 192: False, 199: False, 206: False, 213: False, 220: False, 227: False, 234: False, 241: False, 248: False, 255: False, 262: False, 269: False, 276: False, 283: False, 290: False, 297: False, 304: False, 311: False, 318: False, 325: False, 332: False, 339: False, 346: False, 353: False, 360: False, 367: False, 374: False, 381: False, 388: False, 395: False, 402: False, 409: False, 416: False, 423: False, 430: False, 437: False, 444: False, 451: False, 458: False, 465: False, 472: False, 479: False, 486: False, 493: False, 500: False}\n"
     ]
    },
    {
     "data": {
      "text/plain": [
       "False"
      ]
     },
     "execution_count": 1,
     "metadata": {},
     "output_type": "execute_result"
    }
   ],
   "source": [
    "#memo sub_list\n",
    "def sub_list1(a,k,memo={}):\n",
    "    if k == 0:\n",
    "        return True\n",
    "    elif k < 0:\n",
    "        return False\n",
    "    elif len(a)==0 and k>0:\n",
    "        return False\n",
    "    if k in memo:\n",
    "        return memo[k]\n",
    "    output = False\n",
    "    for q in a:\n",
    "        k1 = k - q\n",
    "        a1 = a[::]\n",
    "        output = output or sub_list1(a1,k1)\n",
    "    memo[k] = output\n",
    "    print(memo)\n",
    "    return memo[k]\n",
    "\n",
    "sub_list1(a=[7,14],k=500)\n",
    "    \n",
    "    "
   ]
  },
  {
   "cell_type": "code",
   "execution_count": 1,
   "metadata": {},
   "outputs": [
    {
     "data": {
      "text/plain": [
       "True"
      ]
     },
     "execution_count": 1,
     "metadata": {},
     "output_type": "execute_result"
    }
   ],
   "source": [
    "def sub_list_tabu(a, k):\n",
    "    tabu = [False]*(k+1)\n",
    "    tabu[0] = True\n",
    "    for i in range(k+1):\n",
    "        for item in a:\n",
    "            if(i+item)<=k:\n",
    "                tabu[i+item] = tabu[item+i] or tabu[i]\n",
    "\n",
    "    return tabu[k]\n",
    "\n",
    "sub_list_tabu(a=[7,15],k=500)"
   ]
  },
  {
   "cell_type": "code",
   "execution_count": 1,
   "metadata": {},
   "outputs": [
    {
     "name": "stdout",
     "output_type": "stream",
     "text": [
      "[0, 1, 4, 9, 16, 25, 36]\n",
      "c [0, 1, 4, 9, 16, 25, 36]\n",
      "[1, 2, 3, 4, 5, 6, 7]\n",
      "25\n",
      "7\n"
     ]
    }
   ],
   "source": [
    "# Object represent for function\n",
    "from functools import *\n",
    "\n",
    "\n",
    "def Add(A,B):\n",
    "    return A+B\n",
    "a = Add\n",
    "a(1,2)\n",
    "\n",
    " #lambda Function\n",
    "ins_L = lambda x,y: x+y\n",
    "ins_L(3,4)\n",
    "\n",
    "# map(): use function to each elements\n",
    "#map(function, datatype(list,tuple,sets))\n",
    "a = [0,1,2,3,4,5,6]\n",
    "def square(x):\n",
    "    return x*x\n",
    "b = map(square,a)\n",
    "print(list(b))\n",
    "\n",
    "c = map(lambda x: x*x, a)\n",
    "print(\"c\",list(c))\n",
    "\n",
    "# filter() -BIF: map elemt of param to filter:\n",
    "## if true: -> return element\n",
    "## if false: not return\n",
    "a = [-1,-2,1,2,3,4,5,6,7]\n",
    "def compare_zero(x):\n",
    "    if x>0:\n",
    "        return True\n",
    "    else:\n",
    "        return False\n",
    "    \n",
    "d = list(filter(compare_zero, a))\n",
    "print(d)\n",
    "\n",
    "#reduce(): reduce the element of list\n",
    "##reduce(function,list)\n",
    "\n",
    "def Sum(a,b):\n",
    "    return a+b\n",
    "e = reduce(Sum,a)\n",
    "print(e)\n",
    "\n",
    "f = reduce(lambda x,y : x if x>=y else y ,a)\n",
    "print(f)\n"
   ]
  },
  {
   "cell_type": "code",
   "execution_count": 7,
   "metadata": {},
   "outputs": [
    {
     "name": "stdout",
     "output_type": "stream",
     "text": [
      "0\n",
      "a0\n",
      "1\n",
      "a1\n",
      "2\n",
      "a2\n",
      "3\n",
      "a3\n",
      "4\n",
      "a4\n",
      "5\n",
      "a5\n",
      "6\n",
      "a6\n",
      "7\n",
      "a7\n",
      "8\n",
      "a8\n",
      "9\n",
      "a9\n",
      "<generator object custom_gen at 0x000001C76D79E880>\n"
     ]
    }
   ],
   "source": [
    "#Generator range(0,n) gen the value and not make mem to store value\n",
    "#yeild: gen value fallback and continue the function\n",
    "def custom_gen(n):\n",
    "    for i in range(n):\n",
    "        yield i\n",
    "        print(\"a\" + str(i))\n",
    "for item in custom_gen(10):\n",
    "    print(item)\n",
    "# print(custom_gen(10))\n"
   ]
  },
  {
   "cell_type": "code",
   "execution_count": 4,
   "metadata": {},
   "outputs": [
    {
     "name": "stdout",
     "output_type": "stream",
     "text": [
      "0\n",
      "1\n",
      "1\n",
      "2\n",
      "3\n",
      "5\n",
      "8\n",
      "13\n",
      "21\n",
      "34\n"
     ]
    }
   ],
   "source": [
    "#fibonancy yeild\n",
    "def custom_fibo(n):\n",
    "    a,b = 0,1\n",
    "    for i in range(n):\n",
    "        yield a\n",
    "        a,b = b,a+b\n",
    "for item in custom_fibo(10):\n",
    "    print(item)"
   ]
  },
  {
   "cell_type": "code",
   "execution_count": null,
   "metadata": {},
   "outputs": [],
   "source": [
    "# custom_gen fibonancy \n"
   ]
  },
  {
   "cell_type": "code",
   "execution_count": 3,
   "metadata": {},
   "outputs": [
    {
     "name": "stdout",
     "output_type": "stream",
     "text": [
      "execute time:0.0\n",
      "0\n"
     ]
    }
   ],
   "source": [
    "import time\n",
    "def func2(func1):\n",
    "    start = time.time()\n",
    "    out = func1()\n",
    "    end = time.time() - start\n",
    "    print(\"execute time:\"+str(end))\n",
    "    return out\n",
    "\n",
    "def sum(*arg):\n",
    "    out = 0\n",
    "    for i in arg: \n",
    "        out = out + i\n",
    "    return out\n",
    "def test1():\n",
    "    time.sleep(2)\n",
    "    print(\"dddddd\")\n",
    "# not input func with param in func2\n",
    "print(func2(sum))\n"
   ]
  },
  {
   "cell_type": "code",
   "execution_count": 13,
   "metadata": {},
   "outputs": [
    {
     "name": "stdout",
     "output_type": "stream",
     "text": [
      "Sang is 11\n",
      "Dung is 3\n"
     ]
    }
   ],
   "source": [
    "# give agr to func with dictionary arg \n",
    "def students(**a):\n",
    "    #return the arg to list with tuple\n",
    "    for key,value in a.items(): \n",
    "       print(str(key) + \" is \" + str(value) )\n",
    "\n",
    "students(Sang = 11, Dung = 3)"
   ]
  },
  {
   "cell_type": "code",
   "execution_count": null,
   "metadata": {},
   "outputs": [],
   "source": []
  },
  {
   "cell_type": "code",
   "execution_count": 22,
   "metadata": {},
   "outputs": [
    {
     "name": "stdout",
     "output_type": "stream",
     "text": [
      "exc_time:  0.0\n",
      "9\n"
     ]
    }
   ],
   "source": [
    "# except all argument type\n",
    "# sum with wrapper\n",
    "def outside(func):\n",
    "    def wrapper(*arg,**kwarg):\n",
    "        start = time.time()\n",
    "        output = func(*arg,**kwarg)\n",
    "        end = time.time() - start\n",
    "        print(\"exc_time: \", end)\n",
    "        return output\n",
    "    return wrapper\n",
    "#decorator\n",
    "@outside\n",
    "def func_sum(*arg,**kwarg):\n",
    "    output = 0\n",
    "    for i in arg: \n",
    "        output = output + i\n",
    "    for value in kwarg.values():\n",
    "        output = output + value\n",
    "    return output\n",
    "print(func_sum(1,2,3,a1 = 1, a2 =2))\n",
    "\n",
    "\n"
   ]
  },
  {
   "cell_type": "code",
   "execution_count": 20,
   "metadata": {},
   "outputs": [
    {
     "ename": "TypeError",
     "evalue": "unsupported operand type(s) for +: 'int' and 'function'",
     "output_type": "error",
     "traceback": [
      "\u001b[1;31m---------------------------------------------------------------------------\u001b[0m",
      "\u001b[1;31mTypeError\u001b[0m                                 Traceback (most recent call last)",
      "\u001b[1;32mc:\\Users\\Dung'PC\\source\\data-tutorials\\dung_requirements\\BasicProgrammingLanguague.ipynb Cell 22\u001b[0m in \u001b[0;36m<cell line: 8>\u001b[1;34m()\u001b[0m\n\u001b[0;32m      <a href='vscode-notebook-cell:/c%3A/Users/Dung%27PC/source/data-tutorials/dung_requirements/BasicProgrammingLanguague.ipynb#X30sZmlsZQ%3D%3D?line=4'>5</a>\u001b[0m         out \u001b[39m=\u001b[39m out \u001b[39m+\u001b[39m i\n\u001b[0;32m      <a href='vscode-notebook-cell:/c%3A/Users/Dung%27PC/source/data-tutorials/dung_requirements/BasicProgrammingLanguague.ipynb#X30sZmlsZQ%3D%3D?line=5'>6</a>\u001b[0m     \u001b[39mreturn\u001b[39;00m out\n\u001b[0;32m      <a href='vscode-notebook-cell:/c%3A/Users/Dung%27PC/source/data-tutorials/dung_requirements/BasicProgrammingLanguague.ipynb#X30sZmlsZQ%3D%3D?line=7'>8</a>\u001b[0m \u001b[39m@sum\u001b[39;49m\n\u001b[1;32m----> <a href='vscode-notebook-cell:/c%3A/Users/Dung%27PC/source/data-tutorials/dung_requirements/BasicProgrammingLanguague.ipynb#X30sZmlsZQ%3D%3D?line=8'>9</a>\u001b[0m \u001b[39mdef\u001b[39;49;00m \u001b[39mfunc2\u001b[39;49m(func1):\n\u001b[0;32m     <a href='vscode-notebook-cell:/c%3A/Users/Dung%27PC/source/data-tutorials/dung_requirements/BasicProgrammingLanguague.ipynb#X30sZmlsZQ%3D%3D?line=9'>10</a>\u001b[0m     start \u001b[39m=\u001b[39;49m time\u001b[39m.\u001b[39;49mtime()\n\u001b[0;32m     <a href='vscode-notebook-cell:/c%3A/Users/Dung%27PC/source/data-tutorials/dung_requirements/BasicProgrammingLanguague.ipynb#X30sZmlsZQ%3D%3D?line=10'>11</a>\u001b[0m     out \u001b[39m=\u001b[39;49m func1()\n",
      "\u001b[1;32mc:\\Users\\Dung'PC\\source\\data-tutorials\\dung_requirements\\BasicProgrammingLanguague.ipynb Cell 22\u001b[0m in \u001b[0;36msum\u001b[1;34m(*arg)\u001b[0m\n\u001b[0;32m      <a href='vscode-notebook-cell:/c%3A/Users/Dung%27PC/source/data-tutorials/dung_requirements/BasicProgrammingLanguague.ipynb#X30sZmlsZQ%3D%3D?line=2'>3</a>\u001b[0m out \u001b[39m=\u001b[39m \u001b[39m0\u001b[39m\n\u001b[0;32m      <a href='vscode-notebook-cell:/c%3A/Users/Dung%27PC/source/data-tutorials/dung_requirements/BasicProgrammingLanguague.ipynb#X30sZmlsZQ%3D%3D?line=3'>4</a>\u001b[0m \u001b[39mfor\u001b[39;00m i \u001b[39min\u001b[39;00m arg: \n\u001b[1;32m----> <a href='vscode-notebook-cell:/c%3A/Users/Dung%27PC/source/data-tutorials/dung_requirements/BasicProgrammingLanguague.ipynb#X30sZmlsZQ%3D%3D?line=4'>5</a>\u001b[0m     out \u001b[39m=\u001b[39m out \u001b[39m+\u001b[39;49m i\n\u001b[0;32m      <a href='vscode-notebook-cell:/c%3A/Users/Dung%27PC/source/data-tutorials/dung_requirements/BasicProgrammingLanguague.ipynb#X30sZmlsZQ%3D%3D?line=5'>6</a>\u001b[0m \u001b[39mreturn\u001b[39;00m out\n",
      "\u001b[1;31mTypeError\u001b[0m: unsupported operand type(s) for +: 'int' and 'function'"
     ]
    }
   ],
   "source": [
    "#decorator\n",
    "def sum(*arg):\n",
    "    out = 0\n",
    "    for i in arg: \n",
    "        out = out + i\n",
    "    return out\n",
    "\n",
    "\n",
    "def func2(func1):\n",
    "    start = time.time()\n",
    "    out = func1()\n",
    "    end = time.time() - start\n",
    "    print(\"execute time:\"+str(end))\n",
    "    return out\n"
   ]
  }
 ],
 "metadata": {
  "kernelspec": {
   "display_name": "Python 3.10.6 64-bit",
   "language": "python",
   "name": "python3"
  },
  "language_info": {
   "codemirror_mode": {
    "name": "ipython",
    "version": 3
   },
   "file_extension": ".py",
   "mimetype": "text/x-python",
   "name": "python",
   "nbconvert_exporter": "python",
   "pygments_lexer": "ipython3",
   "version": "3.10.6"
  },
  "orig_nbformat": 4,
  "vscode": {
   "interpreter": {
    "hash": "52634da84371cba311ea128a5ea7cdc41ff074b781779e754b270ff9f8153cee"
   }
  }
 },
 "nbformat": 4,
 "nbformat_minor": 2
}
