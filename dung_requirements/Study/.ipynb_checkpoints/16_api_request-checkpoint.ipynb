{
 "cells": [
  {
   "cell_type": "code",
   "execution_count": 5,
   "metadata": {},
   "outputs": [],
   "source": [
    "import requests\n",
    "import pandas as pd"
   ]
  },
  {
   "cell_type": "code",
   "execution_count": 6,
   "metadata": {},
   "outputs": [
    {
     "name": "stdout",
     "output_type": "stream",
     "text": [
      "     id  user_id                                              title  \\\n",
      "0  2185     4240  Viriliter certo condico voluptatem tonsor sort...   \n",
      "1  2184     4239  Spero debitis terra dolores ustulo colo baiulu...   \n",
      "2  2182     4237  Sortitus nemo demitto dolorem accendo balbus c...   \n",
      "3  2181     4236  Nam amet velit tam deporto patruus stillicidiu...   \n",
      "4  2180     4235  Tutamen collum demum vere tamisium tandem vest...   \n",
      "5  2179     4234  Veritatis combibo crastinus accipio cavus aegr...   \n",
      "6  2178     4234  Delectus bardus clibanus qui conforto turbo su...   \n",
      "7  2175     4226  Vaco appositus adeo torqueo ventosus cunae arb...   \n",
      "8  2174     4224  Eos conduco cupio odit conforto amplus canis c...   \n",
      "9  2173     4223  Tergum tenetur conventus aestas vae nobis succ...   \n",
      "\n",
      "                                                body  \n",
      "0  Tenus facere aliquam. Timor consectetur decens...  \n",
      "1  Somniculosus terminatio eum. Nulla facilis the...  \n",
      "2  Valeo ipsum fugiat. Dapifer aiunt magni. Tamqu...  \n",
      "3  Cubitum truculenter cursus. Vado animadverto c...  \n",
      "4  Aegrus terreo ad. Eius arceo cuppedia. Sonitus...  \n",
      "5  Adiuvo blanditiis argumentum. Vinculum stultus...  \n",
      "6  Tutamen cicuta voluptatem. Curriculum capto ta...  \n",
      "7  Cubicularis stabilis caute. Circumvenio vobis ...  \n",
      "8  Desolo tertius ventosus. Adduco comis defleo. ...  \n",
      "9  Voluptatem termes ut. Aduro magni ocer. Solitu...  \n"
     ]
    }
   ],
   "source": [
    "# api-endpoint\n",
    "URL = \"https://gorest.co.in/public/v2/posts\"\n",
    "# location given here\n",
    "r = requests.get(url = URL)\n",
    "df = pd.DataFrame(r.json())\n",
    "print(df)"
   ]
  }
 ],
 "metadata": {
  "kernelspec": {
   "display_name": "Python 3 (ipykernel)",
   "language": "python",
   "name": "python3"
  },
  "language_info": {
   "codemirror_mode": {
    "name": "ipython",
    "version": 3
   },
   "file_extension": ".py",
   "mimetype": "text/x-python",
   "name": "python",
   "nbconvert_exporter": "python",
   "pygments_lexer": "ipython3",
   "version": "3.10.6"
  },
  "vscode": {
   "interpreter": {
    "hash": "916dbcbb3f70747c44a77c7bcd40155683ae19c65e1c03b4aa3499c5328201f1"
   }
  }
 },
 "nbformat": 4,
 "nbformat_minor": 2
}
